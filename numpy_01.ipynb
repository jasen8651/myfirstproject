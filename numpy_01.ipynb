{
  "nbformat": 4,
  "nbformat_minor": 0,
  "metadata": {
    "colab": {
      "provenance": [],
      "authorship_tag": "ABX9TyNQBmJUzbIRrtNA7YwbHAEe",
      "include_colab_link": true
    },
    "kernelspec": {
      "name": "python3",
      "display_name": "Python 3"
    },
    "language_info": {
      "name": "python"
    }
  },
  "cells": [
    {
      "cell_type": "markdown",
      "metadata": {
        "id": "view-in-github",
        "colab_type": "text"
      },
      "source": [
        "<a href=\"https://colab.research.google.com/github/jasen8651/python001/blob/master/numpy_01.ipynb\" target=\"_parent\"><img src=\"https://colab.research.google.com/assets/colab-badge.svg\" alt=\"Open In Colab\"/></a>"
      ]
    },
    {
      "cell_type": "code",
      "execution_count": 35,
      "metadata": {
        "id": "eT2eN070Vb1a",
        "colab": {
          "base_uri": "https://localhost:8080/"
        },
        "outputId": "d5dd348d-4f18-4243-d27c-616e4b782205"
      },
      "outputs": [
        {
          "output_type": "stream",
          "name": "stdout",
          "text": [
            "<class 'numpy.ndarray'>\n",
            "['T', '__abs__', '__add__', '__and__', '__array__', '__array_finalize__', '__array_function__', '__array_interface__', '__array_prepare__', '__array_priority__', '__array_struct__', '__array_ufunc__', '__array_wrap__', '__bool__', '__class__', '__complex__', '__contains__', '__copy__', '__deepcopy__', '__delattr__', '__delitem__', '__dir__', '__divmod__', '__doc__', '__eq__', '__float__', '__floordiv__', '__format__', '__ge__', '__getattribute__', '__getitem__', '__gt__', '__hash__', '__iadd__', '__iand__', '__ifloordiv__', '__ilshift__', '__imatmul__', '__imod__', '__imul__', '__index__', '__init__', '__init_subclass__', '__int__', '__invert__', '__ior__', '__ipow__', '__irshift__', '__isub__', '__iter__', '__itruediv__', '__ixor__', '__le__', '__len__', '__lshift__', '__lt__', '__matmul__', '__mod__', '__mul__', '__ne__', '__neg__', '__new__', '__or__', '__pos__', '__pow__', '__radd__', '__rand__', '__rdivmod__', '__reduce__', '__reduce_ex__', '__repr__', '__rfloordiv__', '__rlshift__', '__rmatmul__', '__rmod__', '__rmul__', '__ror__', '__rpow__', '__rrshift__', '__rshift__', '__rsub__', '__rtruediv__', '__rxor__', '__setattr__', '__setitem__', '__setstate__', '__sizeof__', '__str__', '__sub__', '__subclasshook__', '__truediv__', '__xor__', 'all', 'any', 'argmax', 'argmin', 'argpartition', 'argsort', 'astype', 'base', 'byteswap', 'choose', 'clip', 'compress', 'conj', 'conjugate', 'copy', 'ctypes', 'cumprod', 'cumsum', 'data', 'diagonal', 'dot', 'dtype', 'dump', 'dumps', 'fill', 'flags', 'flat', 'flatten', 'getfield', 'imag', 'item', 'itemset', 'itemsize', 'max', 'mean', 'min', 'nbytes', 'ndim', 'newbyteorder', 'nonzero', 'partition', 'prod', 'ptp', 'put', 'ravel', 'real', 'repeat', 'reshape', 'resize', 'round', 'searchsorted', 'setfield', 'setflags', 'shape', 'size', 'sort', 'squeeze', 'std', 'strides', 'sum', 'swapaxes', 'take', 'tobytes', 'tofile', 'tolist', 'tostring', 'trace', 'transpose', 'var', 'view']\n",
            "162\n",
            "[0. 0. 0.]\n",
            "<class 'numpy.ndarray'>\n",
            "['T', '__abs__', '__add__', '__and__', '__array__', '__array_finalize__', '__array_function__', '__array_interface__', '__array_prepare__', '__array_priority__', '__array_struct__', '__array_ufunc__', '__array_wrap__', '__bool__', '__class__', '__complex__', '__contains__', '__copy__', '__deepcopy__', '__delattr__', '__delitem__', '__dir__', '__divmod__', '__doc__', '__eq__', '__float__', '__floordiv__', '__format__', '__ge__', '__getattribute__', '__getitem__', '__gt__', '__hash__', '__iadd__', '__iand__', '__ifloordiv__', '__ilshift__', '__imatmul__', '__imod__', '__imul__', '__index__', '__init__', '__init_subclass__', '__int__', '__invert__', '__ior__', '__ipow__', '__irshift__', '__isub__', '__iter__', '__itruediv__', '__ixor__', '__le__', '__len__', '__lshift__', '__lt__', '__matmul__', '__mod__', '__mul__', '__ne__', '__neg__', '__new__', '__or__', '__pos__', '__pow__', '__radd__', '__rand__', '__rdivmod__', '__reduce__', '__reduce_ex__', '__repr__', '__rfloordiv__', '__rlshift__', '__rmatmul__', '__rmod__', '__rmul__', '__ror__', '__rpow__', '__rrshift__', '__rshift__', '__rsub__', '__rtruediv__', '__rxor__', '__setattr__', '__setitem__', '__setstate__', '__sizeof__', '__str__', '__sub__', '__subclasshook__', '__truediv__', '__xor__', 'all', 'any', 'argmax', 'argmin', 'argpartition', 'argsort', 'astype', 'base', 'byteswap', 'choose', 'clip', 'compress', 'conj', 'conjugate', 'copy', 'ctypes', 'cumprod', 'cumsum', 'data', 'diagonal', 'dot', 'dtype', 'dump', 'dumps', 'fill', 'flags', 'flat', 'flatten', 'getfield', 'imag', 'item', 'itemset', 'itemsize', 'max', 'mean', 'min', 'nbytes', 'ndim', 'newbyteorder', 'nonzero', 'partition', 'prod', 'ptp', 'put', 'ravel', 'real', 'repeat', 'reshape', 'resize', 'round', 'searchsorted', 'setfield', 'setflags', 'shape', 'size', 'sort', 'squeeze', 'std', 'strides', 'sum', 'swapaxes', 'take', 'tobytes', 'tofile', 'tolist', 'tostring', 'trace', 'transpose', 'var', 'view']\n",
            "162\n",
            "['1' '2' '3']\n",
            "<class 'numpy.ndarray'>\n",
            "<class 'numpy.str_'>\n",
            "['a' '1' 'True']\n",
            "<class 'numpy.ndarray'>\n",
            "[1 1 2 0]\n",
            "<class 'numpy.int64'>\n"
          ]
        }
      ],
      "source": [
        "#https://github.com/rougier/numpy-100 문제\n",
        "#numpy는 파이썬에서 산술 계산을 위한 가장 필수적인 패키지,\n",
        "#numpy의 배열 객체를 데이터 교환을 위한  공통언어처럼 사용, 빠른 배열 계산과 유여한 브로드 캐스팅 기능제공\n",
        "#반복문을 작성할 필요없이 전체 데이터 배열을 빠르게 계산할 수 있는 표준 수학 함수, 배열 데이터를 디스크에 ㅆ거나 읽을 수 있는 도구와 메모리에 적재된 파일을 다루는 도구\n",
        "#선형대수 난수 생성기등에 사용, c,c++포트란으로 작성한 코드를 연결항수있는 c apl제공\n",
        "\n",
        "#!pip install numpy\n",
        "import numpy as np\n",
        "\n",
        "a =np.zeros(3)\n",
        "a\n",
        "print(type(a))\n",
        "print(dir(a))\n",
        "print(len(dir(a)))\n",
        "print(a)\n",
        "\n",
        "\n",
        "#처음 객체들은 type, dir을 해본다\n",
        "print(type(a))\n",
        "print(dir(a))\n",
        "\n",
        "\n",
        "#1차원 배열 =백터\n",
        "a = np.array([1,2,3])\n",
        "a\n",
        "#2차원 배열  = 행렬\n",
        "b = np.array([[1,2],[3,4]])\n",
        "b\n",
        "#3차원 배열 이상 = 텐서\n",
        "c= np.array([[[1,2],[3,4]],[[5,6],[7,8]]])\n",
        "c\n",
        "\n",
        "print(len(dir(c)))\n",
        "\n",
        "\n",
        "#문자 데이터가 하나라도 있으면 전체가 문자로 바뀐다.\n",
        "a =np.array([1,'2',3])\n",
        "print(a)\n",
        "print(type(a))\n",
        "print(type(a[0]))\n",
        "\n",
        "b =np.array(['a',1, True])\n",
        "print(b)\n",
        "print(type(b))\n",
        "\n",
        "c =np.array([1, True, 2, False])\n",
        "print(c)\n",
        "\n",
        "print(type(c[0]))\n",
        "\n",
        "\n"
      ]
    },
    {
      "cell_type": "code",
      "source": [
        "#np.zeros : 튜플 인자를 넣으면 그대로 모양을 만든다, zeros는 0으로 값을 채운다,\n",
        "a =np.zeros((2,3))\n",
        "a =np.zeros([2,3])\n",
        "a\n",
        "\n",
        "\n",
        "c =np.zeros((2,3,2))\n",
        "c\n",
        "\n",
        "#np.eye : 단위행렬, 숫자만 사용\n",
        "a = np.eye(3)#3행 3열을 생성\n",
        "a\n",
        "b = np.eye(3,2)#3행 2열을 생성\n",
        "b\n",
        "#eye는 행과 열을 지정가능 \n",
        "c= np.eye(3,4,k=1)\n",
        "c\n",
        "#np.idenyity : 크기한개만 지정해서 생성\n",
        "e =np.identity(3,2)\n",
        "e"
      ],
      "metadata": {
        "id": "_A2V5CjTgb3k",
        "colab": {
          "base_uri": "https://localhost:8080/",
          "height": 248
        },
        "outputId": "9313f0a8-8250-43dd-acd5-3af9bea3d879"
      },
      "execution_count": 6,
      "outputs": [
        {
          "output_type": "error",
          "ename": "NameError",
          "evalue": "ignored",
          "traceback": [
            "\u001b[0;31m---------------------------------------------------------------------------\u001b[0m",
            "\u001b[0;31mNameError\u001b[0m                                 Traceback (most recent call last)",
            "\u001b[0;32m<ipython-input-6-7e8234f31926>\u001b[0m in \u001b[0;36m<module>\u001b[0;34m\u001b[0m\n\u001b[1;32m      1\u001b[0m \u001b[0;31m#np.zeros : 튜플 인자를 넣으면 그대로 모양을 만든다, zeros는 0으로 값을 채운다,\u001b[0m\u001b[0;34m\u001b[0m\u001b[0;34m\u001b[0m\u001b[0;34m\u001b[0m\u001b[0m\n\u001b[0;32m----> 2\u001b[0;31m \u001b[0ma\u001b[0m \u001b[0;34m=\u001b[0m\u001b[0mnp\u001b[0m\u001b[0;34m.\u001b[0m\u001b[0mzeros\u001b[0m\u001b[0;34m(\u001b[0m\u001b[0;34m(\u001b[0m\u001b[0;36m2\u001b[0m\u001b[0;34m,\u001b[0m\u001b[0;36m3\u001b[0m\u001b[0;34m)\u001b[0m\u001b[0;34m)\u001b[0m\u001b[0;34m\u001b[0m\u001b[0;34m\u001b[0m\u001b[0m\n\u001b[0m\u001b[1;32m      3\u001b[0m \u001b[0ma\u001b[0m \u001b[0;34m=\u001b[0m\u001b[0mnp\u001b[0m\u001b[0;34m.\u001b[0m\u001b[0mzeros\u001b[0m\u001b[0;34m(\u001b[0m\u001b[0;34m[\u001b[0m\u001b[0;36m2\u001b[0m\u001b[0;34m,\u001b[0m\u001b[0;36m3\u001b[0m\u001b[0;34m]\u001b[0m\u001b[0;34m)\u001b[0m\u001b[0;34m\u001b[0m\u001b[0;34m\u001b[0m\u001b[0m\n\u001b[1;32m      4\u001b[0m \u001b[0ma\u001b[0m\u001b[0;34m\u001b[0m\u001b[0;34m\u001b[0m\u001b[0m\n\u001b[1;32m      5\u001b[0m \u001b[0;34m\u001b[0m\u001b[0m\n",
            "\u001b[0;31mNameError\u001b[0m: name 'np' is not defined"
          ]
        }
      ]
    },
    {
      "cell_type": "code",
      "source": [
        "# np.full : 지정한 크기의 배열을 생성화고 채울값을 지정한다.\n",
        "a= np.full((2,2),1)\n",
        "a\n",
        "\n",
        "b= np.full(3,4)\n",
        "b\n",
        "\n",
        "c = np.full((2,2), [1,2])\n",
        "c\n",
        "\n",
        "#np.empty : 배열을 생성하고 초기화을 지정하지 않는다,\n",
        "a= np.empty(3)\n",
        "a\n",
        "#메모리에 있는 값이나 이전에 사용했던 값들로 채워짐\n",
        "\n",
        "k = np.zeros((2,3))\n",
        "k\n",
        "\n",
        "b = np.empty((2,3))\n",
        "b\n",
        "\n",
        "c = np.empty((2,3))\n",
        "c\n",
        "\n",
        "#np.ones 배열의 값을 1로 초기화\n",
        "a = np.ones(3)\n",
        "a\n",
        "\n",
        "b = np.ones([2,3])\n",
        "b\n",
        "\n",
        "c = np.empty((2,3))\n",
        "c\n",
        "\n",
        "e =np.eye(3,4)\n",
        "e\n",
        "\n",
        "d =np.empty((3,4))\n",
        "d\n",
        "\n",
        "f =np.empty((3,4))\n",
        "f\n",
        "\n",
        "\n",
        "##_like가 붙으면 shape이 같게 만들어짐, 연산하기 위해서 shape을 맞워야 하는 경우가 있다.\n",
        "a = np.array([[1,2,3],[4,5,6]])\n",
        "a\n",
        "\n",
        "a.shape\n",
        "\n",
        "b= np.empty_like(a)\n",
        "b\n",
        "\n",
        "c= np.eye(2)\n",
        "c\n",
        "c.shape\n",
        "\n",
        "d= np.empty_like(a)\n",
        "d\n",
        "\n",
        "#linspace : 동등한 간격으로 값을 생성한다, 0~49까지 50개가 생성되면 num값이 생략되어 있으므로 start와 end까지 계산해서 defult 50이 생서linspace(start, end, num) => linspace(0,49) #num =50\n",
        "a =np.linspace(0,49)\n",
        "a\n",
        "b =np.linspace(1,5)\n",
        "b\n",
        "\n",
        "len(b)\n",
        "\n",
        "np.linspace(1,10,3)\n",
        "#1~10까지 3개의 요소를 생성, 기본은 endoint=참으로 설정되어 있기 때문에 10이 포함\n",
        "np.linspace(1,10,3, endpoint=False)\n",
        "#1_100미만 사이에서 3개의 요소 생성, 거짓으로 설정되어 있으며 10이 포함안됨\n",
        "\n",
        "#logspace \n",
        "np.logspace(1,50,10)\n",
        "\n",
        "#*dtype : c기반으로 만들어짐 c의 데이터 타입 차용가능\n",
        "a = np.array([1,2,3])\n",
        "a\n",
        "print(type(a))\n",
        "print(a.dtype)\n",
        "\n",
        "b = np.array([1,2,3], dtype=np.int8)\n",
        "b\n",
        "\n",
        "c=np.array([-127,-128, 17, 2, 3, -127, -128, 127], dtype=np.int8)\n",
        "c\n",
        "\n",
        "d =np.array([127,2,3, -127, -128], dtype=int)\n",
        "d\n",
        "\n",
        "type(d[0])"
      ],
      "metadata": {
        "colab": {
          "base_uri": "https://localhost:8080/",
          "height": 248
        },
        "id": "Qh7i2bt3jmM9",
        "outputId": "8fcf60db-f899-446f-f9da-8d5895b157fe"
      },
      "execution_count": 5,
      "outputs": [
        {
          "output_type": "error",
          "ename": "NameError",
          "evalue": "ignored",
          "traceback": [
            "\u001b[0;31m---------------------------------------------------------------------------\u001b[0m",
            "\u001b[0;31mNameError\u001b[0m                                 Traceback (most recent call last)",
            "\u001b[0;32m<ipython-input-5-e8fc42f9f05a>\u001b[0m in \u001b[0;36m<module>\u001b[0;34m\u001b[0m\n\u001b[1;32m      1\u001b[0m \u001b[0;31m# np.full : 지정한 크기의 배열을 생성화고 채울값을 지정한다.\u001b[0m\u001b[0;34m\u001b[0m\u001b[0;34m\u001b[0m\u001b[0;34m\u001b[0m\u001b[0m\n\u001b[0;32m----> 2\u001b[0;31m \u001b[0ma\u001b[0m\u001b[0;34m=\u001b[0m \u001b[0mnp\u001b[0m\u001b[0;34m.\u001b[0m\u001b[0mfull\u001b[0m\u001b[0;34m(\u001b[0m\u001b[0;34m(\u001b[0m\u001b[0;36m2\u001b[0m\u001b[0;34m,\u001b[0m\u001b[0;36m2\u001b[0m\u001b[0;34m)\u001b[0m\u001b[0;34m,\u001b[0m\u001b[0;36m1\u001b[0m\u001b[0;34m)\u001b[0m\u001b[0;34m\u001b[0m\u001b[0;34m\u001b[0m\u001b[0m\n\u001b[0m\u001b[1;32m      3\u001b[0m \u001b[0ma\u001b[0m\u001b[0;34m\u001b[0m\u001b[0;34m\u001b[0m\u001b[0m\n\u001b[1;32m      4\u001b[0m \u001b[0;34m\u001b[0m\u001b[0m\n\u001b[1;32m      5\u001b[0m \u001b[0mb\u001b[0m\u001b[0;34m=\u001b[0m \u001b[0mnp\u001b[0m\u001b[0;34m.\u001b[0m\u001b[0mfull\u001b[0m\u001b[0;34m(\u001b[0m\u001b[0;36m3\u001b[0m\u001b[0;34m,\u001b[0m\u001b[0;36m4\u001b[0m\u001b[0;34m)\u001b[0m\u001b[0;34m\u001b[0m\u001b[0;34m\u001b[0m\u001b[0m\n",
            "\u001b[0;31mNameError\u001b[0m: name 'np' is not defined"
          ]
        }
      ]
    },
    {
      "cell_type": "code",
      "source": [
        "help(sum)\n",
        "\n",
        "a = np.array([[1,2,3], [4,5,6]])\n",
        "a.shape\n",
        "# 배열이 몇 차원인지 알려준다.\n",
        "a.ndim\n",
        "a.dtype\n",
        "a.size\n",
        "#d요소당 바이트 수를 알려줌\n",
        "a.itemsize\n",
        "\n",
        "#numpy 와 python 속도차이\n",
        "np.arange(10)"
      ],
      "metadata": {
        "colab": {
          "base_uri": "https://localhost:8080/"
        },
        "id": "KMmyP9W9t-8G",
        "outputId": "0a82a80d-0c6b-4bb5-cee4-e510ca233ed1"
      },
      "execution_count": null,
      "outputs": [
        {
          "output_type": "stream",
          "name": "stdout",
          "text": [
            "Help on built-in function sum in module builtins:\n",
            "\n",
            "sum(iterable, /, start=0)\n",
            "    Return the sum of a 'start' value (default: 0) plus an iterable of numbers\n",
            "    \n",
            "    When the iterable is empty, return the start value.\n",
            "    This function is intended specifically for use with numeric values and may\n",
            "    reject non-numeric types.\n",
            "\n"
          ]
        },
        {
          "output_type": "execute_result",
          "data": {
            "text/plain": [
              "array([0, 1, 2, 3, 4, 5, 6, 7, 8, 9])"
            ]
          },
          "metadata": {},
          "execution_count": 105
        }
      ]
    },
    {
      "cell_type": "code",
      "source": [
        "#numpy 계산\n",
        "%time np.sum(np.arange(1000000))\n",
        "#파이썬 계산\n",
        "%time sum(np.arange(1000000))"
      ],
      "metadata": {
        "colab": {
          "base_uri": "https://localhost:8080/",
          "height": 295
        },
        "id": "vaSF4lIb73JF",
        "outputId": "d8f1ffba-049d-41d3-a18c-7a57beebf5e4"
      },
      "execution_count": null,
      "outputs": [
        {
          "output_type": "error",
          "ename": "NameError",
          "evalue": "ignored",
          "traceback": [
            "\u001b[0;31m---------------------------------------------------------------------------\u001b[0m",
            "\u001b[0;31mNameError\u001b[0m                                 Traceback (most recent call last)",
            "\u001b[0;32m<timed eval>\u001b[0m in \u001b[0;36m<module>\u001b[0;34m\u001b[0m\n",
            "\u001b[0;31mNameError\u001b[0m: name 'np' is not defined"
          ]
        },
        {
          "output_type": "error",
          "ename": "NameError",
          "evalue": "ignored",
          "traceback": [
            "\u001b[0;31m---------------------------------------------------------------------------\u001b[0m",
            "\u001b[0;31mNameError\u001b[0m                                 Traceback (most recent call last)",
            "\u001b[0;32m<timed eval>\u001b[0m in \u001b[0;36m<module>\u001b[0;34m\u001b[0m\n",
            "\u001b[0;31mNameError\u001b[0m: name 'np' is not defined"
          ]
        }
      ]
    },
    {
      "cell_type": "code",
      "source": [
        "%time np.sum(range(1000))"
      ],
      "metadata": {
        "colab": {
          "base_uri": "https://localhost:8080/",
          "height": 156
        },
        "id": "WywD7w918H60",
        "outputId": "9b7adbb4-b471-490e-82ba-c3e017d359c5"
      },
      "execution_count": 4,
      "outputs": [
        {
          "output_type": "error",
          "ename": "NameError",
          "evalue": "ignored",
          "traceback": [
            "\u001b[0;31m---------------------------------------------------------------------------\u001b[0m",
            "\u001b[0;31mNameError\u001b[0m                                 Traceback (most recent call last)",
            "\u001b[0;32m<timed eval>\u001b[0m in \u001b[0;36m<module>\u001b[0;34m\u001b[0m\n",
            "\u001b[0;31mNameError\u001b[0m: name 'np' is not defined"
          ]
        }
      ]
    },
    {
      "cell_type": "code",
      "source": [
        "#copy\n",
        "#파이썬에서 카피할떼 \n",
        "a = [1,2,3]\n",
        "b=a \n",
        "b\n",
        "a is b\n",
        "\n",
        "b[0]=7\n",
        "b\n",
        "a\n",
        "#a,b기 메모리를 공유\n"
      ],
      "metadata": {
        "colab": {
          "base_uri": "https://localhost:8080/",
          "height": 137
        },
        "id": "ru-FZfB898kk",
        "outputId": "54216c40-4c56-4176-b5a8-d1dfc9d8d4df"
      },
      "execution_count": 7,
      "outputs": [
        {
          "output_type": "error",
          "ename": "SyntaxError",
          "evalue": "ignored",
          "traceback": [
            "\u001b[0;36m  File \u001b[0;32m\"<ipython-input-7-9838ce87c732>\"\u001b[0;36m, line \u001b[0;32m14\u001b[0m\n\u001b[0;31m    a =[1.2.3]\u001b[0m\n\u001b[0m           ^\u001b[0m\n\u001b[0;31mSyntaxError\u001b[0m\u001b[0;31m:\u001b[0m invalid syntax\n"
          ]
        }
      ]
    },
    {
      "cell_type": "code",
      "source": [
        "\n",
        "#listcopy : 카피는 값만 같고 메모리는 공유하지 않는다.\n",
        "a = [1,2,3]\n",
        "b =a.copy()\n",
        "a is b\n",
        "id(a)\n",
        "id(b)\n",
        "a ==b\n",
        "b[0] = 8\n",
        "print(a)\n",
        "print(b)\n",
        "\n",
        "#list가 2차원일떼 \n",
        "a =[[1,2,3]]\n",
        "type(a)\n",
        "b=a.copy() \n",
        "print(a is b)\n",
        "print(a==b)\n",
        "\n",
        "print(a[0] is b[0])\n",
        "print(a[0] == b[0])\n",
        "\n",
        "import copy \n",
        "a=[[1,2,3]]\n",
        "b =copy.deepcopy(a)\n",
        "\n",
        "print(a)\n",
        "print(b)\n",
        "\n",
        "\n",
        "print(a[0] is b[0])\n",
        "print(a[0] == b[0])\n",
        "# :는 전체라는 뜻이다. 슬라이싱 방식으로 1차 리스트일때는 재할당하면  deepcopy가 된다. 슬라이싱 2차 리스트 이상인경우 shallo copy가 발생\n",
        "a=[1,2,3]\n",
        "b=a[:]\n",
        "print(a is b)\n",
        "print(a == b)\n",
        "b[0]=7\n",
        "print(a is b)\n",
        "print(a == b)\n",
        "#파이썬의 카피는 기본적으로 shallow copy를 하낟\n",
        "\n",
        "\n",
        "\n",
        "a = b = np.array([1,2,3])\n",
        "print(a is b)\n",
        "print(a == b)"
      ],
      "metadata": {
        "id": "OHurFgya_ycl"
      },
      "execution_count": null,
      "outputs": []
    },
    {
      "cell_type": "code",
      "source": [
        "#numpy의 카피\n",
        "a = b = np.array([1,2,3])\n",
        "print(a is b)\n",
        "print(a == b)\n",
        "\n",
        "#array는 sepuence타입으로 인덱싱과 슬라리싱 가능\n",
        "a[0]\n",
        "a[:]\n",
        "\n",
        "a[0] =100\n",
        "print(a)\n",
        "print(b)\n",
        "#array는 homeogeneous, sequence, mutable이다\n",
        "a = np.array([[1,2,3]])\n",
        "b =a.copy()\n",
        "print(a is b)\n",
        "print(a[0]is b[0])\n",
        "\n",
        "#a as 개열 : 다른 테이터 타입을 가져와서 바꿔서 사용할떼는 as라는 이름을 붙인다.\n",
        "a =[1,2,3]\n",
        "print(type(a))\n",
        "print(type(a[0]))\n",
        "b =np.array(a)\n",
        "print(type(b))\n",
        "print(type(b[0]))\n",
        "\n",
        "\n",
        "a =[1,2,3]\n",
        "print(type(a))\n",
        "print(type(a[0]))\n",
        "b =np.asarray(a)\n",
        "print(type(b))\n",
        "print(type(b[0]))\n",
        "\n",
        "#float\n",
        "a =[1,2,3]\n",
        "print(type(a))\n",
        "print(type(a[0]))\n",
        "b =np.asfarray(a)\n",
        "print(type(b))\n",
        "print(type(b[0]))\n"
      ],
      "metadata": {
        "colab": {
          "base_uri": "https://localhost:8080/"
        },
        "id": "1w817OiBDur8",
        "outputId": "dcff16ca-05d9-4310-db8e-b3d55ae99da5"
      },
      "execution_count": 48,
      "outputs": [
        {
          "output_type": "stream",
          "name": "stdout",
          "text": [
            "True\n",
            "[ True  True  True]\n",
            "[100   2   3]\n",
            "[100   2   3]\n",
            "False\n",
            "False\n",
            "<class 'list'>\n",
            "<class 'int'>\n",
            "<class 'numpy.ndarray'>\n",
            "<class 'numpy.int64'>\n",
            "<class 'list'>\n",
            "<class 'int'>\n",
            "<class 'numpy.ndarray'>\n",
            "<class 'numpy.int64'>\n",
            "<class 'list'>\n",
            "<class 'int'>\n",
            "<class 'numpy.ndarray'>\n",
            "<class 'numpy.float64'>\n"
          ]
        }
      ]
    },
    {
      "cell_type": "code",
      "source": [
        "#파이썬의 리스트 테이터 타입 float이면 floar ndarray\n",
        "#파이썬 리스트 데이터 타입 int 면 int ndarry로 변환\n",
        "\n",
        "a = [1.,2.,3.]\n",
        "print(type(a))\n",
        "print(type(a[0]))\n",
        "\n",
        "b = np.asarray(a)\n",
        "print(type(b))\n",
        "print(type(b[0]))\n",
        "\n",
        "c = np.array(a)\n",
        "print(type(c))\n",
        "print(type(c[0]))\n",
        "\n",
        "\n",
        "# 값 가져오기\n",
        "#, \n",
        "a = [[1,2,3,],[4,5,6]]\n",
        "b =np.array([[1,2,3], [4,5,6]]) #numpy는 기본적으로 인덱싱/슬라이싱할때 콤마 사용\n",
        "a[0]\n",
        "a[slice(0,1)]\n",
        "#슬라이스 함수를 이용해서 콤마를 사용하는 방법\n",
        "a[slice(0,2)]\n",
        "print(b[0,2])\n",
        "print(a[0][2])\n",
        "print(a[0][-1])\n",
        "a =[[1,2,3,4,]]\n",
        "\n",
        "\n",
        "b =np.array([1,2,3,4])\n",
        "b\n",
        "\n",
        "#원소별로 비교해서 참,거짓로 계산\n",
        "b =[np.array([False, False, True, True])]"
      ],
      "metadata": {
        "colab": {
          "base_uri": "https://localhost:8080/",
          "height": 376
        },
        "id": "cE_dKwGwDuk1",
        "outputId": "c363c6a4-bc4f-4e2d-abd0-24b3db3d03a3"
      },
      "execution_count": 70,
      "outputs": [
        {
          "output_type": "stream",
          "name": "stdout",
          "text": [
            "<class 'list'>\n",
            "<class 'float'>\n",
            "<class 'numpy.ndarray'>\n",
            "<class 'numpy.float64'>\n",
            "<class 'numpy.ndarray'>\n",
            "<class 'numpy.float64'>\n",
            "3\n",
            "3\n",
            "3\n"
          ]
        },
        {
          "output_type": "error",
          "ename": "TypeError",
          "evalue": "ignored",
          "traceback": [
            "\u001b[0;31m---------------------------------------------------------------------------\u001b[0m",
            "\u001b[0;31mTypeError\u001b[0m                                 Traceback (most recent call last)",
            "\u001b[0;32m<ipython-input-70-2305a361a935>\u001b[0m in \u001b[0;36m<module>\u001b[0;34m\u001b[0m\n\u001b[1;32m     35\u001b[0m \u001b[0mb\u001b[0m \u001b[0;34m=\u001b[0m\u001b[0;34m[\u001b[0m\u001b[0mnp\u001b[0m\u001b[0;34m.\u001b[0m\u001b[0marray\u001b[0m\u001b[0;34m(\u001b[0m\u001b[0;34m[\u001b[0m\u001b[0;32mFalse\u001b[0m\u001b[0;34m,\u001b[0m \u001b[0;32mFalse\u001b[0m\u001b[0;34m,\u001b[0m \u001b[0;32mTrue\u001b[0m\u001b[0;34m,\u001b[0m \u001b[0;32mTrue\u001b[0m\u001b[0;34m]\u001b[0m\u001b[0;34m)\u001b[0m\u001b[0;34m]\u001b[0m\u001b[0;34m\u001b[0m\u001b[0;34m\u001b[0m\u001b[0m\n\u001b[1;32m     36\u001b[0m \u001b[0mb\u001b[0m\u001b[0;34m\u001b[0m\u001b[0;34m\u001b[0m\u001b[0m\n\u001b[0;32m---> 37\u001b[0;31m \u001b[0mb\u001b[0m\u001b[0;34m[\u001b[0m\u001b[0mb\u001b[0m\u001b[0;34m>\u001b[0m\u001b[0;36m2\u001b[0m\u001b[0;34m]\u001b[0m\u001b[0;34m\u001b[0m\u001b[0;34m\u001b[0m\u001b[0m\n\u001b[0m",
            "\u001b[0;31mTypeError\u001b[0m: '>' not supported between instances of 'list' and 'int'"
          ]
        }
      ]
    },
    {
      "cell_type": "code",
      "source": [
        "#numpy에서 boolean indexing조건 : array만 가능, numpy true, false로만 가능, shape이 맞아야한다.\n",
        "a = [1,2,3,4]\n",
        "a[True,True, False, False]"
      ],
      "metadata": {
        "id": "U7iSZF6HRF8d"
      },
      "execution_count": null,
      "outputs": []
    },
    {
      "cell_type": "code",
      "source": [
        "b = np.arange(100).reshape(20,5)\n",
        "b[:]\n",
        "\n",
        "b[1:3]\n",
        "print(b[1:3,2:4])\n",
        "print(b[[1,3,5]])\n",
        "print(b[[1,3,5],[0,2,4]])\n",
        "b[[1,3,4],[0,2,1]]\n",
        "b[[1,3,4],[0,2]]"
      ],
      "metadata": {
        "colab": {
          "base_uri": "https://localhost:8080/",
          "height": 321
        },
        "id": "d14SQ2pSUTRF",
        "outputId": "eb3a78bf-d410-4ea3-8567-2abeca22cbd2"
      },
      "execution_count": 84,
      "outputs": [
        {
          "output_type": "stream",
          "name": "stdout",
          "text": [
            "[[ 7  8]\n",
            " [12 13]]\n",
            "[[ 5  6  7  8  9]\n",
            " [15 16 17 18 19]\n",
            " [25 26 27 28 29]]\n",
            "[ 5 17 29]\n"
          ]
        },
        {
          "output_type": "error",
          "ename": "IndexError",
          "evalue": "ignored",
          "traceback": [
            "\u001b[0;31m---------------------------------------------------------------------------\u001b[0m",
            "\u001b[0;31mIndexError\u001b[0m                                Traceback (most recent call last)",
            "\u001b[0;32m<ipython-input-84-93044afffd5c>\u001b[0m in \u001b[0;36m<module>\u001b[0;34m\u001b[0m\n\u001b[1;32m      7\u001b[0m \u001b[0mprint\u001b[0m\u001b[0;34m(\u001b[0m\u001b[0mb\u001b[0m\u001b[0;34m[\u001b[0m\u001b[0;34m[\u001b[0m\u001b[0;36m1\u001b[0m\u001b[0;34m,\u001b[0m\u001b[0;36m3\u001b[0m\u001b[0;34m,\u001b[0m\u001b[0;36m5\u001b[0m\u001b[0;34m]\u001b[0m\u001b[0;34m,\u001b[0m\u001b[0;34m[\u001b[0m\u001b[0;36m0\u001b[0m\u001b[0;34m,\u001b[0m\u001b[0;36m2\u001b[0m\u001b[0;34m,\u001b[0m\u001b[0;36m4\u001b[0m\u001b[0;34m]\u001b[0m\u001b[0;34m]\u001b[0m\u001b[0;34m)\u001b[0m\u001b[0;34m\u001b[0m\u001b[0;34m\u001b[0m\u001b[0m\n\u001b[1;32m      8\u001b[0m \u001b[0mb\u001b[0m\u001b[0;34m[\u001b[0m\u001b[0;34m[\u001b[0m\u001b[0;36m1\u001b[0m\u001b[0;34m,\u001b[0m\u001b[0;36m3\u001b[0m\u001b[0;34m,\u001b[0m\u001b[0;36m4\u001b[0m\u001b[0;34m]\u001b[0m\u001b[0;34m,\u001b[0m\u001b[0;34m[\u001b[0m\u001b[0;36m0\u001b[0m\u001b[0;34m,\u001b[0m\u001b[0;36m2\u001b[0m\u001b[0;34m,\u001b[0m\u001b[0;36m1\u001b[0m\u001b[0;34m]\u001b[0m\u001b[0;34m]\u001b[0m\u001b[0;34m\u001b[0m\u001b[0;34m\u001b[0m\u001b[0m\n\u001b[0;32m----> 9\u001b[0;31m \u001b[0mb\u001b[0m\u001b[0;34m[\u001b[0m\u001b[0;34m[\u001b[0m\u001b[0;36m1\u001b[0m\u001b[0;34m,\u001b[0m\u001b[0;36m3\u001b[0m\u001b[0;34m,\u001b[0m\u001b[0;36m4\u001b[0m\u001b[0;34m]\u001b[0m\u001b[0;34m,\u001b[0m\u001b[0;34m[\u001b[0m\u001b[0;36m0\u001b[0m\u001b[0;34m,\u001b[0m\u001b[0;36m2\u001b[0m\u001b[0;34m]\u001b[0m\u001b[0;34m]\u001b[0m\u001b[0;34m\u001b[0m\u001b[0;34m\u001b[0m\u001b[0m\n\u001b[0m",
            "\u001b[0;31mIndexError\u001b[0m: shape mismatch: indexing arrays could not be broadcast together with shapes (3,) (2,) "
          ]
        }
      ]
    }
  ]
}