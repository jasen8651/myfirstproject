{
  "nbformat": 4,
  "nbformat_minor": 0,
  "metadata": {
    "colab": {
      "provenance": [],
      "authorship_tag": "ABX9TyO/Q2xWVeScQb7hRk1o/zBa",
      "include_colab_link": true
    },
    "kernelspec": {
      "name": "python3",
      "display_name": "Python 3"
    },
    "language_info": {
      "name": "python"
    }
  },
  "cells": [
    {
      "cell_type": "markdown",
      "metadata": {
        "id": "view-in-github",
        "colab_type": "text"
      },
      "source": [
        "<a href=\"https://colab.research.google.com/github/jasen8651/python001/blob/master/%EB%8D%B0%EC%9D%B4%ED%84%B0%EC%88%98%EC%B9%98%EC%9A%94%EC%95%BD.ipynb\" target=\"_parent\"><img src=\"https://colab.research.google.com/assets/colab-badge.svg\" alt=\"Open In Colab\"/></a>"
      ]
    },
    {
      "cell_type": "code",
      "execution_count": 1,
      "metadata": {
        "colab": {
          "base_uri": "https://localhost:8080/"
        },
        "id": "rBMl6TtZafIL",
        "outputId": "9b98d004-0eeb-47e1-db87-2a7b7b67150a"
      },
      "outputs": [
        {
          "output_type": "stream",
          "name": "stdout",
          "text": [
            "Mounted at /content/dirve\n",
            "/content/dirve/MyDrive/python_demo\n"
          ]
        }
      ],
      "source": [
        "#구글 연동\n",
        "from google.colab import drive\n",
        "drive.mount('/content/dirve')\n",
        "%cd /content/dirve/MyDrive/python_demo"
      ]
    },
    {
      "cell_type": "markdown",
      "source": [
        "4명의 키와 몸무게 계산(합계,평균,편차,분석,표준편차,상관계수)"
      ],
      "metadata": {
        "id": "kAZVTDPKat8s"
      }
    },
    {
      "cell_type": "code",
      "source": [
        "#파이선\n",
        "height = [175,165,180,160]\n",
        "weight =[75,70,95,72]\n",
        "\n",
        "h_sum = sum(height)\n",
        "w_sum = sum(weight)"
      ],
      "metadata": {
        "id": "vzfj7-0ta2Ps"
      },
      "execution_count": 2,
      "outputs": []
    },
    {
      "cell_type": "code",
      "source": [
        "print('키 합계 :', h_sum)\n",
        "print('몸무게 합계 :',w_sum)\n",
        "#평균 h,w\n",
        "length = len(height)\n",
        "h_mean = h_sum/length\n",
        "w_mean = w_sum/length\n",
        "print('키 평균 :', h_mean)\n",
        "print('몸무게 평균 :', w_mean)\n",
        "\n",
        "#편차 \n",
        "print('편차')\n",
        "h_deviation = [i-h_mean for i in height]\n",
        "w_deviation = [i-w_mean for i in weight]\n",
        "print('키 편차:', h_deviation, sum(h_deviation))\n",
        "print('몸무게 편차:', w_deviation, sum(w_deviation))\n",
        "\n",
        "#분산\n",
        "print('분산')\n",
        "h_data =[(i-h_mean)**2 for i in height]\n",
        "w_data =[(i-w_mean)**2 for i in height]\n",
        "h_variance = sum(h_data)/length\n",
        "w_variance = sum(w_data)/length\n",
        "print('키분산 :', h_variance)\n",
        "print('몸무게분산 :', w_variance)\n",
        "\n",
        "#표준 편차\n",
        "print('표준편차')\n",
        "import math\n",
        "h_standard_deviation = math.sqrt(h_variance)\n",
        "w_standard_deviation = math.sqrt(w_variance)\n",
        "print('키 표준 편차 :', h_standard_deviation)\n",
        "print('몸무게 표준 편차 :', w_standard_deviation)\n",
        "\n",
        "#공분산\n",
        "h_w_covariance = [i*j for i,j in zip(h_deviation, w_deviation)]\n",
        "print(h_w_covariance)\n",
        "h_w_covariance = sum(h_w_covariance)\n",
        "print(h_w_covariance)\n",
        "\n",
        "#상관겟수\n",
        "h_w_coef = h_w_covariance / (h_standard_deviation * w_standard_deviation)\n",
        "print(h_w_coef)"
      ],
      "metadata": {
        "id": "MzMg1fR-bVyL"
      },
      "execution_count": null,
      "outputs": []
    },
    {
      "cell_type": "code",
      "source": [
        "#numpy\n",
        "import numpy as np\n",
        "height = np.array([175,165,180,160])\n",
        "weight =np.array([75,70,95,72])"
      ],
      "metadata": {
        "id": "vK41B5kUmUt8"
      },
      "execution_count": 16,
      "outputs": []
    },
    {
      "cell_type": "code",
      "source": [
        "h_sum= np.sum(height)\n",
        "w_sum =np.sum(weight)\n",
        "print('합계', h_sum)\n",
        "print('합계', w_sum)\n",
        "#평균\n",
        "h_mean = np.mean(height)\n",
        "w_mean = np.mean(weight)\n",
        "print('합계', h_mean)\n",
        "print('합계', w_mean)\n",
        "\n",
        "#편차\n",
        "h_deviation = height - h_mean\n",
        "w_deviation = weight - w_mean\n",
        "print('편차', h_deviation, np.sum(h_deviation))\n",
        "print('편차', w_deviation, np.sum(w_deviation))\n",
        "\n",
        "#분산\n",
        "h_variance = np.var(height)\n",
        "w_variance = np.var(weight)\n",
        "print('분산', h_variance)\n",
        "print('분산', w_variance)\n",
        "\n",
        "#표준 편차\n",
        "h_standard_deviation = np.std(height)\n",
        "w_standard_deviation = np.std(weight)\n",
        "print('표준편차', h_standard_deviation)\n",
        "print('표준편차', w_standard_deviation)\n",
        "\n",
        "#공분산\n",
        "h_w_covariance = np.cov(height, weight, ddof=0)\n",
        "h_w_covariance\n",
        "\n",
        "#상관계수\n",
        "np.corrcoef(height,weight)"
      ],
      "metadata": {
        "colab": {
          "base_uri": "https://localhost:8080/"
        },
        "id": "FVVrnyMOnGo7",
        "outputId": "8c9d660f-ff51-4e61-8a26-8b3bad6dd338"
      },
      "execution_count": 25,
      "outputs": [
        {
          "output_type": "stream",
          "name": "stdout",
          "text": [
            "합계 680\n",
            "합계 312\n",
            "합계 170.0\n",
            "합계 78.0\n",
            "편차 [  5.  -5.  10. -10.] 0.0\n",
            "편차 [-3. -8. 17. -6.] 0.0\n",
            "분산 62.5\n",
            "분산 99.5\n",
            "표준편차 7.905694150420948\n",
            "표준편차 9.974968671630002\n"
          ]
        },
        {
          "output_type": "execute_result",
          "data": {
            "text/plain": [
              "array([[1.        , 0.80840435],\n",
              "       [0.80840435, 1.        ]])"
            ]
          },
          "metadata": {},
          "execution_count": 25
        }
      ]
    }
  ]
}