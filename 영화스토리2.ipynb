{
  "nbformat": 4,
  "nbformat_minor": 0,
  "metadata": {
    "colab": {
      "provenance": [],
      "authorship_tag": "ABX9TyM/cp847aaRHXOcPNcsmciB",
      "include_colab_link": true
    },
    "kernelspec": {
      "name": "python3",
      "display_name": "Python 3"
    },
    "language_info": {
      "name": "python"
    }
  },
  "cells": [
    {
      "cell_type": "markdown",
      "metadata": {
        "id": "view-in-github",
        "colab_type": "text"
      },
      "source": [
        "<a href=\"https://colab.research.google.com/github/jasen8651/python001/blob/master/%EC%98%81%ED%99%94%EC%8A%A4%ED%86%A0%EB%A6%AC2.ipynb\" target=\"_parent\"><img src=\"https://colab.research.google.com/assets/colab-badge.svg\" alt=\"Open In Colab\"/></a>"
      ]
    },
    {
      "cell_type": "markdown",
      "source": [
        "##워드 클라우드와 텍스트 마이닝"
      ],
      "metadata": {
        "id": "0S47Q4TvTdz6"
      }
    },
    {
      "cell_type": "code",
      "source": [],
      "metadata": {
        "id": "_9ET5Ehhitzj"
      },
      "execution_count": null,
      "outputs": []
    },
    {
      "cell_type": "code",
      "source": [
        "!sudo apt-get install -y fonts-nanum\n",
        "!sudo fc-cache -fv\n",
        "!rm ~/.cache/matplotlib -rf"
      ],
      "metadata": {
        "colab": {
          "base_uri": "https://localhost:8080/"
        },
        "id": "w1E8-NwvTpJp",
        "outputId": "bfc183b5-ba91-4235-a0cf-32cb06368d0e"
      },
      "execution_count": null,
      "outputs": [
        {
          "output_type": "stream",
          "name": "stdout",
          "text": [
            "Reading package lists... Done\n",
            "Building dependency tree       \n",
            "Reading state information... Done\n",
            "fonts-nanum is already the newest version (20170925-1).\n",
            "The following package was automatically installed and is no longer required:\n",
            "  libnvidia-common-460\n",
            "Use 'sudo apt autoremove' to remove it.\n",
            "0 upgraded, 0 newly installed, 0 to remove and 20 not upgraded.\n",
            "/usr/share/fonts: caching, new cache contents: 0 fonts, 1 dirs\n",
            "/usr/share/fonts/truetype: caching, new cache contents: 0 fonts, 3 dirs\n",
            "/usr/share/fonts/truetype/humor-sans: caching, new cache contents: 1 fonts, 0 dirs\n",
            "/usr/share/fonts/truetype/liberation: caching, new cache contents: 16 fonts, 0 dirs\n",
            "/usr/share/fonts/truetype/nanum: caching, new cache contents: 10 fonts, 0 dirs\n",
            "/usr/local/share/fonts: caching, new cache contents: 0 fonts, 0 dirs\n",
            "/root/.local/share/fonts: skipping, no such directory\n",
            "/root/.fonts: skipping, no such directory\n",
            "/var/cache/fontconfig: cleaning cache directory\n",
            "/root/.cache/fontconfig: not cleaning non-existent cache directory\n",
            "/root/.fontconfig: not cleaning non-existent cache directory\n",
            "fc-cache: succeeded\n"
          ]
        }
      ]
    },
    {
      "cell_type": "markdown",
      "source": [
        "#jpype 설치 : \n",
        "파이선에서 자바라이브러리를 이용할수 있도록 설치"
      ],
      "metadata": {
        "id": "jyeRGRJnVNjB"
      }
    },
    {
      "cell_type": "code",
      "source": [
        "!pip install -U \"jpype1<1.1\""
      ],
      "metadata": {
        "colab": {
          "base_uri": "https://localhost:8080/"
        },
        "id": "2os0qh3kU5V5",
        "outputId": "2d645156-6938-4fab-8c38-5bda3cdf3093"
      },
      "execution_count": null,
      "outputs": [
        {
          "output_type": "stream",
          "name": "stdout",
          "text": [
            "Looking in indexes: https://pypi.org/simple, https://us-python.pkg.dev/colab-wheels/public/simple/\n",
            "Collecting jpype1<1.1\n",
            "  Downloading JPype1-1.0.2-cp38-cp38-manylinux2010_x86_64.whl (3.8 MB)\n",
            "\u001b[K     |████████████████████████████████| 3.8 MB 6.5 MB/s \n",
            "\u001b[?25hInstalling collected packages: jpype1\n",
            "Successfully installed jpype1-1.0.2\n"
          ]
        }
      ]
    },
    {
      "cell_type": "code",
      "source": [
        "#한글을 사용하기 위해 세종사전을 이용\n",
        "!pip install konlpy\n",
        "!pip install wordcloud"
      ],
      "metadata": {
        "colab": {
          "base_uri": "https://localhost:8080/"
        },
        "id": "PnRSxkiLVVTx",
        "outputId": "b47ba516-0d06-4f08-dfde-c8ef5b76d22a"
      },
      "execution_count": null,
      "outputs": [
        {
          "output_type": "stream",
          "name": "stdout",
          "text": [
            "Looking in indexes: https://pypi.org/simple, https://us-python.pkg.dev/colab-wheels/public/simple/\n",
            "Collecting konlpy\n",
            "  Downloading konlpy-0.6.0-py2.py3-none-any.whl (19.4 MB)\n",
            "\u001b[K     |████████████████████████████████| 19.4 MB 1.4 MB/s \n",
            "\u001b[?25hRequirement already satisfied: numpy>=1.6 in /usr/local/lib/python3.8/dist-packages (from konlpy) (1.21.6)\n",
            "Requirement already satisfied: lxml>=4.1.0 in /usr/local/lib/python3.8/dist-packages (from konlpy) (4.9.2)\n",
            "Requirement already satisfied: JPype1>=0.7.0 in /usr/local/lib/python3.8/dist-packages (from konlpy) (1.0.2)\n",
            "Installing collected packages: konlpy\n",
            "Successfully installed konlpy-0.6.0\n",
            "Looking in indexes: https://pypi.org/simple, https://us-python.pkg.dev/colab-wheels/public/simple/\n",
            "Requirement already satisfied: wordcloud in /usr/local/lib/python3.8/dist-packages (1.8.2.2)\n",
            "Requirement already satisfied: pillow in /usr/local/lib/python3.8/dist-packages (from wordcloud) (7.1.2)\n",
            "Requirement already satisfied: numpy>=1.6.1 in /usr/local/lib/python3.8/dist-packages (from wordcloud) (1.21.6)\n",
            "Requirement already satisfied: matplotlib in /usr/local/lib/python3.8/dist-packages (from wordcloud) (3.2.2)\n",
            "Requirement already satisfied: cycler>=0.10 in /usr/local/lib/python3.8/dist-packages (from matplotlib->wordcloud) (0.11.0)\n",
            "Requirement already satisfied: kiwisolver>=1.0.1 in /usr/local/lib/python3.8/dist-packages (from matplotlib->wordcloud) (1.4.4)\n",
            "Requirement already satisfied: python-dateutil>=2.1 in /usr/local/lib/python3.8/dist-packages (from matplotlib->wordcloud) (2.8.2)\n",
            "Requirement already satisfied: pyparsing!=2.0.4,!=2.1.2,!=2.1.6,>=2.0.1 in /usr/local/lib/python3.8/dist-packages (from matplotlib->wordcloud) (3.0.9)\n",
            "Requirement already satisfied: six>=1.5 in /usr/local/lib/python3.8/dist-packages (from python-dateutil>=2.1->matplotlib->wordcloud) (1.15.0)\n"
          ]
        }
      ]
    },
    {
      "cell_type": "code",
      "source": [
        "## 구글 드라이브 연결\n",
        "from google.colab import drive\n",
        "drive.mount('/content/drive')\n",
        "\n",
        "#  경로 변경\n",
        "%cd /content/drive/MyDrive/python_demo"
      ],
      "metadata": {
        "colab": {
          "base_uri": "https://localhost:8080/"
        },
        "id": "M1uefI_gZpXq",
        "outputId": "4546af3d-0a88-4de3-c278-92e35ac540ea"
      },
      "execution_count": null,
      "outputs": [
        {
          "output_type": "stream",
          "name": "stdout",
          "text": [
            "Mounted at /content/drive\n",
            "/content/drive/MyDrive/python_demo\n"
          ]
        }
      ]
    },
    {
      "cell_type": "code",
      "source": [
        "#기본\n",
        "import numpy as np\n",
        "import pandas as pd\n",
        "import matplotlib.pyplot as plt\n",
        "\n",
        "#데이터 전처리\n",
        "from konlpy.tag import Okt\n",
        "from collections import Counter\n",
        "from wordcloud import WordCloud"
      ],
      "metadata": {
        "id": "5OMKzF_cZsgh"
      },
      "execution_count": null,
      "outputs": []
    },
    {
      "cell_type": "code",
      "source": [
        "!pip list"
      ],
      "metadata": {
        "id": "JoGqDGl5aCBh"
      },
      "execution_count": null,
      "outputs": []
    },
    {
      "cell_type": "code",
      "source": [
        "#데이터 가져오기 \n",
        "df = pd.read_csv('data_crowing/data.csv', encoding='cp949')\n",
        "df.head()"
      ],
      "metadata": {
        "colab": {
          "base_uri": "https://localhost:8080/",
          "height": 206
        },
        "id": "qBOW_hEkacr5",
        "outputId": "e3091584-69bc-4e21-a86d-79108a1165fc"
      },
      "execution_count": null,
      "outputs": [
        {
          "output_type": "execute_result",
          "data": {
            "text/plain": [
              "    번호 재학생구분  학년/학기    학과 성별  \\\n",
              "0   65    대학      1  인문계열  여   \n",
              "1   78    대학      3  사회계열  여   \n",
              "2  100    대학      1  사회계열  여   \n",
              "3  129    대학      4  인문계열  여   \n",
              "4   37    대학      2  인문계열  남   \n",
              "\n",
              "                                                text  \n",
              "0  1학기 때 책 읽으려고 갔는데 먼지가 있었어요. 그래서 책상에 먼지가 없었으면 좋겠어요.  \n",
              "1                                   KC대학교도서관 재건축해주세요  \n",
              "2                                       개인스터디할공간이 필요  \n",
              "3                               건물 재건축 및 교체, 내부 리모델링  \n",
              "4                        공부를 할 수 있는 시설이 개선되었으면 좋겠습니다  "
            ],
            "text/html": [
              "\n",
              "  <div id=\"df-b1c8402b-fe4d-42bc-b288-5a5a8b97f84d\">\n",
              "    <div class=\"colab-df-container\">\n",
              "      <div>\n",
              "<style scoped>\n",
              "    .dataframe tbody tr th:only-of-type {\n",
              "        vertical-align: middle;\n",
              "    }\n",
              "\n",
              "    .dataframe tbody tr th {\n",
              "        vertical-align: top;\n",
              "    }\n",
              "\n",
              "    .dataframe thead th {\n",
              "        text-align: right;\n",
              "    }\n",
              "</style>\n",
              "<table border=\"1\" class=\"dataframe\">\n",
              "  <thead>\n",
              "    <tr style=\"text-align: right;\">\n",
              "      <th></th>\n",
              "      <th>번호</th>\n",
              "      <th>재학생구분</th>\n",
              "      <th>학년/학기</th>\n",
              "      <th>학과</th>\n",
              "      <th>성별</th>\n",
              "      <th>text</th>\n",
              "    </tr>\n",
              "  </thead>\n",
              "  <tbody>\n",
              "    <tr>\n",
              "      <th>0</th>\n",
              "      <td>65</td>\n",
              "      <td>대학</td>\n",
              "      <td>1</td>\n",
              "      <td>인문계열</td>\n",
              "      <td>여</td>\n",
              "      <td>1학기 때 책 읽으려고 갔는데 먼지가 있었어요. 그래서 책상에 먼지가 없었으면 좋겠어요.</td>\n",
              "    </tr>\n",
              "    <tr>\n",
              "      <th>1</th>\n",
              "      <td>78</td>\n",
              "      <td>대학</td>\n",
              "      <td>3</td>\n",
              "      <td>사회계열</td>\n",
              "      <td>여</td>\n",
              "      <td>KC대학교도서관 재건축해주세요</td>\n",
              "    </tr>\n",
              "    <tr>\n",
              "      <th>2</th>\n",
              "      <td>100</td>\n",
              "      <td>대학</td>\n",
              "      <td>1</td>\n",
              "      <td>사회계열</td>\n",
              "      <td>여</td>\n",
              "      <td>개인스터디할공간이 필요</td>\n",
              "    </tr>\n",
              "    <tr>\n",
              "      <th>3</th>\n",
              "      <td>129</td>\n",
              "      <td>대학</td>\n",
              "      <td>4</td>\n",
              "      <td>인문계열</td>\n",
              "      <td>여</td>\n",
              "      <td>건물 재건축 및 교체, 내부 리모델링</td>\n",
              "    </tr>\n",
              "    <tr>\n",
              "      <th>4</th>\n",
              "      <td>37</td>\n",
              "      <td>대학</td>\n",
              "      <td>2</td>\n",
              "      <td>인문계열</td>\n",
              "      <td>남</td>\n",
              "      <td>공부를 할 수 있는 시설이 개선되었으면 좋겠습니다</td>\n",
              "    </tr>\n",
              "  </tbody>\n",
              "</table>\n",
              "</div>\n",
              "      <button class=\"colab-df-convert\" onclick=\"convertToInteractive('df-b1c8402b-fe4d-42bc-b288-5a5a8b97f84d')\"\n",
              "              title=\"Convert this dataframe to an interactive table.\"\n",
              "              style=\"display:none;\">\n",
              "        \n",
              "  <svg xmlns=\"http://www.w3.org/2000/svg\" height=\"24px\"viewBox=\"0 0 24 24\"\n",
              "       width=\"24px\">\n",
              "    <path d=\"M0 0h24v24H0V0z\" fill=\"none\"/>\n",
              "    <path d=\"M18.56 5.44l.94 2.06.94-2.06 2.06-.94-2.06-.94-.94-2.06-.94 2.06-2.06.94zm-11 1L8.5 8.5l.94-2.06 2.06-.94-2.06-.94L8.5 2.5l-.94 2.06-2.06.94zm10 10l.94 2.06.94-2.06 2.06-.94-2.06-.94-.94-2.06-.94 2.06-2.06.94z\"/><path d=\"M17.41 7.96l-1.37-1.37c-.4-.4-.92-.59-1.43-.59-.52 0-1.04.2-1.43.59L10.3 9.45l-7.72 7.72c-.78.78-.78 2.05 0 2.83L4 21.41c.39.39.9.59 1.41.59.51 0 1.02-.2 1.41-.59l7.78-7.78 2.81-2.81c.8-.78.8-2.07 0-2.86zM5.41 20L4 18.59l7.72-7.72 1.47 1.35L5.41 20z\"/>\n",
              "  </svg>\n",
              "      </button>\n",
              "      \n",
              "  <style>\n",
              "    .colab-df-container {\n",
              "      display:flex;\n",
              "      flex-wrap:wrap;\n",
              "      gap: 12px;\n",
              "    }\n",
              "\n",
              "    .colab-df-convert {\n",
              "      background-color: #E8F0FE;\n",
              "      border: none;\n",
              "      border-radius: 50%;\n",
              "      cursor: pointer;\n",
              "      display: none;\n",
              "      fill: #1967D2;\n",
              "      height: 32px;\n",
              "      padding: 0 0 0 0;\n",
              "      width: 32px;\n",
              "    }\n",
              "\n",
              "    .colab-df-convert:hover {\n",
              "      background-color: #E2EBFA;\n",
              "      box-shadow: 0px 1px 2px rgba(60, 64, 67, 0.3), 0px 1px 3px 1px rgba(60, 64, 67, 0.15);\n",
              "      fill: #174EA6;\n",
              "    }\n",
              "\n",
              "    [theme=dark] .colab-df-convert {\n",
              "      background-color: #3B4455;\n",
              "      fill: #D2E3FC;\n",
              "    }\n",
              "\n",
              "    [theme=dark] .colab-df-convert:hover {\n",
              "      background-color: #434B5C;\n",
              "      box-shadow: 0px 1px 3px 1px rgba(0, 0, 0, 0.15);\n",
              "      filter: drop-shadow(0px 1px 2px rgba(0, 0, 0, 0.3));\n",
              "      fill: #FFFFFF;\n",
              "    }\n",
              "  </style>\n",
              "\n",
              "      <script>\n",
              "        const buttonEl =\n",
              "          document.querySelector('#df-b1c8402b-fe4d-42bc-b288-5a5a8b97f84d button.colab-df-convert');\n",
              "        buttonEl.style.display =\n",
              "          google.colab.kernel.accessAllowed ? 'block' : 'none';\n",
              "\n",
              "        async function convertToInteractive(key) {\n",
              "          const element = document.querySelector('#df-b1c8402b-fe4d-42bc-b288-5a5a8b97f84d');\n",
              "          const dataTable =\n",
              "            await google.colab.kernel.invokeFunction('convertToInteractive',\n",
              "                                                     [key], {});\n",
              "          if (!dataTable) return;\n",
              "\n",
              "          const docLinkHtml = 'Like what you see? Visit the ' +\n",
              "            '<a target=\"_blank\" href=https://colab.research.google.com/notebooks/data_table.ipynb>data table notebook</a>'\n",
              "            + ' to learn more about interactive tables.';\n",
              "          element.innerHTML = '';\n",
              "          dataTable['output_type'] = 'display_data';\n",
              "          await google.colab.output.renderOutput(dataTable, element);\n",
              "          const docLink = document.createElement('div');\n",
              "          docLink.innerHTML = docLinkHtml;\n",
              "          element.appendChild(docLink);\n",
              "        }\n",
              "      </script>\n",
              "    </div>\n",
              "  </div>\n",
              "  "
            ]
          },
          "metadata": {},
          "execution_count": 13
        }
      ]
    },
    {
      "cell_type": "code",
      "source": [
        "df.shape"
      ],
      "metadata": {
        "colab": {
          "base_uri": "https://localhost:8080/"
        },
        "id": "lRIaTtCmbnA6",
        "outputId": "f76dcbf1-1ba6-4f61-bc7d-c83bd0a4936a"
      },
      "execution_count": null,
      "outputs": [
        {
          "output_type": "execute_result",
          "data": {
            "text/plain": [
              "(59, 6)"
            ]
          },
          "metadata": {},
          "execution_count": 14
        }
      ]
    },
    {
      "cell_type": "code",
      "source": [
        "df.info()"
      ],
      "metadata": {
        "colab": {
          "base_uri": "https://localhost:8080/"
        },
        "id": "MQHeh6L7bu-5",
        "outputId": "64a76b45-a50a-4570-df90-ec87698a502b"
      },
      "execution_count": null,
      "outputs": [
        {
          "output_type": "stream",
          "name": "stdout",
          "text": [
            "<class 'pandas.core.frame.DataFrame'>\n",
            "RangeIndex: 59 entries, 0 to 58\n",
            "Data columns (total 6 columns):\n",
            " #   Column  Non-Null Count  Dtype \n",
            "---  ------  --------------  ----- \n",
            " 0   번호      59 non-null     int64 \n",
            " 1   재학생구분   59 non-null     object\n",
            " 2   학년/학기   59 non-null     int64 \n",
            " 3   학과      59 non-null     object\n",
            " 4   성별      59 non-null     object\n",
            " 5   text    59 non-null     object\n",
            "dtypes: int64(2), object(4)\n",
            "memory usage: 2.9+ KB\n"
          ]
        }
      ]
    },
    {
      "cell_type": "code",
      "source": [
        "#명사단어 추출\n",
        "from konlpy.tag import Okt\n",
        "twitter = Okt()\n"
      ],
      "metadata": {
        "id": "iKvlwsxWbw5h"
      },
      "execution_count": null,
      "outputs": []
    },
    {
      "cell_type": "code",
      "source": [
        "#2단어 리스트 만들기\n",
        "word_list = []\n",
        "word_list = df['text']"
      ],
      "metadata": {
        "id": "zNakwWuucMxx"
      },
      "execution_count": null,
      "outputs": []
    },
    {
      "cell_type": "code",
      "source": [
        "word_list"
      ],
      "metadata": {
        "id": "cnIbXcM3caU5"
      },
      "execution_count": null,
      "outputs": []
    },
    {
      "cell_type": "code",
      "source": [
        "#3형태소 분리 및 품사 태깅\n",
        "sentences_tag =[]\n",
        "for sentence in word_list:\n",
        "  morph = twitter.pos(sentence)\n",
        "  sentences_tag.append(morph)\n",
        "print(morph)"
      ],
      "metadata": {
        "colab": {
          "base_uri": "https://localhost:8080/"
        },
        "id": "K4mubokyepMj",
        "outputId": "10492261-2880-430c-a771-cdd88fcebb1c"
      },
      "execution_count": null,
      "outputs": [
        {
          "output_type": "stream",
          "name": "stdout",
          "text": [
            "[('해당', 'Noun'), ('학기', 'Noun'), ('에', 'Josa'), ('쓰는', 'Verb'), ('전', 'Modifier'), ('공책', 'Noun'), ('등', 'Noun'), ('을', 'Josa'), ('구비', 'Noun'), ('하고', 'Josa'), (',', 'Punctuation'), ('그', 'Noun'), ('외', 'Noun'), ('에도', 'Josa'), ('최신', 'Noun'), ('도서', 'Noun'), ('들', 'Suffix'), ('이', 'Josa'), ('들어왔으면', 'Verb'), ('좋겠다', 'Adjective')]\n"
          ]
        }
      ]
    },
    {
      "cell_type": "code",
      "source": [
        "#4명사만 추출\n",
        "noun_list = []\n",
        "for sentence in sentences_tag:\n",
        "  for word, tag in sentence:\n",
        "    if tag in ['Noun']:\n",
        "      noun_list.append(word)"
      ],
      "metadata": {
        "colab": {
          "base_uri": "https://localhost:8080/"
        },
        "id": "H34YK2fjfTWL",
        "outputId": "ae2d839d-e736-4f6f-89a1-15d6c9ebc525"
      },
      "execution_count": null,
      "outputs": [
        {
          "output_type": "stream",
          "name": "stdout",
          "text": [
            "좋겠다\n"
          ]
        }
      ]
    },
    {
      "cell_type": "code",
      "source": [
        "noun_list"
      ],
      "metadata": {
        "id": "GQzgvL5Kfvly"
      },
      "execution_count": null,
      "outputs": []
    },
    {
      "cell_type": "code",
      "source": [
        "#5 명사가 두 문자 이상만 추출\n",
        "len(noun_list)\n",
        "\n",
        "noun_list = [n for n in noun_list if len(n)>1]\n",
        "noun_list[:100]"
      ],
      "metadata": {
        "id": "RrstkPIPf7KS"
      },
      "execution_count": null,
      "outputs": []
    },
    {
      "cell_type": "code",
      "source": [
        "#6단어 카운팅\n",
        "counts = Counter(noun_list)\n",
        "tags = counts.most_common(30) #30개만 가져옴\n",
        "len(tags)\n",
        "tags"
      ],
      "metadata": {
        "colab": {
          "base_uri": "https://localhost:8080/"
        },
        "id": "GfacHAbcgUtb",
        "outputId": "5108a1b5-e67b-4415-cb67-8ede42f21b49"
      },
      "execution_count": null,
      "outputs": [
        {
          "output_type": "execute_result",
          "data": {
            "text/plain": [
              "[('도서관', 36),\n",
              " ('공간', 28),\n",
              " ('공부', 17),\n",
              " ('시설', 12),\n",
              " ('학교', 12),\n",
              " ('학생', 11),\n",
              " ('도서', 11),\n",
              " ('이용', 10),\n",
              " ('환경', 9),\n",
              " ('최신', 9),\n",
              " ('생각', 8),\n",
              " ('자료', 8),\n",
              " ('열람', 7),\n",
              " ('조금', 7),\n",
              " ('학습', 6),\n",
              " ('개선', 5),\n",
              " ('다른', 5),\n",
              " ('먼지', 4),\n",
              " ('개인', 4),\n",
              " ('건물', 4),\n",
              " ('관련', 4),\n",
              " ('우리', 4),\n",
              " ('부분', 4),\n",
              " ('학기', 3),\n",
              " ('스터디', 3),\n",
              " ('모델링', 3),\n",
              " ('마련', 3),\n",
              " ('대학', 3),\n",
              " ('저희', 3),\n",
              " ('전공', 3)]"
            ]
          },
          "metadata": {},
          "execution_count": 31
        }
      ]
    },
    {
      "cell_type": "code",
      "source": [
        "#wordcloud 생성\n",
        "wordcloud = WordCloud(font_path='NanumBarunGothic', background_color='white', width=800, height=600)\n",
        "cloud = wordcloud.generate_from_frequencies(dict(tags))\n",
        "plt.figure(figsize=(10,8))\n",
        "plt.axis('off')\n",
        "plt.imshow(cloud)\n",
        "plt.show()"
      ],
      "metadata": {
        "colab": {
          "base_uri": "https://localhost:8080/",
          "height": 449
        },
        "id": "Lvl-VkFvhF1z",
        "outputId": "7c0fd89d-b92a-45e9-c4ce-a6e25c5b9341"
      },
      "execution_count": null,
      "outputs": [
        {
          "output_type": "display_data",
          "data": {
            "text/plain": [
              "<Figure size 720x576 with 1 Axes>"
            ],
            "image/png": "[encoded data removed]"
          },
          "metadata": {
            "needs_background": "light"
          }
        }
      ]
    }
  ]
}