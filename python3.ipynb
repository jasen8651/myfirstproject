{
  "nbformat": 4,
  "nbformat_minor": 0,
  "metadata": {
    "colab": {
      "provenance": [],
      "authorship_tag": "ABX9TyO9LZwgmUq7Rut8/E0LUKrG",
      "include_colab_link": true
    },
    "kernelspec": {
      "name": "python3",
      "display_name": "Python 3"
    },
    "language_info": {
      "name": "python"
    }
  },
  "cells": [
    {
      "cell_type": "markdown",
      "metadata": {
        "id": "view-in-github",
        "colab_type": "text"
      },
      "source": [
        "<a href=\"https://colab.research.google.com/github/jasen8651/python001/blob/master/python3.ipynb\" target=\"_parent\"><img src=\"https://colab.research.google.com/assets/colab-badge.svg\" alt=\"Open In Colab\"/></a>"
      ]
    },
    {
      "cell_type": "code",
      "execution_count": null,
      "metadata": {
        "colab": {
          "base_uri": "https://localhost:8080/"
        },
        "id": "fQs4lI5RZLYE",
        "outputId": "1bb6492d-bb79-44b2-8941-9788b000f04f"
      },
      "outputs": [
        {
          "output_type": "stream",
          "name": "stdout",
          "text": [
            "[[[ 0  1  2  3]\n",
            "  [ 4  5  6  7]\n",
            "  [ 8  9 10 11]]\n",
            "\n",
            " [[12 13 14 15]\n",
            "  [16 17 18 19]\n",
            "  [20 21 22 23]]]\n"
          ]
        },
        {
          "output_type": "execute_result",
          "data": {
            "text/plain": [
              "array([[0, 1, 2, 3]])"
            ]
          },
          "metadata": {},
          "execution_count": 9
        }
      ],
      "source": [
        "#3차원 이상에서 차원 구분법\n",
        "import numpy as np\n",
        "#print하면 array글자는 안보인다. 공백이 그대로 보인다. -> 차원구분가능\n",
        "b = np.arange(24).reshape(2,3,4)\n",
        "print(b)\n",
        "\n",
        "b[1,2]\n",
        "\n",
        "b[0,1]\n",
        "\n",
        "b[0,1,3]\n",
        "\n",
        "b[0]\n",
        "\n",
        "b[[0],:,:]\n",
        "#b의 0번째 공간 1번재 행 미만, 열 전체\n",
        "b[0,:1,:]\n",
        "\n",
        "#ellipsis 모든것을 의미\n",
        "b[0,:1,:]"
      ]
    },
    {
      "cell_type": "code",
      "source": [
        "\n",
        "#ellipsis 모든것을 의미\n",
        "b[0,...] \n",
        "b[0,:,:] \n",
        "\n",
        "b[0, : , 1]\n",
        "b[0,...]\n"
      ],
      "metadata": {
        "colab": {
          "base_uri": "https://localhost:8080/"
        },
        "id": "JReEnH-4cmG1",
        "outputId": "58f6f8a1-e803-4403-c513-9f7d80c5e69b"
      },
      "execution_count": null,
      "outputs": [
        {
          "output_type": "execute_result",
          "data": {
            "text/plain": [
              "array([[ 0,  1,  2,  3],\n",
              "       [ 4,  5,  6,  7],\n",
              "       [ 8,  9, 10, 11]])"
            ]
          },
          "metadata": {},
          "execution_count": 13
        }
      ]
    }
  ]
}