{
  "nbformat": 4,
  "nbformat_minor": 0,
  "metadata": {
    "colab": {
      "provenance": [],
      "authorship_tag": "ABX9TyN2rsXPyU3n5HFXTj+BeKR+",
      "include_colab_link": true
    },
    "kernelspec": {
      "name": "python3",
      "display_name": "Python 3"
    },
    "language_info": {
      "name": "python"
    }
  },
  "cells": [
    {
      "cell_type": "markdown",
      "metadata": {
        "id": "view-in-github",
        "colab_type": "text"
      },
      "source": [
        "<a href=\"https://colab.research.google.com/github/jasen8651/python001/blob/master/%EB%8F%99%EC%A0%81%EB%8D%B0%EC%9D%B4%ED%84%B0%EC%B2%98%EB%A6%AC.ipynb\" target=\"_parent\"><img src=\"https://colab.research.google.com/assets/colab-badge.svg\" alt=\"Open In Colab\"/></a>"
      ]
    },
    {
      "cell_type": "code",
      "execution_count": null,
      "metadata": {
        "id": "kWiIamv92Aq0"
      },
      "outputs": [],
      "source": [
        "#selenium : 웹 어플리케이션 자동 테스트 도구, \n",
        "#!pip install selenium\n",
        "#참고 사이트 https://www.selenium.dev/documentation/webdriver/getting_started/upgrade_to_selenium_4/\n"
      ]
    },
    {
      "cell_type": "code",
      "source": [
        "#설치\n",
        "!pip install selenium\n",
        "\n",
        "#!pip install selenium\n",
        "\n",
        "# 특정 버전 설치\n",
        "#!pip install selenium==4.4.3\n",
        "\n",
        "#selenium  v4\n",
        "#!pip install webdriver-manager\n",
        "\n",
        "#구글코랩 selenium4\n",
        "!apt-get update\n",
        "!apt install chromium-chromedriver\n",
        "!cp /usr/lib/chromium-browser/chromedriver /usr/bin\n",
        "\n",
        "#구글 드라이브 연결\n",
        "from google.colab import drive\n",
        "drive.mount('/content/dirve')\n",
        "%cd /content/dirve/MyDrive/python_demo"
      ],
      "metadata": {
        "id": "9EcQV5Fj3zJI"
      },
      "execution_count": null,
      "outputs": []
    },
    {
      "cell_type": "code",
      "source": [
        "import requests\n",
        "from bs4 import BeautifulSoup\n",
        "import time\n",
        "from datetime import datetime\n",
        "\n",
        "from selenium import webdriver\n",
        "\n",
        "from selenium.webdriver.common.by import By\n",
        "\n",
        "from selenium.webdriver.support.ui import WebDriverWait \n",
        "from selenium.webdriver.support import expected_conditions as EC\n",
        "from selenium.webdriver.common.keys import Keys\n",
        "\n",
        "\n",
        "\n",
        "#Colab에선 웹브라우저 창이 뜨지 않으므로 별도 설정한다.\n",
        "options = webdriver.ChromeOptions()\n",
        "options.add_argument('--headless')        # Head-less 설정\n",
        "options.add_argument('--no-sandbox')\n",
        "options.add_argument('--disable-dev-shm-usage')\n",
        "driver = webdriver.Chrome('chromedriver', options=options)"
      ],
      "metadata": {
        "id": "OuHscNgD6BjU"
      },
      "execution_count": 31,
      "outputs": []
    },
    {
      "cell_type": "code",
      "source": [
        "#네이버에서 아이디가 1개인 검색어 입력\n",
        "url = 'https://www.naver.com/'\n",
        "driver.get(url)"
      ],
      "metadata": {
        "id": "8C1WWEiF6kVz"
      },
      "execution_count": null,
      "outputs": []
    },
    {
      "cell_type": "code",
      "source": [
        "#print(driver.page_source)\n",
        "\n",
        "#print(type(driver.page_source))\n",
        "\n",
        "inputSearch = driver.find_element(By.ID, 'query')\n",
        "print(inputSearch)\n",
        "print(dir(inputSearch))\n",
        "\n",
        "#검색어\n",
        "inputSearch.send_keys('오버로드')\n",
        "#버튼\n",
        "#id\n",
        "buttonSearch = driver.find_element(By.ID, 'search_btn')\n",
        "print(inputSearch.get_attribute('value'))\n",
        "#클릭\n",
        "buttonSearch.click()"
      ],
      "metadata": {
        "colab": {
          "base_uri": "https://localhost:8080/"
        },
        "id": "u49EpywoArdw",
        "outputId": "8afe6071-9dcd-4c2e-89c7-ba8a30ca331d"
      },
      "execution_count": null,
      "outputs": [
        {
          "output_type": "stream",
          "name": "stdout",
          "text": [
            "<selenium.webdriver.remote.webelement.WebElement (session=\"662c32e1a28389adc55427c152a1ad85\", element=\"c60cb71c-8200-4802-9577-8175f0790afb\")>\n",
            "['__abstractmethods__', '__class__', '__delattr__', '__dict__', '__dir__', '__doc__', '__eq__', '__format__', '__ge__', '__getattribute__', '__gt__', '__hash__', '__init__', '__init_subclass__', '__le__', '__lt__', '__module__', '__ne__', '__new__', '__reduce__', '__reduce_ex__', '__repr__', '__setattr__', '__sizeof__', '__str__', '__subclasshook__', '__weakref__', '_abc_impl', '_execute', '_id', '_parent', '_upload', 'accessible_name', 'aria_role', 'clear', 'click', 'find_element', 'find_elements', 'get_attribute', 'get_dom_attribute', 'get_property', 'id', 'is_displayed', 'is_enabled', 'is_selected', 'location', 'location_once_scrolled_into_view', 'parent', 'rect', 'screenshot', 'screenshot_as_base64', 'screenshot_as_png', 'send_keys', 'shadow_root', 'size', 'submit', 'tag_name', 'text', 'value_of_css_property']\n",
            "오버로드\n"
          ]
        }
      ]
    },
    {
      "cell_type": "code",
      "source": [
        "#구글\n",
        "url = 'https://www.google.com/'\n",
        "driver.get(url)"
      ],
      "metadata": {
        "id": "HBHY81OXEFqF"
      },
      "execution_count": null,
      "outputs": []
    },
    {
      "cell_type": "code",
      "source": [
        "btns = driver.find_element(By.CLASS_NAME, 'gLFyf')\n",
        "btns.send_keys('오버로드')\n",
        "\n",
        "print(btns.get_attribute('value'))\n",
        "btns.submit()\n"
      ],
      "metadata": {
        "colab": {
          "base_uri": "https://localhost:8080/"
        },
        "id": "7AvKAyfyEcLU",
        "outputId": "f629c96f-1f44-4cc9-d8bc-9b7dd80af195"
      },
      "execution_count": null,
      "outputs": [
        {
          "output_type": "stream",
          "name": "stdout",
          "text": [
            "오버로드\n"
          ]
        }
      ]
    },
    {
      "cell_type": "code",
      "source": [
        "#다음\n",
        "url = 'https://www.daum.net/'\n",
        "driver.get(url)\n",
        "\n",
        "#여러개 \n",
        "ahtml = driver.find_element(By.CSS_SELECTOR, '.menu_service > ul > li:nth-child(4) a')\n",
        "print(ahtml.text)\n",
        "ahtml.click()"
      ],
      "metadata": {
        "id": "A_YIAqwLFdcS",
        "colab": {
          "base_uri": "https://localhost:8080/"
        },
        "outputId": "023ee10e-fde6-4e0c-8ce9-b56f4dc16f09"
      },
      "execution_count": 24,
      "outputs": [
        {
          "output_type": "stream",
          "name": "stdout",
          "text": [
            "지도\n"
          ]
        }
      ]
    },
    {
      "cell_type": "code",
      "source": [
        "url = 'https://www.naver.com/'\n",
        "driver.get(url)\n",
        "\n"
      ],
      "metadata": {
        "id": "zgRbdbi8IHks"
      },
      "execution_count": null,
      "outputs": []
    },
    {
      "cell_type": "code",
      "source": [
        "url = 'https://www.naver.com/'\n",
        "driver.get(url)\n",
        "\n",
        "\n",
        "news = driver.find_element(By.CSS_SELECTOR, '#NM_FAVORITE > div.group_nav > ul.list_nav.NM_FAVORITE_LIST > li:nth-child(2) > a.nav')\n",
        "print(news.text)\n",
        "news.click()\n",
        "\n",
        "div_cjs_list = driver.find_elements(By.CSS_SELECTOR, 'div.cjs_journal_wrap._item_contents div.cjs_news_tw > div.cjs_t')\n",
        "print(len(div_cjs_list))\n",
        "\n",
        "for element_cjs in div_cjs_list:\n",
        " print(element_cjs.text)\n"
      ],
      "metadata": {
        "id": "KjoZqRDeKB9_"
      },
      "execution_count": null,
      "outputs": []
    },
    {
      "cell_type": "code",
      "source": [
        "from selenium.webdriver.wpewebkit.webdriver import WebDriver\n",
        "# 시간창 대기 3가지 tiem.sleep: 지정시간이 지나면 다음 작업 진행/ implicity_wait : 지정시간 만큼 기다림 그 이후 기다리지 않음/ explicit_WAITS : 특정상태가 될때까지 기다리고 상태가 되면 진행\n",
        "# 무조건 지정된 시간만큼  대기\n",
        "\n",
        "driver.implicitly_wait(5)\n",
        "url = 'https://www.daum.net/'\n",
        "driver.get(url)\n",
        "\n",
        "#검색 버튼 누르는데 5초 만 기다림\n",
        "button = WebDriverWait(driver,5).until(EC.presence_of_element_located((By.CSS_SELECTOR, '.menu_service > ul > li:nth-child(4) > a')))\n",
        "print(button.text)\n",
        "button.click()"
      ],
      "metadata": {
        "colab": {
          "base_uri": "https://localhost:8080/"
        },
        "id": "LeYaKcqeQojU",
        "outputId": "4651dd70-850d-44d0-962d-7e3f58b11ba2"
      },
      "execution_count": null,
      "outputs": [
        {
          "output_type": "stream",
          "name": "stdout",
          "text": [
            "지도\n"
          ]
        }
      ]
    },
    {
      "cell_type": "code",
      "source": [
        "url = 'https://www.daum.net/'\n",
        "driver.get(url)\n",
        "\n",
        "next = driver.find_element(By.XPATH, '//*[@id=\"inner_login\"]')\n",
        "next.click()\n",
        "\n",
        "inputid = driver.find_element(By.ID, 'input-loginKey')\n",
        "intputpwd = driver.find_element(By.ID, 'input-password')\n",
        "\n",
        "time.sleep(3)\n",
        "inputid.send_keys('01055868651')\n",
        "intputpwd.send_keys('jasen@1226')\n",
        "login = driver.find_element(By.CLASS_NAME, 'btn_g.highlight')\n",
        "login.click()\n",
        "\n"
      ],
      "metadata": {
        "id": "epKt7EtXWhWl"
      },
      "execution_count": 32,
      "outputs": []
    },
    {
      "cell_type": "code",
      "source": [
        "![이미지]('https://t1.daumcdn.net/daumtop_chanel/op/20200723055344399.png')"
      ],
      "metadata": {
        "colab": {
          "base_uri": "https://localhost:8080/"
        },
        "id": "-32U80k0US55",
        "outputId": "587a1ffe-bdfe-487e-89ec-85d3d6390a2b"
      },
      "execution_count": 41,
      "outputs": [
        {
          "output_type": "stream",
          "name": "stdout",
          "text": [
            "/bin/bash: -c: line 0: syntax error near unexpected token `'https://t1.daumcdn.net/daumtop_chanel/op/20200723055344399.png''\n",
            "/bin/bash: -c: line 0: `[이미지]('https://t1.daumcdn.net/daumtop_chanel/op/20200723055344399.png')'\n"
          ]
        }
      ]
    },
    {
      "cell_type": "code",
      "source": [
        "from selenium.webdriver.wpewebkit.webdriver import WebDriver\n",
        "# 무조건 지정된 time만큼 대기\n",
        "# time.sleep(5)  #5초까지 기다려 준다.\n",
        " \n",
        "# 5초 driver.implicitly_wait(5)의 경우,  페이지가 2초만에 로딩된다면,\n",
        "# 5초를 기다리지 않고 바로 다음 코드로 넘어간다.\n",
        "driver.implicitly_wait(5)\n",
        " \n",
        " \n",
        "url = 'https://www.daum.net/'\n",
        "driver.get(url)\n",
        " \n",
        "# 검색 버튼을 찾아서 누를건데, 최대 5초까지만 기다리겠다는 의미\n",
        "button = WebDriverWait(driver, 5).until(EC.presence_of_element_located((By.CSS_SELECTOR, '.menu_service > ul > li:nth-child(4) > a')))\n",
        "print(button.text)\n",
        " \n",
        " \n",
        " \n",
        "button = WebDriverWait(driver, 5).until(EC.presence_of_element_located((By.CLASS_NAME, 'link_basis')))\n",
        "print(button.text)\n",
        "button.click()\n",
        " \n",
        "button3 = WebDriverWait(driver, 5).until(EC.presence_of_element_located((By.CLASS_NAME, 'fst.link_mail')))\n",
        "print(button3.text)\n",
        "button3.click()\n",
        " \n",
        " \n",
        "url=\"https://drive.google.com/file/d/1I8faWeRQS_Nf4vwDImH5ih40Q-vq97Kh/view?usp=share_link\" \n",
        "path='https://drive.google.com/uc?export=download&id='+url.split('/')[-2]\n",
        "size=\"width=\\\"\\\" \"+\"height =\\\"\\\" \"\n",
        "tag=\"<img src='\"+path+\"' \"+size+\"/><br>\"\n",
        "print(\" ▶ Path : \", path)\n",
        "print('\\n',\"▶ Tag : \", tag)\n",
        " \n",
        "\n",
        "\n"
      ],
      "metadata": {
        "colab": {
          "base_uri": "https://localhost:8080/"
        },
        "id": "NhTw-i2qOPCB",
        "outputId": "1b6da48a-41b1-4668-827e-92921cbd9db3"
      },
      "execution_count": 49,
      "outputs": [
        {
          "output_type": "stream",
          "name": "stdout",
          "text": [
            "지도\n",
            "메일\n",
            "전체\n",
            " ▶ Path :  https://drive.google.com/uc?export=download&id=1I8faWeRQS_Nf4vwDImH5ih40Q-vq97Kh\n",
            "\n",
            " ▶ Tag :  <img src='https://drive.google.com/uc?export=download&id=1I8faWeRQS_Nf4vwDImH5ih40Q-vq97Kh' width=\"\" height =\"\" /><br>\n"
          ]
        }
      ]
    },
    {
      "cell_type": "markdown",
      "source": [
        "![parser](https://drive.google.com/uc?export=download&id=1I8faWeRQS_Nf4vwDImH5ih40Q-vq97Kh)"
      ],
      "metadata": {
        "id": "4lqlZ6S_pAa5"
      }
    },
    {
      "cell_type": "code",
      "source": [
        "![parser](https://drive.google.com/uc?export=download&id=1I8faWeRQS_Nf4vwDImH5ih40Q-vq97Kh)"
      ],
      "metadata": {
        "colab": {
          "base_uri": "https://localhost:8080/"
        },
        "id": "-8mVfR6aelHJ",
        "outputId": "99dbecaf-1c0b-4195-b23a-dddee7f0ced6"
      },
      "execution_count": 50,
      "outputs": [
        {
          "output_type": "stream",
          "name": "stdout",
          "text": [
            "/bin/bash: -c: line 0: syntax error near unexpected token `https://drive.google.com/uc?export=download'\n",
            "/bin/bash: -c: line 0: `[parser](https://drive.google.com/uc?export=download&id=1I8faWeRQS_Nf4vwDImH5ih40Q-vq97Kh)'\n"
          ]
        }
      ]
    }
  ]
}