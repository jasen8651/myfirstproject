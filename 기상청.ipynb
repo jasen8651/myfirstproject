{
  "nbformat": 4,
  "nbformat_minor": 0,
  "metadata": {
    "colab": {
      "provenance": [],
      "authorship_tag": "ABX9TyNo/ZyJXUJUtP0lo+1g6SIp",
      "include_colab_link": true
    },
    "kernelspec": {
      "name": "python3",
      "display_name": "Python 3"
    },
    "language_info": {
      "name": "python"
    }
  },
  "cells": [
    {
      "cell_type": "markdown",
      "metadata": {
        "id": "view-in-github",
        "colab_type": "text"
      },
      "source": [
        "<a href=\"https://colab.research.google.com/github/jasen8651/python001/blob/master/%EA%B8%B0%EC%83%81%EC%B2%AD.ipynb\" target=\"_parent\"><img src=\"https://colab.research.google.com/assets/colab-badge.svg\" alt=\"Open In Colab\"/></a>"
      ]
    },
    {
      "cell_type": "markdown",
      "source": [],
      "metadata": {
        "id": "mInozoQBcD9Z"
      }
    },
    {
      "cell_type": "code",
      "source": [
        "!pip install xmltodict"
      ],
      "metadata": {
        "colab": {
          "base_uri": "https://localhost:8080/"
        },
        "id": "aOhrTF85cDth",
        "outputId": "18ce270a-ea44-497e-b7b7-59dbd8e78ed7"
      },
      "execution_count": null,
      "outputs": [
        {
          "output_type": "stream",
          "name": "stdout",
          "text": [
            "Looking in indexes: https://pypi.org/simple, https://us-python.pkg.dev/colab-wheels/public/simple/\n",
            "Collecting xmltodict\n",
            "  Downloading xmltodict-0.13.0-py2.py3-none-any.whl (10.0 kB)\n",
            "Installing collected packages: xmltodict\n",
            "Successfully installed xmltodict-0.13.0\n"
          ]
        }
      ]
    },
    {
      "cell_type": "code",
      "execution_count": null,
      "metadata": {
        "colab": {
          "base_uri": "https://localhost:8080/"
        },
        "id": "0hF1tORZalmp",
        "outputId": "350f75aa-afa1-490d-bf6e-348e034fea73"
      },
      "outputs": [
        {
          "output_type": "stream",
          "name": "stdout",
          "text": [
            "Drive already mounted at /content/dirve; to attempt to forcibly remount, call drive.mount(\"/content/dirve\", force_remount=True).\n",
            "/content/dirve/MyDrive/python_demo\n"
          ]
        }
      ],
      "source": [
        "\n",
        "import requests\n",
        "import xmltodict\n",
        "import json\n",
        "\n",
        "from google.colab import drive\n",
        "drive.mount('/content/dirve')\n",
        "%cd /content/dirve/MyDrive/python_demo"
      ]
    },
    {
      "cell_type": "code",
      "source": [
        "url = 'http://apis.data.go.kr/1360000/TourStnInfoService/getTourStnVilageFcst'\n",
        "params ={'serviceKey' : 'ody0NMom4lkbktSlfx1qhPpwW/ujTweJDhIjdKzPgZ8bInrzWDUU5ZRYk9DsJ38FV37L/coHEqyrLa31slAYfA==', 'pageNo' : '1', 'numOfRows' : '10', 'dataType' : 'XML', 'CURRENT_DATE' : '2019122010', 'HOUR' : '24', 'COURSE_ID' : '1' }\n",
        "\n",
        "response = requests.get(url, params=params)\n",
        "print(response.content)\n",
        "\n",
        "print(response.text)"
      ],
      "metadata": {
        "colab": {
          "base_uri": "https://localhost:8080/"
        },
        "id": "d01EBio8a9ay",
        "outputId": "81899fa7-efb5-4c32-de76-7d70de93211a"
      },
      "execution_count": null,
      "outputs": [
        {
          "output_type": "stream",
          "name": "stdout",
          "text": [
            "b'<?xml version=\"1.0\" encoding=\"UTF-8\"?>\\r\\n<response><header><resultCode>00</resultCode><resultMsg>NORMAL_SERVICE</resultMsg></header><body><dataType>XML</dataType><items><item><tm>2019-12-22 09:00</tm><thema>\\xeb\\xac\\xb8\\xed\\x99\\x94/\\xec\\x98\\x88\\xec\\x88\\xa0</thema><courseId>1</courseId><courseAreaId>4700000000</courseAreaId><courseAreaName>\\xea\\xb2\\xbd\\xec\\x83\\x81\\xeb\\xb6\\x81\\xeb\\x8f\\x84</courseAreaName><courseName>\\xeb\\x82\\xa8\\xed\\x98\\xb8\\xea\\xb3\\xa0\\xed\\x83\\x9d\\xec\\x97\\x90\\xec\\x84\\x9c\\xec\\x9d\\x98 \\xed\\x95\\x98\\xeb\\xa3\\xbb\\xeb\\xb0\\xa4</courseName><spotAreaId>102</spotAreaId><spotAreaName>\\xeb\\xb4\\x89\\xed\\x99\\x94</spotAreaName><spotName>(\\xeb\\xb4\\x89\\xed\\x99\\x94)\\xec\\xb6\\x98\\xec\\x96\\x91\\xeb\\xaa\\xa9 \\xec\\x86\\xa1\\xec\\x9d\\xb4\\xeb\\xa7\\x88\\xec\\x9d\\x84</spotName><th3>-2</th3><wd>297</wd><ws>0</ws><sky>3</sky><rhm>90</rhm><pop>20</pop></item><item><tm>2019-12-22 09:00</tm><thema>\\xec\\xa2\\x85\\xea\\xb5\\x90/\\xec\\x97\\xad\\xec\\x82\\xac/\\xec\\xa0\\x84\\xed\\x86\\xb5</thema><courseId>1</courseId><courseAreaId>4700000000</courseAreaId><courseAreaName>\\xea\\xb2\\xbd\\xec\\x83\\x81\\xeb\\xb6\\x81\\xeb\\x8f\\x84</courseAreaName><courseName>\\xeb\\x82\\xa8\\xed\\x98\\xb8\\xea\\xb3\\xa0\\xed\\x83\\x9d\\xec\\x97\\x90\\xec\\x84\\x9c\\xec\\x9d\\x98 \\xed\\x95\\x98\\xeb\\xa3\\xbb\\xeb\\xb0\\xa4</courseName><spotAreaId>104</spotAreaId><spotAreaName>\\xeb\\xb4\\x89\\xed\\x99\\x94</spotAreaName><spotName>(\\xeb\\xb4\\x89\\xed\\x99\\x94)\\xea\\xb3\\x84\\xec\\x84\\x9c\\xeb\\x8b\\xb9(\\xec\\x84\\xb1\\xec\\x9d\\xb4\\xec\\x84\\xb1 \\xec\\x83\\x9d\\xea\\xb0\\x80)</spotName><th3>0</th3><wd>310</wd><ws>0</ws><sky>3</sky><rhm>85</rhm><pop>20</pop></item><item><tm>2019-12-22 09:00</tm><thema>\\xec\\x9e\\x90\\xec\\x97\\xb0/\\xed\\x9e\\x90\\xeb\\xa7\\x81</thema><courseId>1</courseId><courseAreaId>4700000000</courseAreaId><courseAreaName>\\xea\\xb2\\xbd\\xec\\x83\\x81\\xeb\\xb6\\x81\\xeb\\x8f\\x84</courseAreaName><courseName>\\xeb\\x82\\xa8\\xed\\x98\\xb8\\xea\\xb3\\xa0\\xed\\x83\\x9d\\xec\\x97\\x90\\xec\\x84\\x9c\\xec\\x9d\\x98 \\xed\\x95\\x98\\xeb\\xa3\\xbb\\xeb\\xb0\\xa4</courseName><spotAreaId>104</spotAreaId><spotAreaName>\\xeb\\xb4\\x89\\xed\\x99\\x94</spotAreaName><spotName>(\\xeb\\xb4\\x89\\xed\\x99\\x94)\\xea\\xb3\\x84\\xec\\x84\\x9c\\xeb\\x8b\\xb9(\\xec\\x84\\xb1\\xec\\x9d\\xb4\\xec\\x84\\xb1 \\xec\\x83\\x9d\\xea\\xb0\\x80)</spotName><th3>0</th3><wd>310</wd><ws>0</ws><sky>3</sky><rhm>85</rhm><pop>20</pop></item><item><tm>2019-12-22 09:00</tm><thema>\\xec\\xb2\\xb4\\xed\\x97\\x98/\\xed\\x95\\x99\\xec\\x8a\\xb5/\\xec\\x82\\xb0\\xec\\x97\\x85</thema><courseId>1</courseId><courseAreaId>4700000000</courseAreaId><courseAreaName>\\xea\\xb2\\xbd\\xec\\x83\\x81\\xeb\\xb6\\x81\\xeb\\x8f\\x84</courseAreaName><courseName>\\xeb\\x82\\xa8\\xed\\x98\\xb8\\xea\\xb3\\xa0\\xed\\x83\\x9d\\xec\\x97\\x90\\xec\\x84\\x9c\\xec\\x9d\\x98 \\xed\\x95\\x98\\xeb\\xa3\\xbb\\xeb\\xb0\\xa4</courseName><spotAreaId>104</spotAreaId><spotAreaName>\\xeb\\xb4\\x89\\xed\\x99\\x94</spotAreaName><spotName>(\\xeb\\xb4\\x89\\xed\\x99\\x94)\\xea\\xb3\\x84\\xec\\x84\\x9c\\xeb\\x8b\\xb9(\\xec\\x84\\xb1\\xec\\x9d\\xb4\\xec\\x84\\xb1 \\xec\\x83\\x9d\\xea\\xb0\\x80)</spotName><th3>0</th3><wd>310</wd><ws>0</ws><sky>3</sky><rhm>85</rhm><pop>20</pop></item><item><tm>2019-12-22 09:00</tm><thema>\\xeb\\xac\\xb8\\xed\\x99\\x94/\\xec\\x98\\x88\\xec\\x88\\xa0</thema><courseId>1</courseId><courseAreaId>4700000000</courseAreaId><courseAreaName>\\xea\\xb2\\xbd\\xec\\x83\\x81\\xeb\\xb6\\x81\\xeb\\x8f\\x84</courseAreaName><courseName>\\xeb\\x82\\xa8\\xed\\x98\\xb8\\xea\\xb3\\xa0\\xed\\x83\\x9d\\xec\\x97\\x90\\xec\\x84\\x9c\\xec\\x9d\\x98 \\xed\\x95\\x98\\xeb\\xa3\\xbb\\xeb\\xb0\\xa4</courseName><spotAreaId>103</spotAreaId><spotAreaName>\\xeb\\xb4\\x89\\xed\\x99\\x94</spotAreaName><spotName>(\\xeb\\xb4\\x89\\xed\\x99\\x94)\\xec\\xa7\\x80\\xeb\\xa6\\xbc\\xec\\x82\\xac</spotName><th3>0</th3><wd>309</wd><ws>0</ws><sky>3</sky><rhm>85</rhm><pop>20</pop></item><item><tm>2019-12-22 09:00</tm><thema>\\xec\\xa2\\x85\\xea\\xb5\\x90/\\xec\\x97\\xad\\xec\\x82\\xac/\\xec\\xa0\\x84\\xed\\x86\\xb5</thema><courseId>1</courseId><courseAreaId>4700000000</courseAreaId><courseAreaName>\\xea\\xb2\\xbd\\xec\\x83\\x81\\xeb\\xb6\\x81\\xeb\\x8f\\x84</courseAreaName><courseName>\\xeb\\x82\\xa8\\xed\\x98\\xb8\\xea\\xb3\\xa0\\xed\\x83\\x9d\\xec\\x97\\x90\\xec\\x84\\x9c\\xec\\x9d\\x98 \\xed\\x95\\x98\\xeb\\xa3\\xbb\\xeb\\xb0\\xa4</courseName><spotAreaId>103</spotAreaId><spotAreaName>\\xeb\\xb4\\x89\\xed\\x99\\x94</spotAreaName><spotName>(\\xeb\\xb4\\x89\\xed\\x99\\x94)\\xec\\xa7\\x80\\xeb\\xa6\\xbc\\xec\\x82\\xac</spotName><th3>0</th3><wd>309</wd><ws>0</ws><sky>3</sky><rhm>85</rhm><pop>20</pop></item><item><tm>2019-12-22 09:00</tm><thema>\\xec\\x9e\\x90\\xec\\x97\\xb0/\\xed\\x9e\\x90\\xeb\\xa7\\x81</thema><courseId>1</courseId><courseAreaId>4700000000</courseAreaId><courseAreaName>\\xea\\xb2\\xbd\\xec\\x83\\x81\\xeb\\xb6\\x81\\xeb\\x8f\\x84</courseAreaName><courseName>\\xeb\\x82\\xa8\\xed\\x98\\xb8\\xea\\xb3\\xa0\\xed\\x83\\x9d\\xec\\x97\\x90\\xec\\x84\\x9c\\xec\\x9d\\x98 \\xed\\x95\\x98\\xeb\\xa3\\xbb\\xeb\\xb0\\xa4</courseName><spotAreaId>103</spotAreaId><spotAreaName>\\xeb\\xb4\\x89\\xed\\x99\\x94</spotAreaName><spotName>(\\xeb\\xb4\\x89\\xed\\x99\\x94)\\xec\\xa7\\x80\\xeb\\xa6\\xbc\\xec\\x82\\xac</spotName><th3>0</th3><wd>309</wd><ws>0</ws><sky>3</sky><rhm>85</rhm><pop>20</pop></item><item><tm>2019-12-22 09:00</tm><thema>\\xec\\xb2\\xb4\\xed\\x97\\x98/\\xed\\x95\\x99\\xec\\x8a\\xb5/\\xec\\x82\\xb0\\xec\\x97\\x85</thema><courseId>1</courseId><courseAreaId>4700000000</courseAreaId><courseAreaName>\\xea\\xb2\\xbd\\xec\\x83\\x81\\xeb\\xb6\\x81\\xeb\\x8f\\x84</courseAreaName><courseName>\\xeb\\x82\\xa8\\xed\\x98\\xb8\\xea\\xb3\\xa0\\xed\\x83\\x9d\\xec\\x97\\x90\\xec\\x84\\x9c\\xec\\x9d\\x98 \\xed\\x95\\x98\\xeb\\xa3\\xbb\\xeb\\xb0\\xa4</courseName><spotAreaId>103</spotAreaId><spotAreaName>\\xeb\\xb4\\x89\\xed\\x99\\x94</spotAreaName><spotName>(\\xeb\\xb4\\x89\\xed\\x99\\x94)\\xec\\xa7\\x80\\xeb\\xa6\\xbc\\xec\\x82\\xac</spotName><th3>0</th3><wd>309</wd><ws>0</ws><sky>3</sky><rhm>85</rhm><pop>20</pop></item><item><tm>2019-12-22 09:00</tm><thema>\\xeb\\xac\\xb8\\xed\\x99\\x94/\\xec\\x98\\x88\\xec\\x88\\xa0</thema><courseId>1</courseId><courseAreaId>4700000000</courseAreaId><courseAreaName>\\xea\\xb2\\xbd\\xec\\x83\\x81\\xeb\\xb6\\x81\\xeb\\x8f\\x84</courseAreaName><courseName>\\xeb\\x82\\xa8\\xed\\x98\\xb8\\xea\\xb3\\xa0\\xed\\x83\\x9d\\xec\\x97\\x90\\xec\\x84\\x9c\\xec\\x9d\\x98 \\xed\\x95\\x98\\xeb\\xa3\\xbb\\xeb\\xb0\\xa4</courseName><spotAreaId>104</spotAreaId><spotAreaName>\\xeb\\xb4\\x89\\xed\\x99\\x94</spotAreaName><spotName>(\\xeb\\xb4\\x89\\xed\\x99\\x94)\\xea\\xb3\\x84\\xec\\x84\\x9c\\xeb\\x8b\\xb9(\\xec\\x84\\xb1\\xec\\x9d\\xb4\\xec\\x84\\xb1 \\xec\\x83\\x9d\\xea\\xb0\\x80)</spotName><th3>0</th3><wd>310</wd><ws>0</ws><sky>3</sky><rhm>85</rhm><pop>20</pop></item><item><tm>2019-12-22 09:00</tm><thema>\\xec\\xa2\\x85\\xea\\xb5\\x90/\\xec\\x97\\xad\\xec\\x82\\xac/\\xec\\xa0\\x84\\xed\\x86\\xb5</thema><courseId>1</courseId><courseAreaId>4700000000</courseAreaId><courseAreaName>\\xea\\xb2\\xbd\\xec\\x83\\x81\\xeb\\xb6\\x81\\xeb\\x8f\\x84</courseAreaName><courseName>\\xeb\\x82\\xa8\\xed\\x98\\xb8\\xea\\xb3\\xa0\\xed\\x83\\x9d\\xec\\x97\\x90\\xec\\x84\\x9c\\xec\\x9d\\x98 \\xed\\x95\\x98\\xeb\\xa3\\xbb\\xeb\\xb0\\xa4</courseName><spotAreaId>102</spotAreaId><spotAreaName>\\xeb\\xb4\\x89\\xed\\x99\\x94</spotAreaName><spotName>(\\xeb\\xb4\\x89\\xed\\x99\\x94)\\xec\\xb6\\x98\\xec\\x96\\x91\\xeb\\xaa\\xa9 \\xec\\x86\\xa1\\xec\\x9d\\xb4\\xeb\\xa7\\x88\\xec\\x9d\\x84</spotName><th3>-2</th3><wd>297</wd><ws>0</ws><sky>3</sky><rhm>90</rhm><pop>20</pop></item></items><numOfRows>10</numOfRows><pageNo>1</pageNo><totalCount>256</totalCount></body></response>\\r\\n'\n",
            "<?xml version=\"1.0\" encoding=\"UTF-8\"?>\r\n",
            "<response><header><resultCode>00</resultCode><resultMsg>NORMAL_SERVICE</resultMsg></header><body><dataType>XML</dataType><items><item><tm>2019-12-22 09:00</tm><thema>문화/예술</thema><courseId>1</courseId><courseAreaId>4700000000</courseAreaId><courseAreaName>경상북도</courseAreaName><courseName>남호고택에서의 하룻밤</courseName><spotAreaId>102</spotAreaId><spotAreaName>봉화</spotAreaName><spotName>(봉화)춘양목 송이마을</spotName><th3>-2</th3><wd>297</wd><ws>0</ws><sky>3</sky><rhm>90</rhm><pop>20</pop></item><item><tm>2019-12-22 09:00</tm><thema>종교/역사/전통</thema><courseId>1</courseId><courseAreaId>4700000000</courseAreaId><courseAreaName>경상북도</courseAreaName><courseName>남호고택에서의 하룻밤</courseName><spotAreaId>104</spotAreaId><spotAreaName>봉화</spotAreaName><spotName>(봉화)계서당(성이성 생가)</spotName><th3>0</th3><wd>310</wd><ws>0</ws><sky>3</sky><rhm>85</rhm><pop>20</pop></item><item><tm>2019-12-22 09:00</tm><thema>자연/힐링</thema><courseId>1</courseId><courseAreaId>4700000000</courseAreaId><courseAreaName>경상북도</courseAreaName><courseName>남호고택에서의 하룻밤</courseName><spotAreaId>104</spotAreaId><spotAreaName>봉화</spotAreaName><spotName>(봉화)계서당(성이성 생가)</spotName><th3>0</th3><wd>310</wd><ws>0</ws><sky>3</sky><rhm>85</rhm><pop>20</pop></item><item><tm>2019-12-22 09:00</tm><thema>체험/학습/산업</thema><courseId>1</courseId><courseAreaId>4700000000</courseAreaId><courseAreaName>경상북도</courseAreaName><courseName>남호고택에서의 하룻밤</courseName><spotAreaId>104</spotAreaId><spotAreaName>봉화</spotAreaName><spotName>(봉화)계서당(성이성 생가)</spotName><th3>0</th3><wd>310</wd><ws>0</ws><sky>3</sky><rhm>85</rhm><pop>20</pop></item><item><tm>2019-12-22 09:00</tm><thema>문화/예술</thema><courseId>1</courseId><courseAreaId>4700000000</courseAreaId><courseAreaName>경상북도</courseAreaName><courseName>남호고택에서의 하룻밤</courseName><spotAreaId>103</spotAreaId><spotAreaName>봉화</spotAreaName><spotName>(봉화)지림사</spotName><th3>0</th3><wd>309</wd><ws>0</ws><sky>3</sky><rhm>85</rhm><pop>20</pop></item><item><tm>2019-12-22 09:00</tm><thema>종교/역사/전통</thema><courseId>1</courseId><courseAreaId>4700000000</courseAreaId><courseAreaName>경상북도</courseAreaName><courseName>남호고택에서의 하룻밤</courseName><spotAreaId>103</spotAreaId><spotAreaName>봉화</spotAreaName><spotName>(봉화)지림사</spotName><th3>0</th3><wd>309</wd><ws>0</ws><sky>3</sky><rhm>85</rhm><pop>20</pop></item><item><tm>2019-12-22 09:00</tm><thema>자연/힐링</thema><courseId>1</courseId><courseAreaId>4700000000</courseAreaId><courseAreaName>경상북도</courseAreaName><courseName>남호고택에서의 하룻밤</courseName><spotAreaId>103</spotAreaId><spotAreaName>봉화</spotAreaName><spotName>(봉화)지림사</spotName><th3>0</th3><wd>309</wd><ws>0</ws><sky>3</sky><rhm>85</rhm><pop>20</pop></item><item><tm>2019-12-22 09:00</tm><thema>체험/학습/산업</thema><courseId>1</courseId><courseAreaId>4700000000</courseAreaId><courseAreaName>경상북도</courseAreaName><courseName>남호고택에서의 하룻밤</courseName><spotAreaId>103</spotAreaId><spotAreaName>봉화</spotAreaName><spotName>(봉화)지림사</spotName><th3>0</th3><wd>309</wd><ws>0</ws><sky>3</sky><rhm>85</rhm><pop>20</pop></item><item><tm>2019-12-22 09:00</tm><thema>문화/예술</thema><courseId>1</courseId><courseAreaId>4700000000</courseAreaId><courseAreaName>경상북도</courseAreaName><courseName>남호고택에서의 하룻밤</courseName><spotAreaId>104</spotAreaId><spotAreaName>봉화</spotAreaName><spotName>(봉화)계서당(성이성 생가)</spotName><th3>0</th3><wd>310</wd><ws>0</ws><sky>3</sky><rhm>85</rhm><pop>20</pop></item><item><tm>2019-12-22 09:00</tm><thema>종교/역사/전통</thema><courseId>1</courseId><courseAreaId>4700000000</courseAreaId><courseAreaName>경상북도</courseAreaName><courseName>남호고택에서의 하룻밤</courseName><spotAreaId>102</spotAreaId><spotAreaName>봉화</spotAreaName><spotName>(봉화)춘양목 송이마을</spotName><th3>-2</th3><wd>297</wd><ws>0</ws><sky>3</sky><rhm>90</rhm><pop>20</pop></item></items><numOfRows>10</numOfRows><pageNo>1</pageNo><totalCount>256</totalCount></body></response>\r\n",
            "\n"
          ]
        }
      ]
    },
    {
      "cell_type": "code",
      "source": [
        "if response.status_code ==200 :\n",
        "  xd = xmltodict.parse(response.text)\n",
        "  print(type(xd))"
      ],
      "metadata": {
        "colab": {
          "base_uri": "https://localhost:8080/"
        },
        "id": "bkr_smnVbgeC",
        "outputId": "23599829-3b64-4e17-ea3a-f52fd432c089"
      },
      "execution_count": null,
      "outputs": [
        {
          "output_type": "stream",
          "name": "stdout",
          "text": [
            "<class 'dict'>\n"
          ]
        }
      ]
    },
    {
      "cell_type": "code",
      "source": [
        "w_data = xd['response']['body']['items']['item']\n",
        "print(w_data)"
      ],
      "metadata": {
        "id": "56NI0o9YdYrh"
      },
      "execution_count": null,
      "outputs": []
    },
    {
      "cell_type": "code",
      "source": [
        "dict_sky ={'1': '맑음', '2':'구름', '3':'흐림', '4':'비', '5':'소나기','6':'비눈', '7':'눈비','8':'눈'}\n",
        "\n",
        "key_sky = w_data[0]['sky']\n",
        "print('기상상태:' + dict_sky[key_sky])"
      ],
      "metadata": {
        "colab": {
          "base_uri": "https://localhost:8080/"
        },
        "id": "xykL_-TVemiS",
        "outputId": "b5c6459b-fd30-4034-c0fd-5d27c6dfb444"
      },
      "execution_count": null,
      "outputs": [
        {
          "output_type": "stream",
          "name": "stdout",
          "text": [
            "기상상태:흐림\n"
          ]
        }
      ]
    },
    {
      "cell_type": "code",
      "source": [
        "#필터\n",
        "for i in range(len(w_data)):\n",
        "  print('관광지명 :'+ w_data[i]['spotAreaName'])\n",
        "  print('시간 :'+ w_data[i]['tm'])\n",
        "  print('기온 :'+ w_data[i]['th3'])\n",
        "  print('강수량 :'+ w_data[i]['pop'])\n",
        "  key_sky =w_data[i]['sky']\n",
        "  print('기상상태 :'+ dict_sky[key_sky])\n",
        "\n",
        "\n",
        "  #총 아이템 수\n",
        "  totalCount = xd['response']['body']['totalCount']\n",
        "  print('totalCount:'+ totalCount)"
      ],
      "metadata": {
        "colab": {
          "base_uri": "https://localhost:8080/"
        },
        "id": "0b5w7A16fg0J",
        "outputId": "6be7cfca-2e2f-469d-c68e-9a2aec95a119"
      },
      "execution_count": null,
      "outputs": [
        {
          "output_type": "stream",
          "name": "stdout",
          "text": [
            "관광지명 :봉화\n",
            "시간 :2019-12-22 09:00\n",
            "기온 :-2\n",
            "강수량 :20\n",
            "기상상태 :흐림\n",
            "totalCount:256\n",
            "관광지명 :봉화\n",
            "시간 :2019-12-22 09:00\n",
            "기온 :0\n",
            "강수량 :20\n",
            "기상상태 :흐림\n",
            "totalCount:256\n",
            "관광지명 :봉화\n",
            "시간 :2019-12-22 09:00\n",
            "기온 :0\n",
            "강수량 :20\n",
            "기상상태 :흐림\n",
            "totalCount:256\n",
            "관광지명 :봉화\n",
            "시간 :2019-12-22 09:00\n",
            "기온 :0\n",
            "강수량 :20\n",
            "기상상태 :흐림\n",
            "totalCount:256\n",
            "관광지명 :봉화\n",
            "시간 :2019-12-22 09:00\n",
            "기온 :0\n",
            "강수량 :20\n",
            "기상상태 :흐림\n",
            "totalCount:256\n",
            "관광지명 :봉화\n",
            "시간 :2019-12-22 09:00\n",
            "기온 :0\n",
            "강수량 :20\n",
            "기상상태 :흐림\n",
            "totalCount:256\n",
            "관광지명 :봉화\n",
            "시간 :2019-12-22 09:00\n",
            "기온 :0\n",
            "강수량 :20\n",
            "기상상태 :흐림\n",
            "totalCount:256\n",
            "관광지명 :봉화\n",
            "시간 :2019-12-22 09:00\n",
            "기온 :0\n",
            "강수량 :20\n",
            "기상상태 :흐림\n",
            "totalCount:256\n",
            "관광지명 :봉화\n",
            "시간 :2019-12-22 09:00\n",
            "기온 :0\n",
            "강수량 :20\n",
            "기상상태 :흐림\n",
            "totalCount:256\n",
            "관광지명 :봉화\n",
            "시간 :2019-12-22 09:00\n",
            "기온 :-2\n",
            "강수량 :20\n",
            "기상상태 :흐림\n",
            "totalCount:256\n"
          ]
        }
      ]
    }
  ]
}