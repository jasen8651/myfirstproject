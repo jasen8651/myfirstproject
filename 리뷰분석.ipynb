{
  "nbformat": 4,
  "nbformat_minor": 0,
  "metadata": {
    "colab": {
      "provenance": [],
      "authorship_tag": "ABX9TyOGJGPmivxvnEGOVnDcMHsc",
      "include_colab_link": true
    },
    "kernelspec": {
      "name": "python3",
      "display_name": "Python 3"
    },
    "language_info": {
      "name": "python"
    }
  },
  "cells": [
    {
      "cell_type": "markdown",
      "metadata": {
        "id": "view-in-github",
        "colab_type": "text"
      },
      "source": [
        "<a href=\"https://colab.research.google.com/github/jasen8651/python001/blob/master/%EB%A6%AC%EB%B7%B0%EB%B6%84%EC%84%9D.ipynb\" target=\"_parent\"><img src=\"https://colab.research.google.com/assets/colab-badge.svg\" alt=\"Open In Colab\"/></a>"
      ]
    },
    {
      "cell_type": "code",
      "execution_count": null,
      "metadata": {
        "colab": {
          "base_uri": "https://localhost:8080/"
        },
        "id": "NSnKMa38bddq",
        "outputId": "e3868d63-e872-4a47-8621-58462469c34a"
      },
      "outputs": [
        {
          "output_type": "stream",
          "name": "stdout",
          "text": [
            "Mounted at /content/drive\n",
            "/content/drive/MyDrive/python_demo\n"
          ]
        }
      ],
      "source": [
        "## 구글 드라이브 연결\n",
        "from google.colab import drive\n",
        "drive.mount('/content/drive')\n",
        "\n",
        "#  경로 변경\n",
        "%cd /content/drive/MyDrive/python_demo"
      ]
    },
    {
      "cell_type": "code",
      "source": [
        "!pip install konlpy \n",
        "!pip install pytagcloud\n",
        "!pip install simplejson"
      ],
      "metadata": {
        "colab": {
          "base_uri": "https://localhost:8080/"
        },
        "id": "FngSHQVrbwp5",
        "outputId": "6fdfed96-2d22-4b89-ee25-af08d0493e28"
      },
      "execution_count": null,
      "outputs": [
        {
          "output_type": "stream",
          "name": "stdout",
          "text": [
            "Looking in indexes: https://pypi.org/simple, https://us-python.pkg.dev/colab-wheels/public/simple/\n",
            "Collecting konlpy\n",
            "  Downloading konlpy-0.6.0-py2.py3-none-any.whl (19.4 MB)\n",
            "\u001b[2K     \u001b[90m━━━━━━━━━━━━━━━━━━━━━━━━━━━━━━━━━━━━━━━━\u001b[0m \u001b[32m19.4/19.4 MB\u001b[0m \u001b[31m26.3 MB/s\u001b[0m eta \u001b[36m0:00:00\u001b[0m\n",
            "\u001b[?25hRequirement already satisfied: lxml>=4.1.0 in /usr/local/lib/python3.8/dist-packages (from konlpy) (4.9.2)\n",
            "Collecting JPype1>=0.7.0\n",
            "  Downloading JPype1-1.4.1-cp38-cp38-manylinux_2_12_x86_64.manylinux2010_x86_64.whl (465 kB)\n",
            "\u001b[2K     \u001b[90m━━━━━━━━━━━━━━━━━━━━━━━━━━━━━━━━━━━━━━\u001b[0m \u001b[32m465.6/465.6 KB\u001b[0m \u001b[31m17.2 MB/s\u001b[0m eta \u001b[36m0:00:00\u001b[0m\n",
            "\u001b[?25hRequirement already satisfied: numpy>=1.6 in /usr/local/lib/python3.8/dist-packages (from konlpy) (1.22.4)\n",
            "Requirement already satisfied: packaging in /usr/local/lib/python3.8/dist-packages (from JPype1>=0.7.0->konlpy) (23.0)\n",
            "Installing collected packages: JPype1, konlpy\n",
            "Successfully installed JPype1-1.4.1 konlpy-0.6.0\n",
            "Looking in indexes: https://pypi.org/simple, https://us-python.pkg.dev/colab-wheels/public/simple/\n",
            "Collecting pytagcloud\n",
            "  Downloading pytagcloud-0.3.5.tar.gz (754 kB)\n",
            "\u001b[2K     \u001b[90m━━━━━━━━━━━━━━━━━━━━━━━━━━━━━━━━━━━━━━\u001b[0m \u001b[32m754.7/754.7 KB\u001b[0m \u001b[31m34.6 MB/s\u001b[0m eta \u001b[36m0:00:00\u001b[0m\n",
            "\u001b[?25h  Preparing metadata (setup.py) ... \u001b[?25l\u001b[?25hdone\n",
            "Building wheels for collected packages: pytagcloud\n",
            "  Building wheel for pytagcloud (setup.py) ... \u001b[?25l\u001b[?25hdone\n",
            "  Created wheel for pytagcloud: filename=pytagcloud-0.3.5-py3-none-any.whl size=759868 sha256=c568c6b03d6b2c04dbeb702a3ddbf6121016adb773124fea929b198c5174eba8\n",
            "  Stored in directory: /root/.cache/pip/wheels/be/9b/7d/911eafd2b3a1ab76aafb0d5929e7aede8db74f5436af7a2b9e\n",
            "Successfully built pytagcloud\n",
            "Installing collected packages: pytagcloud\n",
            "Successfully installed pytagcloud-0.3.5\n",
            "Looking in indexes: https://pypi.org/simple, https://us-python.pkg.dev/colab-wheels/public/simple/\n",
            "Collecting simplejson\n",
            "  Downloading simplejson-3.18.3-cp38-cp38-manylinux_2_5_x86_64.manylinux1_x86_64.manylinux_2_17_x86_64.manylinux2014_x86_64.whl (135 kB)\n",
            "\u001b[2K     \u001b[90m━━━━━━━━━━━━━━━━━━━━━━━━━━━━━━━━━━━━━━\u001b[0m \u001b[32m135.5/135.5 KB\u001b[0m \u001b[31m13.3 MB/s\u001b[0m eta \u001b[36m0:00:00\u001b[0m\n",
            "\u001b[?25hInstalling collected packages: simplejson\n",
            "Successfully installed simplejson-3.18.3\n"
          ]
        }
      ]
    },
    {
      "cell_type": "code",
      "source": [
        "# 기본\n",
        "import pandas as pd\n",
        "import numpy as np\n",
        "import matplotlib.pyplot as plt\n",
        "import seaborn as sns\n",
        "import re\n",
        "import openpyxl\n",
        "\n",
        "\n",
        "# 경고 뜨지 않게 설정\n",
        "import warnings\n",
        "warnings.filterwarnings('ignore')\n",
        "\n",
        "# 그래프 설정\n",
        "plt.rcParams['font.family'] = 'Malgun Gothic'\n",
        "# plt.rcParams['font.family'] = 'AppleGothic'\n",
        "plt.rcParams['font.size'] = 16\n",
        "plt.rcParams['figure.figsize'] = 20, 10\n",
        "plt.rcParams['axes.unicode_minus'] = False\n",
        "\n",
        "# 데이터 전처리 알고리즘\n",
        "from sklearn.preprocessing import LabelEncoder\n",
        "from sklearn.preprocessing import StandardScaler\n",
        "\n",
        "# 학습용과 검증용으로 나누는 함수\n",
        "from sklearn.model_selection import train_test_split\n",
        "\n",
        "# 교차 검증\n",
        "# 지표를 하나만 설정할 경우\n",
        "from sklearn.model_selection import cross_val_score\n",
        "# 지표를 하나 이상 설정할 경우\n",
        "from sklearn.model_selection import cross_validate\n",
        "from sklearn.model_selection import KFold\n",
        "from sklearn.model_selection import StratifiedKFold\n",
        "\n",
        "# 모델의 최적의 하이퍼파라미터를 찾기 위한 도구\n",
        "from sklearn.model_selection import GridSearchCV\n",
        "\n",
        "# 평가함수\n",
        "# 분류용\n",
        "from sklearn.metrics import accuracy_score\n",
        "from sklearn.metrics import precision_score\n",
        "from sklearn.metrics import recall_score\n",
        "from sklearn.metrics import f1_score\n",
        "from sklearn.metrics import roc_auc_score\n",
        "\n",
        "# 회귀용\n",
        "from sklearn.metrics import r2_score\n",
        "from sklearn.metrics import mean_squared_error\n",
        "\n",
        "# 머신러닝 알고리즘 - 분류\n",
        "from sklearn.neighbors import KNeighborsClassifier\n",
        "from sklearn.linear_model import LogisticRegression\n",
        "from sklearn.svm import SVC\n",
        "from sklearn.tree import DecisionTreeClassifier\n",
        "from sklearn.ensemble import RandomForestClassifier\n",
        "from sklearn.ensemble import AdaBoostClassifier\n",
        "from sklearn.ensemble import GradientBoostingClassifier\n",
        "from lightgbm import LGBMClassifier\n",
        "from xgboost import XGBClassifier\n",
        "from sklearn.ensemble import VotingClassifier\n",
        "\n",
        "# 머신러닝 알고리즘 - 회귀\n",
        "from sklearn.neighbors import KNeighborsRegressor\n",
        "from sklearn.linear_model import LinearRegression\n",
        "from sklearn.linear_model import Ridge\n",
        "from sklearn.linear_model import Lasso\n",
        "from sklearn.linear_model import ElasticNet\n",
        "from sklearn.svm import SVR\n",
        "from sklearn.tree import DecisionTreeRegressor\n",
        "from sklearn.ensemble import RandomForestRegressor\n",
        "from sklearn.ensemble import AdaBoostRegressor\n",
        "from sklearn.ensemble import GradientBoostingRegressor\n",
        "from lightgbm import LGBMRegressor\n",
        "from xgboost import XGBRegressor\n",
        "from sklearn.ensemble import VotingRegressor\n",
        "\n",
        "# 차원축소\n",
        "from sklearn.decomposition import PCA\n",
        "from sklearn.discriminant_analysis import LinearDiscriminantAnalysis\n",
        "\n",
        "# 군집화\n",
        "from sklearn.cluster import KMeans\n",
        "from sklearn.cluster import MeanShift\n",
        "from sklearn.cluster import estimate_bandwidth\n",
        "\n",
        "\n",
        "\n",
        "# ARIMA (시계열 예측)\n",
        "from statsmodels.tsa.arima_model import ARIMA\n",
        "import statsmodels.api as sm\n",
        "\n",
        "\n",
        "# 시간 측정을 위한 시간 모듈\n",
        "import datetime\n",
        "\n",
        "# 주식정보\n",
        "from pandas_datareader import data\n",
        "\n",
        "# 형태소 벡터를 생성하기 위한 라이브러리\n",
        "from sklearn.feature_extraction.text import CountVectorizer\n",
        "# 형태소 벡터를 학습 벡터로 변환한다.\n",
        "from sklearn.feature_extraction.text import TfidfTransformer\n",
        "\n",
        "\n",
        "# 데이터 수집\n",
        "import requests\n",
        "from bs4 import BeautifulSoup\n",
        "import re\n",
        "import time\n",
        "import os\n",
        "import json\n",
        "\n",
        "# 한국어 형태소 분석\n",
        "from konlpy.tag import Okt, Hannanum, Kkma, Mecab, Komoran\n",
        "\n",
        "\n",
        "\n",
        "# 저장\n",
        "import pickle"
      ],
      "metadata": {
        "id": "9TK0ZChybpHZ"
      },
      "execution_count": null,
      "outputs": []
    },
    {
      "cell_type": "code",
      "source": [
        "import pickle\n",
        "import pandas as pd\n",
        "import numpy as np\n",
        "import matplotlib.pyplot as plt\n",
        "import re\n",
        "import urllib.request\n",
        "from konlpy.tag import Okt\n",
        "from tqdm import tqdm\n",
        "from tensorflow.keras.preprocessing.text import Tokenizer\n",
        "from tensorflow.keras.preprocessing.sequence import pad_sequences"
      ],
      "metadata": {
        "id": "Dj_uhwTMb4Ep"
      },
      "execution_count": null,
      "outputs": []
    },
    {
      "cell_type": "code",
      "source": [
        "#데이터 읽기 \n",
        "# df = pd.read_csv(\"/content/drive/MyDrive/python_demo/리뷰정보크롤링긍정부정.csv\", encoding='cp949')\n",
        "# df\n",
        "df = pd.read_csv(\"/content/drive/MyDrive/python_demo/pdsample/숙소정보크롤링0227.csv\", encoding='cp949')\n",
        "df"
      ],
      "metadata": {
        "colab": {
          "base_uri": "https://localhost:8080/",
          "height": 1000
        },
        "id": "52O3EeI-b6cR",
        "outputId": "ab229aa5-4309-4e23-ff63-599945b0ae2c"
      },
      "execution_count": null,
      "outputs": [
        {
          "output_type": "execute_result",
          "data": {
            "text/plain": [
              "      AC_ID     AC_NAME                AC_TYPE_NUMBER  AC_TYPE_NAME  \\\n",
              "0         0       24208                       제주 T무인텔             1   \n",
              "1         1       24993              제주 한림 이쁜새이쁘게노래하고             1   \n",
              "2         2       26406                         제주 JM             1   \n",
              "3         3       26412  제주 Fantastic Oceanview 시드니호텔             1   \n",
              "4         4       26442                         제주 하루             1   \n",
              "...     ...         ...                           ...           ...   \n",
              "1536   1536  1000123163                    제주 달콤한아침펜션             3   \n",
              "1537   1537  1000123573                    제주 다님독채풀빌라             3   \n",
              "1538   1538  1000123574                제주 알프스인소길스테이펜션             3   \n",
              "1539   1539  1000123575                    서귀포 제주애풀빌라             3   \n",
              "1540   1540  1000123595                    제주 애월애휴양펜션             3   \n",
              "\n",
              "     AC_CHECK_IN AC_CHECK_OUT AC_PHONE_NUMBER    AC_ADDRESS  \\\n",
              "0          Motel        18:00           12:00  5.035050e+10   \n",
              "1          Motel        15:00           11:00  5.035050e+10   \n",
              "2          Motel        14:00           12:00           NaN   \n",
              "3          Motel        15:00           11:00  5.035050e+10   \n",
              "4          Motel        15:00           12:00  5.035053e+10   \n",
              "...          ...          ...             ...           ...   \n",
              "1536     Pension        17:00           10:00  5.035059e+10   \n",
              "1537     Pension        16:00           11:00  5.035059e+10   \n",
              "1538     Pension        16:00           11:00  5.035059e+10   \n",
              "1539     Pension        16:00           11:00  5.035059e+10   \n",
              "1540     Pension        15:00           11:00  5.035059e+10   \n",
              "\n",
              "                 AC_ADDRESS_MAIN AC_ADDRESS_MIDDLE AD_ADDRESS_SUB  \\\n",
              "0       제주특별자치도 제주시 조천읍 남조로 2393               제주시            조천읍   \n",
              "1       제주특별자치도 제주시 한림읍 협재로 68-5               제주시            한림읍   \n",
              "2         제주특별자치도 제주시 삼무로1길 10-7               제주시            삼무로   \n",
              "3      제주특별자치도 제주시 애월읍 애월해안로 943               제주시            애월읍   \n",
              "4            제주특별자치도 제주시 삼무로1길 3               제주시            삼무로   \n",
              "...                          ...               ...            ...   \n",
              "1536    제주특별자치도 제주시 구좌읍 행원로 35-9               제주시            구좌읍   \n",
              "1537         제주특별자치도 제주시 영평5길 68               제주시           영평5길   \n",
              "1538     제주특별자치도 제주시 애월읍 소길남길 22              서귀포시            애월읍   \n",
              "1539  제주특별자치도 서귀포시 안덕면 소기왓로 79-1               제주시            안덕면   \n",
              "1540     제주특별자치도 제주시 애월읍 신엄1길 12               NaN            애월읍   \n",
              "\n",
              "       AC_LONGITUDE  AC_LATITUDE  AC_THUMBNAIL  \\\n",
              "0      한림읍 협재로 68-5   126.246960     33.392206   \n",
              "1        삼무로1길 10-7   126.488756     33.490385   \n",
              "2     애월읍 애월해안로 943   126.395764     33.483672   \n",
              "3           삼무로1길 3   126.489540     33.491116   \n",
              "4      사장1길 26 (연동)   126.492900     33.485324   \n",
              "...             ...          ...           ...   \n",
              "1536        영평5길 68   126.578177     33.484781   \n",
              "1537    애월읍 소길남길 22   126.378132     33.432721   \n",
              "1538  안덕면 소기왓로 79-1   126.368743     33.241566   \n",
              "1539    애월읍 신엄1길 12   126.358504     33.468967   \n",
              "1540            NaN          NaN           NaN   \n",
              "\n",
              "                                        AC_NOTIFICATION  \\\n",
              "0     https://yaimg.yanolja.com/v5/2018/09/10/16/640...   \n",
              "1     https://yaimg.yanolja.com/resize/place/v4/2017...   \n",
              "2     https://yaimg.yanolja.com/v5/2021/12/24/10/640...   \n",
              "3     https://yaimg.yanolja.com/v5/2019/11/27/11/640...   \n",
              "4     https://yaimg.yanolja.com/v5/2022/03/15/13/640...   \n",
              "...                                                 ...   \n",
              "1536  https://yaimg.yanolja.com/v5/2023/01/02/10/640...   \n",
              "1537  https://yaimg.yanolja.com/v5/2023/01/10/10/640...   \n",
              "1538  https://yaimg.yanolja.com/v5/2023/02/20/11/640...   \n",
              "1539  https://yaimg.yanolja.com/v5/2023/01/10/10/640...   \n",
              "1540  https://yaimg.yanolja.com/v5/2023/02/07/01/640...   \n",
              "\n",
              "                            AC_INFORMATION  \\\n",
              "0                                      NaN   \n",
              "1     15평 원룸 객실 (크리스탈, 토파즈, 루비)는 객실 지정이 불가   \n",
              "2                                      NaN   \n",
              "3                                      NaN   \n",
              "4                                      NaN   \n",
              "...                                    ...   \n",
              "1536                                   NaN   \n",
              "1537                                   NaN   \n",
              "1538                                   NaN   \n",
              "1539                                   NaN   \n",
              "1540                                   NaN   \n",
              "\n",
              "                                                  ac_dd  \n",
              "0                                                   NaN  \n",
              "1                                                   NaN  \n",
              "2                                                   NaN  \n",
              "3     1. 최대인원 이상의 인원추가는 불가합니다.\\n2. 기준인원 초과 시 추가요금이 발...  \n",
              "4     이용 6일전 오후3시 이전 취소 요청시 100%\\n이용 5일전 오후3시 이전 취소 ...  \n",
              "...                                                 ...  \n",
              "1536  옥상에서 바다 감상 가능 / 빔프로젝터 / 조식 / 월정리 해수욕장 도보 5분 / ...  \n",
              "1537                                                NaN  \n",
              "1538                                                NaN  \n",
              "1539                                                NaN  \n",
              "1540  개별 바베큐 /단독 독채 / 오션뷰 / 객실 내 무료 Wi-Fi / 반려동물 동반가...  \n",
              "\n",
              "[1541 rows x 17 columns]"
            ],
            "text/html": [
              "\n",
              "  <div id=\"df-2e45b1eb-dbca-495e-826f-757169d055f3\">\n",
              "    <div class=\"colab-df-container\">\n",
              "      <div>\n",
              "<style scoped>\n",
              "    .dataframe tbody tr th:only-of-type {\n",
              "        vertical-align: middle;\n",
              "    }\n",
              "\n",
              "    .dataframe tbody tr th {\n",
              "        vertical-align: top;\n",
              "    }\n",
              "\n",
              "    .dataframe thead th {\n",
              "        text-align: right;\n",
              "    }\n",
              "</style>\n",
              "<table border=\"1\" class=\"dataframe\">\n",
              "  <thead>\n",
              "    <tr style=\"text-align: right;\">\n",
              "      <th></th>\n",
              "      <th>AC_ID</th>\n",
              "      <th>AC_NAME</th>\n",
              "      <th>AC_TYPE_NUMBER</th>\n",
              "      <th>AC_TYPE_NAME</th>\n",
              "      <th>AC_CHECK_IN</th>\n",
              "      <th>AC_CHECK_OUT</th>\n",
              "      <th>AC_PHONE_NUMBER</th>\n",
              "      <th>AC_ADDRESS</th>\n",
              "      <th>AC_ADDRESS_MAIN</th>\n",
              "      <th>AC_ADDRESS_MIDDLE</th>\n",
              "      <th>AD_ADDRESS_SUB</th>\n",
              "      <th>AC_LONGITUDE</th>\n",
              "      <th>AC_LATITUDE</th>\n",
              "      <th>AC_THUMBNAIL</th>\n",
              "      <th>AC_NOTIFICATION</th>\n",
              "      <th>AC_INFORMATION</th>\n",
              "      <th>ac_dd</th>\n",
              "    </tr>\n",
              "  </thead>\n",
              "  <tbody>\n",
              "    <tr>\n",
              "      <th>0</th>\n",
              "      <td>0</td>\n",
              "      <td>24208</td>\n",
              "      <td>제주 T무인텔</td>\n",
              "      <td>1</td>\n",
              "      <td>Motel</td>\n",
              "      <td>18:00</td>\n",
              "      <td>12:00</td>\n",
              "      <td>5.035050e+10</td>\n",
              "      <td>제주특별자치도 제주시 조천읍 남조로 2393</td>\n",
              "      <td>제주시</td>\n",
              "      <td>조천읍</td>\n",
              "      <td>한림읍 협재로 68-5</td>\n",
              "      <td>126.246960</td>\n",
              "      <td>33.392206</td>\n",
              "      <td>https://yaimg.yanolja.com/v5/2018/09/10/16/640...</td>\n",
              "      <td>NaN</td>\n",
              "      <td>NaN</td>\n",
              "    </tr>\n",
              "    <tr>\n",
              "      <th>1</th>\n",
              "      <td>1</td>\n",
              "      <td>24993</td>\n",
              "      <td>제주 한림 이쁜새이쁘게노래하고</td>\n",
              "      <td>1</td>\n",
              "      <td>Motel</td>\n",
              "      <td>15:00</td>\n",
              "      <td>11:00</td>\n",
              "      <td>5.035050e+10</td>\n",
              "      <td>제주특별자치도 제주시 한림읍 협재로 68-5</td>\n",
              "      <td>제주시</td>\n",
              "      <td>한림읍</td>\n",
              "      <td>삼무로1길 10-7</td>\n",
              "      <td>126.488756</td>\n",
              "      <td>33.490385</td>\n",
              "      <td>https://yaimg.yanolja.com/resize/place/v4/2017...</td>\n",
              "      <td>15평 원룸 객실 (크리스탈, 토파즈, 루비)는 객실 지정이 불가</td>\n",
              "      <td>NaN</td>\n",
              "    </tr>\n",
              "    <tr>\n",
              "      <th>2</th>\n",
              "      <td>2</td>\n",
              "      <td>26406</td>\n",
              "      <td>제주 JM</td>\n",
              "      <td>1</td>\n",
              "      <td>Motel</td>\n",
              "      <td>14:00</td>\n",
              "      <td>12:00</td>\n",
              "      <td>NaN</td>\n",
              "      <td>제주특별자치도 제주시 삼무로1길 10-7</td>\n",
              "      <td>제주시</td>\n",
              "      <td>삼무로</td>\n",
              "      <td>애월읍 애월해안로 943</td>\n",
              "      <td>126.395764</td>\n",
              "      <td>33.483672</td>\n",
              "      <td>https://yaimg.yanolja.com/v5/2021/12/24/10/640...</td>\n",
              "      <td>NaN</td>\n",
              "      <td>NaN</td>\n",
              "    </tr>\n",
              "    <tr>\n",
              "      <th>3</th>\n",
              "      <td>3</td>\n",
              "      <td>26412</td>\n",
              "      <td>제주 Fantastic Oceanview 시드니호텔</td>\n",
              "      <td>1</td>\n",
              "      <td>Motel</td>\n",
              "      <td>15:00</td>\n",
              "      <td>11:00</td>\n",
              "      <td>5.035050e+10</td>\n",
              "      <td>제주특별자치도 제주시 애월읍 애월해안로 943</td>\n",
              "      <td>제주시</td>\n",
              "      <td>애월읍</td>\n",
              "      <td>삼무로1길 3</td>\n",
              "      <td>126.489540</td>\n",
              "      <td>33.491116</td>\n",
              "      <td>https://yaimg.yanolja.com/v5/2019/11/27/11/640...</td>\n",
              "      <td>NaN</td>\n",
              "      <td>1. 최대인원 이상의 인원추가는 불가합니다.\\n2. 기준인원 초과 시 추가요금이 발...</td>\n",
              "    </tr>\n",
              "    <tr>\n",
              "      <th>4</th>\n",
              "      <td>4</td>\n",
              "      <td>26442</td>\n",
              "      <td>제주 하루</td>\n",
              "      <td>1</td>\n",
              "      <td>Motel</td>\n",
              "      <td>15:00</td>\n",
              "      <td>12:00</td>\n",
              "      <td>5.035053e+10</td>\n",
              "      <td>제주특별자치도 제주시 삼무로1길 3</td>\n",
              "      <td>제주시</td>\n",
              "      <td>삼무로</td>\n",
              "      <td>사장1길 26 (연동)</td>\n",
              "      <td>126.492900</td>\n",
              "      <td>33.485324</td>\n",
              "      <td>https://yaimg.yanolja.com/v5/2022/03/15/13/640...</td>\n",
              "      <td>NaN</td>\n",
              "      <td>이용 6일전 오후3시 이전 취소 요청시 100%\\n이용 5일전 오후3시 이전 취소 ...</td>\n",
              "    </tr>\n",
              "    <tr>\n",
              "      <th>...</th>\n",
              "      <td>...</td>\n",
              "      <td>...</td>\n",
              "      <td>...</td>\n",
              "      <td>...</td>\n",
              "      <td>...</td>\n",
              "      <td>...</td>\n",
              "      <td>...</td>\n",
              "      <td>...</td>\n",
              "      <td>...</td>\n",
              "      <td>...</td>\n",
              "      <td>...</td>\n",
              "      <td>...</td>\n",
              "      <td>...</td>\n",
              "      <td>...</td>\n",
              "      <td>...</td>\n",
              "      <td>...</td>\n",
              "      <td>...</td>\n",
              "    </tr>\n",
              "    <tr>\n",
              "      <th>1536</th>\n",
              "      <td>1536</td>\n",
              "      <td>1000123163</td>\n",
              "      <td>제주 달콤한아침펜션</td>\n",
              "      <td>3</td>\n",
              "      <td>Pension</td>\n",
              "      <td>17:00</td>\n",
              "      <td>10:00</td>\n",
              "      <td>5.035059e+10</td>\n",
              "      <td>제주특별자치도 제주시 구좌읍 행원로 35-9</td>\n",
              "      <td>제주시</td>\n",
              "      <td>구좌읍</td>\n",
              "      <td>영평5길 68</td>\n",
              "      <td>126.578177</td>\n",
              "      <td>33.484781</td>\n",
              "      <td>https://yaimg.yanolja.com/v5/2023/01/02/10/640...</td>\n",
              "      <td>NaN</td>\n",
              "      <td>옥상에서 바다 감상 가능 / 빔프로젝터 / 조식 / 월정리 해수욕장 도보 5분 / ...</td>\n",
              "    </tr>\n",
              "    <tr>\n",
              "      <th>1537</th>\n",
              "      <td>1537</td>\n",
              "      <td>1000123573</td>\n",
              "      <td>제주 다님독채풀빌라</td>\n",
              "      <td>3</td>\n",
              "      <td>Pension</td>\n",
              "      <td>16:00</td>\n",
              "      <td>11:00</td>\n",
              "      <td>5.035059e+10</td>\n",
              "      <td>제주특별자치도 제주시 영평5길 68</td>\n",
              "      <td>제주시</td>\n",
              "      <td>영평5길</td>\n",
              "      <td>애월읍 소길남길 22</td>\n",
              "      <td>126.378132</td>\n",
              "      <td>33.432721</td>\n",
              "      <td>https://yaimg.yanolja.com/v5/2023/01/10/10/640...</td>\n",
              "      <td>NaN</td>\n",
              "      <td>NaN</td>\n",
              "    </tr>\n",
              "    <tr>\n",
              "      <th>1538</th>\n",
              "      <td>1538</td>\n",
              "      <td>1000123574</td>\n",
              "      <td>제주 알프스인소길스테이펜션</td>\n",
              "      <td>3</td>\n",
              "      <td>Pension</td>\n",
              "      <td>16:00</td>\n",
              "      <td>11:00</td>\n",
              "      <td>5.035059e+10</td>\n",
              "      <td>제주특별자치도 제주시 애월읍 소길남길 22</td>\n",
              "      <td>서귀포시</td>\n",
              "      <td>애월읍</td>\n",
              "      <td>안덕면 소기왓로 79-1</td>\n",
              "      <td>126.368743</td>\n",
              "      <td>33.241566</td>\n",
              "      <td>https://yaimg.yanolja.com/v5/2023/02/20/11/640...</td>\n",
              "      <td>NaN</td>\n",
              "      <td>NaN</td>\n",
              "    </tr>\n",
              "    <tr>\n",
              "      <th>1539</th>\n",
              "      <td>1539</td>\n",
              "      <td>1000123575</td>\n",
              "      <td>서귀포 제주애풀빌라</td>\n",
              "      <td>3</td>\n",
              "      <td>Pension</td>\n",
              "      <td>16:00</td>\n",
              "      <td>11:00</td>\n",
              "      <td>5.035059e+10</td>\n",
              "      <td>제주특별자치도 서귀포시 안덕면 소기왓로 79-1</td>\n",
              "      <td>제주시</td>\n",
              "      <td>안덕면</td>\n",
              "      <td>애월읍 신엄1길 12</td>\n",
              "      <td>126.358504</td>\n",
              "      <td>33.468967</td>\n",
              "      <td>https://yaimg.yanolja.com/v5/2023/01/10/10/640...</td>\n",
              "      <td>NaN</td>\n",
              "      <td>NaN</td>\n",
              "    </tr>\n",
              "    <tr>\n",
              "      <th>1540</th>\n",
              "      <td>1540</td>\n",
              "      <td>1000123595</td>\n",
              "      <td>제주 애월애휴양펜션</td>\n",
              "      <td>3</td>\n",
              "      <td>Pension</td>\n",
              "      <td>15:00</td>\n",
              "      <td>11:00</td>\n",
              "      <td>5.035059e+10</td>\n",
              "      <td>제주특별자치도 제주시 애월읍 신엄1길 12</td>\n",
              "      <td>NaN</td>\n",
              "      <td>애월읍</td>\n",
              "      <td>NaN</td>\n",
              "      <td>NaN</td>\n",
              "      <td>NaN</td>\n",
              "      <td>https://yaimg.yanolja.com/v5/2023/02/07/01/640...</td>\n",
              "      <td>NaN</td>\n",
              "      <td>개별 바베큐 /단독 독채 / 오션뷰 / 객실 내 무료 Wi-Fi / 반려동물 동반가...</td>\n",
              "    </tr>\n",
              "  </tbody>\n",
              "</table>\n",
              "<p>1541 rows × 17 columns</p>\n",
              "</div>\n",
              "      <button class=\"colab-df-convert\" onclick=\"convertToInteractive('df-2e45b1eb-dbca-495e-826f-757169d055f3')\"\n",
              "              title=\"Convert this dataframe to an interactive table.\"\n",
              "              style=\"display:none;\">\n",
              "        \n",
              "  <svg xmlns=\"http://www.w3.org/2000/svg\" height=\"24px\"viewBox=\"0 0 24 24\"\n",
              "       width=\"24px\">\n",
              "    <path d=\"M0 0h24v24H0V0z\" fill=\"none\"/>\n",
              "    <path d=\"M18.56 5.44l.94 2.06.94-2.06 2.06-.94-2.06-.94-.94-2.06-.94 2.06-2.06.94zm-11 1L8.5 8.5l.94-2.06 2.06-.94-2.06-.94L8.5 2.5l-.94 2.06-2.06.94zm10 10l.94 2.06.94-2.06 2.06-.94-2.06-.94-.94-2.06-.94 2.06-2.06.94z\"/><path d=\"M17.41 7.96l-1.37-1.37c-.4-.4-.92-.59-1.43-.59-.52 0-1.04.2-1.43.59L10.3 9.45l-7.72 7.72c-.78.78-.78 2.05 0 2.83L4 21.41c.39.39.9.59 1.41.59.51 0 1.02-.2 1.41-.59l7.78-7.78 2.81-2.81c.8-.78.8-2.07 0-2.86zM5.41 20L4 18.59l7.72-7.72 1.47 1.35L5.41 20z\"/>\n",
              "  </svg>\n",
              "      </button>\n",
              "      \n",
              "  <style>\n",
              "    .colab-df-container {\n",
              "      display:flex;\n",
              "      flex-wrap:wrap;\n",
              "      gap: 12px;\n",
              "    }\n",
              "\n",
              "    .colab-df-convert {\n",
              "      background-color: #E8F0FE;\n",
              "      border: none;\n",
              "      border-radius: 50%;\n",
              "      cursor: pointer;\n",
              "      display: none;\n",
              "      fill: #1967D2;\n",
              "      height: 32px;\n",
              "      padding: 0 0 0 0;\n",
              "      width: 32px;\n",
              "    }\n",
              "\n",
              "    .colab-df-convert:hover {\n",
              "      background-color: #E2EBFA;\n",
              "      box-shadow: 0px 1px 2px rgba(60, 64, 67, 0.3), 0px 1px 3px 1px rgba(60, 64, 67, 0.15);\n",
              "      fill: #174EA6;\n",
              "    }\n",
              "\n",
              "    [theme=dark] .colab-df-convert {\n",
              "      background-color: #3B4455;\n",
              "      fill: #D2E3FC;\n",
              "    }\n",
              "\n",
              "    [theme=dark] .colab-df-convert:hover {\n",
              "      background-color: #434B5C;\n",
              "      box-shadow: 0px 1px 3px 1px rgba(0, 0, 0, 0.15);\n",
              "      filter: drop-shadow(0px 1px 2px rgba(0, 0, 0, 0.3));\n",
              "      fill: #FFFFFF;\n",
              "    }\n",
              "  </style>\n",
              "\n",
              "      <script>\n",
              "        const buttonEl =\n",
              "          document.querySelector('#df-2e45b1eb-dbca-495e-826f-757169d055f3 button.colab-df-convert');\n",
              "        buttonEl.style.display =\n",
              "          google.colab.kernel.accessAllowed ? 'block' : 'none';\n",
              "\n",
              "        async function convertToInteractive(key) {\n",
              "          const element = document.querySelector('#df-2e45b1eb-dbca-495e-826f-757169d055f3');\n",
              "          const dataTable =\n",
              "            await google.colab.kernel.invokeFunction('convertToInteractive',\n",
              "                                                     [key], {});\n",
              "          if (!dataTable) return;\n",
              "\n",
              "          const docLinkHtml = 'Like what you see? Visit the ' +\n",
              "            '<a target=\"_blank\" href=https://colab.research.google.com/notebooks/data_table.ipynb>data table notebook</a>'\n",
              "            + ' to learn more about interactive tables.';\n",
              "          element.innerHTML = '';\n",
              "          dataTable['output_type'] = 'display_data';\n",
              "          await google.colab.output.renderOutput(dataTable, element);\n",
              "          const docLink = document.createElement('div');\n",
              "          docLink.innerHTML = docLinkHtml;\n",
              "          element.appendChild(docLink);\n",
              "        }\n",
              "      </script>\n",
              "    </div>\n",
              "  </div>\n",
              "  "
            ]
          },
          "metadata": {},
          "execution_count": 5
        }
      ]
    },
    {
      "cell_type": "code",
      "source": [
        "print('훈련용 리뷰 개수 :',len(df)) # 훈련용 리뷰 개수 출력"
      ],
      "metadata": {
        "colab": {
          "base_uri": "https://localhost:8080/"
        },
        "id": "jDZhxlUFcCbR",
        "outputId": "0937dc40-c035-4222-8910-068f29a327ef"
      },
      "execution_count": null,
      "outputs": [
        {
          "output_type": "stream",
          "name": "stdout",
          "text": [
            "훈련용 리뷰 개수 : 27603\n"
          ]
        }
      ]
    },
    {
      "cell_type": "code",
      "source": [
        "#한글 외 모든 글자 삭제\n",
        "# df[\"AC_ADDRESS_MIDDLE\"] = df[\"AC_ADDRESS_MIDDLE\"].str.replace(pat=r'[^\\w\\s]', repl=r'', regex=True)\n",
        "# df[\"AC_ADDRESS_MIDDLE\"] = df[\"AC_ADDRESS_MIDDLE\"].str.replace(pat=r'[\\r\\n]', repl=r' ', regex=True)\n",
        "df[\"ac_dd\"] = df[\"ac_dd\"].str.replace(pat=r'[\\r\\n]', repl=r' ', regex=True)\n",
        "\n"
      ],
      "metadata": {
        "id": "OSwtcHbjcE0z"
      },
      "execution_count": null,
      "outputs": []
    },
    {
      "cell_type": "code",
      "source": [
        "df.to_csv('숙소.csv',index=False,mode=\"a\")"
      ],
      "metadata": {
        "id": "gDcEbMfPoGxJ"
      },
      "execution_count": null,
      "outputs": []
    },
    {
      "cell_type": "code",
      "source": [
        "df"
      ],
      "metadata": {
        "colab": {
          "base_uri": "https://localhost:8080/",
          "height": 424
        },
        "id": "OVpuZAhMeBKR",
        "outputId": "15e2afeb-0f19-4830-e19f-6b8a92c8e60f"
      },
      "execution_count": null,
      "outputs": [
        {
          "output_type": "execute_result",
          "data": {
            "text/plain": [
              "       Unnamed: 0        숙소id       리뷰 작성자   리뷰 객실명  \\\n",
              "0               0       24208   미끌미끌붓꽃0082      일반실   \n",
              "1               1       24208        제주까망콩      일반실   \n",
              "2               2       24208       야재밌게놀자      일반실   \n",
              "3               3       24208   먹보어머어머0048      일반실   \n",
              "4               4       24208  순천만습지4박5일04      일반실   \n",
              "...           ...         ...          ...      ...   \n",
              "27598       27598  1000122715          김낑깡     402호   \n",
              "27599       27599  1000122715        한국인거리     302호   \n",
              "27600       27600  1000122715    핑크기찻길0044     402호   \n",
              "27601       27601  1000122715         은꽁이얌     302호   \n",
              "27602       27602  1000123163  보들보들풍접초0069  알녁 - 거리   \n",
              "\n",
              "                                                   리뷰 내용  리뷰 평점  y  \n",
              "0                                               깨끗하고 좋아요      5  1  \n",
              "1                                                   좋아요       5  1  \n",
              "2                                                 잘놀다갑니다      5  1  \n",
              "3      사장님 친절하시고 넷플릭스도 됩니다  이거 기재 해놓으시면 좋으실거 같아요  단골인...      5  1  \n",
              "4                                          목적지 근처여서 좋았네요      4  1  \n",
              "...                                                  ...    ... ..  \n",
              "27598  너무 깨끗하고 바다도 잘보이고 좋았습니다 사장님도 문자 답 빠르게 주시고 따뜻하고 ...      5  1  \n",
              "27599                                              아주좋아용      5  1  \n",
              "27600                              깨끗하고 기본 비품이 잘 준비돼어있어요      5  1  \n",
              "27601  사진으로 보는거보다 훨씬 좋아요 1층에는 카페가 있고 엘베타는 순간 와우 방 입구 ...      5  1  \n",
              "27602  월정리 해변에서 10분 정도 걸으면 나오는 숙소라 접근성이 좋았던것같아요 근데 딱 ...      5  1  \n",
              "\n",
              "[27603 rows x 7 columns]"
            ],
            "text/html": [
              "\n",
              "  <div id=\"df-468cc779-effc-4fbf-87b7-466047fe5970\">\n",
              "    <div class=\"colab-df-container\">\n",
              "      <div>\n",
              "<style scoped>\n",
              "    .dataframe tbody tr th:only-of-type {\n",
              "        vertical-align: middle;\n",
              "    }\n",
              "\n",
              "    .dataframe tbody tr th {\n",
              "        vertical-align: top;\n",
              "    }\n",
              "\n",
              "    .dataframe thead th {\n",
              "        text-align: right;\n",
              "    }\n",
              "</style>\n",
              "<table border=\"1\" class=\"dataframe\">\n",
              "  <thead>\n",
              "    <tr style=\"text-align: right;\">\n",
              "      <th></th>\n",
              "      <th>Unnamed: 0</th>\n",
              "      <th>숙소id</th>\n",
              "      <th>리뷰 작성자</th>\n",
              "      <th>리뷰 객실명</th>\n",
              "      <th>리뷰 내용</th>\n",
              "      <th>리뷰 평점</th>\n",
              "      <th>y</th>\n",
              "    </tr>\n",
              "  </thead>\n",
              "  <tbody>\n",
              "    <tr>\n",
              "      <th>0</th>\n",
              "      <td>0</td>\n",
              "      <td>24208</td>\n",
              "      <td>미끌미끌붓꽃0082</td>\n",
              "      <td>일반실</td>\n",
              "      <td>깨끗하고 좋아요</td>\n",
              "      <td>5</td>\n",
              "      <td>1</td>\n",
              "    </tr>\n",
              "    <tr>\n",
              "      <th>1</th>\n",
              "      <td>1</td>\n",
              "      <td>24208</td>\n",
              "      <td>제주까망콩</td>\n",
              "      <td>일반실</td>\n",
              "      <td>좋아요</td>\n",
              "      <td>5</td>\n",
              "      <td>1</td>\n",
              "    </tr>\n",
              "    <tr>\n",
              "      <th>2</th>\n",
              "      <td>2</td>\n",
              "      <td>24208</td>\n",
              "      <td>야재밌게놀자</td>\n",
              "      <td>일반실</td>\n",
              "      <td>잘놀다갑니다</td>\n",
              "      <td>5</td>\n",
              "      <td>1</td>\n",
              "    </tr>\n",
              "    <tr>\n",
              "      <th>3</th>\n",
              "      <td>3</td>\n",
              "      <td>24208</td>\n",
              "      <td>먹보어머어머0048</td>\n",
              "      <td>일반실</td>\n",
              "      <td>사장님 친절하시고 넷플릭스도 됩니다  이거 기재 해놓으시면 좋으실거 같아요  단골인...</td>\n",
              "      <td>5</td>\n",
              "      <td>1</td>\n",
              "    </tr>\n",
              "    <tr>\n",
              "      <th>4</th>\n",
              "      <td>4</td>\n",
              "      <td>24208</td>\n",
              "      <td>순천만습지4박5일04</td>\n",
              "      <td>일반실</td>\n",
              "      <td>목적지 근처여서 좋았네요</td>\n",
              "      <td>4</td>\n",
              "      <td>1</td>\n",
              "    </tr>\n",
              "    <tr>\n",
              "      <th>...</th>\n",
              "      <td>...</td>\n",
              "      <td>...</td>\n",
              "      <td>...</td>\n",
              "      <td>...</td>\n",
              "      <td>...</td>\n",
              "      <td>...</td>\n",
              "      <td>...</td>\n",
              "    </tr>\n",
              "    <tr>\n",
              "      <th>27598</th>\n",
              "      <td>27598</td>\n",
              "      <td>1000122715</td>\n",
              "      <td>김낑깡</td>\n",
              "      <td>402호</td>\n",
              "      <td>너무 깨끗하고 바다도 잘보이고 좋았습니다 사장님도 문자 답 빠르게 주시고 따뜻하고 ...</td>\n",
              "      <td>5</td>\n",
              "      <td>1</td>\n",
              "    </tr>\n",
              "    <tr>\n",
              "      <th>27599</th>\n",
              "      <td>27599</td>\n",
              "      <td>1000122715</td>\n",
              "      <td>한국인거리</td>\n",
              "      <td>302호</td>\n",
              "      <td>아주좋아용</td>\n",
              "      <td>5</td>\n",
              "      <td>1</td>\n",
              "    </tr>\n",
              "    <tr>\n",
              "      <th>27600</th>\n",
              "      <td>27600</td>\n",
              "      <td>1000122715</td>\n",
              "      <td>핑크기찻길0044</td>\n",
              "      <td>402호</td>\n",
              "      <td>깨끗하고 기본 비품이 잘 준비돼어있어요</td>\n",
              "      <td>5</td>\n",
              "      <td>1</td>\n",
              "    </tr>\n",
              "    <tr>\n",
              "      <th>27601</th>\n",
              "      <td>27601</td>\n",
              "      <td>1000122715</td>\n",
              "      <td>은꽁이얌</td>\n",
              "      <td>302호</td>\n",
              "      <td>사진으로 보는거보다 훨씬 좋아요 1층에는 카페가 있고 엘베타는 순간 와우 방 입구 ...</td>\n",
              "      <td>5</td>\n",
              "      <td>1</td>\n",
              "    </tr>\n",
              "    <tr>\n",
              "      <th>27602</th>\n",
              "      <td>27602</td>\n",
              "      <td>1000123163</td>\n",
              "      <td>보들보들풍접초0069</td>\n",
              "      <td>알녁 - 거리</td>\n",
              "      <td>월정리 해변에서 10분 정도 걸으면 나오는 숙소라 접근성이 좋았던것같아요 근데 딱 ...</td>\n",
              "      <td>5</td>\n",
              "      <td>1</td>\n",
              "    </tr>\n",
              "  </tbody>\n",
              "</table>\n",
              "<p>27603 rows × 7 columns</p>\n",
              "</div>\n",
              "      <button class=\"colab-df-convert\" onclick=\"convertToInteractive('df-468cc779-effc-4fbf-87b7-466047fe5970')\"\n",
              "              title=\"Convert this dataframe to an interactive table.\"\n",
              "              style=\"display:none;\">\n",
              "        \n",
              "  <svg xmlns=\"http://www.w3.org/2000/svg\" height=\"24px\"viewBox=\"0 0 24 24\"\n",
              "       width=\"24px\">\n",
              "    <path d=\"M0 0h24v24H0V0z\" fill=\"none\"/>\n",
              "    <path d=\"M18.56 5.44l.94 2.06.94-2.06 2.06-.94-2.06-.94-.94-2.06-.94 2.06-2.06.94zm-11 1L8.5 8.5l.94-2.06 2.06-.94-2.06-.94L8.5 2.5l-.94 2.06-2.06.94zm10 10l.94 2.06.94-2.06 2.06-.94-2.06-.94-.94-2.06-.94 2.06-2.06.94z\"/><path d=\"M17.41 7.96l-1.37-1.37c-.4-.4-.92-.59-1.43-.59-.52 0-1.04.2-1.43.59L10.3 9.45l-7.72 7.72c-.78.78-.78 2.05 0 2.83L4 21.41c.39.39.9.59 1.41.59.51 0 1.02-.2 1.41-.59l7.78-7.78 2.81-2.81c.8-.78.8-2.07 0-2.86zM5.41 20L4 18.59l7.72-7.72 1.47 1.35L5.41 20z\"/>\n",
              "  </svg>\n",
              "      </button>\n",
              "      \n",
              "  <style>\n",
              "    .colab-df-container {\n",
              "      display:flex;\n",
              "      flex-wrap:wrap;\n",
              "      gap: 12px;\n",
              "    }\n",
              "\n",
              "    .colab-df-convert {\n",
              "      background-color: #E8F0FE;\n",
              "      border: none;\n",
              "      border-radius: 50%;\n",
              "      cursor: pointer;\n",
              "      display: none;\n",
              "      fill: #1967D2;\n",
              "      height: 32px;\n",
              "      padding: 0 0 0 0;\n",
              "      width: 32px;\n",
              "    }\n",
              "\n",
              "    .colab-df-convert:hover {\n",
              "      background-color: #E2EBFA;\n",
              "      box-shadow: 0px 1px 2px rgba(60, 64, 67, 0.3), 0px 1px 3px 1px rgba(60, 64, 67, 0.15);\n",
              "      fill: #174EA6;\n",
              "    }\n",
              "\n",
              "    [theme=dark] .colab-df-convert {\n",
              "      background-color: #3B4455;\n",
              "      fill: #D2E3FC;\n",
              "    }\n",
              "\n",
              "    [theme=dark] .colab-df-convert:hover {\n",
              "      background-color: #434B5C;\n",
              "      box-shadow: 0px 1px 3px 1px rgba(0, 0, 0, 0.15);\n",
              "      filter: drop-shadow(0px 1px 2px rgba(0, 0, 0, 0.3));\n",
              "      fill: #FFFFFF;\n",
              "    }\n",
              "  </style>\n",
              "\n",
              "      <script>\n",
              "        const buttonEl =\n",
              "          document.querySelector('#df-468cc779-effc-4fbf-87b7-466047fe5970 button.colab-df-convert');\n",
              "        buttonEl.style.display =\n",
              "          google.colab.kernel.accessAllowed ? 'block' : 'none';\n",
              "\n",
              "        async function convertToInteractive(key) {\n",
              "          const element = document.querySelector('#df-468cc779-effc-4fbf-87b7-466047fe5970');\n",
              "          const dataTable =\n",
              "            await google.colab.kernel.invokeFunction('convertToInteractive',\n",
              "                                                     [key], {});\n",
              "          if (!dataTable) return;\n",
              "\n",
              "          const docLinkHtml = 'Like what you see? Visit the ' +\n",
              "            '<a target=\"_blank\" href=https://colab.research.google.com/notebooks/data_table.ipynb>data table notebook</a>'\n",
              "            + ' to learn more about interactive tables.';\n",
              "          element.innerHTML = '';\n",
              "          dataTable['output_type'] = 'display_data';\n",
              "          await google.colab.output.renderOutput(dataTable, element);\n",
              "          const docLink = document.createElement('div');\n",
              "          docLink.innerHTML = docLinkHtml;\n",
              "          element.appendChild(docLink);\n",
              "        }\n",
              "      </script>\n",
              "    </div>\n",
              "  </div>\n",
              "  "
            ]
          },
          "metadata": {},
          "execution_count": 8
        }
      ]
    },
    {
      "cell_type": "code",
      "source": [
        "# data2 = pd.DataFrame(df)\n",
        "# data2.to_csv('리뷰정보크롤링2.csv',index=False,mode=\"a\")"
      ],
      "metadata": {
        "id": "W9x19WXSg1EW"
      },
      "execution_count": null,
      "outputs": []
    },
    {
      "cell_type": "code",
      "source": [
        "print('총 샘플의 수 :',len(df))"
      ],
      "metadata": {
        "colab": {
          "base_uri": "https://localhost:8080/"
        },
        "id": "4sDlaSwScbpp",
        "outputId": "c4e33d2f-ba9c-44e1-8c5f-d24848548d9c"
      },
      "execution_count": null,
      "outputs": [
        {
          "output_type": "stream",
          "name": "stdout",
          "text": [
            "총 샘플의 수 : 27603\n"
          ]
        }
      ]
    },
    {
      "cell_type": "code",
      "source": [
        "# #긍정 1과 부정0의 그래프\n",
        "# df[top50].value_counts().plot(kind = 'bar')"
      ],
      "metadata": {
        "id": "A1l3EcwpcjPq"
      },
      "execution_count": null,
      "outputs": []
    },
    {
      "cell_type": "code",
      "source": [
        "#긍정 26006개 부정 1597개\n",
        "print(df.groupby('y').size().reset_index(name = 'count'))"
      ],
      "metadata": {
        "colab": {
          "base_uri": "https://localhost:8080/"
        },
        "id": "jzRiEXfVdIqR",
        "outputId": "0911a604-69c9-4196-a928-8c6b3cc404da"
      },
      "execution_count": null,
      "outputs": [
        {
          "output_type": "stream",
          "name": "stdout",
          "text": [
            "   y  count\n",
            "0  0   1597\n",
            "1  1  26006\n"
          ]
        }
      ]
    },
    {
      "cell_type": "code",
      "source": [
        "print(df.isnull().values.any())"
      ],
      "metadata": {
        "colab": {
          "base_uri": "https://localhost:8080/"
        },
        "id": "Bx_3xdSMdUux",
        "outputId": "738e0cb0-16db-4fff-e241-4a73cd3c9bd8"
      },
      "execution_count": null,
      "outputs": [
        {
          "output_type": "stream",
          "name": "stdout",
          "text": [
            "True\n"
          ]
        }
      ]
    },
    {
      "cell_type": "code",
      "source": [
        "#토큰화\n",
        "stopwords = ['의','가','이','은','들','는','좀','잘','걍','과','도','를','으로','자','에','와','한','하다']"
      ],
      "metadata": {
        "id": "1ZE-1Y0Qd54B"
      },
      "execution_count": null,
      "outputs": []
    },
    {
      "cell_type": "code",
      "source": [
        "okt = Okt()\n",
        "okt.morphs('사장님 친절하시고 넷플릭스도 됩니다  이거 기재 해놓으시면 좋으실거 같아요  단골인데 굿입니다 ㅎ', stem = True)"
      ],
      "metadata": {
        "colab": {
          "base_uri": "https://localhost:8080/"
        },
        "id": "ulHUZIrad71B",
        "outputId": "2225e9a0-3692-47eb-a815-8a28c2caabe7"
      },
      "execution_count": null,
      "outputs": [
        {
          "output_type": "execute_result",
          "data": {
            "text/plain": [
              "['사장',\n",
              " '님',\n",
              " '친절하다',\n",
              " '넷플릭스',\n",
              " '도',\n",
              " '되다',\n",
              " '이',\n",
              " '거',\n",
              " '기재',\n",
              " '하다',\n",
              " '좋다',\n",
              " '같다',\n",
              " '단골',\n",
              " '인데',\n",
              " '굿',\n",
              " '이다',\n",
              " 'ㅎ']"
            ]
          },
          "metadata": {},
          "execution_count": 15
        }
      ]
    },
    {
      "cell_type": "code",
      "source": [
        "X_train = []\n",
        "for sentence in tqdm(df['리뷰 내용']):\n",
        "    tokenized_sentence = okt.morphs(sentence, stem=True) # 토큰화\n",
        "    stopwords_removed_sentence = [word for word in tokenized_sentence if not word in stopwords] # 불용어 제거\n",
        "    X_train.append(stopwords_removed_sentence)"
      ],
      "metadata": {
        "colab": {
          "base_uri": "https://localhost:8080/"
        },
        "id": "rKT5NnOOeV25",
        "outputId": "f2e3a841-ed35-412e-90aa-34d486606b19"
      },
      "execution_count": null,
      "outputs": [
        {
          "output_type": "stream",
          "name": "stderr",
          "text": [
            "100%|██████████| 27603/27603 [04:49<00:00, 95.35it/s]\n"
          ]
        }
      ]
    },
    {
      "cell_type": "code",
      "source": [
        "print(X_train[:3])"
      ],
      "metadata": {
        "colab": {
          "base_uri": "https://localhost:8080/"
        },
        "id": "OHef7vp_fZB5",
        "outputId": "31f4ab2d-08e0-4ff5-a606-8d47128b57da"
      },
      "execution_count": null,
      "outputs": [
        {
          "output_type": "stream",
          "name": "stdout",
          "text": [
            "[['깨끗하다', '좋다'], ['좋다'], ['놀다', '가다']]\n"
          ]
        }
      ]
    },
    {
      "cell_type": "code",
      "source": [
        "#정수인코딩 기계가 텍스트를 숫자로 처리할 수 있도록 훈련 데이터와 테스트 데이터에 정수 인코딩을 수행해야 합니다. 우선, 훈련 데이터에 대해서 단어 집합(vocaburary)을 만듬\n",
        "tokenizer = Tokenizer()\n",
        "tokenizer.fit_on_texts(X_train)"
      ],
      "metadata": {
        "id": "HANIxhe7faUB"
      },
      "execution_count": null,
      "outputs": []
    },
    {
      "cell_type": "code",
      "source": [
        "#형태소 분석\n",
        "def get_pos (x):\n",
        "  tagger = Okt()\n",
        "  pos = tagger.pos(x)\n",
        "\n",
        "  result = []\n",
        "\n",
        "  for a1 in pos:\n",
        "    result.append(f'{a1[0]}/{a1[1]}')\n",
        "  return result"
      ],
      "metadata": {
        "id": "MYKBfYLil6IJ"
      },
      "execution_count": null,
      "outputs": []
    },
    {
      "cell_type": "code",
      "source": [
        "get_pos(\"너무깨끗하고바다도잘보이고좋았습니다사장님도문자답빠르게주시고따뜻하고침구도깨끗했어요\")"
      ],
      "metadata": {
        "colab": {
          "base_uri": "https://localhost:8080/"
        },
        "id": "a6mQ0p4ll7DR",
        "outputId": "6c730c89-524e-4bab-8e4c-0022f37db762"
      },
      "execution_count": null,
      "outputs": [
        {
          "output_type": "execute_result",
          "data": {
            "text/plain": [
              "['너무/Adverb',\n",
              " '깨끗하고/Adjective',\n",
              " '바다/Noun',\n",
              " '도/Josa',\n",
              " '잘/VerbPrefix',\n",
              " '보이고/Verb',\n",
              " '좋았습니다/Adjective',\n",
              " '사장/Noun',\n",
              " '님/Suffix',\n",
              " '도/Josa',\n",
              " '문자/Noun',\n",
              " '답/Noun',\n",
              " '빠르게/Adjective',\n",
              " '주시/Noun',\n",
              " '고/Josa',\n",
              " '따뜻하고/Adjective',\n",
              " '침구/Noun',\n",
              " '도/Josa',\n",
              " '깨끗했어요/Adjective']"
            ]
          },
          "metadata": {},
          "execution_count": 20
        }
      ]
    },
    {
      "cell_type": "code",
      "source": [
        "print(tokenizer.word_index)"
      ],
      "metadata": {
        "colab": {
          "base_uri": "https://localhost:8080/"
        },
        "id": "e4pqTDs2flkx",
        "outputId": "c168d464-08b5-4742-e31f-bb63cad7902d"
      },
      "execution_count": null,
      "outputs": [
        {
          "output_type": "stream",
          "name": "stdout",
          "text": [
            "{'좋다': 1, '너무': 2, '있다': 3, '친절하다': 4, '자다': 5, '숙소': 6, '이다': 7, '가다': 8, '님': 9, '사장': 10, '깨끗하다': 11, '오다': 12, '다': 13, '을': 14, '없다': 15, '에서': 16, '깔끔하다': 17, '같다': 18, '뷰': 19, '보다': 20, '또': 21, '편하다': 22, '정말': 23, '곳': 24, '로': 25, '다음': 26, '되다': 27, '고': 28, '더': 29, '시설': 30, '쉬다': 31, '안': 32, '이용': 33, '방': 34, '않다': 35, '바다': 36, '넓다': 37, '비': 38, '가격': 39, '요': 40, '여행': 41, '방문': 42, '가성': 43, 'ㅎㅎ': 44, '가깝다': 45, '것': 46, '때': 47, '위치': 48, '바로': 49, '하고': 50, '해주다': 51, '만': 52, '최고': 53, '화장실': 54, '진짜': 55, '많다': 56, '분': 57, '아쉽다': 58, '쉬': 59, '조용하다': 60, '앞': 61, '수': 62, '괜찮다': 63, '이라': 64, '객실': 65, '제주도': 66, '먹다': 67, '2': 68, '침대': 69, '조금': 70, '근처': 71, '되어다': 72, '생각': 73, '주변': 74, '1': 75, '싶다': 76, '층': 77, '조식': 78, '까지': 79, '예약': 80, '놀다': 81, '만족하다': 82, '많이': 83, '인': 84, '들다': 85, '보기': 86, '호텔': 87, '따뜻하다': 88, '감사하다': 89, '방도': 90, '엄청': 91, '직원': 92, '적': 93, '제주': 94, '이랑': 95, '공항': 96, '정도': 97, 'ㅠㅠ': 98, '펜션': 99, '못': 100, '냄새': 101, '나오다': 102, '아니다': 103, '추천': 104, '편의점': 105, '아주': 106, '그리고': 107, '넘다': 108, '불편하다': 109, '랑': 110, '다시': 111, '사진': 112, '에도': 113, '박': 114, '아침': 115, '갈다': 116, '분들': 117, '여기': 118, '묵다': 119, '게': 120, '수건': 121, '예쁘다': 122, '제': 123, '크다': 124, '라': 125, '그렇다': 126, '보이다': 127, '안되다': 128, '청소': 129, '맛있다': 130, '저렴하다': 131, '소리': 132, '다만': 133, '면': 134, '인데': 135, '가족': 136, '서': 137, '나': 138, '청결': 139, '재': 140, '주다': 141, '그냥': 142, '날': 143, '저': 144, '지내다': 145, '꼭': 146, '침구': 147, '물': 148, '느낌': 149, '그': 150, '방이': 151, '다른': 152, '점': 153, '에는': 154, '편안하다': 155, '하나': 156, '들어가다': 157, '시간': 158, '3': 159, '개': 160, '대비': 161, '나다': 162, '중': 163, '맛집': 164, '매우': 165, '거리': 166, '하루': 167, '청결하다': 168, '이쁘다': 169, '후기': 170, '기분': 171, '하': 172, '빼다': 173, '바베큐': 174, '두': 175, '완전': 176, '오션': 177, '거': 178, '문': 179, '밤': 180, '받다': 181, '걸다': 182, '주차': 183, 'ㅠ': 184, '수영장': 185, '사람': 186, '집': 187, '숙박': 188, '알다': 189, '저희': 190, '잠': 191, '사용': 192, '방음': 193, '체크': 194, '상태': 195, '엔': 196, '드리다': 197, '없이': 198, '께서': 199, '머물다': 200, '등': 201, '접근성': 202, '처음': 203, '이나': 204, '말': 205, '아이': 206, '룸': 207, '챙기다': 208, '건물': 209, '서비스': 210, '연': 211, '주인': 212, '늦다': 213, '관리': 214, '이에요': 215, '모두': 216, '의사': 217, '에요': 218, '돼다': 219, '카페': 220, '이불': 221, '분위기': 222, '만족스럽다': 223, '오래되다': 224, '옆': 225, 'ㅎ': 226, '4': 227, '주차장': 228, '이고': 229, '샤워': 230, '여서': 231, '그래도': 232, '기': 233, '보내다': 234, '무엇': 235, '바닥': 236, '때문': 237, '잡다': 238, '식당': 239, '마다': 240, '저녁': 241, '덕분': 242, '친절': 243, '내': 244, '만족': 245, '난방': 246, '일단': 247, '창문': 248, '들어오다': 249, '해수욕장': 250, '네': 251, '신경': 252, '보고': 253, '나가다': 254, '습': 255, '전': 256, '에어컨': 257, '내부': 258, '부터': 259, '특히': 260, '가면': 261, '별로': 262, '근데': 263, '해변': 264, '컨디션': 265, '찾다': 266, '전체': 267, '해': 268, '혼자': 269, '담': 270, '쓰다': 271, '들리다': 272, '주': 273, '모르다': 274, '딱': 275, '같이': 276, '지': 277, '대': 278, '가능하다': 279, '수압': 280, '마음': 281, '명': 282, '걱정': 283, '모든': 284, '좁다': 285, '스파': 286, '듯': 287, '힘들다': 288, '부분': 289, '번': 290, '굿': 291, '파티': 292, '도착': 293, '동안': 294, '즐겁다': 295, '니당다': 296, '다니다': 297, '욕실': 298, '힐링': 299, '친구': 300, '계속': 301, '쪽': 302, '장': 303, '아': 304, '시장': 305, '구': 306, '느끼다': 307, 'ㅜㅜ': 308, '쾌적하다': 309, '춥다': 310, '처럼': 311, '여': 312, '좋아하다': 313, '온': 314, '편의': 315, '산책': 316, '차': 317, '나쁘다': 318, '비행기': 319, '짱': 320, '차다': 321, '아늑하다': 322, '준비': 323, '하지만': 324, '벌레': 325, '제일': 326, '편리하다': 327, '맘': 328, '공간': 329, 'ㅋㅋ': 330, '입실': 331, '안내': 332, '일': 333, '어': 334, '추가': 335, '가기': 336, '예요': 337, '따로': 338, '한번': 339, '류': 340, '5': 341, '마지막': 342, '음식': 343, '정리': 344, '써다': 345, '보일러': 346, '추억': 347, '작다': 348, '재밌다': 349, '시': 350, '급하다': 351, '미리': 352, '시끄럽다': 353, '새벽': 354, '추다': 355, '냉장고': 356, '바람': 357, '물이': 358, '복층': 359, '용': 360, '필요하다': 361, '끄다': 362, '박하다': 363, '라서': 364, '날씨': 365, '이번': 366, '따다': 367, '단점': 368, '비다': 369, '넉넉하다': 370, '테라스': 371, '말다': 372, '가요': 373, '싸다': 374, '짐': 375, '동': 376, '별': 377, '모텔': 378, '가보다': 379, '쓸다': 380, '부모님': 381, '니': 382, '성': 383, '욕조': 384, '커피': 385, '자고': 386, '뭐': 387, '밖에': 388, '열다': 389, '굉장하다': 390, '행복하다': 391, '인지': 392, '소음': 393, '풀': 394, '바닷가': 395, '먼지': 396, '항상': 397, '여기다': 398, '멀다': 399, '인테리어': 400, '덥다': 401, '완벽하다': 402, '강아지': 403, '노후': 404, '올': 405, '두다': 406, '후': 407, '무조건': 408, '주시': 409, '약간': 410, '귀엽다': 411, '해주시': 412, '전화': 413, '떨어지다': 414, '장점': 415, '샴푸': 416, '자체': 417, '거실': 418, '살짝': 419, '보': 420, '남다': 421, 'ㅎㅎㅎ': 422, '즐기다': 423, '문제': 424, '담배': 425, '다르다': 426, '개인': 427, '게스트하우스': 428, '구비': 429, '칫솔': 430, '묵고': 431, '씻다': 432, '티비': 433, '도로': 434, '애월': 435, '맞다': 436, '보이': 437, '간': 438, '시내': 439, '가장': 440, '온수': 441, '찍다': 442, '푹': 443, '밖': 444, '서다': 445, '기억': 446, '잇다': 447, '머무르다': 448, '풍경': 449, '한라산': 450, '심하다': 451, '참고': 452, '설명': 453, '우도': 454, '지만': 455, '해보다': 456, '나서다': 457, '실내': 458, '깔다': 459, '함': 460, '라고': 461, '야하다': 462, '맛': 463, '다녀오다': 464, '늘다': 465, '만들다': 466, '이렇다': 467, '월': 468, '부족하다': 469, '여러': 470, '경치': 471, '이라서': 472, '놓다': 473, '선택': 474, '리뷰': 475, '놀라다': 476, '걸': 477, '모기': 478, '외': 479, '돈': 480, '고기': 481, '간단하다': 482, '관광지': 483, '무료': 484, '주방': 485, '강추': 486, '일찍': 487, '사': 488, '프론트': 489, '이지만': 490, '편이': 491, '3일': 492, '도보': 493, '이동': 494, '여름': 495, '최악': 496, '리': 497, '및': 498, '께': 499, '걸리다': 500, 'ㅜ': 501, '전망': 502, '약하다': 503, '낡다': 504, '식': 505, '첫날': 506, '오래': 507, '차로': 508, '비품': 509, '예정': 510, '이상': 511, '곰팡이': 512, '라면': 513, '가게': 514, '이네': 515, '가지': 516, '느껴지다': 517, '직접': 518, '이렇게': 519, '온도': 520, '건지다': 521, '머리카락': 522, '치약': 523, '안좋다': 524, '10분': 525, '굳다': 526, '내다': 527, '왜': 528, '건': 529, '5분': 530, '나름': 531, '인하다': 532, '남기다': 533, '전혀': 534, '세탁기': 535, '기다': 536, '적당하다': 537, '올라가다': 538, '푹신하다': 539, '함께': 540, '자주': 541, '업그레이드': 542, '용하다': 543, '바디': 544, '제대로': 545, '아무': 546, '기대': 547, '닫다': 548, '끼리': 549, '감동': 550, '에게': 551, '그래서': 552, '뜨다': 553, '100': 554, '착하다': 555, '더럽다': 556, '일정': 557, '마트': 558, '시키다': 559, '눈': 560, '겨울': 561, '뚜벅': 562, '첫': 563, '향': 564, '성산일출봉': 565, '야': 566, '버스': 567, '리조트': 568, '급': 569, '알': 570, '취사': 571, '위': 572, '이라고': 573, '예': 574, '약': 575, '우선': 576, '택시': 577, '문자': 578, '모델링': 579, '교통': 580, '임': 581, '함덕': 582, '전반': 583, '남자': 584, '이틀': 585, '기본': 586, '그대로': 587, '기도': 588, '높다': 589, '타고': 590, '편': 591, '계단': 592, '제공': 593, '그거': 594, '손님': 595, '지다': 596, '거의': 597, '바꾸다': 598, '한적하다': 599, '충분하다': 600, '세': 601, '역시': 602, '신축': 603, '크게': 604, '고민': 605, '확인': 606, '볼': 607, '못자다': 608, '계시다': 609, '옆방': 610, '테이블': 611, '잘나오다': 612, '여자': 613, '몇': 614, '스텝': 615, '입구': 616, '연락': 617, '너': 618, '전부': 619, '달라': 620, '독채': 621, '출장': 622, '무난': 623, '정원': 624, '시원하다': 625, '린스': 626, '드라이기': 627, '운영': 628, '두번째': 629, 'ㅋ': 630, '응대': 631, '자기': 632, '기회': 633, '멋지다': 634, '복도': 635, '써주다': 636, '열': 637, '조': 638, '6': 639, '외관': 640, '굽다': 641, '깨다': 642, '번창': 643, 'ㅋㅋㅋ': 644, '차갑다': 645, '적다': 646, '훨씬': 647, '창': 648, '배려': 649, '길': 650, '키': 651, '체크아웃': 652, '야외': 653, '에서도': 654, '비싸다': 655, '퇴': 656, '카운터': 657, '협재': 658, '화': 659, '되게': 660, '주차공간': 661, '버리다': 662, '마당': 663, '틀다': 664, '4일': 665, '변기': 666, '로비': 667, '대박': 668, '걸어가다': 669, '강': 670, '며': 671, '곳도': 672, '훌륭하다': 673, '술': 674, '해안': 675, '밥': 676, '감성': 677, '대다': 678, '호': 679, '한테': 680, '인원': 681, '엄마': 682, '말씀': 683, '얘기': 684, '물어보다': 685, '말고는': 686, '올리다': 687, '켜다': 688, '물놀이': 689, '내려가다': 690, '밑': 691, '갑': 692, '객': 693, '애': 694, '그런데': 695, '서귀포': 696, '오': 697, '매일': 698, '추하다': 699, '가능': 700, '굿굿': 701, '그것': 702, '옮기다': 703, '불': 704, '전화하다': 705, '심': 706, '장이': 707, '나중': 708, '주위': 709, '에서는': 710, '옷': 711, '위생': 712, '단': 713, '일출': 714, '동네': 715, '생기다': 716, '다시다': 717, '고양이': 718, '방안': 719, '뜨겁다': 720, '햇': 721, '샤워실': 722, '무': 723, '커서': 724, '베란다': 725, '커튼': 726, '귤': 727, '비치': 728, '보통': 729, '요청': 730, '만큼': 731, '무섭다': 732, '상': 733, '공기': 734, '음식점': 735, '구경': 736, '장님': 737, '포근하다': 738, '당황': 739, '어떻다': 740, '전기장판': 741, '움': 742, '줄': 743, '투숙': 744, '이며': 745, '갖추다': 746, '워시': 747, '씩': 748, '등등': 749, '간다': 750, '비추다': 751, '비누': 752, '아깝다': 753, '앉다': 754, '공': 755, '배정': 756, '식기': 757, '노을': 758, '새롭다': 759, '엘리베이터': 760, '불편': 761, '빨래': 762, '또한': 763, '세면대': 764, '꽤': 765, '달다': 766, '배달': 767, '어렵다': 768, '게스트': 769, '도구': 770, '아기': 771, '조명': 772, '빠지다': 773, '기대하다': 774, '엘베': 775, '깨끗': 776, '환기': 777, '꾸미다': 778, '개별': 779, '의자': 780, '구조': 781, '데': 782, '절대': 783, '이유': 784, '기다리다': 785, '세탁': 786, '해결': 787, '먼저': 788, '용품': 789, '위해': 790, '흑': 791, '둘': 792, '몸': 793, '거기': 794, '이어서': 795, '새': 796, 'ㅠㅠㅠ': 797, '남': 798, '개다': 799, '타다': 800, '식사': 801, '붙다': 802, '아주머니': 803, '신': 804, '불다': 805, '어쩔': 806, '크기': 807, '감사': 808, '원래': 809, '성산': 810, '이서': 811, '차량': 812, '너무나': 813, '일어나다': 814, '자리': 815, '올라오다': 816, '옥상': 817, '금방': 818, '후회': 819, '새다': 820, '신분': 821, '중문': 822, '어디': 823, '정수기': 824, '먹거리': 825, '어메니티': 826, '나무': 827, '난': 828, '돌아가다': 829, '외부': 830, '사실': 831, '가까이': 832, '속': 833, '우리': 834, '멀리': 835, '침실': 836, '사모님': 837, '환상': 838, '어둡다': 839, '실하다': 840, '빵빵': 841, '솔직하다': 842, '달': 843, '말씀드리다': 844, '마을': 845, '뒤': 846, '냥': 847, '음': 848, '캐리어': 849, '뿐': 850, '금액': 851, '마리': 852, '반': 853, '공용': 854, '부부': 855, '물론': 856, '지금': 857, '돼지': 858, '동문': 859, '픽업': 860, '가세': 861, '경험': 862, '먹기': 863, '예민하다': 864, '니까': 865, '이야기': 866, '코로나': 867, '묻다': 868, '가시다': 869, '내내': 870, '원하다': 871, '계획': 872, '모시': 873, '베개': 874, '고장': 875, '잠깐': 876, '당일': 877, '미치다': 878, '쓰레기': 879, '여유': 880, '아름답다': 881, '겁니다': 882, '오기': 883, '물품': 884, '싫다': 885, '세심': 886, '스럽다': 887, '해도': 888, '통': 889, '대해': 890, '쯤': 891, '교체': 892, '수영': 893, '한잔': 894, '라는': 895, '안나': 896, '센스': 897, '티': 898, '이해': 899, '매트리스': 900, '사다': 901, '산방산': 902, '죄송하다': 903, '꾸다': 904, '끈': 905, '재미있다': 906, '빌리다': 907, '결항': 908, '올레길': 909, '꿀잠': 910, '관광': 911, '늘': 912, '전자렌지': 913, '뭔가': 914, '대신': 915, '바라다': 916, '분리': 917, '중간': 918, '인사': 919, '눕다': 920, '산책로': 921, '해먹': 922, '머리': 923, '치다': 924, '소품': 925, '비대': 926, '지저분하다': 927, '취소': 928, '수도': 929, '이르다': 930, '틀': 931, '다소': 932, '남자친구': 933, '커플': 934, '휴식': 935, 'ㅋㅋㅋㅋ': 936, '탑': 937, '빌라': 938, '팬션': 939, '일회용': 940, '오히려': 941, '잠자다': 942, '맥주': 943, '길이': 944, '펴다': 945, '살다': 946, '이건': 947, '찝찝하다': 948, '얼마': 949, '버스정류장': 950, '빵': 951, '애기': 952, '파도': 953, '갑자기': 954, '쏘다': 955, '만나다': 956, '코스': 957, '바': 958, '더블': 959, '수준': 960, '이런': 961, '소': 962, '진심': 963, '보다는': 964, '아기자기하다': 965, '넷플릭스': 966, '바퀴벌레': 967, '불친절하다': 968, '중요하다': 969, '이면': 970, '타': 971, '토스트': 972, '시작': 973, '온천': 974, '맞추다': 975, '단체': 976, '무인': 977, '불구': 978, '돌아다니다': 979, '그리다': 980, '하룻밤': 981, '벽': 982, '거울': 983, '나머지': 984, '천장': 985, '넣다': 986, '내외': 987, '일몰': 988, '조절': 989, '할인': 990, '생수': 991, '땐': 992, '거리에': 993, '휴가': 994, '한가지': 995, '이상하다': 996, '비도': 997, '화장': 998, '일이': 999, '끝': 1000, '대로': 1001, '꺼지다': 1002, '서도': 1003, '더욱': 1004, '경우': 1005, '요금': 1006, '공사': 1007, '인근': 1008, '수풀': 1009, '힘드다': 1010, '빠르다': 1011, '말고': 1012, '그렇게': 1013, '문의': 1014, '사항': 1015, '그릇': 1016, '부탁드리다': 1017, '가정': 1018, '협재해수욕장': 1019, '콘센트': 1020, '낮다': 1021, '등반': 1022, '닦다': 1023, '장소': 1024, '한참': 1025, '막': 1026, '휴지': 1027, '쓰이다': 1028, '들어서다': 1029, '루프': 1030, '발': 1031, '푹쉬다': 1032, '아프다': 1033, '세다': 1034, '묵': 1035, '그게': 1036, '아래': 1037, '비용': 1038, '배': 1039, '혹시': 1040, '끝내주다': 1041, '밤새': 1042, '무척': 1043, '3분': 1044, '윗': 1045, '우': 1046, '으로는': 1047, '로는': 1048, '자마자': 1049, '무슨': 1050, '와도': 1051, '매번': 1052, '인거': 1053, '가야': 1054, '하니': 1055, '딱딱하다': 1056, '물건': 1057, '시골': 1058, '하수': 1059, '가도': 1060, '코앞': 1061, '똑같다': 1062, '지하': 1063, '알아보다': 1064, '별도': 1065, '망': 1066, '틀어주다': 1067, '고르다': 1068, '커버': 1069, '불쾌하다': 1070, '요리': 1071, '든': 1072, '에만': 1073, '장난': 1074, '습하다': 1075, '제주시': 1076, '어리다': 1077, '고생': 1078, '상당하다': 1079, '10': 1080, '믿다': 1081, '필요없다': 1082, '포함': 1083, '영': 1084, '기류': 1085, '오시': 1086, '채우다': 1087, '개선': 1088, '전날': 1089, '맡다': 1090, '평': 1091, '꼼꼼하다': 1092, '지인': 1093, '환경': 1094, '10시': 1095, '이름': 1096, '도와주다': 1097, '사이': 1098, '의향': 1099, '곽': 1100, 'tv': 1101, '에선': 1102, '손': 1103, '형': 1104, '적극': 1105, '하우스': 1106, '실': 1107, '작년': 1108, '놀래다': 1109, '바라보다': 1110, '번째': 1111, '가구': 1112, '히터': 1113, '실제': 1114, '내리다': 1115, '친철': 1116, '이라도': 1117, '보단': 1118, '슬리퍼': 1119, '데리': 1120, '맞이': 1121, '답답하다': 1122, '주신': 1123, '첨': 1124, '놀': 1125, '주심': 1126, '상황': 1127, '퀄리티': 1128, '구매': 1129, '묶다': 1130, '짜다': 1131, '온돌': 1132, '번화가': 1133, '렌트': 1134, '깊다': 1135, '워': 1136, '연식': 1137, '걷다': 1138, '잠자리': 1139, '잊다': 1140, '아쉬움': 1141, '음료': 1142, '쇼파': 1143, '고객': 1144, '오랜': 1145, '제외': 1146, '쓰기': 1147, '곱다': 1148, '식탁': 1149, '모': 1150, '사이즈': 1151, '동반': 1152, '작동': 1153, '치고': 1154, '토리': 1155, '밝다': 1156, '들이다': 1157, '지나다': 1158, '온돌방': 1159, '30분': 1160, '길다': 1161, '스탭': 1162, '잠도': 1163, '애견': 1164, '실망': 1165, '막히다': 1166, '째': 1167, '떠나다': 1168, '왕': 1169, '퇴실': 1170, '나누다': 1171, '다양하다': 1172, '항': 1173, '젤': 1174, '7': 1175, '아예': 1176, '찾아보다': 1177, '어느': 1178, '어른': 1179, '이후': 1180, '완벽': 1181, '건강하다': 1182, '얼룩': 1183, '굳이': 1184, '당': 1185, '깜짝': 1186, '곳곳': 1187, '요즘': 1188, '도미': 1189, '투어': 1190, '올레': 1191, '심지어': 1192, '전자레인지': 1193, '라도': 1194, '덜': 1195, '흔적': 1196, '2일': 1197, '렌트카': 1198, '죠': 1199, '박다': 1200, '확실하다': 1201, '귀찮다': 1202, '순간': 1203, '단지': 1204, '흐리다': 1205, '이라는': 1206, '그런': 1207, '돌아오다': 1208, '15분': 1209, '술집': 1210, '검색': 1211, '컵': 1212, '피곤하다': 1213, '잠시': 1214, '옛날': 1215, '뵈다': 1216, '체적': 1217, '물때': 1218, '_': 1219, '가져가다': 1220, '최상': 1221, '흡연': 1222, '엄청나다': 1223, '프로': 1224, '배다': 1225, '그때': 1226, '찌다': 1227, '비슷하다': 1228, '1분': 1229, '기준': 1230, '터미널': 1231, '자전거': 1232, '골목': 1233, '입': 1234, '싱글': 1235, '스럽게': 1236, '한데': 1237, '짧다': 1238, '찾기': 1239, '시청': 1240, '짱짱': 1241, '딱이다': 1242, '정': 1243, '엇': 1244, '매트': 1245, '11시': 1246, '정성': 1247, '오늘': 1248, '피로': 1249, '지는': 1250, '방충': 1251, '조아': 1252, '외진': 1253, '군데': 1254, '대면': 1255, '성인': 1256, '200': 1257, '향기': 1258, '이정': 1259, '열리다': 1260, '태풍': 1261, '아저씨': 1262, '수기': 1263, '총': 1264, '전기차': 1265, '사오다': 1266, '글': 1267, '원룸': 1268, '잡히다': 1269, '산': 1270, '빗': 1271, '쫌': 1272, '할머니': 1273, '충전': 1274, '일어나서': 1275, '살': 1276, '여쭈다': 1277, '닫히다': 1278, '끼다': 1279, '5일': 1280, '틀어놓다': 1281, '들르다': 1282, '냄비': 1283, '트이다': 1284, '스타벅스': 1285, '잠들다': 1286, '유명하다': 1287, '싱크대': 1288, '신청': 1289, '물다': 1290, '서쪽': 1291, '신기하다': 1292, '기계': 1293, '반기다': 1294, '에겐': 1295, '비교': 1296, '최': 1297, '데스크': 1298, '그럭저럭': 1299, '박하': 1300, '여기저기': 1301, '발견': 1302, '감': 1303, '정류장': 1304, '치우다': 1305, '현관': 1306, '설치다': 1307, '장도': 1308, '8': 1309, '왠만하다': 1310, '환불': 1311, '금': 1312, '인상': 1313, '젊다': 1314, '덕': 1315, '시트': 1316, '가시': 1317, '쎄다': 1318, '이기다': 1319, 'ㅇ': 1320, '떠들다': 1321, '낮': 1322, '외출': 1323, '부족함': 1324, '아담하다': 1325, '폭': 1326, '마시다': 1327, '이제': 1328, '겸': 1329, '보시': 1330, '오름': 1331, '선물': 1332, '모습': 1333, '흠': 1334, '갈수': 1335, '일회용품': 1336, '작': 1337, '웬만하다': 1338, '코': 1339, '들어주다': 1340, '오는': 1341, '감안': 1342, '유지': 1343, '변경': 1344, '세면': 1345, '당연하다': 1346, 'ㅠㅠㅠㅠ': 1347, '다행': 1348, '결국': 1349, '오픈': 1350, '종류': 1351, '대한': 1352, '원': 1353, '암튼': 1354, '예술': 1355, '20': 1356, '돌리다': 1357, '줄다': 1358, '1시간': 1359, '갓': 1360, '와인': 1361, '일반': 1362, '왓': 1363, '인생': 1364, '부엌': 1365, '카라반': 1366, '종일': 1367, '금연': 1368, '심해': 1369, '유리': 1370, '몇번': 1371, '셀프': 1372, '뜨끈하다': 1373, 'ㅡㅡ': 1374, '긋다': 1375, '각': 1376, '엘레베이터': 1377, '밤늦다': 1378, '남편': 1379, '과도': 1380, '필요': 1381, '오후': 1382, '에게는': 1383, '노래방': 1384, '안쪽': 1385, '하늘': 1386, '살기': 1387, '에서의': 1388, '경': 1389, '궁금하다': 1390, '방향': 1391, '감다': 1392, '안해': 1393, '빨리': 1394, '대여': 1395, '커피포트': 1396, '채': 1397, '체험': 1398, '지나가다': 1399, '건조기': 1400, '누가': 1401, '그건': 1402, '치킨': 1403, '레시': 1404, '설치': 1405, '찾아가다': 1406, '욤': 1407, '끝나다': 1408, '20분': 1409, '집도': 1410, '히': 1411, '여행가': 1412, '베다': 1413, '자꾸': 1414, '얼굴': 1415, '웰컴': 1416, '따르다': 1417, '베드': 1418, '발코니': 1419, '모로': 1420, '해안가': 1421, '가득하다': 1422, '포장': 1423, 'ㅡ': 1424, '불어': 1425, '아직': 1426, '전복죽': 1427, '컴퓨터': 1428, '나요': 1429, '엿': 1430, '일주일': 1431, '읽다': 1432, '신발': 1433, '실시간': 1434, '안락하다': 1435, '와이파이': 1436, '지르다': 1437, '대부분': 1438, '정보': 1439, '게임': 1440, '만족도': 1441, '프라이': 1442, '신랑': 1443, '4시': 1444, '올해': 1445, '일행': 1446, '보관': 1447, '쿠폰': 1448, '갖다': 1449, '권': 1450, '주오': 1451, '대화': 1452, '성비': 1453, '환풍기': 1454, '허리': 1455, '동쪽': 1456, '간식': 1457, '해봤다': 1458, '이모': 1459, '9시': 1460, '보다도': 1461, '웃다': 1462, '오전': 1463, '패밀리': 1464, '사가다': 1465, '애매하다': 1466, '풍': 1467, '조심하다': 1468, '양': 1469, '언제': 1470, '대중교통': 1471, '자국': 1472, '등산': 1473, '딱하다': 1474, '층간소음': 1475, '정돈': 1476, '실수': 1477, '돌다': 1478, '자연': 1479, '포기': 1480, '욕': 1481, '머': 1482, '내년': 1483, '평일': 1484, '영화': 1485, '지역': 1486, '고맙다': 1487, '안다': 1488, '여행객': 1489, '바깥': 1490, '통해': 1491, '누르다': 1492, '처리': 1493, '3시': 1494, '박동': 1495, '조리': 1496, '뽀송하다': 1497, '돌고래': 1498, '욥': 1499, '울다': 1500, '마무리': 1501, '잡고': 1502, '여행자': 1503, '안마': 1504, '수가': 1505, '그나마': 1506, '가득': 1507, '까지도': 1508, '상관없다': 1509, 'ㆍ': 1510, '박만': 1511, 'ㅎㅎㅎㅎ': 1512, '파리': 1513, '2분': 1514, '아기자기': 1515, '걸이': 1516, '인가': 1517, '피': 1518, '아들': 1519, '결제': 1520, '거나': 1521, '자쿠': 1522, '볼거리': 1523, '너무나도': 1524, '넉': 1525, '바비큐': 1526, '숯': 1527, '넘치다': 1528, '촌장': 1529, '위로': 1530, '준': 1531, '신다': 1532, '어머니': 1533, '입다': 1534, '대체로': 1535, '잡': 1536, '건데': 1537, '해드리다': 1538, '땜': 1539, '딱좋다': 1540, '최적': 1541, '필수': 1542, '신고': 1543, '그만큼': 1544, '이니': 1545, '아무리': 1546, '불친절': 1547, 'ㅋㅋㅋㅋㅋ': 1548, '그저': 1549, '숙박업소': 1550, '만점': 1551, '뵙다': 1552, '카드': 1553, '신나다': 1554, '불가': 1555, '식구': 1556, '숲': 1557, '미니': 1558, '개월': 1559, '마치': 1560, '터': 1561, '민감하다': 1562, '미흡하다': 1563, '잘못': 1564, '고치다': 1565, '2만원': 1566, '하나로마트': 1567, '안보': 1568, '듣다': 1569, '중앙': 1570, '충전기': 1571, '깨': 1572, '여자친구': 1573, '야경': 1574, '가볍다': 1575, '책': 1576, '흔들리다': 1577, '8시': 1578, '목적': 1579, '세상': 1580, '죽다': 1581, '만원': 1582, '밥집': 1583, '든든하다': 1584, '현관문': 1585, '노래': 1586, '사과': 1587, '튜브': 1588, '탕': 1589, '눈치': 1590, '지도': 1591, '운': 1592, '뭔': 1593, '이만': 1594, '이전': 1595, '양호': 1596, '평점': 1597, '연장': 1598, '본인': 1599, '불만': 1600, '창밖': 1601, '래': 1602, '실망하다': 1603, '얼마나': 1604, '분도': 1605, '인덕션': 1606, '최신': 1607, '월정': 1608, '이구': 1609, '그러나': 1610, '부탁': 1611, '자세하다': 1612, '디럭스': 1613, '다행하다': 1614, '단위': 1615, '까페': 1616, '한다는': 1617, '그치다': 1618, '한림': 1619, '도도': 1620, '부대': 1621, '통창': 1622, '돌담': 1623, '금능': 1624, '넘어가다': 1625, '저번': 1626, '카페트': 1627, '살이': 1628, '참다': 1629, '희다': 1630, '적히다': 1631, '시스템': 1632, '확': 1633, '인접': 1634, '언제나': 1635, '담기다': 1636, '강력': 1637, '반갑다': 1638, '보임': 1639, '잠그다': 1640, '면도기': 1641, '열심히': 1642, '매점': 1643, '테': 1644, '사우나': 1645, '아빠': 1646, '병': 1647, '생각나다': 1648, '전기': 1649, '메뉴': 1650, '기대다': 1651, '커텐': 1652, '즈': 1653, '여행지': 1654, '공지': 1655, '날다': 1656, '블라인드': 1657, '가져다주다': 1658, '연결': 1659, '밉다': 1660, '벽지': 1661, '얇다': 1662, '쌓이다': 1663, '면서': 1664, '좋아지다': 1665, '여러가지': 1666, '낙후': 1667, '수리': 1668, '도움': 1669, '탁': 1670, '열쇠': 1671, '거슬리다': 1672, '움직이다': 1673, '짖다': 1674, '배치': 1675, '수고': 1676, '소개': 1677, '식도': 1678, '펍': 1679, '백': 1680, '음식물': 1681, '관련': 1682, '짜증나다': 1683, '편안함': 1684, '배수': 1685, '다가': 1686, '구석': 1687, '자쿠지': 1688, '어플': 1689, '기르다': 1690, '저만': 1691, '뜻': 1692, '풀다': 1693, '담번': 1694, '물리다': 1695, '합리': 1696, '직하다': 1697, '뻔하다': 1698, '호실': 1699, '과의': 1700, '12시': 1701, '드': 1702, '으로도': 1703, '부담': 1704, '암': 1705, '다해': 1706, '게다가': 1707, '겨우': 1708, '섭지코지': 1709, '부르다': 1710, '바로바로': 1711, '매니저': 1712, '작성': 1713, '신혼여행': 1714, '고급스럽다': 1715, '재다': 1716, '한마디': 1717, '둘째': 1718, '사서': 1719, '컵라면': 1720, '분리수거': 1721, '다섯': 1722, '칭찬': 1723, '경관': 1724, '듭니': 1725, '고급': 1726, '구성': 1727, '방바닥': 1728, '서울': 1729, '고깃집': 1730, '만에': 1731, '찬물': 1732, '대충': 1733, '에여': 1734, '소파': 1735, '좀더': 1736, '봄': 1737, '횟집': 1738, '이미': 1739, '하나로': 1740, '마감': 1741, '구석구석': 1742, '데우다': 1743, '뚫리다': 1744, '뷔페': 1745, '프런트': 1746, '소소하다': 1747, '스러운': 1748, '점도': 1749, '운치': 1750, '오피스텔': 1751, '여전하다': 1752, '여럿': 1753, '어차피': 1754, '밭': 1755, '아주아주': 1756, '번호': 1757, '비갑': 1758, '가운': 1759, '아아': 1760, '알차다': 1761, '화가': 1762, '작고': 1763, '회': 1764, 'cu': 1765, '동생': 1766, '끝판': 1767, '흔쾌하다': 1768, '감귤': 1769, '시기': 1770, '그닥': 1771, '변': 1772, '지치다': 1773, '매': 1774, '차라리': 1775, 'ㅠㅜ': 1776, '닷': 1777, '오오': 1778, '접근': 1779, '편리': 1780, '조건': 1781, '다치다': 1782, '해달라다': 1783, '트윈': 1784, '으론': 1785, '스벅': 1786, '업체': 1787, '며칠': 1788, '쌓다': 1789, '단독': 1790, '입욕': 1791, '지불': 1792, '일상': 1793, '실물': 1794, '해수욕': 1795, '목장': 1796, '은방': 1797, '기능': 1798, '락스': 1799, '스타': 1800, '판': 1801, '답': 1802, '콸콸': 1803, '감탄': 1804, '바쁘다': 1805, '나머진': 1806, '숙면': 1807, '쿵쿵': 1808, '대안': 1809, '탄산': 1810, '심각하다': 1811, '런가': 1812, '다락방': 1813, '에서만': 1814, '대가': 1815, '악취': 1816, '과는': 1817, '강하다': 1818, '오지': 1819, '공원': 1820, '언니': 1821, '멍': 1822, '내용': 1823, '부스': 1824, '잔': 1825, '까지는': 1826, '운전': 1827, '대가족': 1828, '스테이': 1829, '터지다': 1830, '비데': 1831, '샌드위치': 1832, '잔디': 1833, '빔': 1834, '애월쪽': 1835, '노': 1836, '어요': 1837, '본': 1838, '눈뜨다': 1839, '고정': 1840, '끼': 1841, '5시': 1842, '불안하다': 1843, '불량': 1844, '예전': 1845, '이지': 1846, '마스크': 1847, '더하다': 1848, '둘이서': 1849, '창틀': 1850, '선': 1851, '찾아오다': 1852, '물질': 1853, '샵': 1854, '유쾌하다': 1855, '셋': 1856, '순': 1857, '대응': 1858, '안주': 1859, '이용도': 1860, '정이': 1861, '이호': 1862, '방법': 1863, '한지': 1864, '차이': 1865, '아무래도': 1866, '맡기다': 1867, '아침밥': 1868, '구도': 1869, '포토': 1870, '3만원': 1871, '인기': 1872, '붙이다': 1873, '찍기': 1874, '진입': 1875, '접시': 1876, '도민': 1877, '호스트': 1878, '허다': 1879, '가용': 1880, '머신': 1881, '갈아': 1882, '마주치다': 1883, '특성': 1884, '달리': 1885, '하고는': 1886, '출발': 1887, '각종': 1888, '갈리다': 1889, '서로': 1890, '건너편': 1891, '리모컨': 1892, '끓이다': 1893, '연인': 1894, '시리얼': 1895, '이미지': 1896, '일박': 1897, '아마': 1898, '값': 1899, '내려오다': 1900, '봉': 1901, '청소기': 1902, '역대': 1903, '다이소': 1904, '선풍기': 1905, '셧': 1906, '매력': 1907, '죽': 1908, '담다': 1909, '때리다': 1910, '주의': 1911, '불멍': 1912, '사전': 1913, '카펫': 1914, '최근': 1915, '아직도': 1916, '타일': 1917, '겠다': 1918, '풀이': 1919, '디': 1920, '인정': 1921, '맑다': 1922, '풍차': 1923, '월드': 1924, '비우다': 1925, '글램핑': 1926, '펼쳐지다': 1927, '세제': 1928, '김치': 1929, '인텔': 1930, '중이': 1931, '책상': 1932, '가끔': 1933, '편입': 1934, '다가가다': 1935, '방과': 1936, '통화': 1937, '엉': 1938, '건조하다': 1939, '답변': 1940, '놓이다': 1941, '벌써': 1942, '정상': 1943, '여태': 1944, '2시': 1945, '업': 1946, '밥솥': 1947, '높이': 1948, '이기': 1949, '멋있다': 1950, '칸': 1951, '대처': 1952, '룸서비스': 1953, '7시': 1954, '감상': 1955, '용이': 1956, '루': 1957, '여성': 1958, '일출봉': 1959, '사먹다': 1960, '반찬': 1961, '계': 1962, '안전하다': 1963, '옵니다': 1964, 'ㅎㅎㅎㅎㅎ': 1965, '측': 1966, '틈': 1967, '이벤트': 1968, '널다': 1969, '여분': 1970, '담날': 1971, '바람소리': 1972, '건조대': 1973, '야간': 1974, '세월': 1975, '우유': 1976, '12': 1977, '뻔': 1978, '위험하다': 1979, '옷장': 1980, '신화': 1981, '낚시': 1982, '생활': 1983, '와는': 1984, '산속': 1985, '노후하다': 1986, '거미줄': 1987, '뭘': 1988, '앙': 1989, '삐': 1990, '가방': 1991, '행시': 1992, '상세': 1993, '딸': 1994, '로만': 1995, '아끼다': 1996, '재미': 1997, '제품': 1998, '전용': 1999, '어머님': 2000, '낭만': 2001, 'x': 2002, '일부러': 2003, '털': 2004, '스타일': 2005, '참여': 2006, '삐걱': 2007, '충격': 2008, '애용': 2009, '흐르다': 2010, '자유롭다': 2011, '세고': 2012, '남아': 2013, '겁나다': 2014, '뽀송뽀송하다': 2015, '사랑': 2016, '개도': 2017, '가라': 2018, '친': 2019, '마련': 2020, '민박': 2021, '겉': 2022, '존': 2023, '해오다': 2024, '막다': 2025, '숯불': 2026, '규': 2027, '근접': 2028, '벗다': 2029, '위층': 2030, 'ㅜㅠ': 2031, '평이': 2032, '걷기': 2033, '워낙': 2034, '뛰다': 2035, '예상': 2036, '잔뜩': 2037, '쉽다': 2038, '월풀': 2039, '말리다': 2040, '결정': 2041, '바퀴': 2042, '해수': 2043, '후라이팬': 2044, '자도': 2045, '독채펜션': 2046, '싹': 2047, '찜질방': 2048, '덮다': 2049, '태우다': 2050, '피우다': 2051, '유': 2052, '와이프': 2053, '입장': 2054, '풀리다': 2055, '별하나': 2056, '신라': 2057, '신지': 2058, '취향': 2059, '기전': 2060, '남성': 2061, '잘쓰다': 2062, '냉': 2063, '이자카야': 2064, '나르다': 2065, '뒷': 2066, '하자': 2067, '분명': 2068, '눅눅하다': 2069, '결론': 2070, '꽃': 2071, '고요': 2072, '귀': 2073, '어울리다': 2074, '참석': 2075, '신식': 2076, '저렴': 2077, '푸다': 2078, '목': 2079, '아무튼': 2080, '빨다': 2081, '말투': 2082, '장기': 2083, '찬': 2084, '휴게실': 2085, '아침식사': 2086, '굿굿굿굿굿': 2087, '질': 2088, '1시': 2089, '유일하다': 2090, '하라': 2091, '핫': 2092, '설정': 2093, '항구': 2094, '탁자': 2095, '적합하다': 2096, '그날': 2097, '숲속': 2098, '오르다': 2099, '타월': 2100, '는걸': 2101, '재료': 2102, '모래': 2103, '김녕': 2104, '비양도': 2105, '스프링': 2106, '본관': 2107, '채널': 2108, '한편': 2109, '근': 2110, '흠잡다': 2111, '대도': 2112, '그렇다고': 2113, '디자인': 2114, '세련되다': 2115, '무겁다': 2116, '용이하다': 2117, '가지다': 2118, '한눈': 2119, '뮤': 2120, '돌': 2121, '판매': 2122, '도나': 2123, '하얗다': 2124, '감사히': 2125, '용량': 2126, '구가': 2127, '짜증': 2128, '스': 2129, '식빵': 2130, '다녀가다': 2131, '쿠션': 2132, '가운데': 2133, '도하': 2134, '떡': 2135, '진행': 2136, '성은': 2137, '관리자': 2138, '제습기': 2139, '메': 2140, '우와': 2141, '팔': 2142, '료': 2143, '과자': 2144, '협': 2145, '력': 2146, '새소리': 2147, '배드': 2148, '불도': 2149, '양념': 2150, '인용': 2151, '막상': 2152, '플': 2153, '무리': 2154, '조치': 2155, '구멍': 2156, '관광객': 2157, '크리스마스': 2158, '안이': 2159, '찍': 2160, '기간': 2161, '다리': 2162, '파크': 2163, '6시': 2164, '젖다': 2165, '나가야': 2166, '보이지': 2167, '빛': 2168, '정갈하다': 2169, '외다': 2170, '인도': 2171, '무지개': 2172, '유연제': 2173, '알파카': 2174, '캠핑': 2175, '그릴': 2176, '옴': 2177, '비자림': 2178, '과일': 2179, '놔두다': 2180, '더더': 2181, '헤드': 2182, '냐': 2183, '장판': 2184, '된거': 2185, '만해': 2186, '해지': 2187, '교육': 2188, '긁다': 2189, '스트레스': 2190, '김밥': 2191, '쭉': 2192, '너머': 2193, '바뀌다': 2194, '에다가': 2195, '꼭꼭': 2196, '비록': 2197, '엉망': 2198, '폼클렌징': 2199, '어제': 2200, '줌': 2201, '시국': 2202, '켜지다': 2203, '차단': 2204, '평소': 2205, '요다음': 2206, '망설이다': 2207, '보지': 2208, '끊다': 2209, '데리다': 2210, '다른사람': 2211, '야시장': 2212, '진짜진짜': 2213, '자서': 2214, '변하다': 2215, '창가': 2216, '지키다': 2217, '치': 2218, '집밥': 2219, '지리': 2220, '이랑은': 2221, '물씬': 2222, '망가지다': 2223, '주말': 2224, '세트': 2225, '숨': 2226, '최대': 2227, '팔다': 2228, '구분': 2229, '특별하다': 2230, '모이다': 2231, '웟': 2232, '뿐이다': 2233, 'good': 2234, '동선': 2235, '세번': 2236, '이든': 2237, '0': 2238, '세븐일레븐': 2239, '맑은': 2240, '세탁실': 2241, '쌀쌀하다': 2242, '통나무': 2243, '에게도': 2244, '한개': 2245, '기기': 2246, '재밋': 2247, '용머리': 2248, '협재해변': 2249, '하고도': 2250, '새해': 2251, '코드': 2252, '어디서': 2253, '추위': 2254, '어려움': 2255, '대기': 2256, '아무렇다': 2257, '날짜': 2258, '뿌리다': 2259, '여러분': 2260, '뽑다': 2261, '마냥': 2262, '진동': 2263, '섬세하다': 2264, '마저': 2265, '제한': 2266, '센터': 2267, '흔들다': 2268, '점심': 2269, '정말로': 2270, '은근': 2271, '로서': 2272, '드네': 2273, '더러': 2274, '지난번': 2275, '깜놀': 2276, '인터넷': 2277, 'ㅅ': 2278, 'pc': 2279, '그렇지만': 2280, '떨다': 2281, '넷플': 2282, '쥬스': 2283, '202': 2284, '으': 2285, '비번': 2286, '건너': 2287, '도저히': 2288, '죽이다': 2289, '께서는': 2290, '천': 2291, '빗다': 2292, '7분': 2293, '불빛': 2294, '이상은': 2295, '마루': 2296, '1000': 2297, '키즈': 2298, '마자': 2299, '반납': 2300, '안심': 2301, '반하다': 2302, '고가': 2303, '거려': 2304, '첫째': 2305, '넘어서다': 2306, '반려견': 2307, '가져오다': 2308, '단연': 2309, '맘껏': 2310, '앱': 2311, '어딜': 2312, '네이버': 2313, '지네': 2314, '향기도': 2315, '섬유': 2316, '무지': 2317, '잔디밭': 2318, '모던': 2319, '포포': 2320, '켜': 2321, '뽀송뽀송': 2322, '왠': 2323, '이신': 2324, '잠기다': 2325, '택배': 2326, '아래층': 2327, '극': 2328, '개방': 2329, '어르신': 2330, '신물': 2331, '동시': 2332, '숙박시설': 2333, '정확하다': 2334, '놀러와': 2335, '캔': 2336, '로션': 2337, '닿다': 2338, '쓰레기통': 2339, '문도': 2340, '커피숍': 2341, '양해': 2342, '감기': 2343, '역': 2344, '너무하다': 2345, '년': 2346, '장식': 2347, '비밀번호': 2348, '인포': 2349, '맞은편': 2350, '중심': 2351, '어어': 2352, '점검': 2353, '니깐': 2354, '적절하다': 2355, '나이': 2356, '거미': 2357, 'ㅇㅇㅇㅇㅇ': 2358, '오신': 2359, '취': 2360, '한숨': 2361, '끌': 2362, '이라니': 2363, 'the': 2364, '정면': 2365, '대체': 2366, 'ㅠㅠㅠㅠㅠ': 2367, '우연히': 2368, '어보': 2369, '우풍': 2370, '분과': 2371, '호캉스': 2372, '실외': 2373, '간지럽다': 2374, '뜯다': 2375, '동물': 2376, '조차': 2377, '삼': 2378, '초': 2379, '첨부': 2380, '미안하다': 2381, '각각': 2382, '스피커': 2383, '조심': 2384, '기사': 2385, '쏙': 2386, '9': 2387, '수저': 2388, '친근하다': 2389, '전등': 2390, '편백나무': 2391, '댕댕': 2392, '오자': 2393, '녹이다': 2394, '복': 2395, '협소해': 2396, 'ㅛ': 2397, '줍다': 2398, '모기향': 2399, '읍니': 2400, '자동': 2401, '방만': 2402, '차도': 2403, '태도': 2404, '의문': 2405, '이하': 2406, '괜': 2407, '연동': 2408, '미터': 2409, '나무라다': 2410, '규모': 2411, '취식': 2412, '이점': 2413, '하필': 2414, '사소하다': 2415, '요기': 2416, '마사지': 2417, '진': 2418, '봉투': 2419, '법': 2420, '랄': 2421, '종': 2422, '상상': 2423, '아보': 2424, '계란': 2425, '왼쪽': 2426, '물기': 2427, '권리': 2428, '내야': 2429, '근방': 2430, '고해': 2431, '510분': 2432, '빌다': 2433, '폭설': 2434, '판악': 2435, '애정': 2436, '보수': 2437, '쓰시': 2438, '앞쪽': 2439, '쾌쾌': 2440, '대형': 2441, '순하다': 2442, '수전': 2443, 'gs': 2444, '똑같이': 2445, '여사': 2446, '공짜': 2447, '완료': 2448, '돋보이다': 2449, '옆집': 2450, '오염': 2451, '불가능하다': 2452, '잘알다': 2453, '추': 2454, '끌다': 2455, '다가오다': 2456, '널널': 2457, '침대시트': 2458, '산책길': 2459, '개미': 2460, '이마트': 2461, '부족': 2462, '심플': 2463, '근접하다': 2464, '요구': 2465, '피자': 2466, '어찌나': 2467, 'ㄴ': 2468, '라운지': 2469, '국적': 2470, '노천': 2471, '만약': 2472, '도심': 2473, '외풍': 2474, '반입': 2475, '해외': 2476, '언': 2477, '수정': 2478, '잔소리': 2479, '집다': 2480, '이예': 2481, '보여주다': 2482, '이란': 2483, '스태프': 2484, '개조': 2485, '제도': 2486, '201': 2487, '기념': 2488, '가꾸다': 2489, '수납': 2490, '뻣': 2491, '101': 2492, '친정': 2493, '테마': 2494, '가치': 2495, '유아': 2496, '캡슐': 2497, '독립': 2498, '공장': 2499, '멍멍': 2500, '공기청정기': 2501, '접': 2502, '부근': 2503, '얻다': 2504, '30': 2505, '따숩': 2506, '완전하다': 2507, '흘리다': 2508, '집기': 2509, '땀': 2510, '밟다': 2511, '기약': 2512, '위주': 2513, '피다': 2514, '정비': 2515, '잣': 2516, '인장': 2517, '조만간': 2518, '오르내리다': 2519, '리가': 2520, '나위': 2521, '입지': 2522, '인프라': 2523, '고려': 2524, '거품': 2525, '협소': 2526, '대답': 2527, '울리다': 2528, '려고': 2529, '만의': 2530, '손잡이': 2531, '최대한': 2532, '평범하다': 2533, '마중': 2534, '가보': 2535, '지은': 2536, '식이': 2537, '여관': 2538, '임시': 2539, '랑은': 2540, '늦잠': 2541, '대요': 2542, '주무시다': 2543, '마인드': 2544, '찌들다': 2545, '뚜껑': 2546, '트리스': 2547, '대서': 2548, '깨끗이': 2549, '시도': 2550, '모자라다': 2551, '조리도': 2552, '키우다': 2553, '할아버지': 2554, '가을': 2555, '올려주다': 2556, '음악': 2557, '널': 2558, '미소': 2559, '광': 2560, '느리다': 2561, '제발': 2562, '실컷': 2563, '금지': 2564, '늦어지다': 2565, '투룸': 2566, '라마': 2567, '안함': 2568, '뒤쪽': 2569, '일부': 2570, '24시': 2571, '인스타': 2572, '차서': 2573, '멋': 2574, '옹': 2575, '롯데': 2576, '어이': 2577, '특이하다': 2578, '파다': 2579, '야자수': 2580, '쪼금': 2581, '해녀': 2582, '뭐라다': 2583, '구역': 2584, '옥': 2585, '지난': 2586, '표선': 2587, '고리': 2588, '15': 2589, '차리다': 2590, '이보': 2591, '울': 2592, '시체': 2593, '놀이': 2594, '업글': 2595, '평수': 2596, '수다': 2597, '습기': 2598, '소중하다': 2599, '안도': 2600, '장난감': 2601, '아버지': 2602, '초록': 2603, '샌딩': 2604, '맨': 2605, '농협': 2606, '은은하다': 2607, '삶': 2608, '단골': 2609, '노크': 2610, '번은': 2611, '유튜브': 2612, '무한': 2613, '아랫': 2614, '여인숙': 2615, '몇개': 2616, '내주다': 2617, '낫다': 2618, '건가': 2619, '째다': 2620, '부딪히다': 2621, '구입': 2622, '부럽다': 2623, '약속': 2624, '뛰어나다': 2625, '성격': 2626, '없어지다': 2627, '기만': 2628, '양쪽': 2629, '댁': 2630, '형식': 2631, '트': 2632, '에가': 2633, '볼일': 2634, '별빛': 2635, '쏟아지다': 2636, '까맣다': 2637, '영업': 2638, '기상': 2639, '구름': 2640, '상관': 2641, '마운틴뷰': 2642, '찢어지다': 2643, '패키지': 2644, '침해': 2645, '족': 2646, '서핑': 2647, '무심하다': 2648, '부실하다': 2649, '길가': 2650, '편도': 2651, '2시간': 2652, '널찍하다': 2653, '깊이': 2654, '토': 2655, 'd': 2656, '조금씩': 2657, '펼치다': 2658, '아줌마': 2659, '1회': 2660, '너무도': 2661, '군더더기': 2662, '시구': 2663, '공동': 2664, '잠귀': 2665, '500': 2666, '표현': 2667, '한식': 2668, '행온': 2669, '꽁초': 2670, '채다': 2671, '놀수': 2672, '패스': 2673, '았': 2674, '조미료': 2675, '빨': 2676, '난리': 2677, '던지다': 2678, '빵집': 2679, '피부': 2680, '선호': 2681, '매다': 2682, '1일': 2683, '매년': 2684, '이내': 2685, '별관': 2686, '순위': 2687, '구이': 2688, '핸드폰': 2689, '상가': 2690, '냉동': 2691, '녹슬다': 2692, '강제': 2693, '훤히': 2694, '베리': 2695, '여유롭다': 2696, '언덕': 2697, '사계': 2698, '기구': 2699, '뻥': 2700, '킹': 2701, '2천원': 2702, '버튼': 2703, '야식': 2704, '가나': 2705, '미지근하다': 2706, '징': 2707, '등록': 2708, '슈퍼': 2709, '히노끼': 2710, '동물원': 2711, '23': 2712, '얼음': 2713, 'no': 2714, '겪다': 2715, '활용': 2716, '쵝오': 2717, '5만원': 2718, '샷': 2719, '동부': 2720, '관': 2721, '설거지': 2722, '인게': 2723, '도어': 2724, '전원': 2725, '말로': 2726, '푹신푹신': 2727, '이기도': 2728, '스위스': 2729, '뛰어놀다': 2730, '삶다': 2731, '새우': 2732, '햇살': 2733, '푸른': 2734, 'a': 2735, '라니': 2736, '깜빡': 2737, '에다': 2738, '갠': 2739, '신관': 2740, '지은지': 2741, '끝장': 2742, '거짓말': 2743, '취약': 2744, '뻑뻑': 2745, '조명도': 2746, '말소리': 2747, '닦이다': 2748, '물티슈': 2749, '싫어하다': 2750, '누우': 2751, 'ㅋㅋㅋㅋㅋㅋ': 2752, '습니': 2753, '6월': 2754, '훨': 2755, '환': 2756, '목욕': 2757, '부드럽다': 2758, '서부': 2759, '양도': 2760, '고프다': 2761, '누': 2762, '발생': 2763, '쓴다': 2764, '외국인': 2765, '무사하다': 2766, '조경': 2767, '콘도': 2768, '형태': 2769, '링크': 2770, '신하': 2771, '씨유': 2772, '신발장': 2773, '동일하다': 2774, '교환': 2775, '종종': 2776, '사정': 2777, '1만원': 2778, '5천원': 2779, '최소한': 2780, '방해': 2781, '싸구려': 2782, '갈치': 2783, '꺼': 2784, '중국': 2785, '솜': 2786, '간편하다': 2787, '장사': 2788, '뛰어다니다': 2789, '외국': 2790, '부스러기': 2791, '해장국': 2792, '부담스럽다': 2793, '햇반': 2794, '장비': 2795, '딸리다': 2796, '목소리': 2797, '컴터': 2798, '박물관': 2799, '꺼내다': 2800, '생선': 2801, '메리트': 2802, '선반': 2803, '드물다': 2804, '언급': 2805, '둘러보다': 2806, '천정': 2807, '자판기': 2808, '레스토랑': 2809, '현장': 2810, '도넛': 2811, '지지다': 2812, '마저도': 2813, '포인트': 2814, '갑작스럽다': 2815, '군데군데': 2816, 'b': 2817, '양치': 2818, '타입': 2819, '핸드': 2820, '공영': 2821, 'm': 2822, '시티': 2823, '미끄럽다': 2824, '45': 2825, '가로등': 2826, '포트': 2827, '댜': 2828, '정신': 2829, '천지연': 2830, '황당하다': 2831, '산이': 2832, '앞바다': 2833, '미온수': 2834, '초보': 2835, '팀': 2836, '스탭분': 2837, '온몸': 2838, '수제': 2839, '유리창': 2840, '고간': 2841, '소금': 2842, '구조도': 2843, '디테일': 2844, '씽': 2845, '직': 2846, '서랍': 2847, '친척': 2848, '우우': 2849, '수국': 2850, '안방': 2851, '상냥하다': 2852, '친해지다': 2853, '프로젝트': 2854, '착각': 2855, '하우': 2856, '휴대폰': 2857, '방역': 2858, 'ㄹ': 2859, '드라이브': 2860, '띄다': 2861, '가위': 2862, '생일': 2863, '랜': 2864, '가쁜': 2865, 'life': 2866, 'rest': 2867, '비닐': 2868, '십분': 2869, '혼': 2870, '지고': 2871, '비즈니스': 2872, '틀리다': 2873, '다인': 2874, '멀티탭': 2875, '렌터카': 2876, '칠': 2877, '천천히': 2878, '날리다': 2879, '별루': 2880, '정감': 2881, '액자': 2882, '그림': 2883, '지급': 2884, '사업': 2885, '추워지다': 2886, '한라봉': 2887, '잼': 2888, '상이': 2889, '자취': 2890, '포구': 2891, '매니': 2892, '알맞다': 2893, '취하': 2894, '첫인상': 2895, '불면': 2896, '11월': 2897, '외지': 2898, '도르다': 2899, '마': 2900, '색다르다': 2901, '어색하다': 2902, '누군가': 2903, '전달': 2904, '마르다': 2905, '오니': 2906, '지배인': 2907, '지지': 2908, '안고': 2909, '아웃': 2910, '쾌적': 2911, '낫': 2912, '업무': 2913, '녹다': 2914, '센서': 2915, '란': 2916, '떼': 2917, '7일': 2918, '칼국수': 2919, '서서': 2920, '욧': 2921, '유료': 2922, '저녁식사': 2923, '만으로도': 2924, '육지': 2925, '놀람': 2926, '위험': 2927, '독': 2928, '밤새다': 2929, '컴': 2930, '번거롭다': 2931, '수월하다': 2932, '앤': 2933, '쬐다': 2934, '강풍': 2935, '년전': 2936, '문소리': 2937, '꼭대기': 2938, '서귀포시': 2939, '압도': 2940, '꼽자': 2941, '건너다': 2942, '인심': 2943, '메인': 2944, '괜히': 2945, '잡기': 2946, '활주로': 2947, '보완': 2948, '키로': 2949, '가로': 2950, '여직원': 2951, '석식': 2952, '풍기': 2953, '이중섭': 2954, '가든': 2955, '어매니티': 2956, '메다': 2957, '셨': 2958, '지나': 2959, '호스': 2960, '행사': 2961, '양말': 2962, '주택': 2963, '수세미': 2964, '슈': 2965, 'ㅏ': 2966, '연속': 2967, '라기': 2968, '부가': 2969, '그땐': 2970, '편백': 2971, '정겹다': 2972, '궁': 2973, '부턴': 2974, '쿨링': 2975, '유명': 2976, '자르다': 2977, '시즌': 2978, '24시간': 2979, '안내받다': 2980, '부랴부랴': 2981, '식당가': 2982, '위쪽': 2983, '기타': 2984, '배웅': 2985, '동남아': 2986, '관심': 2987, '생기': 2988, '편안': 2989, '용두암': 2990, '목동': 2991, '천진항': 2992, '슴': 2993, '인연': 2994, '이용자': 2995, '화이트': 2996, '블루투스': 2997, '용공': 2998, '디스': 2999, '갑인': 3000, '오오오': 3001, '노력': 3002, '창고': 3003, '완젼': 3004, '햇빛': 3005, '두껍다': 3006, '만날': 3007, '똑바로': 3008, '으로만': 3009, '계시': 3010, '허름': 3011, 'ㄷ': 3012, '방기': 3013, '유용하다': 3014, '사라지다': 3015, '안녕하다': 3016, '찜': 3017, '에어': 3018, '음료수': 3019, '쩔다': 3020, '한가득': 3021, '민망하다': 3022, '어떤': 3023, '비치다': 3024, '면도': 3025, '겹': 3026, '꽂다': 3027, '종주': 3028, '실시': 3029, '유채꽃': 3030, '전기포트': 3031, '심다': 3032, '혹은': 3033, '고지': 3034, '폼': 3035, '갠차다': 3036, '각자': 3037, '껏': 3038, '이어지다': 3039, '끊기다': 3040, '수시로': 3041, '척': 3042, '광고': 3043, '침': 3044, '삼일': 3045, '소독': 3046, '40분': 3047, '뒤지다': 3048, '간이': 3049, '피드백': 3050, '몇몇': 3051, '감수': 3052, '세수': 3053, '좋아욤': 3054, '잘해주다': 3055, '트윈룸': 3056, '스탠다드': 3057, '6일': 3058, '글구': 3059, '종이컵': 3060, '가려지다': 3061, '또는': 3062, '쥐다': 3063, '솔솔': 3064, '에서부터': 3065, '젛아': 3066, '환하다': 3067, '결재': 3068, '즐': 3069, '의미': 3070, '존맛': 3071, 'ㄱ': 3072, '2년': 3073, '고구마': 3074, '먹음': 3075, '치기': 3076, '놀리다': 3077, '퀴퀴하다': 3078, '불가하다': 3079, '피해': 3080, '인생샷': 3081, '부서지다': 3082, '굿굿굿': 3083, '삼다수': 3084, '도안': 3085, '포': 3086, '개꿀': 3087, '인가요': 3088, '트리플': 3089, '세명': 3090, '요담': 3091, '과정': 3092, '거리라': 3093, '큰길': 3094, '중요시': 3095, '두봉': 3096, '랜덤': 3097, '전경': 3098, '전세': 3099, '패드': 3100, '룸메': 3101, '컨셉': 3102, '반복': 3103, '방치': 3104, '만하': 3105, '망치다': 3106, '검다': 3107, '우산': 3108, '옆쪽': 3109, '무뚝뚝하다': 3110, '의외로': 3111, '가스': 3112, '기절': 3113, '컨디셔너': 3114, '기념품': 3115, '당장': 3116, '선인장': 3117, '어어어어': 3118, '할머님': 3119, '활': 3120, '용도': 3121, '스노': 3122, '수영복': 3123, '상쾌하다': 3124, '철저하다': 3125, '별장': 3126, '상주': 3127, '흔하다': 3128, '소등': 3129, '싸우다': 3130, '햇볕': 3131, '맛보다': 3132, '배경': 3133, '대단하다': 3134, '남친': 3135, '락': 3136, '틀어지다': 3137, '점수': 3138, '청': 3139, '이외': 3140, '욕심': 3141, '탓': 3142, '걸레': 3143, '누구': 3144, '해당': 3145, '멍하다': 3146, '넘기다': 3147, '톤': 3148, '파티룸': 3149, '모서리': 3150, '혜자': 3151, '나마': 3152, '맨발': 3153, '오래오래': 3154, '엇어': 3155, '가스렌지': 3156, '구르다': 3157, '알바': 3158, 'ㅣ': 3159, '튀다': 3160, '악': 3161, '내일': 3162, '라떼': 3163, 'ㅜㅜㅜ': 3164, '의심': 3165, '달리다': 3166, '풍구': 3167, '탈': 3168, '옵션': 3169, '배민': 3170, '부산': 3171, '다수': 3172, '사기': 3173, '스위치': 3174, '풀기': 3175, '토퍼': 3176, '에어콘': 3177, '닥': 3178, '욯': 3179, '심심하다': 3180, '유의': 3181, '깨지다': 3182, '참가': 3183, '하루하루': 3184, '소주': 3185, '우산도': 3186, '처': 3187, '투': 3188, '관계': 3189, '천국': 3190, '던데': 3191, '반대편': 3192, '자부심': 3193, '꽉차다': 3194, '가르치다': 3195, '두드리다': 3196, '넘어지다': 3197, '사고': 3198, '공유': 3199, '섞이다': 3200, '주스': 3201, '호스텔': 3202, '국수': 3203, '회사': 3204, '신선하다': 3205, '반딧불': 3206, '그걸': 3207, '비지': 3208, '백퍼': 3209, '일품': 3210, '재우다': 3211, '요가': 3212, '꿀': 3213, '휴지통': 3214, '요소': 3215, '천원': 3216, '헤어': 3217, '따지다': 3218, '드라마': 3219, '려': 3220, '시가': 3221, '까진': 3222, '지속': 3223, '곧': 3224, '본적': 3225, '리지': 3226, '운동': 3227, '막날': 3228, '깎다': 3229, '걸어오다': 3230, '앞뒤': 3231, '국': 3232, '인시': 3233, '리나': 3234, '프라이팬': 3235, '게임기': 3236, '이동해': 3237, '이착륙': 3238, '갈래': 3239, '기존': 3240, '상품': 3241, '적어도': 3242, '아메리카노': 3243, '호수': 3244, '코너': 3245, '위아래': 3246, '프로그램': 3247, '최강': 3248, '아쿠아리움': 3249, '주요': 3250, '용감': 3251, '올려놓다': 3252, '사르다': 3253, '통로': 3254, '이리': 3255, '베스트': 3256, '우수하다': 3257, '질문': 3258, '마음껏': 3259, '오라': 3260, '아파트': 3261, '쪼끔': 3262, '주방용품': 3263, '에프킬라': 3264, '특유': 3265, '힐': 3266, '기억나다': 3267, '수구': 3268, '얼리다': 3269, '수없이': 3270, '자재': 3271, '마라도': 3272, '둘레길': 3273, '모슬포항': 3274, '품다': 3275, '그랜드': 3276, '차분하다': 3277, '표정': 3278, '한장': 3279, '치면': 3280, '취한': 3281, '평화롭다': 3282, '해돋이': 3283, '꺼리다': 3284, '합': 3285, '정리정돈': 3286, '절로': 3287, '소라': 3288, '명소': 3289, '이라기': 3290, '아가': 3291, '응': 3292, '무조': 3293, '찜찜하다': 3294, '고향': 3295, '명도': 3296, '베': 3297, '석': 3298, '귀신': 3299, '대박나다': 3300, '뿌듯하다': 3301, '레이스': 3302, '호불호': 3303, '용다': 3304, '축축하다': 3305, '5000원': 3306, '오른쪽': 3307, '실전': 3308, '10000': 3309, '10일': 3310, '앗': 3311, '낯': 3312, '행복': 3313, '따스하다': 3314, '한쪽': 3315, '덤': 3316, '가리다': 3317, '10만원': 3318, '커다랗다': 3319, '업다': 3320, '스팟': 3321, '23분': 3322, '퇴치': 3323, '후드': 3324, '고기국수': 3325, '애교': 3326, '똥': 3327, '즐거움': 3328, '잘생기다': 3329, '퍼센트': 3330, '칼': 3331, '초과': 3332, '11': 3333, '저녁때': 3334, '치고는': 3335, '와의': 3336, '배부르다': 3337, '예민': 3338, '떠다니다': 3339, '비바람': 3340, '헷갈리다': 3341, '하중': 3342, '25': 3343, '롭고': 3344, 'i': 3345, '방식': 3346, '육월': 3347, '빨갛다': 3348, '담그다': 3349, 'ㅠㅡㅠ': 3350, '텃밭': 3351, '채소': 3352, '틱': 3353, '옛': 3354, '복판': 3355, '대접받다': 3356, '당하다': 3357, '충실하다': 3358, '보라': 3359, '매너': 3360, '젓가락': 3361, '마시기': 3362, '덩': 3363, '판이': 3364, '뱅기': 3365, '끼우다': 3366, '반에': 3367, '이채': 3368, '정문': 3369, '벌': 3370, '강력하다': 3371, '나방': 3372, '쇼핑': 3373, '어찌': 3374, '환영': 3375, '화려하다': 3376, '정취': 3377, '50': 3378, '필터': 3379, '한두': 3380, '뺏다': 3381, '로운': 3382, '웃': 3383, '설레다': 3384, '밤하늘': 3385, '지경': 3386, '기한': 3387, '보드': 3388, '치즈': 3389, '대리': 3390, '휴': 3391, '불량하다': 3392, '특': 3393, '버블': 3394, '일도': 3395, '활짝': 3396, '모양': 3397, '듯해': 3398, '요조': 3399, '걸음': 3400, '쿠': 3401, '쌔': 3402, '자랑': 3403, '탑동': 3404, '상권': 3405, '품': 3406, '덕이': 3407, '돋다': 3408, '간직': 3409, '평가': 3410, '테이프': 3411, '성공하다': 3412, '야채': 3413, '출입': 3414, '풍력': 3415, '지리다': 3416, '셔틀': 3417, '만난': 3418, '보드게임': 3419, '오토바이': 3420, '괴롭다': 3421, '1월': 3422, '피씨': 3423, '벗겨지다': 3424, '오락': 3425, '만큼은': 3426, '야무지다': 3427, '소화': 3428, '돌려주다': 3429, '안경': 3430, '이십': 3431, '짐보': 3432, '지워지다': 3433, '분만': 3434, '리모콘': 3435, '작업': 3436, '작은방': 3437, '16': 3438, '대의': 3439, '가습기': 3440, '왓어': 3441, '어마어마하다': 3442, '건조': 3443, '두운': 3444, '리얼': 3445, '신의': 3446, '억': 3447, '큼직하다': 3448, '싸가지': 3449, 'ㅎㅎㅎㅎㅎㅎ': 3450, '하얏트': 3451, '고층': 3452, '반대': 3453, '그동안': 3454, '간곳': 3455, '아이스크림': 3456, '연휴': 3457, '기어': 3458, '콜': 3459, '두루': 3460, '미니바': 3461, '병원': 3462, '방지': 3463, '이드': 3464, '다운': 3465, '만지다': 3466, '복불복': 3467, '타워': 3468, '더불다': 3469, '코인': 3470, '체고': 3471, '점점': 3472, '십': 3473, '겨울철': 3474, '가파도': 3475, '환갑': 3476, '현재': 3477, '촬영': 3478, '퍼': 3479, '15000원': 3480, '화면': 3481, '북적': 3482, '지기': 3483, '모임': 3484, '근거리': 3485, 'km': 3486, '마땅하다': 3487, '벨': 3488, '거주': 3489, '소가': 3490, '당시': 3491, '렌': 3492, '앞마당': 3493, '트램펄린': 3494, '살수': 3495, '튼튼하다': 3496, '김만복': 3497, '고개': 3498, '계절': 3499, '5월': 3500, '모닝커피': 3501, '외곽': 3502, '카카오': 3503, '부': 3504, '9월': 3505, '추석': 3506, '오설록': 3507, '이색': 3508, '딸기': 3509, '핵': 3510, '나가시': 3511, '비수': 3512, '소통': 3513, '노랗다': 3514, '부지런하다': 3515, '으뜸': 3516, '몰다': 3517, '주문': 3518, '난감하다': 3519, '태어나다': 3520, '깔리다': 3521, '풍도': 3522, '사진빨': 3523, '아영': 3524, 'bb': 3525, '석양': 3526, '좌': 3527, '시리다': 3528, '에코랜드': 3529, '가가': 3530, '서우': 3531, '쉰내': 3532, '허브': 3533, '집안': 3534, '고추': 3535, '102': 3536, '누리다': 3537, '짓다': 3538, '쐬다': 3539, '조리기구': 3540, '화나다': 3541, '때매': 3542, '존재': 3543, '안타깝다': 3544, 'ps': 3545, '이중': 3546, '차지': 3547, '비행': 3548, '바램': 3549, '벗어나다': 3550, '오가다': 3551, '휴무': 3552, '비밀': 3553, '체': 3554, '벌어지다': 3555, '기고': 3556, '꼬이다': 3557, '낯선': 3558, '워터파크': 3559, '조림': 3560, '놈': 3561, '6만원': 3562, '땅': 3563, '강조': 3564, '취침': 3565, '18': 3566, '문의사항': 3567, '공감': 3568, '미역국': 3569, '농장': 3570, '후회되다': 3571, '리셉션': 3572, '우드': 3573, '오랫동안': 3574, '커피한잔': 3575, '환승': 3576, '넷': 3577, '곳임': 3578, '놀랍다': 3579, '헤매다': 3580, '10월': 3581, '고등어': 3582, '탁월하다': 3583, '다이슨': 3584, '육일': 3585, '틴더': 3586, '페리': 3587, '달자': 3588, '에야': 3589, '재미나': 3590, '젠': 3591, '딘': 3592, '온갖': 3593, '특실': 3594, '백프로': 3595, '턱': 3596, 'ㅎㅎㅎㅎㅎㅎㅎ': 3597, '이겠다': 3598, '악의': 3599, '새끼': 3600, '오류': 3601, '아시': 3602, '하드': 3603, '전복': 3604, '뱅': 3605, '바르다': 3606, '읍': 3607, '차고': 3608, '여친': 3609, '쇼': 3610, '이중창': 3611, '곤': 3612, '파우더': 3613, '송악산': 3614, '리스트': 3615, '돌아서다': 3616, '쉰': 3617, '탈수': 3618, '12월': 3619, '독채팬션': 3620, '전면': 3621, '컨테이너': 3622, '젛': 3623, '마음대로': 3624, '가신': 3625, '별보': 3626, '터치': 3627, '블룸': 3628, '화장지': 3629, '구한': 3630, '물살': 3631, '영향': 3632, '개운하다': 3633, '아유': 3634, '성의': 3635, '현금': 3636, '쿵쾅거리다': 3637, '56': 3638, '리터': 3639, '숨다': 3640, '잡채': 3641, '금요일': 3642, '그다지': 3643, '성도': 3644, '이어도': 3645, '바다로': 3646, '따끈따끈하다': 3647, '찌': 3648, '노트북': 3649, '얼다': 3650, '중국인': 3651, '쥬': 3652, '고하': 3653, '쳐다보다': 3654, '꼬옥': 3655, '까먹다': 3656, '엇습': 3657, '습니다': 3658, '즉흥': 3659, '션': 3660, '풍부하다': 3661, '우수': 3662, '부터는': 3663, '아이디': 3664, '8월': 3665, '보상': 3666, '해외여행': 3667, '소박하다': 3668, '마스코트': 3669, '관덕정': 3670, '우진': 3671, '발자국': 3672, '수박': 3673, '마치다': 3674, '부러지다': 3675, '타이밍': 3676, '계란후라이': 3677, '로망': 3678, 'so': 3679, '저리': 3680, '소한': 3681, '대만': 3682, '흰색': 3683, '성능': 3684, '파손': 3685, '기름': 3686, '예매': 3687, '얼른': 3688, '속옷': 3689, '고만': 3690, '그랬는데': 3691, '용서': 3692, '만남': 3693, '시간대': 3694, 'ㅎㅅㅎ': 3695, '진드기': 3696, '삼다': 3697, '활동': 3698, '붉다': 3699, '트러블': 3700, '비상': 3701, '오브': 3702, '메이드': 3703, '빈': 3704, '3년': 3705, '더블베드': 3706, '덜덜': 3707, '퉁': 3708, '탁트인': 3709, '전에': 3710, '주지': 3711, '우린': 3712, '이간': 3713, '안감': 3714, '이야': 3715, '가슴': 3716, '부페': 3717, '팡': 3718, '마침': 3719, '판단': 3720, '덩어리': 3721, '나니': 3722, '측면': 3723, '반드시': 3724, 'suv': 3725, '굿굿굿굿굿굿굿굿굿굿': 3726, '사무실': 3727, '조차도': 3728, '팅': 3729, '일본': 3730, '윗방': 3731, '34': 3732, '속도': 3733, '갈아입다': 3734, '족욕': 3735, '표지판': 3736, '잠금장치': 3737, '개념': 3738, '장물': 3739, '25분': 3740, '겸용': 3741, '적응': 3742, '즐비하다': 3743, '대명': 3744, '스카이': 3745, '전화기': 3746, '장박': 3747, '축제': 3748, '살리다': 3749, '패': 3750, '귤나무': 3751, '소름': 3752, '고여': 3753, '근무': 3754, '스탠드': 3755, '답장': 3756, '쿠키': 3757, '찮아다': 3758, '안에': 3759, '방어': 3760, '멀쩡하다': 3761, '드럽다': 3762, '세안': 3763, '두기': 3764, '재질': 3765, '수면': 3766, '돔': 3767, '웬': 3768, '골다': 3769, '형님': 3770, '수련': 3771, '인전': 3772, '새우다': 3773, '만자': 3774, '여니': 3775, '짱짱하다': 3776, '케리': 3777, '탄성': 3778, '귀마개': 3779, '뿔': 3780, '펜션앞': 3781, '말리': 3782, '평형': 3783, '고조': 3784, '가루': 3785, '초딩': 3786, '자차': 3787, '가르다': 3788, '냉수': 3789, '요새': 3790, '최상급': 3791, '뇨': 3792, '와우': 3793, '우기다': 3794, '알리다': 3795, '눈앞': 3796, '36': 3797, '미만': 3798, '김녕해수욕장': 3799, '분다': 3800, '못햇': 3801, '깜깜': 3802, '오분': 3803, '안전': 3804, '상하': 3805, '허락': 3806, '지연': 3807, '든지': 3808, '소요': 3809, '프로젝터': 3810, '평생': 3811, '잔잔하다': 3812, '츤데레': 3813, '소도': 3814, '두시': 3815, '쿨하다': 3816, '추후': 3817, '천지': 3818, '가동': 3819, '갈비': 3820, '치솔': 3821, '뿜뿜': 3822, 'ㅠㅠㅠㅠㅠㅠㅠ': 3823, '헤': 3824, '수학여행': 3825, '직전': 3826, '청구': 3827, '나타나다': 3828, '푹신': 3829, '뚝뚝': 3830, '여행기': 3831, '어마': 3832, '잠기': 3833, '사려': 3834, '이자': 3835, '간격': 3836, '섬': 3837, '애가': 3838, '싸': 3839, '여건': 3840, '높이다': 3841, '진하다': 3842, '저기': 3843, '새집': 3844, '레트로': 3845, '30초': 3846, '따라서': 3847, '타임': 3848, '짜리': 3849, '셔': 3850, '고요하다': 3851, '장보고': 3852, '감각': 3853, '소주잔': 3854, '세우다': 3855, 'to': 3856, '좌우': 3857, '물소': 3858, '홈': 3859, '젖병': 3860, '밥그릇': 3861, '봉지': 3862, '모닝': 3863, '빼': 3864, '키트': 3865, '종이': 3866, 'o': 3867, '가전': 3868, '노마드': 3869, '가스레인지': 3870, '망은': 3871, '부디': 3872, '시공': 3873, '얼룩지다': 3874, '둘쨋': 3875, '제거': 3876, '발렛': 3877, '여정': 3878, '표시': 3879, '장애인': 3880, '어딘': 3881, '무시': 3882, '옳다': 3883, '간혹': 3884, '따갑다': 3885, '맨날': 3886, '관리인': 3887, '봬': 3888, '박해': 3889, '해산물': 3890, '3시간': 3891, '19': 3892, '뿌리': 3893, '쿵': 3894, 'cctv': 3895, '향기롭다': 3896, '흡연실': 3897, '쿰쿰하다': 3898, '수십': 3899, '벽간': 3900, '어디가': 3901, '조작': 3902, '도어락': 3903, '단계': 3904, '어지간하다': 3905, '홀로': 3906, '떠오르다': 3907, '스케줄': 3908, '산행': 3909, '넒': 3910, '28': 3911, '자리다': 3912, '철': 3913, '지정': 3914, '찌린내': 3915, '무제한': 3916, '맘대로': 3917, '미모': 3918, '냉방': 3919, '저절로': 3920, '분실물': 3921, '시마': 3922, '대고': 3923, '채광': 3924, '번가': 3925, '장인': 3926, '10초': 3927, '에드': 3928, '누렇': 3929, '어유': 3930, '이래서': 3931, '이루다': 3932, '쵝': 3933, '간판': 3934, '인형': 3935, '따님': 3936, '빈티': 3937, '구해': 3938, '리기': 3939, '그중': 3940, '마개': 3941, '자매': 3942, '싼값': 3943, '정해진': 3944, '난타': 3945, '뒤척': 3946, '이리저리': 3947, '러': 3948, '발전기': 3949, '유통': 3950, '그린': 3951, '최적화': 3952, '행': 3953, '왕복': 3954, '운행': 3955, '도시락': 3956, '블로그': 3957, '입맛': 3958, '혹': 3959, '사양': 3960, '짐풀': 3961, '제로': 3962, '피해자': 3963, '랍': 3964, '씨': 3965, '설다': 3966, '마우스': 3967, '빨르다': 3968, '피시': 3969, '을해': 3970, '욬': 3971, '털다': 3972, '주일': 3973, '관도': 3974, '끌리다': 3975, '독방': 3976, '정해지다': 3977, '흔': 3978, '아앙': 3979, '힘': 3980, '거지': 3981, '의견': 3982, '안개': 3983, '충분': 3984, '물바다': 3985, '번잡': 3986, '경악': 3987, '폭신': 3988, '분명하다': 3989, '둥둥': 3990, '위트': 3991, '자시다': 3992, '염': 3993, '분하다': 3994, '항의': 3995, '해주': 3996, '허름해': 3997, '조카': 3998, '내에': 3999, '네요': 4000, '똑똑': 4001, '죄': 4002, '실리콘': 4003, '구명조끼': 4004, '불만족': 4005, '이런저런': 4006, '카트': 4007, '만족감': 4008, '시야': 4009, '많아지다': 4010, '어떻': 4011, '중산': 4012, '어우러지다': 4013, '지붕': 4014, '속상하다': 4015, '편임': 4016, '레이': 4017, '스위트': 4018, '꼽': 4019, '상해': 4020, '17': 4021, '수심': 4022, '드릴': 4023, '주전자': 4024, '손가락': 4025, '꽝': 4026, 'ㅓ': 4027, '최애': 4028, '플러그': 4029, '리필': 4030, '장관': 4031, '에서나': 4032, '회장': 4033, '티슈': 4034, '별채': 4035, '전화통화': 4036, '근대': 4037, '중턱': 4038, '개장': 4039, '더니': 4040, '증말': 4041, '달랑': 4042, '리뉴얼': 4043, '퀸': 4044, '그다음': 4045, '래시': 4046, '보증금': 4047, '토끼': 4048, '스쿠버': 4049, '다이빙': 4050, '돼지고기': 4051, '7월': 4052, '부리다': 4053, '비위생적': 4054, '추움': 4055, '나오니': 4056, '대쪽': 4057, '잘만': 4058, '나아지다': 4059, '배타': 4060, '모으다': 4061, '문구': 4062, '차마': 4063, '해바라기': 4064, '무덥다': 4065, '간단': 4066, '무려': 4067, '복잡하다': 4068, '요약': 4069, '데려가다': 4070, '어쩌다': 4071, '203': 4072, '볼때': 4073, '겁': 4074, 'ㅗ': 4075, '모름': 4076, '포차': 4077, '칵테일': 4078, '베드룸': 4079, '해안로': 4080, '라이딩': 4081, '익숙해지다': 4082, '벨소리': 4083, '요하': 4084, '충만': 4085, '버너': 4086, '이여': 4087, '후끈': 4088, '문어': 4089, '훈훈하다': 4090, '훌륭': 4091, '군락': 4092, '라던가': 4093, '몹시': 4094, '방송': 4095, '비리다': 4096, '먹이': 4097, '드럼세탁기': 4098, '관람': 4099, '알려지다': 4100, '이방': 4101, '남녀': 4102, '썩': 4103, '군대': 4104, '다락': 4105, '잘리다': 4106, '망하다': 4107, '치가': 4108, '부득불': 4109, '간의': 4110, '오징어': 4111, '물고기': 4112, '비올': 4113, '줄이다': 4114, '데크': 4115, '식용유': 4116, '미흡': 4117, '접다': 4118, '골프장': 4119, '이분': 4120, '한겨울': 4121, '오프너': 4122, '와인잔': 4123, '그네': 4124, '투명': 4125, '동이': 4126, 'ㄹㅇ': 4127, '꽉': 4128, '듬뿍': 4129, '저가': 4130, '알리': 4131, '벽면': 4132, '약국': 4133, '웃풍': 4134, '이인': 4135, '박이상': 4136, '무작정': 4137, '명월': 4138, '봣': 4139, '안남': 4140, '식다': 4141, '무릎': 4142, '1015분': 4143, '뒷쪽': 4144, '스프': 4145, '꿀맛': 4146, '얼': 4147, '어린이': 4148, '착용': 4149, '방문객': 4150, '오락실': 4151, '사랑스럽다': 4152, '타지': 4153, '제격': 4154, '신건': 4155, '현': 4156, '효율': 4157, '매장': 4158, '결': 4159, '솔직': 4160, '흥': 4161, '스크린': 4162, '자녀': 4163, '조그만': 4164, '보름': 4165, '요긴': 4166, '신해': 4167, '99': 4168, '픽': 4169, '엄지': 4170, '셋팅': 4171, '상대': 4172, '이륙': 4173, '찾아다니다': 4174, '팁': 4175, '만큼의': 4176, '도두동': 4177, '25000원': 4178, '명절': 4179, '달래다': 4180, '303': 4181, '드라이어': 4182, '추강': 4183, '웅': 4184, '케이블': 4185, '리도': 4186, '수동': 4187, '이뿌다': 4188, '바구니': 4189, '온건': 4190, '고고': 4191, '덜컹': 4192, '식물': 4193, '뒷정리': 4194, '조그마하다': 4195, '잡음': 4196, '사이트': 4197, '평상': 4198, '300': 4199, '체계': 4200, '딸아이': 4201, '햄버거': 4202, '펀하다': 4203, 'was': 4204, '까다롭다': 4205, '낭낭': 4206, '끊어지다': 4207, '출입문': 4208, '아내': 4209, '듬': 4210, '댱': 4211, '껄': 4212, '하영': 4213, '익다': 4214, '완비': 4215, '조선': 4216, '배드민턴': 4217, '지니': 4218, '오르락내리락': 4219, '바스락': 4220, '연애': 4221, '타운': 4222, '텐데': 4223, '애월빵': 4224, '무드': 4225, '원목': 4226, '살아가다': 4227, '본연': 4228, '스노클링': 4229, '토르': 4230, '기재': 4231, 'ㅇㅇㅇ': 4232, '따먹다': 4233, '돈까스': 4234, '믹스': 4235, '인걸': 4236, '폰': 4237, '불법': 4238, '너덜너덜': 4239, '소독기': 4240, '쪼': 4241, '도시': 4242, '애초': 4243, '느': 4244, '대감': 4245, '투자': 4246, '주가': 4247, '소용': 4248, '뜨뜻하다': 4249, '딴': 4250, '아일랜드': 4251, '영상': 4252, '퇴근': 4253, '실패하다': 4254, '나이스': 4255, '좋아욯': 4256, '쾅쾅': 4257, '찌꺼기': 4258, '기겁': 4259, '응답': 4260, '고문': 4261, '후문': 4262, '시나': 4263, '래서': 4264, '괜춘': 4265, '떡하니': 4266, '마리나': 4267, '젠틀': 4268, '이세': 4269, '범섬': 4270, '스킨': 4271, '대략': 4272, '반지하': 4273, '미닫이': 4274, '토요일': 4275, '트리': 4276, '숙식': 4277, '개인실': 4278, '스쿠터': 4279, '하진': 4280, '는데': 4281, '현상': 4282, '종료': 4283, '춤추다': 4284, '명과': 4285, '로써': 4286, '클럽': 4287, '쿵쾅': 4288, '개판': 4289, '소린': 4290, '에이': 4291, '촉감': 4292, '수업': 4293, '용해': 4294, '상식': 4295, '우려': 4296, '리카': 4297, '여느': 4298, '콸': 4299, 'ㅎㅏ': 4300, '4시간': 4301, '그런대로': 4302, 'ㅇㅇ': 4303, '보아': 4304, '네오': 4305, 'ㅇㅓ': 4306, '인들': 4307, '실랑이': 4308, '이신가': 4309, '형성': 4310, '8일': 4311, '띠': 4312, '식겁하다': 4313, '때우다': 4314, '오빠': 4315, '스키': 4316, '진정하다': 4317, '새연교': 4318, '신경안': 4319, '천지연폭포': 4320, '광장': 4321, '표': 4322, '카페테리아': 4323, '파악': 4324, '죽도': 4325, '휴게': 4326, '탐방': 4327, '지원': 4328, '이돈': 4329, '메모': 4330, '군': 4331, '절하': 4332, '뱅디': 4333, '유유': 4334, '끈적끈적하다': 4335, '기침': 4336, '애플': 4337, '내면': 4338, '누런': 4339, '최공': 4340, '방인': 4341, '므': 4342, '아픔': 4343, '넓이': 4344, '유선': 4345, '인치': 4346, '무너지다': 4347, '비굿': 4348, '마늘': 4349, '뻗다': 4350, '해물': 4351, '염려': 4352, '코딱지': 4353, '보이시': 4354, 'c': 4355, '외로': 4356, '설날': 4357, '민족': 4358, 'for': 4359, '툭': 4360, '호로': 4361, '만이라도': 4362, '산뷰': 4363, '주로': 4364, '눈보라': 4365, '사이드': 4366, '항공': 4367, '오리': 4368, '내관': 4369, '차선': 4370, '금호': 4371, '헬스장': 4372, '마이너스': 4373, '샷시': 4374, '전쟁': 4375, '파도치다': 4376, '별다르다': 4377, '랫': 4378, '연결하다': 4379, '금릉': 4380, '자잘하다': 4381, '왜케': 4382, '견디다': 4383, '하나라': 4384, '당당하다': 4385, '한텐': 4386, '키즈룸': 4387, '모퉁이': 4388, '주네': 4389, '간도': 4390, '도중': 4391, '보안': 4392, '계산': 4393, '집중': 4394, '단수': 4395, '곰': 4396, '증': 4397, '와중': 4398, '뎅': 4399, '실내수영장': 4400, '풍기다': 4401, '어딘가': 4402, '14': 4403, '에스': 4404, '자동차': 4405, '승용차': 4406, '장하다': 4407, '차만': 4408, '커녕': 4409, '성공': 4410, '주점': 4411, '가짓수': 4412, '여독': 4413, '두꺼비': 4414, '삼양': 4415, '차이다': 4416, '없애다': 4417, '고립': 4418, '남쪽': 4419, '마찬가지': 4420, '생생하다': 4421, '면세점': 4422, '워치': 4423, '통보': 4424, '더욱이': 4425, '낙': 4426, '스톤': 4427, '무언가': 4428, '덕지덕지': 4429, '인적': 4430, '물새': 4431, '의치': 4432, '오심': 4433, '스프레이': 4434, '듯이': 4435, '35': 4436, '야옹이': 4437, '높아지다': 4438, '플러스': 4439, '솜씨': 4440, '육': 4441, '협소하': 4442, '법도': 4443, '냉장': 4444, '박히다': 4445, '1520분': 4446, '험하다': 4447, '초입': 4448, 'or': 4449, '관계자': 4450, '물줄기': 4451, '사방': 4452, '해수탕': 4453, '투썸': 4454, '쫙': 4455, '인분': 4456, '폭포': 4457, '컷': 4458, '안정': 4459, 'ㅇㅣ': 4460, '차려': 4461, '보호': 4462, '자유': 4463, '75': 4464, '유흥주점': 4465, '냉골': 4466, '날아다니다': 4467, '짬뽕': 4468, '이도': 4469, '일주': 4470, '오렌지': 4471, '15만원': 4472, '논': 4473, '백종원': 4474, '이냐': 4475, '없엇어': 4476, 'ㆍㆍ': 4477, '장보기': 4478, '탁구': 4479, '골드': 4480, '1년': 4481, '만장굴': 4482, '눈데': 4483, '배관': 4484, '까지와': 4485, '캔들': 4486, '협재바다': 4487, '스럽지': 4488, '어용': 4489, 'ㅇㅇㅇㅇㅇㅇ': 4490, '엿보다': 4491, '23일': 4492, '대반': 4493, '세용': 4494, '깨끗햇어': 4495, '겉모습': 4496, '반신반의': 4497, '아담': 4498, '요요': 4499, '지장': 4500, '실화': 4501, '색깔': 4502, '고함': 4503, '40': 4504, '밀리다': 4505, '다정하다': 4506, '랜드': 4507, '100000': 4508, '내부시': 4509, '구좌읍': 4510, '낮추다': 4511, '끝내': 4512, '애매': 4513, '맵': 4514, '휴양': 4515, '꽉꽉': 4516, '바보': 4517, '하고프다': 4518, '주택가': 4519, '세척': 4520, '소문': 4521, '마카롱': 4522, '풀숲': 4523, '브런치': 4524, '서든': 4525, '떼다': 4526, 'ㅔ': 4527, '지금껏': 4528, '실장': 4529, '세시': 4530, '목말': 4531, '고집': 4532, '스콘': 4533, '호점': 4534, '씌우다': 4535, '시절': 4536, '깡패': 4537, '관음사': 4538, '프레임': 4539, '수요일': 4540, '출구': 4541, '이안': 4542, '갈색': 4543, '러신': 4544, '시급하다': 4545, '파란': 4546, '명시': 4547, '나다니다': 4548, '식기구': 4549, '귀뚜라미': 4550, '비만': 4551, '22년': 4552, 'e': 4553, '집의': 4554, '6시간': 4555, '형광등': 4556, '퀘퀘': 4557, '사시': 4558, 'ㄷㄷ': 4559, '얘': 4560, '바닷물': 4561, '못지않다': 4562, '댓글': 4563, '정체': 4564, '마주': 4565, '발리': 4566, '판넬': 4567, '룸키': 4568, '코고': 4569, '안정감': 4570, '밖에는': 4571, '생필품': 4572, '왈': 4573, '지라': 4574, '약해지다': 4575, '나눠지다': 4576, '고온': 4577, '성하다': 4578, '오거': 4579, '벙커': 4580, '지우다': 4581, '곤란하다': 4582, '단단하다': 4583, '집게': 4584, '산간': 4585, '여부': 4586, '주간': 4587, '퇴실때': 4588, '콜라': 4589, '뜰채': 4590, '세스코': 4591, '최소': 4592, 'ㅇㅏ': 4593, '중국집': 4594, '께선': 4595, '수월봉': 4596, '스레': 4597, '차귀도': 4598, '권장': 4599, '선착장': 4600, '튀어나오다': 4601, '떨어뜨리다': 4602, '무거워': 4603, '성게': 4604, '생': 4605, '말르다': 4606, '뽀송': 4607, '사물함': 4608, '이루어지다': 4609, '정도면': 4610, '손수': 4611, '천사': 4612, '2월': 4613, '1000000': 4614, '새똥': 4615, '효': 4616, '까탈': 4617, '미끄럼틀': 4618, '입퇴실': 4619, '밭뷰': 4620, '당근': 4621, '안성맞춤': 4622, '조화': 4623, '9일': 4624, '4만원': 4625, '탁하다': 4626, '쟁이': 4627, '밑반찬': 4628, '깻잎': 4629, '웅이': 4630, '멍뭉이': 4631, '대리석': 4632, '출출하다': 4633, '느긋하다': 4634, '능': 4635, '한치': 4636, '웠': 4637, '요구사항': 4638, '꿈': 4639, '제법': 4640, '들판': 4641, '더위': 4642, 'and': 4643, 'very': 4644, '계좌': 4645, '강쥐': 4646, '하하': 4647, '보장': 4648, '세가족': 4649, '저격': 4650, '햇습니': 4651, '컨디셔': 4652, '곤충': 4653, '덜컹덜컹': 4654, '혼나다': 4655, '예뻣습니': 4656, '준수': 4657, '친정엄마': 4658, '숲길': 4659, '굽': 4660, '어쩌나': 4661, 'ㅁ': 4662, '속지': 4663, '지루하다': 4664, '부모': 4665, '급니': 4666, '스파이': 4667, '봄날': 4668, '하이엔드': 4669, '개정': 4670, '칸막이': 4671, '플라스틱': 4672, '특가': 4673, '받침': 4674, '파서': 4675, '생맥주': 4676, '설렁탕': 4677, '레지던스': 4678, '카': 4679, '글로스터': 4680, '산장': 4681, 'ㅇㅅㅇ': 4682, '신호등': 4683, '룸상태': 4684, '목적지': 4685, '헐다': 4686, '올드': 4687, '상치': 4688, '아드님': 4689, '주기': 4690, '도대체': 4691, '아른거리다': 4692, '편견': 4693, '중인': 4694, '페브리즈': 4695, '자그마하다': 4696, '80': 4697, '힘내다': 4698, '주관': 4699, '인성': 4700, '내륙': 4701, '족발': 4702, '207': 4703, '드렷': 4704, '인간': 4705, '방면': 4706, '스파룸': 4707, '베이스': 4708, '거림': 4709, '전신': 4710, '에까지': 4711, '4월': 4712, '최대로': 4713, '이중문': 4714, '불평': 4715, '한파': 4716, '버겁다': 4717, '에너지': 4718, '까지만': 4719, '에러': 4720, '담당자': 4721, '쉣': 4722, '콘크리트': 4723, '앗다': 4724, '불가능': 4725, '찜질': 4726, '구식': 4727, '후끈하다': 4728, '유흥가': 4729, '국내': 4730, '알람': 4731, '얹다': 4732, '젊음': 4733, '화쪽': 4734, '보유': 4735, '오진': 4736, '여요': 4737, '모바일': 4738, '촌': 4739, '체육관': 4740, '홍수': 4741, '오류로': 4742, '물어': 4743, '라디에이터': 4744, '흡': 4745, '위약금': 4746, '철제': 4747, '연령': 4748, '애쓰다': 4749, '월드컵': 4750, '부킹': 4751, '46': 4752, '입장료': 4753, '난장판': 4754, '방구': 4755, '소변': 4756, '달이': 4757, '주고': 4758, '소름끼치다': 4759, '해장': 4760, '설마': 4761, '버': 4762, '가관': 4763, 'ott': 4764, '절때': 4765, '자신': 4766, '키도': 4767, '에나': 4768, '대접': 4769, '천둥': 4770, '냉기': 4771, '기다림': 4772, 'ㅂ': 4773, '믿음': 4774, '뽀얗다': 4775, '대에': 4776, '오래됨': 4777, '로컬': 4778, '거부': 4779, '목욕탕': 4780, '칠성로': 4781, '튀어': 4782, '거치다': 4783, '깜박': 4784, '4000원': 4785, '엔틱': 4786, '깃': 4787, '졸다': 4788, '런': 4789, '감자': 4790, '푸근하다': 4791, '별개': 4792, '대표': 4793, '갈고': 4794, '바스': 4795, '골': 4796, '의도': 4797, '실현': 4798, '습도': 4799, '간전': 4800, '일등': 4801, '시달리다': 4802, '변명': 4803, '참으로': 4804, '15일': 4805, '손해': 4806, '절기': 4807, '덜다': 4808, '버티다': 4809, '21': 4810, '세기': 4811, '롤': 4812, '라인': 4813, '산도': 4814, '정도로': 4815, '클래식': 4816, '맥도날드': 4817, '베드로': 4818, '과연': 4819, '뜯기다': 4820, '좋았숩니': 4821, '한가운데': 4822, '건강': 4823, '집합': 4824, '재떨이': 4825, 'best': 4826, '나나': 4827, '오만': 4828, '하기는': 4829, '부재': 4830, '트원': 4831, '미닫이문': 4832, '이따': 4833, 'ml': 4834, '비염': 4835, '땜시': 4836, '진상': 4837, '동일': 4838, '미지': 4839, '아이고': 4840, 'jeju': 4841, '절': 4842, '다섯시': 4843, '이용권': 4844, '들추다': 4845, '고풍': 4846, '혼잡하다': 4847, '적응하다': 4848, '걱정스럽다': 4849, '귀가': 4850, '행거': 4851, '충': 4852, '재주': 4853, '꽁': 4854, '수온': 4855, '노벨': 4856, '글쎄요': 4857, '트리트먼트': 4858, '서너': 4859, '행운': 4860, '정책': 4861, '보송보송': 4862, '시대': 4863, '의심스럽다': 4864, '지엄': 4865, '무색': 4866, '주류': 4867, '도리': 4868, '공포': 4869, '써비스': 4870, '전망대': 4871, '가족사진': 4872, '미술관': 4873, '심사숙고': 4874, '유니크': 4875, '푼': 4876, '하나요': 4877, '드나들다': 4878, '전통': 4879, '티타임': 4880, '회원': 4881, '날카롭다': 4882, '장가': 4883, '쩔어요': 4884, '공항버스': 4885, '두드러기': 4886, '베니키아': 4887, '로움': 4888, '박도': 4889, '녀': 4890, '돈값': 4891, '헬스': 4892, '7만원': 4893, '가드': 4894, '공연': 4895, '주먹밥': 4896, '그레이': 4897, '신속하다': 4898, '차라': 4899, '취객': 4900, '품질': 4901, '번만': 4902, '변동': 4903, '안녕': 4904, '계약': 4905, '15시': 4906, '손색': 4907, '데이터': 4908, '평화': 4909, '리프': 4910, '22시': 4911, '21시': 4912, '열시': 4913, '오일장': 4914, '경제': 4915, '긴장': 4916, '1등': 4917, '쾅': 4918, '깨알': 4919, '일수': 4920, '개수대': 4921, '씻기다': 4922, '행주': 4923, '노화': 4924, '만이': 4925, '협소합니': 4926, '스윗': 4927, '무적': 4928, '니요': 4929, '상의': 4930, '건성건성': 4931, '더군다나': 4932, '학생': 4933, '오로지': 4934, '오스': 4935, '셀': 4936, '경사': 4937, '고자': 4938, '전화번호': 4939, '셈': 4940, '안남다': 4941, '자전거여행': 4942, '곶자왈': 4943, '부도': 4944, '둘러보기': 4945, '시킴': 4946, '멈추다': 4947, '초등학생': 4948, '연세': 4949, '프랑': 4950, '거들다': 4951, '향수': 4952, '아쉬웟': 4953, '당구': 4954, '분위': 4955, '오오오오오': 4956, '결벽증': 4957, '확보': 4958, '특징': 4959, '화요일': 4960, '밤낮': 4961, '소란': 4962, '휴양림': 4963, '미끄러지다': 4964, '보더': 4965, '산쪽': 4966, '성산포': 4967, '다사': 4968, 'nice': 4969, '젛았어': 4970, '수수료': 4971, '돌아보다': 4972, '각도': 4973, '거가': 4974, '랍니': 4975, '원활하다': 4976, '숩': 4977, '35분': 4978, '이튿날': 4979, '제지': 4980, '월령': 4981, '중요': 4982, '12분': 4983, '사용자': 4984, '모자라': 4985, '후추': 4986, '제트': 4987, '16시': 4988, '낼': 4989, '숭숭': 4990, '핑크': 4991, '편햇': 4992, '알레르기': 4993, '아늑': 4994, '안치': 4995, '23시': 4996, '무한리필': 4997, '어서': 4998, '뭉치': 4999, '득': 5000, '오줌': 5001, '코지': 5002, '2030분': 5003, '형제': 5004, '텐트': 5005, '불명': 5006, '자라다': 5007, '결과': 5008, '무니': 5009, '늦': 5010, '끝내다': 5011, '밀다': 5012, '저장': 5013, '무렵': 5014, '호일': 5015, '장갑': 5016, '고무장갑': 5017, '자부': 5018, '슥': 5019, '수도꼭지': 5020, '도마': 5021, '꿀팁': 5022, '책자': 5023, '우울하다': 5024, '장마': 5025, '고요한': 5026, '난간': 5027, '한가하다': 5028, '조음': 5029, '카톡': 5030, '퇴실날': 5031, '분실': 5032, '엉덩이': 5033, '거리고': 5034, '또다른': 5035, '산굼부리': 5036, '졸리다': 5037, '3월': 5038, '깍': 5039, '경기도': 5040, '입니다': 5041, '뭣': 5042, '소문나다': 5043, '홍보': 5044, '태': 5045, '기선': 5046, '모자': 5047, '체워': 5048, '플레인': 5049, '쓸리다': 5050, '약도': 5051, '덴': 5052, '누리': 5053, '벌다': 5054, '감정': 5055, '가이드': 5056, '지상': 5057, '가꾸어지다': 5058, '악화': 5059, '어이없다': 5060, '한몫': 5061, '12만원': 5062, '반신': 5063, '미숙': 5064, '각오': 5065, '명당': 5066, '고갈': 5067, '자구': 5068, '특산': 5069, '시계': 5070, '어두우': 5071, '골목길': 5072, '복층펜션': 5073, '폴폴': 5074, '서머셋': 5075, '티나': 5076, '여객': 5077, '가래': 5078, '도해': 5079, '슬프다': 5080, '썰렁하다': 5081, '장문': 5082, '22': 5083, '정작': 5084, '자가용': 5085, '30만원': 5086, '10만': 5087, '도망가다': 5088, '돌이': 5089, '이해해': 5090, '용담': 5091, '조개': 5092, '정겨운': 5093, '쓱': 5094, '23만원': 5095, '정도라': 5096, '다닥다닥': 5097, '들뜨다': 5098, '천혜향': 5099, '만들어지다': 5100, '배변': 5101, '회도': 5102, '어두워지다': 5103, '갱': 5104, '레드': 5105, '재차': 5106, '렵니': 5107, '묵은지': 5108, '여름철': 5109, '논밭': 5110, '아침햇살': 5111, '사건': 5112, '어도': 5113, '현대': 5114, '퓨저': 5115, '데려오다': 5116, 'mt': 5117, '숲쪽': 5118, '술자리': 5119, '가파르': 5120, '왠지': 5121, '만끽': 5122, '클렌징폼': 5123, '카라': 5124, '착오': 5125, '기저귀': 5126, '둥': 5127, '폭발': 5128, '남고': 5129, '택': 5130, '축구': 5131, '정자': 5132, '뭐해': 5133, '05': 5134, '핀': 5135, '방명록': 5136, '뿌옇다': 5137, '판포': 5138, '지미': 5139, '닮다': 5140, '반말': 5141, '강요': 5142, '단정하다': 5143, '치르다': 5144, '하의': 5145, '달걀': 5146, 'ㅆ': 5147, '생활용품': 5148, '입금': 5149, '전봇대': 5150, '핑계': 5151, '국자': 5152, '노출': 5153, '방사': 5154, '복귀': 5155, '잃어버리다': 5156, '삼겹살': 5157, '더욱더': 5158, '탱': 5159, '가닥': 5160, '우측': 5161, '믄': 5162, '따로따로': 5163, '빡빡': 5164, '즇았어': 5165, '문두': 5166, 'ㅠㅠㅠㅠㅠㅠ': 5167, '정성껏': 5168, '다차': 5169, '방석': 5170, '겹살': 5171, '프라이버시': 5172, '녹': 5173, '거렸': 5174, '소규모': 5175, '8만원': 5176, '길고양이': 5177, '저런': 5178, '다짐': 5179, '따름': 5180, '결혼식': 5181, '베이글': 5182, '그러면': 5183, '무드등': 5184, '관할': 5185, '가죽': 5186, '단호박': 5187, '안부': 5188, '협재금능': 5189, '29': 5190, '숟가락': 5191, '붐비다': 5192, '별똥별': 5193, '미로': 5194, '근사하다': 5195, '귀하다': 5196, '불안': 5197, '한밤': 5198, '등대': 5199, '방청': 5200, '내외로': 5201, '수단': 5202, '53': 5203, 'it': 5204, '이체': 5205, '전선': 5206, '초고': 5207, '세팅': 5208, '싱크': 5209, '실례': 5210, '호에': 5211, '동의': 5212, '501': 5213, '받아들이다': 5214, '도란도란': 5215, '열정': 5216, '에어비앤비': 5217, '라이트': 5218, '숙이다': 5219, '하이라이트': 5220, '포켓볼': 5221, '팩': 5222, '큐': 5223, '경로': 5224, '론': 5225, '맺다': 5226, '정성스럽다': 5227, '협재쪽': 5228, '간장': 5229, '김치볶음밥': 5230, '입력': 5231, '절차': 5232, '비엔비': 5233, '운동장': 5234, '테이크아웃': 5235, '꾼': 5236, '저렇게': 5237, '24': 5238, '조립': 5239, '양면': 5240, '기색': 5241, '재활용': 5242, '재정': 5243, '알러지': 5244, '용법': 5245, '중반': 5246, '맥': 5247, '의아': 5248, '몽상': 5249, '펌프': 5250, '사투': 5251, '피죤': 5252, '써니': 5253, '햇습': 5254, '우해': 5255, '적당': 5256, '소지품': 5257, '달구다': 5258, '아래쪽': 5259, '빌트': 5260, '파노라마': 5261, '일체': 5262, '집주인': 5263, '날뻔': 5264, 'bbbbbbb': 5265, '물통': 5266, '재배': 5267, '스테이크': 5268, '키친': 5269, '신규': 5270, '살림살이': 5271, '팍팍': 5272, '코난': 5273, '규칙': 5274, '기프트': 5275, '공터': 5276, '웃음': 5277, '말똥': 5278, '셧으': 5279, '역류': 5280, '45분': 5281, '오죽하다': 5282, '모모': 5283, '브랜드': 5284, '뽀송이': 5285, '두유': 5286, '밀': 5287, '거만': 5288, '죵': 5289, '간편': 5290, '고루': 5291, '이던': 5292, '도전': 5293, '다음주': 5294, '헉': 5295, '바깥쪽': 5296, '10년': 5297, '액체': 5298, '적나라하다': 5299, '만큼만': 5300, '살균': 5301, '인과': 5302, '어무': 5303, '고용': 5304, '벽쪽': 5305, '지린다': 5306, '다방': 5307, '차키': 5308, '뭐합': 5309, '후진': 5310, '팻말': 5311, '파우치': 5312, '바라지': 5313, '대문': 5314, '불결하다': 5315, '톡': 5316, '안대': 5317, '안햇': 5318, '비지니스': 5319, '바다소': 5320, '지로': 5321, '금오름': 5322, '26': 5323, '일정하다': 5324, '햇구': 5325, '맘에듭니': 5326, '은줄': 5327, '밸브': 5328, '데이트': 5329, '동해': 5330, '화질': 5331, '대게': 5332, '18분': 5333, '소형차': 5334, '이끌다': 5335, '전기밥솥': 5336, '소녀': 5337, 'two': 5338, 'hearts': 5339, '시가지': 5340, '설비': 5341, '비성': 5342, '장단점': 5343, '깜끔': 5344, '역사': 5345, '체모': 5346, '렌징': 5347, '부합': 5348, '단어': 5349, '슬': 5350, '만화책': 5351, '사무소': 5352, '무안': 5353, '링': 5354, '멈': 5355, '캠프': 5356, '달전': 5357, '한라': 5358, '이부자리': 5359, '숨기다': 5360, '오른': 5361, 'ㄱㄱㄱㄱㄱㄱㄱ': 5362, '항공기': 5363, '가하다': 5364, '약시': 5365, '간만': 5366, '스무살': 5367, '꼽히다': 5368, '돌침대': 5369, '맛없다': 5370, '끔찍하다': 5371, '다다': 5372, '매끄럽다': 5373, '규정': 5374, '한결같이': 5375, '간정': 5376, '날인': 5377, '엄연하다': 5378, '선명하다': 5379, '노형동': 5380, '시험': 5381, '방가': 5382, '힝': 5383, '찿': 5384, '장담': 5385, '이슈': 5386, '협소함': 5387, '넖': 5388, '서두르다': 5389, '샘플': 5390, '좋앟어': 5391, '보금자리': 5392, '나은': 5393, '누수': 5394, '하여튼': 5395, '개그': 5396, '피시방': 5397, '수산시장': 5398, '버세': 5399, '즈음': 5400, '쿠쿠': 5401, '경이': 5402, '최저': 5403, '이래저래': 5404, '전방': 5405, 'ㄱㅊ': 5406, '인터폰': 5407, '종점': 5408, 'ㄱㄱㄱㄱㄱ': 5409, '마켓': 5410, '세분': 5411, '손길': 5412, '열한시': 5413, '실감': 5414, '아지': 5415, '길거리': 5416, '정해': 5417, '동료': 5418, '탑승': 5419, '발바닥': 5420, '더러워지다': 5421, '적도': 5422, '교회': 5423, '3000원': 5424, '차에': 5425, '싹싹': 5426, '방업글': 5427, '구국': 5428, '정산': 5429, '의지': 5430, '값지다': 5431, '가름': 5432, '어우': 5433, '보송보송하다': 5434, '도둑': 5435, '또또': 5436, '덜렁': 5437, '바이러스': 5438, '모델': 5439, '냉정하다': 5440, '방앞': 5441, '밤잠': 5442, '꾹': 5443, '이제야': 5444, '어설프다': 5445, '후론트': 5446, '리셋': 5447, '헤드셋': 5448, '렉': 5449, '선생': 5450, '펜': 5451, '일간': 5452, '정석': 5453, 'k': 5454, '곁들이다': 5455, '소형': 5456, '청소부': 5457, '품목': 5458, '내색': 5459, '비빔밥': 5460, '취급': 5461, '떡국': 5462, 'vip': 5463, '헤프닝': 5464, '제원': 5465, '미당': 5466, '국물': 5467, '찌개': 5468, '쏟다': 5469, '권한': 5470, '뚫다': 5471, '저쪽': 5472, '즉시': 5473, '덜하다': 5474, '초반': 5475, '살펴보다': 5476, 'but': 5477, '샘': 5478, 'hotel': 5479, 'stay': 5480, '한바탕': 5481, '뒤편': 5482, '도랑': 5483, '쓰러지다': 5484, '최선': 5485, '신뢰': 5486, '사면': 5487, '4년': 5488, '수목원': 5489, '아로마': 5490, '낳다': 5491, '첨으로': 5492, '일일이': 5493, '클린': 5494, '찰나': 5495, '주더': 5496, '방공': 5497, '물수건': 5498, '햇음': 5499, '어두움': 5500, '방울': 5501, '쿱쿱': 5502, '20만원': 5503, '화재': 5504, '부위': 5505, '켄싱턴': 5506, '워크샵': 5507, '드하': 5508, '컬러': 5509, '시르다': 5510, '초록색': 5511, '플레이': 5512, '염소': 5513, '었': 5514, '식식': 5515, '골프': 5516, '어르다': 5517, '극찬': 5518, '검사': 5519, '콕': 5520, '수질': 5521, '피트니스': 5522, '듣기': 5523, '김': 5524, '디너': 5525, '조경이': 5526, '소원': 5527, '이뤄지다': 5528, '백색소음': 5529, '11111': 5530, '화상': 5531, '소인': 5532, '차비': 5533, '차안': 5534, '촤': 5535, '태교여행': 5536, '욘': 5537, '레버': 5538, '중후': 5539, '건전지': 5540, '오금': 5541, '캉스': 5542, '손톱': 5543, '엑스트라': 5544, '망고': 5545, '픽드랍': 5546, '사적': 5547, '롱': 5548, '형편': 5549, '230분': 5550, '시정': 5551, '주소': 5552, '벌이다': 5553, '아마도': 5554, '후다닥': 5555, '희망': 5556, '귤밭뷰': 5557, '패킹': 5558, '분사': 5559, '공유기': 5560, '섞다': 5561, '뭡': 5562, '오르막': 5563, '갈껄': 5564, '43': 5565, '일절': 5566, '캐다': 5567, 'icc': 5568, '뽑히다': 5569, '수선': 5570, '적기': 5571, '뭍': 5572, '방바': 5573, '해물탕': 5574, '물병': 5575, '좌측': 5576, '잠결': 5577, '아랑': 5578, '여지': 5579, '정전': 5580, '한가로이': 5581, '냉온': 5582, '요망': 5583, '침입': 5584, '탈색': 5585, '두툼': 5586, '저렇다': 5587, '야외스파': 5588, '자게': 5589, '오래전': 5590, '이주': 5591, '강의': 5592, '두르다': 5593, '이중주': 5594, '정도는': 5595, '김치찌개': 5596, '깨큿': 5597, '20년': 5598, '곱등이': 5599, '컨시어': 5600, '얕다': 5601, '발라': 5602, '모슬포': 5603, '어쩌': 5604, '오르락': 5605, '내리락': 5606, '회의': 5607, '이즈': 5608, '숙성': 5609, '색달': 5610, '적지': 5611, '황홀하다': 5612, '넷이': 5613, '요인': 5614, '치중': 5615, '바비': 5616, '평정': 5617, '쾨쾨': 5618, '곧바로': 5619, 'ㅜㅡㅜ': 5620, '돠': 5621, '사생활': 5622, '상시': 5623, '조언': 5624, '4천원': 5625, '혼술': 5626, '민트': 5627, '호프': 5628, '평균': 5629, '가능성': 5630, '다반사': 5631, '이글': 5632, '수확': 5633, '비롯': 5634, '삭': 5635, '삼성': 5636, '아메리칸': 5637, '아낌없이': 5638, '청소년': 5639, '발판': 5640, '할로윈': 5641, '친철해': 5642, '르': 5643, '접수': 5644, '쇠소깍': 5645, '교': 5646, '프론트분': 5647, '간신히': 5648, '소담': 5649, '보들보들하다': 5650, '헹구': 5651, '요도': 5652, '일일': 5653, '보나': 5654, '볶음밥': 5655, '설탕': 5656, '달달': 5657, '벽화': 5658, '피어': 5659, '맘에듬': 5660, '힙': 5661, '수용': 5662, '통틀어': 5663, '무치다': 5664, '잠옷': 5665, '바용': 5666, '셋째': 5667, '우동': 5668, '인척': 5669, '한림읍': 5670, '장말': 5671, '번갈아': 5672, '불판': 5673, '닝': 5674, '710분': 5675, '탈출': 5676, '일만': 5677, '청귤': 5678, '폐가': 5679, '황금': 5680, '리스': 5681, '정거장': 5682, '사오': 5683, '캬': 5684, '농사': 5685, '실로': 5686, '문밖': 5687, '공룡': 5688, '평범': 5689, '결혼': 5690, '기울어지다': 5691, '전번': 5692, '화분': 5693, '웰시코기': 5694, '철수': 5695, '블': 5696, '무서움': 5697, '가버리다': 5698, '거고': 5699, '장치': 5700, '졸졸졸': 5701, '지대': 5702, '뜨근하': 5703, '험난하다': 5704, '보구': 5705, '압니': 5706, '빛나다': 5707, '매운탕': 5708, '끓다': 5709, '방값': 5710, '요란하다': 5711, '비온': 5712, '쿨러': 5713, '보드랍다': 5714, '겹치': 5715, '사색': 5716, '긴가민가하다': 5717, '철판': 5718, '화덕': 5719, '대놓고': 5720, '임산부': 5721, '아르떼': 5722, '현지': 5723, '뜬금없이': 5724, '펜션뷰': 5725, '고기구': 5726, '톨': 5727, '예여': 5728, '손바닥': 5729, '퀄': 5730, '백만': 5731, '수혈': 5732, '____': 5733, '중단': 5734, '지방': 5735, '멘붕': 5736, '젖': 5737, '탁상': 5738, '스토브': 5739, '다면': 5740, '월요일': 5741, '자지': 5742, '반쯤': 5743, '핫플': 5744, '숙박업': 5745, '오버': 5746, '목조': 5747, '이어폰': 5748, '틀때': 5749, '불리': 5750, '90': 5751, '깊숙하다': 5752, '라며': 5753, '평화로': 5754, '매월': 5755, '영화관': 5756, '카페나': 5757, '동갑': 5758, '요강': 5759, '빗자루': 5760, '현실': 5761, '이루': 5762, '체인': 5763, '렵': 5764, '휴양지': 5765, '출입구': 5766, '니드': 5767, '가유': 5768, '허니문': 5769, '주어': 5770, '번방': 5771, '겉보기': 5772, '녹슨': 5773, '꺽': 5774, '보신': 5775, '시크': 5776, '구영': 5777, '이브': 5778, '레': 5779, '삼만원': 5780, '망치': 5781, '뿌': 5782, '국민학교': 5783, '떠지다': 5784, '패널': 5785, '다지다': 5786, '까지의': 5787, '끼니': 5788, '양심': 5789, '자라': 5790, '단말': 5791, '휘': 5792, '너므': 5793, '배터리': 5794, '변도': 5795, '한기': 5796, '껍데기': 5797, '클레': 5798, '넘버원': 5799, '스펜서': 5800, '스탈': 5801, '소모품': 5802, '잃다': 5803, '던': 5804, '라이': 5805, '랜트카': 5806, '향초': 5807, '이남': 5808, '가지런하다': 5809, '죄송스럽다': 5810, '펜션안': 5811, '트렁크': 5812, '소진': 5813, '커피집': 5814, '라텍스': 5815, '수많다': 5816, '마안': 5817, '염색': 5818, '진보': 5819, '이크': 5820, '전산': 5821, '섭': 5822, '그니': 5823, '외돌': 5824, '요물': 5825, '두렵다': 5826, '진짜루': 5827, '가전제품': 5828, '펜션임': 5829, '찜통': 5830, '떡볶이': 5831, '보고오다': 5832, '흘러나오다': 5833, '업로드': 5834, '간간히': 5835, '일로': 5836, '정차': 5837, '고등': 5838, '렌즈': 5839, '료칸': 5840, '오해': 5841, '층방': 5842, '에메랄드': 5843, 'off': 5844, '키라': 5845, '령': 5846, '무리다': 5847, '뜻밖': 5848, '붙잡다': 5849, '퍼지다': 5850, '휼륭하다': 5851, '고독': 5852, '자락': 5853, '루아': 5854, '신행': 5855, '정점': 5856, '늘리다': 5857, '요원': 5858, '감덩': 5859, '메리어트': 5860, '여담': 5861, '언젠가': 5862, '텐션': 5863, '난로': 5864, '홈파티': 5865, '야놀자측': 5866, '분안': 5867, '먄': 5868, '부실': 5869, '친환경': 5870, '완공': 5871, '인박집': 5872, '독체': 5873, '회관': 5874, 'led': 5875, '매트릭스': 5876, '리안': 5877, '주민': 5878, '훑다': 5879, '뜻햇': 5880, '3천원': 5881, '특급': 5882, '하나같이': 5883, '몸국': 5884, '책정': 5885, '풍족하다': 5886, '펑펑': 5887, '럭셔리': 5888, '상업': 5889, '물들다': 5890, '압': 5891, '슴니': 5892, '주황색': 5893, '만오천원': 5894, '감고': 5895, '딩': 5896, '장기간': 5897, '게이트': 5898, '선뜻': 5899, '화로': 5900, '말동무': 5901, '야자': 5902, '밤길': 5903, '유치권': 5904, '집들이': 5905, '에서보다': 5906, '시멘트': 5907, '배고프다': 5908, '고비': 5909, '황토': 5910, '그야말로': 5911, '라스': 5912, '드네용': 5913, '돌체': 5914, '스토': 5915, '구역질': 5916, '리트리버': 5917, '씨리얼': 5918, '구정': 5919, '드림': 5920, '모집': 5921, '104': 5922, '모션': 5923, '클라이너': 5924, '생략': 5925, '거닐다': 5926, '마지막여행': 5927, '보충': 5928, '조각': 5929, '독특하다': 5930, '주전부리': 5931, '집앞': 5932, '들려주다': 5933, '잎': 5934, '들보': 5935, '깨우다': 5936, '혼숙': 5937, '반실': 5938, '자정': 5939, '음침하다': 5940, '내미다': 5941, '찍히다': 5942, '된장찌개': 5943, 'ㅋㅋㅋㅋㅋㅋㅋ': 5944, '빨랫대': 5945, '수협': 5946, '우무': 5947, '프리미엄': 5948, '주년': 5949, '과거': 5950, '률': 5951, '으악': 5952, '서빈': 5953, '주무': 5954, '고도': 5955, '창호': 5956, '정도에': 5957, '들려오다': 5958, '샐러드': 5959, '완성': 5960, '선선': 5961, '달려들다': 5962, '종량제': 5963, '진곳': 5964, '시끌벅적하다': 5965, '피하': 5966, '들락날락': 5967, '거구': 5968, '공식': 5969, '트럭': 5970, '반했어': 5971, '반디': 5972, '레전드': 5973, 'ㅠㅜㅜ': 5974, '선생님': 5975, '고모': 5976, '계세': 5977, '말썽': 5978, '구나': 5979, '밤중': 5980, 'ㄸㅐ': 5981, '몰아치다': 5982, 'ㅋㅋㅋㅋㅋㅋㅋㅋㅋ': 5983, '댓': 5984, '삼십분': 5985, '내려놓다': 5986, '고기만': 5987, '동영상': 5988, '짤': 5989, '로즈마리': 5990, '인룸': 5991, '기운': 5992, '티브이': 5993, '사발면': 5994, '로라': 5995, '카레': 5996, '검정색': 5997, '상추': 5998, '시외': 5999, '춘해': 6000, '너그럽다': 6001, '알구': 6002, '보송하다': 6003, '층집': 6004, '뜰': 6005, '갤러리': 6006, '동산': 6007, '번개': 6008, '위풍': 6009, '낌': 6010, '하류': 6011, '에라도': 6012, '다담': 6013, '풍력발전': 6014, '안주시': 6015, '10000000': 6016, '불가라': 6017, '외벽': 6018, '스냅': 6019, '소임': 6020, '녜': 6021, '아숩': 6022, 'place': 6023, '주중': 6024, '장면': 6025, '우웅': 6026, '방키': 6027, '층임': 6028, '어깨': 6029, '120': 6030, '전기자전거': 6031, '이케아': 6032, '건너가다': 6033, '바사': 6034, '머그컵': 6035, 'kt': 6036, '눌리': 6037, '씹다': 6038, '과장': 6039, 'rgghjjnnv': 6040, '조가': 6041, '인피니티': 6042, '집밖': 6043, '밖엔': 6044, '남사': 6045, '마싯다': 6046, '출근': 6047, '따땃해': 6048, '일월': 6049, '일전': 6050, '틈새': 6051, '된': 6052, '일밤': 6053, '1000원': 6054, '작품': 6055, '잉': 6056, '유투브': 6057, '박스': 6058, '죄송': 6059, '십년': 6060, '두통': 6061, '둥이': 6062, '달숲': 6063, '21년': 6064, '퍼펙트': 6065, '책임지다': 6066, '협소한': 6067, '라고는': 6068, '쌈밥': 6069, '60': 6070, '버거': 6071, '겨': 6072, '졋': 6073, '쯤부터': 6074, '301': 6075, '칼칼하다': 6076, '쩐': 6077, '조심조심': 6078, '완': 6079, '정화조': 6080, '감격': 6081, '넣기': 6082, '시드라': 6083, '앓이': 6084, '31': 6085, '려면': 6086, '벌컥': 6087, '1100': 6088, '숲뷰': 6089, '방문자': 6090, '좌석': 6091, '하부': 6092, '벤치': 6093, '미끄럼': 6094, '백구': 6095, '뒹굴': 6096, '100000000': 6097, 'ok': 6098, '권고': 6099, '일부분': 6100, 'cm': 6101, '디테': 6102, '하므다': 6103, '엠티': 6104, '후딱': 6105, '녹물': 6106, '우리나라': 6107, '니다': 6108, '전에도': 6109, '콘': 6110, '외치다': 6111, '뒷문': 6112, '흡수': 6113, '겉옷': 6114, '마땅치': 6115, '게살': 6116, '고요함': 6117, '부지': 6118, '차별': 6119, '바가지': 6120, '썻구': 6121, '신설': 6122, '쪽창': 6123, '드애월': 6124, '손세정제': 6125, '부자': 6126, '놓치다': 6127, '베트남': 6128, '순이': 6129, '충족': 6130, '기오': 6131, '별자리': 6132, '평상시': 6133, '부다': 6134, 'bar': 6135, '천이': 6136, '가량': 6137, '계약서': 6138, '기물': 6139, '락커': 6140, '편지': 6141, '구들': 6142, '깐깐하다': 6143, '사라봉': 6144, '민': 6145, '몇십': 6146, '목격': 6147, '이제껏': 6148, '앞뷰': 6149, '그로': 6150, '302': 6151, '플스': 6152, '들엇어': 6153, '상위': 6154, '참조': 6155, 'ㅜㅠㅠ': 6156, '린': 6157, '차박': 6158, '케': 6159, '토치': 6160, '모니터': 6161, '눌려': 6162, '이래': 6163, '툭툭': 6164, '무례하다': 6165, '낙엽': 6166, 'soso': 6167, '지나치다': 6168, '빌라도': 6169, '시라': 6170, '스페인': 6171, '초등생': 6172, '단열': 6173, '베이지': 6174, '하이': 6175, '초인종': 6176, '호강': 6177, '둘러싸이다': 6178, '두고두고': 6179, '민폐': 6180, '부지런': 6181, '출산': 6182, '스마트': 6183, '제어': 6184, '중년': 6185, 'usb': 6186, '신혼집': 6187, '폴라로이드': 6188, '구경만': 6189, '생가': 6190, '큰일': 6191, 'bbbbb': 6192, '차례': 6193, '드라이': 6194, '의하다': 6195, '한껏': 6196, '따끈하다': 6197, '묻히다': 6198, '연락처': 6199, '우대': 6200, '출몰': 6201, '질질': 6202, '싸하다': 6203, '해질녘': 6204, '지평선': 6205, '번쩍': 6206, '고통': 6207, '몰리다': 6208, '잇엇어': 6209, '보트': 6210, '치맥': 6211, '은행': 6212, '말벌': 6213, '벌집': 6214, '망사': 6215, '호텔리어': 6216, '연신': 6217, '컨': 6218, '시어': 6219, '말함': 6220, '별거': 6221, '박수': 6222, '모시다': 6223, '카멜리아': 6224, '체라': 6225, '역겹다': 6226, '더그': 6227, '초저녁': 6228, '모래사장': 6229, '칙칙하다': 6230, '예의': 6231, '박햇': 6232, '언성': 6233, '기름기': 6234, '페이스': 6235, '네시': 6236, '기쁘다': 6237, '무책임': 6238, '대하': 6239, '비행기소음': 6240, '홓': 6241, '귯': 6242, '페이지': 6243, '백사': 6244, '시크릿가든': 6245, '퓨': 6246, '원인': 6247, '허허': 6248, '푸욱': 6249, '해넘이': 6250, 'is': 6251, '억지로': 6252, '차원': 6253, '정화': 6254, '라드': 6255, '호구': 6256, '문틈': 6257, '디다': 6258, '설계': 6259, '칠성': 6260, '흑곰': 6261, '합치다': 6262, 'sk': 6263, '공황': 6264, '지점': 6265, '여누': 6266, '몬딱': 6267, '맛사지': 6268, 'ㅈㅇㅈㅇㅈㅇ': 6269, '츤츤': 6270, '시지': 6271, '완정': 6272, '이사': 6273, '혼행': 6274, '른': 6275, '렛': 6276, '종합': 6277, '닌': 6278, '끈끈': 6279, '발레': 6280, '불투명': 6281, '실루엣': 6282, '셔터': 6283, '마구': 6284, '테러': 6285, '빼기': 6286, '빽': 6287, '올라서다': 6288, '시불': 6289, '말끔': 6290, '오성': 6291, '말에': 6292, '정중하다': 6293, '눈길': 6294, '역전': 6295, 'ㅡㅡㅡ': 6296, '식겁': 6297, '슺': 6298, '600': 6299, '물더': 6300, '레알': 6301, '바닥나다': 6302, '지시': 6303, '조취': 6304, '탁탁': 6305, '못잣': 6306, '디스크': 6307, '호사': 6308, '북': 6309, '사돈': 6310, 'tt': 6311, '1초': 6312, '파가': 6313, '익': 6314, '거제도': 6315, '묽다': 6316, '검': 6317, '비쵝오': 6318, '도면': 6319, '보글보글': 6320, '검정': 6321, '잠구': 6322, '쯤에는': 6323, '구래': 6324, '커지다': 6325, '만석': 6326, '덩이': 6327, '괜시리': 6328, '불키': 6329, '호기심': 6330, '정육': 6331, '중대': 6332, '어정쩡하다': 6333, '뜬눈': 6334, '어쩌다가': 6335, '인증': 6336, '완주': 6337, '냉동고': 6338, '빙': 6339, '물빨': 6340, '비닐하우스': 6341, '기와': 6342, '조물': 6343, '부식': 6344, '줄눈': 6345, '왁스': 6346, '는커녕': 6347, '한병도': 6348, '전후': 6349, '깜박깜박': 6350, '맙소사': 6351, '기막히다': 6352, '보온': 6353, '강수': 6354, '확률': 6355, '나열하다': 6356, '장남': 6357, '미비': 6358, '아우': 6359, '불위': 6360, '발전': 6361, '읺': 6362, '89시': 6363, '윌슨': 6364, '웨이': 6365, '잊혀지다': 6366, '밀려오다': 6367, '라이더': 6368, '스푸': 6369, '북동쪽': 6370, '오케이': 6371, '께끗': 6372, '스산': 6373, '당기다': 6374, 'ㅕ': 6375, '전자담배': 6376, '피고': 6377, '등급': 6378, '무었': 6379, '강구': 6380, '폴바': 6381, '인데도': 6382, '쫄쫄': 6383, '주거': 6384, '욭': 6385, '베누스': 6386, '후반': 6387, '청안': 6388, '비율': 6389, '형도': 6390, '술판': 6391, '엇구': 6392, '침낭': 6393, '지게': 6394, '단속': 6395, '번쩍번쩍': 6396, '시부모': 6397, '일요일': 6398, 'ㅡㅡㅡㅡㅡ': 6399, '뭉치다': 6400, '적정하다': 6401, '듯함': 6402, '내시': 6403, '제시': 6404, '고성': 6405, '시점': 6406, '패트병': 6407, '동성': 6408, '여족': 6409, '컨데': 6410, '기록': 6411, '뭇': 6412, '어투': 6413, '역다': 6414, '텔치': 6415, '다양': 6416, '케이스': 6417, '방배': 6418, '이후에': 6419, 'cgv': 6420, '야기': 6421, '새카맣': 6422, '손소독제': 6423, '2020년': 6424, '봣더': 6425, '라그': 6426, '내신': 6427, 'not': 6428, 'bad': 6429, '이랬는데': 6430, '환장하다': 6431, '중국사람': 6432, '삼성혈': 6433, '버스정류소': 6434, '대회': 6435, '룸컨': 6436, '버금': 6437, '따라가다': 6438, '러브': 6439, '진절': 6440, '온라인': 6441, '세네': 6442, '204': 6443, '정시': 6444, '대형견': 6445, '조왓슴다': 6446, '영어': 6447, '신사장': 6448, '지출': 6449, '구사': 6450, '아부지': 6451, '미풍': 6452, '난건': 6453, '파킹': 6454, '느므': 6455, '풍선': 6456, '제청': 6457, '서점': 6458, '책방': 6459, '자존감': 6460, '업업': 6461, '담소': 6462, '지겹다': 6463, '실패': 6464, '택했': 6465, '등정': 6466, '칙': 6467, '너저분하다': 6468, '마는': 6469, '아지트': 6470, '적합': 6471, '템포': 6472, '노상': 6473, '전형': 6474, '갖': 6475, '에티켓': 6476, '포항': 6477, '고시원': 6478, '복층방': 6479, '잘맞다': 6480, '크림': 6481, '돗자리': 6482, '화랑': 6483, '반전': 6484, '남겨지다': 6485, '된장국': 6486, '인자하다': 6487, '한정식': 6488, '어김없이': 6489, '쩐내': 6490, '고발': 6491, '보리': 6492, '시네마': 6493, '수백': 6494, '위도': 6495, '청해': 6496, '어두컴컴하다': 6497, '북쪽': 6498, '별문제': 6499, '좋앟습니': 6500, '리즈': 6501, '개구': 6502, '양은': 6503, '배그': 6504, '참정': 6505, '모금': 6506, '침규류': 6507, '코팅': 6508, '호출': 6509, '황우': 6510, '스케쥴': 6511, '갓습': 6512, '500원': 6513, '랜트': 6514, '기꺼이': 6515, '난동': 6516, '부리': 6517, '365': 6518, '우무도': 6519, '신의한수': 6520, '방수': 6521, '멤버': 6522, '도라방스': 6523, '펍카페': 6524, '손맛': 6525, '화이팅': 6526, '거절': 6527, '수평': 6528, '그대': 6529, '로고': 6530, '오일': 6531, '피부병': 6532, '우시': 6533, '차편': 6534, '603': 6535, '호털': 6536, '가만히': 6537, 'check': 6538, '메종글래드': 6539, '피지': 6540, '난생': 6541, '엇네': 6542, '몸살': 6543, '타이레놀': 6544, '가뜩이나': 6545, '꼬': 6546, '라거': 6547, '옛스럽다': 6548, '답습': 6549, 'thanks': 6550, '한결': 6551, '잔곳': 6552, '재일': 6553, '보조': 6554, '텅텅': 6555, '비슷': 6556, '나사': 6557, '시큼하다': 6558, '까지라고': 6559, '용기': 6560, '괜찬음': 6561, '다룸': 6562, '문과': 6563, '배딩': 6564, '규제': 6565, '초이스': 6566, '통창뷰': 6567, '괜차나': 6568, '21일': 6569, '아로마테라피': 6570, '구관': 6571, '여행사': 6572, '명불허전': 6573, '쩜': 6574, '층룸': 6575, '피톤': 6576, '거마': 6577, '뉴스': 6578, '흠칫': 6579, '경보': 6580, '효도': 6581, '불고기': 6582, '지하가': 6583, '누군지': 6584, '트윈베드': 6585, '빌딩': 6586, '1020분': 6587, '벚꽃': 6588, '냇': 6589, '쓰리다': 6590, '조랑말': 6591, '할부': 6592, '아쿠아플라넷': 6593, '유모차': 6594, '걱': 6595, '부들부들': 6596, '분류': 6597, '본질': 6598, '재단': 6599, '실외수영장': 6600, '그랬더니': 6601, '드러나다': 6602, '뱀': 6603, '놀랏': 6604, '간접': 6605, '바이': 6606, '평평하다': 6607, '해운대': 6608, '홈피': 6609, '죄다': 6610, '협탁': 6611, '6000원': 6612, '신어': 6613, '런치': 6614, '리무진': 6615, '그랬다고': 6616, '마지못하다': 6617, '쉐프': 6618, '좁드라구': 6619, '단장': 6620, '스텐': 6621, '드조': 6622, '가려움증': 6623, '미세하다': 6624, '적막하다': 6625, '제약': 6626, '어수선하다': 6627, '려니': 6628, '과분': 6629, '초특가': 6630, '전류': 6631, '용용': 6632, '네네': 6633, '중식': 6634, '빙수': 6635, '거리로': 6636, '줫으': 6637, '무리하다': 6638, '피곤': 6639, '67': 6640, '34일': 6641, '렌지': 6642, '스벅도있': 6643, '리치': 6644, '누웨': 6645, '갯수': 6646, '유니': 6647, '절반': 6648, '텅': 6649, '약제': 6650, '칠십': 6651, '하다못해': 6652, '소독약': 6653, '금불': 6654, '열기': 6655, '여섯시': 6656, '세미': 6657, '명가': 6658, '뿐더러': 6659, '동백꽃': 6660, '쬬아': 6661, '7년': 6662, '14000원': 6663, '고무': 6664, '꼽아': 6665, '마나': 6666, '낚': 6667, '제설': 6668, '고서': 6669, '생전': 6670, '갈곳도': 6671, '울면': 6672, '관방': 6673, '라임': 6674, '절대로': 6675, '끝방': 6676, '자로': 6677, '싸이': 6678, '잊어버리다': 6679, '엠스테': 6680, '더엠': 6681, '프리': 6682, '컬리': 6683, '주유소': 6684, '글씨': 6685, '위생용품': 6686, '가사': 6687, '착색': 6688, '브릭': 6689, '알짝': 6690, '웡': 6691, 'go': 6692, '귀요미': 6693, '록': 6694, '부터가': 6695, '씨뷰': 6696, 'ㅋㅋㅋㅎㅎ': 6697, '쫘악': 6698, '으로서': 6699, '그날그날': 6700, '업종': 6701, '일인': 6702, '최고급': 6703, '오우': 6704, '부슬부슬': 6705, '구함': 6706, '필히': 6707, '가렵': 6708, '비례': 6709, '운전자': 6710, '치유': 6711, '단호': 6712, '외각': 6713, '고물': 6714, '거리라서': 6715, '유도': 6716, '협박': 6717, '용팔이': 6718, '입김': 6719, '못키': 6720, '스런': 6721, '으로가': 6722, '조용조': 6723, '내기': 6724, '싫어지다': 6725, '내다보다': 6726, '대마': 6727, '뒷날': 6728, '왜냐면': 6729, '바치다': 6730, '목걸이': 6731, '화용': 6732, '휑': 6733, '허위': 6734, '자세': 6735, '시중': 6736, '튀기다': 6737, '숙실': 6738, '세요': 6739, '기계로': 6740, '90년': 6741, '연다': 6742, '360': 6743, '활기차다': 6744, 'ai': 6745, '뚝': 6746, '지극히': 6747, '핵심': 6748, '한층': 6749, '감점': 6750, '티크': 6751, '예술인': 6752, '전과': 6753, '초콜렛': 6754, '양식': 6755, '리버': 6756, '두텁다': 6757, '반면': 6758, '50분': 6759, '쁩니': 6760, '표기': 6761, '목표': 6762, '만두국': 6763, 'ㅜㅜㅜㅜ': 6764, '용해도': 6765, '덕삐': 6766, '비명': 6767, '세면실': 6768, '으으': 6769, '따땃하': 6770, '난생처음': 6771, '주어지다': 6772, '확진': 6773, '법적': 6774, '단돈': 6775, '대정읍': 6776, '타가': 6777, '간섭': 6778, '구경이': 6779, '매진': 6780, '여동생': 6781, '샤모니': 6782, '청정': 6783, '상쇄': 6784, '모카': 6785, '사도': 6786, '오들오들': 6787, '와르르': 6788, '바라보이다': 6789, '둔하다': 6790, '습시': 6791, '삼박': 6792, '배낭여행': 6793, '바지': 6794, '점주': 6795, '억울하다': 6796, '위안': 6797, '도톰하다': 6798, '태블릿': 6799, '큰소리': 6800, '앞집': 6801, '쪼꼴락': 6802, '길어지다': 6803, '놀랫어': 6804, '더워지다': 6805, '청도': 6806, '자상하다': 6807, '노인': 6808, '사이사이': 6809, '식상하다': 6810, '몰랏는데': 6811, '단층': 6812, '비행장': 6813, '단체룸': 6814, '구려': 6815, '파시': 6816, '일어나고': 6817, '불꽃놀이': 6818, '살피다': 6819, '동서남북': 6820, '뙇': 6821, 'name': 6822, '싼마이': 6823, '눈부심': 6824, '유동': 6825, '반영': 6826, '르마빈': 6827, '재수': 6828, '핮니': 6829, '샤시': 6830, '개중': 6831, '사지': 6832, '마르고': 6833, '닳다': 6834, '라소': 6835, '울음소리': 6836, '었는데': 6837, '닽': 6838, '호두': 6839, '박연': 6840, '여유도': 6841, '질쉬': 6842, '다녀왓습니': 6843, '나왓는데': 6844, '비어': 6845, '배신': 6846, '걸치다': 6847, '낚시꾼': 6848, '메이': 6849, '세대': 6850, '새록새록': 6851, '향가': 6852, '안전성': 6853, '똑': 6854, '싹싹하다': 6855, '조천읍': 6856, '행동': 6857, '구울': 6858, '좋았늡니': 6859, '곸': 6860, '금상첨화': 6861, '괜찬아': 6862, '주올': 6863, '10000원': 6864, '래미': 6865, '날로': 6866, '투성이': 6867, '미비하다': 6868, '캠핑장': 6869, '잦다': 6870, '다지': 6871, '꾀': 6872, '일찍이': 6873, '규명': 6874, '오직': 6875, '보석': 6876, '꽃밭': 6877, '했는데': 6878, '일대': 6879, '긍데': 6880, '조천': 6881, '담해': 6882, '곳곳이': 6883, '소화기': 6884, '능이': 6885, '거리인데': 6886, '돌돌': 6887, '900': 6888, '바싹': 6889, '급작': 6890, '미인': 6891, '아치': 6892, '순환': 6893, '깨끝': 6894, '천막': 6895, '청년': 6896, '기초': 6897, '식수': 6898, 'heart': 6899, '1111': 6900, '책장': 6901, '뒷길': 6902, '댕겨': 6903, '담백하다': 6904, '넘게': 6905, '마구마구': 6906, '양념장': 6907, '새로이': 6908, '16분': 6909, '건내다': 6910, '23년': 6911, '럭': 6912, '갤럭시': 6913, '럿': 6914, '뒤늦다': 6915, '라지': 6916, '오천원': 6917, '자칫': 6918, '12일': 6919, '베풀다': 6920, '갑작스레': 6921, '익히다': 6922, '재촉': 6923, '짓': 6924, '명인': 6925, '미처': 6926, '정글짐': 6927, '카약': 6928, '곽지': 6929, '4분': 6930, '거문오름': 6931, '불안감': 6932, '붙박다': 6933, '절물': 6934, '좋앟어용': 6935, '간소': 6936, '파': 6937, '깨어나다': 6938, '더움': 6939, 'ㅇㅁㅇ': 6940, '종사': 6941, '갇히다': 6942, '워터': 6943, '똑똑하다': 6944, '가렵습니': 6945, '열두시': 6946, '띵동': 6947, '낭비': 6948, '동떨어지다': 6949, '고정원': 6950, '미달': 6951, '반짝반짝': 6952, '원두': 6953, '협소했어': 6954, '깨뜻해': 6955, '장시간': 6956, '접대': 6957, '엥': 6958, '마스터': 6959, '에고': 6960, '옷차림': 6961, '서운하다': 6962, '완속': 6963, '특정': 6964, '발등': 6965, '인제': 6966, '배우다': 6967, '이별': 6968, '아쿠아': 6969, '한수': 6970, '름': 6971, '개입': 6972, '주저': 6973, '외롭다': 6974, '맞춤': 6975, '낮잠': 6976, '용눈이오름': 6977, '화기': 6978, '애애': 6979, '편차': 6980, '내용물': 6981, '샤인': 6982, '별다방': 6983, '입출': 6984, '유럽': 6985, 'ㅅㅅㅅㅅㅅ': 6986, '럼': 6987, '연하다': 6988, '귤향': 6989, '수평선': 6990, '어선': 6991, '대뜸': 6992, '전반전': 6993, '흡사하다': 6994, '물난리': 6995, '수돗물': 6996, '바루앞': 6997, '선정': 6998, '서문시장': 6999, '게이': 7000, '밍': 7001, '솔': 7002, '이득': 7003, '딱지': 7004, '마법': 7005, '건의': 7006, 'vvip': 7007, '정신건강': 7008, '드립커피': 7009, '기지': 7010, '예비': 7011, '묘': 7012, '컷이라': 7013, '요충지': 7014, '대루': 7015, '근해': 7016, '12시간': 7017, 'sns': 7018, '밥통': 7019, '샴프': 7020, '아꼬': 7021, '두세': 7022, '거듭': 7023, '환대': 7024, '붙이': 7025, '이뻣구': 7026, '돈벌레': 7027, '도덕': 7028, '놀이기구': 7029, '어지럽다': 7030, '돌기': 7031, '합류': 7032, '강점': 7033, '음모': 7034, '업소': 7035, '간지': 7036, '산다': 7037, '안팎': 7038, '징그럽다': 7039, '뱉다': 7040, '킵': 7041, '초심': 7042, '지금처러': 7043, '텔': 7044, '스누피': 7045, '프렌치토스트': 7046, '등불': 7047, '소식': 7048, '움직': 7049, '무도': 7050, '30년': 7051, '동기': 7052, '숙': 7053, '설': 7054, '카메라': 7055, '광해': 7056, 'jmt': 7057, '방내': 7058, '외식': 7059, '스미다': 7060, '로사': 7061, '세탁소': 7062, '사망': 7063, '고라니': 7064, '슬라이딩': 7065, '출현': 7066, '피부염': 7067, '계심': 7068, '권하다': 7069, '능력': 7070, '돔베': 7071, '절경': 7072, '랜터카': 7073, '항행': 7074, '교류': 7075, '싱글룸': 7076, '라디오': 7077, '논리': 7078, '지면': 7079, '옹이': 7080, '몰래': 7081, '도모': 7082, '지모': 7083, '구경해': 7084, '신앙': 7085, '전하': 7086, '깨끗햇': 7087, '필승': 7088, '해군': 7089, '선배': 7090, '블루': 7091, '뚱하다': 7092, '구리다': 7093, '사람인': 7094, '짜증스럽다': 7095, '한국인': 7096, '헬입니': 7097, '악몽': 7098, '위드': 7099, '올리브영': 7100, '홈페이지': 7101, '볼록': 7102, '쓰리룸': 7103, '젛았어용': 7104, '내려다보다': 7105, '도배': 7106, '졸졸': 7107, '비위': 7108, '한다해': 7109, '막막하다': 7110, '샛길': 7111, '티백': 7112, '조천항': 7113, '예외': 7114, '요일': 7115, '탈취': 7116, '무선': 7117, '어찌저찌': 7118, '접속': 7119, 'ㅎㅎㅋㅋㅋ': 7120, '물회': 7121, '간물': 7122, '철문': 7123, '내려앉다': 7124, '충봉': 7125, '연박했는데': 7126, '빅': 7127, '훔치다': 7128, '23000원': 7129, '만을': 7130, '배낭': 7131, '58분': 7132, '부터라고': 7133, '셧구': 7134, '어떠하다': 7135, '업주': 7136, '1만': 7137, '대책': 7138, '메시지': 7139, '굿잡': 7140, '왜인': 7141, '1132': 7142, '베이커리': 7143, '쪼오꼼': 7144, '함닥': 7145, '어린이집': 7146, '명상': 7147, '값어치': 7148, '대학교': 7149, '지침': 7150, '친화력': 7151, '출신': 7152, '유머': 7153, '날개': 7154, '단란주점': 7155, '꼴': 7156, '구식이다': 7157, '룸업글': 7158, '어려워지다': 7159, '배란': 7160, '이빨': 7161, '또렷하다': 7162, '하루살이': 7163, '물틀': 7164, '뻣습': 7165, '쭈욱': 7166, '한방약': 7167, '자연스레': 7168, '김녕해변': 7169, '밍밍': 7170, '김녕오': 7171, '구지': 7172, '삑삑': 7173, '캠핑카': 7174, '술술': 7175, '개론': 7176, '창해': 7177, '느릿하다': 7178, '장작': 7179, 'ㅡㅠ': 7180, '초코': 7181, '넘어오다': 7182, '13': 7183, '정은': 7184, '굶다': 7185, '따라다니다': 7186, '이따가': 7187, '냅다': 7188, '7시간': 7189, '건들': 7190, '용인': 7191, '덜렁덜렁': 7192, '헤치다': 7193, '케어': 7194, '헬': 7195, '미취': 7196, '폐업': 7197, '다가서다': 7198, '전적': 7199, '각지': 7200, '신형': 7201, '잔고': 7202, '마약': 7203, '회용': 7204, '고사리': 7205, '모닥불': 7206, '당부': 7207, '펜션촌': 7208, '살랑살랑': 7209, '격': 7210, '넘침': 7211, '기원': 7212, '장아찌': 7213, '전시': 7214, '뱅글': 7215, '필': 7216, '더없이': 7217, 'l': 7218, '인수': 7219, '만만하다': 7220, '괜춘해': 7221, '키세': 7222, '스존': 7223, '진귀하다': 7224, '헿': 7225, '불참': 7226, '초파리': 7227, '킬라': 7228, '풀펜션': 7229, '쌈': 7230, '리모': 7231, '연못': 7232, '지갑': 7233, '거저': 7234, '썩다': 7235, '406': 7236, '모루': 7237, '하차': 7238, '난처하다': 7239, '이상인': 7240, '맴': 7241, 'ㅜㅡ': 7242, '릴리': 7243, '층고': 7244, '스스로': 7245, '서브웨이': 7246, '엘리': 7247, '꽁꽁': 7248, '상업시설': 7249, '주니': 7250, '기적': 7251, '온도조절기': 7252, '조어': 7253, '투명하다': 7254, '발밑': 7255, '34만원': 7256, '스무': 7257, '쏘이다': 7258, '날아가다': 7259, '훅': 7260, '이길원': 7261, '룸청소': 7262, '개뿔': 7263, '즙': 7264, '백반': 7265, '대학': 7266, '식장': 7267, '볼땐': 7268, '연륜': 7269, '51': 7270, '명성': 7271, '우직하다': 7272, '연상': 7273, '요지': 7274, '후각': 7275, '물컵': 7276, '왕왕': 7277, '국밥': 7278, '땅콩': 7279, '등대도': 7280, '유물': 7281, '이만원': 7282, '비운': 7283, '긴지': 7284, '전기자동차': 7285, '숴': 7286, '히든': 7287, '애완견': 7288, '풀밭': 7289, '과언': 7290, '알갱이': 7291, '만으로': 7292, '유튭': 7293, '플렉스': 7294, '로그인': 7295, '밝기': 7296, '모녀': 7297, '후덕': 7298, '펑소': 7299, '꿈꾸다': 7300, '아리': 7301, '헤이': 7302, '묶이다': 7303, '조마조마하다': 7304, '회색': 7305, '부딪치다': 7306, '개성': 7307, '특수': 7308, '요란': 7309, '전국': 7310, '무단': 7311, '숨쉬기': 7312, '긍정': 7313, '미국': 7314, '롯': 7315, '도란': 7316, '해나': 7317, '하얀색': 7318, '이아': 7319, '폭염': 7320, '농약': 7321, '파스타': 7322, '전라도': 7323, '나즈': 7324, '미남': 7325, '농촌': 7326, '노부': 7327, '뛰놀다': 7328, '던지기': 7329, '쪽지': 7330, '뽕': 7331, '연말': 7332, '스시': 7333, '유치원': 7334, '얐': 7335, '초벌': 7336, '앉히다': 7337, '박햇습니': 7338, '부숴': 7339, '무국': 7340, '흙': 7341, '인후': 7342, 'ㄲㄲㄲㄲㄲㄲ': 7343, '육안': 7344, '고합': 7345, '에이스': 7346, '사진촬영': 7347, '브리': 7348, '빈방': 7349, '실속': 7350, '풀풀': 7351, '박자': 7352, '지에스': 7353, '주자': 7354, '클래스': 7355, '선사': 7356, '흐뭇하다': 7357, '마이크': 7358, '심란하다': 7359, '앵': 7360, '엄빠': 7361, '형부': 7362, '강츄': 7363, '뻣뻣하다': 7364, '가급적': 7365, '득템': 7366, '지질': 7367, '멍하니': 7368, '소하': 7369, '만큼이나': 7370, '물리': 7371, '주기도': 7372, '캄캄하다': 7373, '틔': 7374, '생물': 7375, '갈라지다': 7376, '색': 7377, '간날': 7378, '양키': 7379, '1130분': 7380, '각방': 7381, '대한민국': 7382, '펑크': 7383, '재방': 7384, '덩달아': 7385, '거리입니다': 7386, '티켓팅': 7387, '비행기표': 7388, '입퇴': 7389, '박임': 7390, '어두운편': 7391, '시리우스': 7392, '부지역': 7393, '킥': 7394, '뷰임': 7395, '서해': 7396, '자본': 7397, '태토': 7398, '글자': 7399, '비닐봉지': 7400, '객인': 7401, '스탭들': 7402, '세팅해': 7403, 'had': 7404, 'conference': 7405, 'at': 7406, 'rooms': 7407, 'close': 7408, 'owner': 7409, 'spacious': 7410, '배편': 7411, '손대다': 7412, 'ㄷㅔ': 7413, '웟습니': 7414, '램': 7415, 'goddd': 7416, '달인': 7417, '쫌있어': 7418, '카락': 7419, '수요': 7420, '말고도': 7421, '78분': 7422, '박살': 7423, '701': 7424, '처리기': 7425, '아부': 7426, '아동': 7427, '감히': 7428, '밤사이': 7429, '어회': 7430, '방울토마토': 7431, '바이킹': 7432, '이웃': 7433, '대용': 7434, '경찰': 7435, '가나다': 7436, 'lady': 7437, '유무': 7438, '연방': 7439, '심신': 7440, '질때': 7441, '진실': 7442, '낯설다': 7443, '파워': 7444, '대표자': 7445, '팬': 7446, '어쨋': 7447, '방침': 7448, '재밋는': 7449, '재밋엇어': 7450, '불가피하다': 7451, '베이': 7452, '기념일': 7453, '다나': 7454, '인종차별': 7455, '암내': 7456, '화관': 7457, '족합니다': 7458, '쪽애': 7459, '새삼': 7460, '양보': 7461, '당분간': 7462, '성업': 7463, '맥심': 7464, '녹차': 7465, '도심지': 7466, '해프닝': 7467, '보람': 7468, '약품': 7469, 'ㅅㅇ': 7470, '팝송': 7471, '스세권': 7472, '선미': 7473, '선하다': 7474, '이라고는': 7475, '파전': 7476, '40년': 7477, '로맨스': 7478, '이내로': 7479, '그만하다': 7480, '만화카페': 7481, 'on': 7482, '룸업': 7483, '누런색': 7484, '연발': 7485, '다이닝': 7486, '폴딩': 7487, '구합': 7488, '대상': 7489, '전이': 7490, '윽': 7491, '욕먹다': 7492, '성산읍': 7493, '3040분': 7494, '서서히': 7495, '시엔': 7496, '파리채': 7497, '래야': 7498, '권유': 7499, '투머치': 7500, '협제': 7501, '어따': 7502, '송이': 7503, 'ㅠㅠㅋㅋㅋ': 7504, '온통': 7505, '외우다': 7506, '유효': 7507, '대학생': 7508, '상비약': 7509, '바즐': 7510, '제휴': 7511, '피셜': 7512, '소세지': 7513, '대구': 7514, '몇장': 7515, '전임': 7516, '페퍼민트': 7517, '시장님': 7518, '만들기': 7519, '맛있엇어': 7520, '셧음': 7521, '조그맣다': 7522, '넒어': 7523, '파라': 7524, '고심': 7525, '부인': 7526, '쁘': 7527, '이춘': 7528, '원조': 7529, '할껄': 7530, '마마': 7531, '상단': 7532, '이나마': 7533, '명단': 7534, '왓습니': 7535, '중학교': 7536, '내고': 7537, '햄': 7538, '온풍': 7539, '평행': 7540, '날림': 7541, '능데': 7542, '패딩': 7543, '슬슬': 7544, '사복': 7545, '노곤': 7546, '역쉬': 7547, '신한': 7548, '살충제': 7549, '저녁밥': 7550, '딸셋': 7551, '서브': 7552, '송': 7553, '평온하다': 7554, '진지하다': 7555, '차후': 7556, '지배': 7557, '거진': 7558, '메모리': 7559, '저건': 7560, '이십분': 7561, '체질': 7562, '개취': 7563, '멀티': 7564, '부랑': 7565, '타도': 7566, '범퍼': 7567, '썻다': 7568, '폔션': 7569, '여닫이': 7570, '니나': 7571, '정신없이': 7572, '납득': 7573, '여가': 7574, '어나': 7575, '에서처럼': 7576, '초콜릿': 7577, '사라': 7578, '옴청': 7579, '평방': 7580, '시커멓다': 7581, '동동': 7582, '줄줄': 7583, '130': 7584, '직항': 7585, '투척': 7586, '뽀득뽀득': 7587, '추웟': 7588, '물렁': 7589, '둘곳': 7590, '리들리': 7591, '흉물': 7592, '폐': 7593, '들차다': 7594, '찐득하다': 7595, '낙상': 7596, '아트': 7597, '짝': 7598, '삼각대': 7599, '탐색': 7600, '프라': 7601, '하소': 7602, '스타트': 7603, '단기': 7604, '떤다': 7605, '자장가': 7606, '땡기다': 7607, '67분': 7608, '썻는데': 7609, '도두': 7610, '찌르다': 7611, '담벼락': 7612, '십만원': 7613, '못함': 7614, '늘어나다': 7615, '일보': 7616, '제육': 7617, '산뜻하다': 7618, '구획': 7619, '수두': 7620, '룩': 7621, '모이': 7622, '이족': 7623, '드디어': 7624, '노티': 7625, '차질': 7626, '라기보다는': 7627, '귀차니즘': 7628, '신다해': 7629, '전동': 7630, 't': 7631, '운항': 7632, '분홍': 7633, '물곰팡이': 7634, '컴컴하다': 7635, '노릇': 7636, '머시': 7637, '팡팡': 7638, '인정이': 7639, '룸메이트': 7640, '분수': 7641, '7천원': 7642, '개인정보': 7643, '빈자리': 7644, '꼬랑내': 7645, '스폰지': 7646, '썻': 7647, '산지천': 7648, '파쿠': 7649, '앞서': 7650, '손꼽다': 7651, '자가': 7652, '감시': 7653, '만으로는': 7654, '인부': 7655, '전송': 7656, '회전': 7657, '놀랏어': 7658, '나뉘다': 7659, '발해': 7660, '눈뽕': 7661, '보리차': 7662, '됫': 7663, '장안': 7664, '시원': 7665, '라반': 7666, '제멋대로': 7667, '다리다': 7668, '뿌듯': 7669, '강습': 7670, '오프': 7671, '변상': 7672, '발도': 7673, '포스': 7674, '나선형': 7675, '남동생': 7676, '순도': 7677, '병따개': 7678, '인증샷': 7679, '어쩐지': 7680, '시스루': 7681, '공설': 7682, '건축': 7683, '취할': 7684, '우연찮': 7685, '고이': 7686, '전무하다': 7687, '내로': 7688, '이내에': 7689, '도치': 7690, '반려동물': 7691, '온기': 7692, '56시': 7693, '장수풍뎅이': 7694, '그림자': 7695, '삼삼오오': 7696, '거뜬하다': 7697, '이이이': 7698, 'ㅠㅇㅠ': 7699, '퐁스': 7700, '뭉뭉님': 7701, '조율': 7702, '단무지': 7703, '빙글빙글': 7704, '탁세': 7705, '걷히다': 7706, '팔목': 7707, '삐끗': 7708, '에든': 7709, '젤로': 7710, '레쉬': 7711, '에보니': 7712, '으리': 7713, '키오스트': 7714, '룸안': 7715, '태국': 7716, '일식집': 7717, '곶': 7718, '진자': 7719, 'ㅎㄹ': 7720, '조성': 7721, '미온': 7722, '다육': 7723, '포도': 7724, '점심때': 7725, '아라하': 7726, '물멍': 7727, '이두': 7728, '한실': 7729, '방금': 7730, '쉬기': 7731, '앞당기다': 7732, '6천원': 7733, '입도': 7734, '옥수수': 7735, '참외': 7736, '에어포트': 7737, '니아': 7738, '알몸': 7739, '문단속': 7740, '부어': 7741, '추위안': 7742, '34분': 7743, '차하': 7744, '호가': 7745, '협재가': 7746, '시각': 7747, '깔끔깔끔': 7748, '대물': 7749, '껀데': 7750, '소스': 7751, '방파제': 7752, '마룻바닥': 7753, '예민한사람': 7754, '고스': 7755, '도립': 7756, '항공우주': 7757, '썬팅': 7758, '훤하': 7759, '으루': 7760, '이자나': 7761, '소독제': 7762, '라벤더': 7763, '수림': 7764, '만은': 7765, '잠수': 7766, '헤집다': 7767, '다다다': 7768, '메리': 7769, '걸그룹': 7770, '키크': 7771, '에일': 7772, '넘사벽': 7773, '무릉도원': 7774, '유저': 7775, '쪼매': 7776, '높혔더': 7777, '고사': 7778, 'mb': 7779, '겜': 7780, '굴러가다': 7781, '스위트룸': 7782, '인식': 7783, '소정': 7784, '비주': 7785, '어딨다': 7786, '코코': 7787, '보너스': 7788, '아꼽다': 7789, '티머니': 7790, '뽀득': 7791, '바이크': 7792, '푯말': 7793, '초라': 7794, '사납다': 7795, '창결': 7796, '스탶': 7797, '갸': 7798, '빗물': 7799, '일방': 7800, '통행': 7801, '길쪽': 7802, '달라지다': 7803, '덕대': 7804, '상호': 7805, '에두': 7806, '티맵': 7807, '여운': 7808, '차액': 7809, '막걸리': 7810, '다한': 7811, '변덕': 7812, '짱짱맨': 7813, '안타': 7814, '오로라': 7815, '미담': 7816, '노선': 7817, '핏': 7818, '때믄에': 7819, '으로써는': 7820, '드링크': 7821, '2030': 7822, '무우': 7823, '형용': 7824, '트램폴린': 7825, '어디껀': 7826, '꿀떡': 7827, '씩이나': 7828, '원형': 7829, '25만원': 7830, '엄지손가락': 7831, '빙의': 7832, '해제': 7833, '직후': 7834, 'ocean': 7835, 'view': 7836, '지주': 7837, '시렁': 7838, '적임': 7839, '동거': 7840, '툐': 7841, '넹': 7842, '얼룩덜룩하다': 7843, '나진': 7844, '입히다': 7845, '어촌': 7846, '오입': 7847, '브래이': 7848, '유독': 7849, '노무': 7850, '혼절': 7851, '앞팀': 7852, '만두': 7853, '비빔국수': 7854, '가원': 7855, '널리': 7856, '한동': 7857, '사마귀': 7858, '사유': 7859, '쪽문': 7860, '알고싶다': 7861, '앖': 7862, '전원주택': 7863, '구토': 7864, '호영': 7865, '우아': 7866, '싸늘하다': 7867, '책임': 7868, '탈때': 7869, '파르': 7870, '나스': 7871, '지하상가': 7872, '미쳣어': 7873, '상기': 7874, '나른하다': 7875, '무예': 7876, '연로': 7877, '헤르': 7878, '로비나': 7879, '개띠': 7880, '흥분': 7881, '100만': 7882, 'ㅠㅠㅜ': 7883, '305': 7884, '떨리다': 7885, '석지': 7886, '데코': 7887, '답터': 7888, '981': 7889, '객관': 7890, '버정': 7891, '곰막': 7892, '로지은': 7893, '산세': 7894, '카스': 7895, '줄알': 7896, '묶음': 7897, '정규': 7898, '명분': 7899, '살살': 7900, '호텔샌드': 7901, '화장품': 7902, '샌드': 7903, '모드': 7904, '통풍': 7905, '죽여주다': 7906, '비아': 7907, 'ㅡㅜ': 7908, '승': 7909, '목재': 7910, '때메': 7911, '기여': 7912, '유리컵': 7913, '즇': 7914, '바들바들': 7915, '달빛': 7916, '내놓다': 7917, '안식구': 7918, '오붓하다': 7919, '깔꼬미해': 7920, '한적': 7921, '후련하다': 7922, 'sosososo': 7923, '것임': 7924, '쌀': 7925, '만발': 7926, '꽃들이': 7927, '봉봉': 7928, '35000원': 7929, '아버님': 7930, '소화전': 7931, '쌤': 7932, '매출': 7933, '속이다': 7934, '도크': 7935, '페인트': 7936, '시외버스': 7937, '책임자': 7938, '해피아워': 7939, '어지럽히다': 7940, '더럽히다': 7941, '생신': 7942, '솔트': 7943, '감추다': 7944, '반투명': 7945, '염전': 7946, '천하다': 7947, '새벽녘': 7948, '띵': 7949, '듀': 7950, '외형': 7951, '여심': 7952, '상회': 7953, '울림': 7954, '젋': 7955, '펜트하우스': 7956, '시더': 7957, '숙지': 7958, '중심지': 7959, '실력': 7960, '후짐': 7961, '지옥': 7962, '째인데': 7963, '이오': 7964, '코티지': 7965, '분쇄기': 7966, '호다닥': 7967, 'cleaning': 7968, 'again': 7969, '회집': 7970, '어머님께': 7971, '안질리다': 7972, '급식': 7973, '개개': 7974, '연기': 7975, '취했다': 7976, '남여': 7977, '성향': 7978, '돈가스': 7979, '축사': 7980, '거름': 7981, '청개구리': 7982, '한주': 7983, '르메': 7984, '해루': 7985, '업데이트': 7986, '차체': 7987, '황색': 7988, '터터': 7989, '번거러움': 7990, '닭': 7991, '봣어': 7992, '잏어': 7993, '인조': 7994, '화해': 7995, '해충': 7996, '유격': 7997, '삭제': 7998, '103': 7999, '쪼큼': 8000, '끝없이': 8001, '준인': 8002, '좋았슴다': 8003, '앙스': 8004, '인스타그램': 8005, '룸커디션': 8006, '평타': 8007, '거래': 8008, '잇몸': 8009, '이러하다': 8010, '단추': 8011, '진정': 8012, '물음표': 8013, '꽂히다': 8014, 'ㅅㅂ': 8015, '하단': 8016, '쫒다': 8017, '겨남': 8018, '중복': 8019, '호의': 8020, '8000원': 8021, '넘어서': 8022, '멎다': 8023, '불륜': 8024, '중에': 8025, '요전': 8026, '16일': 8027, '하숙': 8028, '기숙사': 8029, '꼬리': 8030, '코이노니아': 8031, '메론': 8032, '403': 8033, '개맛': 8034, '샤': 8035, '욕구': 8036, '금맥': 8037, '엄니': 8038, '모해': 8039, '도보이': 8040, '동하': 8041, '메뉴얼': 8042, '구옥': 8043, '협찬': 8044, '물속': 8045, '모델하우스': 8046, '꿀잼': 8047, '쨍쨍': 8048, '비비큐': 8049, '고도보': 8050, '묜': 8051, '묵엇습니': 8052, '락쓰무': 8053, '최하': 8054, '층독채': 8055, '토다': 8056, '경비': 8057, 'zpt': 8058, '극도': 8059, '슉소': 8060, '그만': 8061, '울타리': 8062, '팜파스': 8063, '민원': 8064, '영수증': 8065, '페이': 8066, '더라도': 8067, '층수': 8068, '화단': 8069, '이라곤': 8070, '훈련': 8071, '못봣': 8072, '응원': 8073, '주먹': 8074, '프런트로': 8075, '살림': 8076, '왕래': 8077, '착륙': 8078, '니지': 8079, 'cc': 8080, '오월': 8081, '껍질': 8082, '자실': 8083, '도두항': 8084, '거금': 8085, '학': 8086, '배차': 8087, '5초': 8088, '초라하다': 8089, '중순': 8090, '공간활용': 8091, '두루치기': 8092, '무족': 8093, '또옴': 8094, '반개': 8095, '만치': 8096, '하와이': 8097, '어중간하다': 8098, '갑니댱': 8099, '초등': 8100, '명의': 8101, '조마조마': 8102, '아리아': 8103, '심보': 8104, '불하': 8105, '발짝': 8106, '잖다': 8107, '50년': 8108, '더비': 8109, '쩌': 8110, '설겆': 8111, '꽈배기': 8112, '티모': 8113, '읭읭': 8114, '106': 8115, '제미바릇': 8116, '황당': 8117, '어쩌지': 8118, '가파른': 8119, '주객전도': 8120, '퓨어': 8121, '손발톱': 8122, '수량': 8123, '재래시장': 8124, '유흥업소': 8125, '마쉬멜로우': 8126, '고근산': 8127, '식기건조기': 8128, '화주': 8129, '뮤실': 8130, '214': 8131, '번영로': 8132, '오노': 8133, '넉넙히': 8134, '텃밥약간': 8135, '유기': 8136, '게쉬': 8137, '쥬아어': 8138, '베임': 8139, '수입': 8140, '42': 8141, '연빅시': 8142, '체류': 8143, '쨩': 8144, '꼿을수': 8145, '조아써욬': 8146, '못데': 8147, '룸시설': 8148, 'ㅣㅣㅣ': 8149, '악성': 8150, '설령': 8151, '변좌': 8152, '전박': 8153, '아프리카': 8154, '이그니스': 8155, '운동화': 8156, '부스레기': 8157, '분해': 8158, '이바지': 8159, '균': 8160, '에키': 8161, '즁': 8162, '서나': 8163, '는지': 8164, '빼주': 8165, '내의': 8166, '단절': 8167, '정장': 8168, '차림': 8169, '빵점': 8170, '벽돌': 8171, '협소했': 8172, 'ㅎㅇ': 8173, '댓글달다': 8174, '다시면': 8175, '상승': 8176, '넘깨끗': 8177, '장실': 8178, '까운': 8179, '팬티': 8180, '모양새': 8181, '악하다': 8182, '보증': 8183, '세이브': 8184, '등줄기': 8185, 'f': 8186, '그지같다': 8187, '개새': 8188, '뛰어가다': 8189, 'ㅎㄷ': 8190, '고오': 8191, '삼박자': 8192, '썻습': 8193, '안드심': 8194, '나다르': 8195, '찰떡': 8196, '쌀때': 8197, '레지던스룸': 8198, '엉엉': 8199, '룸관리': 8200, '빡세': 8201, '봤어욤': 8202, '물성': 8203, '섀시': 8204, '편집': 8205, '톳': 8206, '늦엇네': 8207, '몸둘': 8208, '몰랏네': 8209, '올리셧길': 8210, '39': 8211, '뎁혀놨다': 8212, '을뎁혀도': 8213, '술병': 8214, '107': 8215, 'ㅠㅁㅠ': 8216, '감흥': 8217, '요즈음': 8218, '미세먼지': 8219, '차피': 8220, '조앙': 8221, '콩탁': 8222, '열씨': 8223, '옆동': 8224, '긴찮은데': 8225, '옷함': 8226, '찌렁': 8227, '흘': 8228, '욕기': 8229, '분지': 8230, '놀랐슴다': 8231, '대수': 8232, '게왜': 8233, '장오': 8234, '위져': 8235, '대개': 8236, 'pick': 8237, '원랜': 8238, '뒤도': 8239, '남침': 8240, '끌때': 8241, '쏠쏠': 8242, '숖': 8243, '특보': 8244, '칟절': 8245, '칭구': 8246, '장부근': 8247, '밀감': 8248, '써비': 8249, '본보기': 8250, '법환바': 8251, '주하': 8252, '가온누리': 8253, '므르': 8254, '못찍엇넹': 8255, '1522시': 8256, '스텐레스': 8257, '단자': 8258, '충실': 8259, '텅빈': 8260, '청각': 8261, '살아나다': 8262, '온실효과': 8263, '아이콘': 8264, '우천': 8265, '범섬뷰': 8266, '밟혔어': 8267, '디게': 8268, '6분': 8269, '형아': 8270, '건축물': 8271, '쉬었뎐곳특실': 8272, '생소하다': 8273, '섬뜩하다': 8274, '크흐': 8275, '한컨': 8276, '캐스트': 8277, '사람과': 8278, '콧속': 8279, '시선': 8280, '건네주다': 8281, '행쇼': 8282, '라이스': 8283, '배속': 8284, '이상향': 8285, '추구': 8286, '명리': 8287, '그이': 8288, '넚어': 8289, '잘썻': 8290, '크리티컬': 8291, '베게너': 8292, '마르': 8293, '구부리다': 8294, '빡셈': 8295, '나뉘어지다': 8296, '안거': 8297, '이익': 8298, '다시꼽': 8299, '퍽퍽': 8300, '소리내다': 8301, '긴머리': 8302, '라지에이터': 8303, '엄철': 8304, '221229': 8305, '편점': 8306, '재부팅': 8307, '갘': 8308, '파리하다': 8309, '얐습': 8310, '파티필참룸': 8311, '필참룸': 8312, '박일': 8313, '울퉁불퉁하다': 8314, '뿌셔따': 8315, '노잼': 8316, '감주': 8317, '떼창': 8318, '수주고': 8319, '흥나': 8320, '소외': 8321, '고고씽': 8322, '잠잠하다': 8323, '해방': 8324, '25000': 8325, '20000': 8326, '소개팅': 8327, '미팅': 8328, '과팅': 8329, '이성': 8330, '음달': 8331, '저대로': 8332, '재방각': 8333, '탑재': 8334, '목금': 8335, '식초': 8336, '편편': 8337, '빠': 8338, '주조': 8339, '되니': 8340, '렜': 8341, '백록담': 8342, '몬': 8343, '좀협소했': 8344, '구동': 8345, '오거리': 8346, '당사자': 8347, '담말': 8348, '님들': 8349, '고의': 8350, '딴판': 8351, '콘셋': 8352, '넷플릳스': 8353, '장염': 8354, '쓰지맙시': 8355, '오래도록': 8356, '초행': 8357, '테호': 8358, '바로다': 8359, '빠방하': 8360, '하셍': 8361, '쾌활하다': 8362, '용암': 8363, '암거': 8364, 'ㅇㄹㄹㄹㄹㄹ': 8365, 'ㅇㅇㅇㅇㅇㅇㅇ': 8366, '거물': 8367, '못했슴': 8368, '비젛': 8369, '무용지물': 8370, 'ㄱㅊㄱㅊ': 8371, '슬펏습니': 8372, '닭샤브집': 8373, '식욕': 8374, '또다시': 8375, '올껭': 8376, '메일': 8377, '항용': 8378, 'ㅕㅇ': 8379, '읺아': 8380, 'ㅡㅡㅡㅡㅡㅡㅡㅡㅡ': 8381, '최초': 8382, '악플': 8383, '타임머신': 8384, '삼천원': 8385, '모나코': 8386, 'qm': 8387, '찜콩': 8388, '경자년': 8389, '돌리시': 8390, '제비집': 8391, '정답': 8392, '비조': 8393, '전말': 8394, '대애': 8395, '애박': 8396, '욕설': 8397, '수장': 8398, '890년': 8399, '돈것': 8400, '미즈': 8401, '얼음장': 8402, '귀신의집': 8403, '165': 8404, 'cn': 8405, '꾸루구꾸룩': 8406, '멍울': 8407, '조아브러': 8408, '클렌징': 8409, '면봉': 8410, '메우다': 8411, '06시': 8412, '거리이며': 8413, 'ㄷㅣ': 8414, '겨냥': 8415, '건믈': 8416, '변색': 8417, '괜챦았어': 8418, '땐관찮': 8419, '용수철': 8420, '원격': 8421, '연출': 8422, '앟나': 8423, '엄서용': 8424, '장의': 8425, '낭': 8426, '오밤중': 8427, '마다엄청크게': 8428, 'ㅇㅇㅇㅇㅇㅇㅇㅇㅇㅇ': 8429, '용품을': 8430, '바삐': 8431, '잡아타다': 8432, '앞답': 8433, '노점': 8434, '209': 8435, '처분': 8436, '귀중': 8437, '오래간만': 8438, '서양': 8439, '뽀실뽀실해': 8440, '스템': 8441, '장마철': 8442, '문관': 8443, '온순하다': 8444, '가만있다': 8445, '주최': 8446, '거랍니': 8447, '만능': 8448, '철학': 8449, '순둥': 8450, '인터네셔널': 8451, '가이드라인': 8452, '구덕': 8453, '슬어': 8454, '사투리': 8455, '동서': 8456, '디음': 8457, '고글': 8458, '튀김': 8459, '등장': 8460, 'ㅏㅏㅏㅏㅏ': 8461, '같아욤': 8462, '따끈따끈': 8463, '틀연': 8464, '우회': 8465, '댕': 8466, '금주': 8467, '행전': 8468, '이용수': 8469, '좋아욘': 8470, '재밋으세': 8471, '말아먹다': 8472, '초심자': 8473, '극한': 8474, '직업': 8475, '도도하다': 8476, '980980': 8477, '동유럽': 8478, '바이브': 8479, '한국': 8480, '대학로': 8481, '즐비': 8482, '링링': 8483, '독서': 8484, '그루': 8485, '빈통': 8486, '배라': 8487, '14년': 8488, '제작': 8489, '17년': 8490, '도까지': 8491, '널브러져': 8492, '브레지어': 8493, '죤맛': 8494, '한란': 8495, '뒤에': 8496, '사자': 8497, '병아리': 8498, '깡': 8499, '지팡이': 8500, '스틱': 8501, '계해': 8502, '나물': 8503, '착즙기': 8504, '호테': 8505, '구구구구': 8506, '상차림': 8507, '추어탕': 8508, '연박했습니다': 8509, '퍼페트': 8510, '무천': 8511, 'lovely': 8512, '겸비': 8513, '주도': 8514, '좃네쇼': 8515, '좋아욬': 8516, 'ㅋㅋㅋㅋㄱ': 8517, '허름함': 8518, '해킹': 8519, '리차': 8520, '겉문': 8521, '백이': 8522, '띠용': 8523, '시렵다': 8524, '차안대': 8525, 'ㄱㅊㅊㄱㅊㄱㅊ': 8526, '13일': 8527, '비문': 8528, '소비자': 8529, '청각장애': 8530, '506': 8531, '호인': 8532, '깨꿋': 8533, '송당리': 8534, '고단': 8535, '17시': 8536, '라는게': 8537, 'laughing': 8538, '용귀마개가': 8539, '순환버스': 8540, '마물': 8541, '변환': 8542, '합성': 8543, '좋앜': 8544, 'ㅎㅎㅎㅎㅎㅎㅎㅎㅎㅎㅎ': 8545, '버벅거려': 8546, '화하다': 8547, '최신영': 8548, '유트브': 8549, '렛잇고': 8550, '웁': 8551, '대방': 8552, '부시': 8553, '랙': 8554, '200300': 8555, '1060': 8556, '키보': 8557, '유스': 8558, '해드셋': 8559, '자사': 8560, '33000원': 8561, '고후': 8562, '조개탄': 8563, '소고기': 8564, '방썻는데': 8565, '18000원': 8566, '직장': 8567, '출자': 8568, '퍈': 8569, '다이아몬드': 8570, '씩받아요': 8571, '비기다': 8572, '좋겄지뭐': 8573, '잘셨슴다룽': 8574, '깔끔햤어': 8575, '패스트푸드': 8576, 'ㅜㅜㅜㅜㅜㅠㅠ': 8577, '설이': 8578, '세미나': 8579, '폭도': 8580, '2427': 8581, '만좃': 8582, '마가': 8583, '아연': 8584, '삐죽다': 8585, '셍각보다괜찬': 8586, '맏았': 8587, '공공': 8588, '승차': 8589, '정소': 8590, '효소': 8591, '죄인': 8592, '지적': 8593, '방운': 8594, '굿굿굿굿굿굿': 8595, '비타': 8596, '큰어머니': 8597, '비굿굿': 8598, '쫍음': 8599, '으러': 8600, '잘피': 8601, 'value': 8602, 'price': 8603, '헤진거': 8604, '좋던뎁': 8605, 'ㄷㄷㄷㄷ': 8606, '사만원': 8607, '소홀하다': 8608, '쌀쌀': 8609, '못되어서': 8610, '다비': 8611, '마춤': 8612, '깜빡이다': 8613, '쓸모': 8614, '604': 8615, '키안': 8616, '애먹엇네': 8617, '온종일': 8618, '24000원': 8619, '이마트라': 8620, '오션스': 8621, '위츠': 8622, 'in': 8623, 'out': 8624, '수긍': 8625, '바닭': 8626, '흠집': 8627, '수시': 8628, '방투룸': 8629, '곳외': 8630, '진출': 8631, '듀얼': 8632, '힘겹다': 8633, '챵겨': 8634, '나본': 8635, '두피': 8636, '뾰루지': 8637, '잔쉬': 8638, '오돌오돌': 8639, '물어봣': 8640, 'kctv': 8641, '넥플리스': 8642, '2000년': 8643, '장부': 8644, '리심': 8645, '메이크업': 8646, '두드림': 8647, '글쎄': 8648, '빠레브호텔': 8649, 'experience': 8650, '빠레브': 8651, '관리직': 8652, '경차': 8653, '올렌길': 8654, '있스': 8655, '예행': 8656, '던킨': 8657, '잘보내고갑니다': 8658, '남원': 8659, '승지': 8660, '스워트': 8661, '피아노': 8662, '연주': 8663, '부끄럽다': 8664, '뒷받침': 8665, '우아하다': 8666, '밀폐': 8667, '빗살': 8668, 'ㅋㅋㅠㅠ': 8669, '오토': 8670, '덜커덩': 8671, '아메': 8672, '유의사항': 8673, '은수': 8674, '화이트하우스': 8675, '옄': 8676, '하겟는데': 8677, '알바생': 8678, '림': 8679, '뻐근하다': 8680, '바다해': 8681, '옯레길': 8682, '센치': 8683, '두툼해': 8684, '끄트머리': 8685, '능가': 8686, '별동': 8687, '쥣': 8688, '복보': 8689, '정신차리다': 8690, '리트': 8691, '무티': 8692, '스테이션': 8693, '쫙쫙': 8694, '오십': 8695, '복지로': 8696, '상쇄된다': 8697, '도청': 8698, '엘린': 8699, '치트': 8700, '훈증': 8701, '괜차': 8702, 'ㄴㅎ': 8703, '지지도': 8704, '협소한것': 8705, '맛싯습니': 8706, '생년': 8707, '월일': 8708, '기입': 8709, '제출': 8710, '뒷골목': 8711, '대굴대굴': 8712, '아슬아슬': 8713, '스팀': 8714, '제주항공': 8715, '손전등': 8716, '펀': 8717, '횄': 8718, '마트가': 8719, '개후': 8720, '개후짐': 8721, '무아': 8722, '눠': 8723, '부조': 8724, '뽀글뽀글': 8725, '맛밌는': 8726, 'ㅈㄴ': 8727, 'sy': 8728, '낲기': 8729, '무늬': 8730, '룸내부': 8731, '채도': 8732, '물반': 8733, '빵꾸': 8734, '이염': 8735, '183': 8736, '인저': 8737, '낙옆': 8738, '하셧네': 8739, '다야': 8740, '열무김치': 8741, '아모': 8742, '렉스': 8743, '열악하다': 8744, '넘어': 8745, '쫂낫곘': 8746, '오물': 8747, '우사': 8748, '탈퇴': 8749, '어의': 8750, '트윈코': 8751, '221': 8752, '촌스럽다': 8753, '7100원': 8754, '나오네요': 8755, '사이에': 8756, '밤레': 8757, '걀끔': 8758, '돈볼': 8759, '카츠': 8760, '이아주': 8761, '보름달': 8762, '서쪽하늘': 8763, '짜조': 8764, '간처': 8765, '온돌룸': 8766, '셧습니': 8767, '게시판': 8768, '실때': 8769, '능숙하다': 8770, '화산암': 8771, '반수': 8772, '감싸다': 8773, '휠체어': 8774, '조긍': 8775, '구런': 8776, '후자': 8777, '되레': 8778, '밝히다': 8779, '미술': 8780, '허용': 8781, '둔감하다': 8782, '34만': 8783, '자쿠지가': 8784, '소방': 8785, '억수': 8786, '상쇄하': 8787, '셋톱박스': 8788, '지렁이': 8789, '맛잇엇어': 8790, '민속촌': 8791, '사하다': 8792, '구연': 8793, '분노': 8794, '토속': 8795, 'ㅎㅎㅎㅎㅎㅎㅎㅎㅎㅎㅎㅎㅎㅎㅎㅎㅎㅎ': 8796, 'ㅎㅎㅎㅋ': 8797, 'ㅇㅅ': 8798, '각질': 8799, '민가': 8800, '허옇': 8801, '160만원': 8802, '로얄': 8803, '로얄패밀리': 8804, '상반': 8805, '원치않다': 8806, '목욜타월': 8807, '핑': 8808, '소프트': 8809, '환경보호': 8810, '헤어컨디셔너': 8811, '12000원': 8812, '방일': 8813, '식탁보': 8814, '퐉': 8815, '밣': 8816, '넹넹': 8817, '어메': 8818, '룸커피': 8819, '잔부': 8820, '개요': 8821, '위행': 8822, '다다미방': 8823, '쓸모없다': 8824, '업도': 8825, '와써윱': 8826, '56분': 8827, '언짢다': 8828, '부자연스럽다': 8829, '증상': 8830, 'beep': 8831, '4초': 8832, '간격으로': 8833, '구글': 8834, '음성인식': 8835, 'zzzzzzzz': 8836, '아랫방': 8837, '도고': 8838, 'ㅅㅈㅅㅈㅅ': 8839, '117시': 8840, '굿굿굿굿귯굿': 8841, '구내식당': 8842, '의사소통': 8843, '이음': 8844, '전채': 8845, '스비': 8846, '헤진상태': 8847, '에쓰': 8848, '예스': 8849, '며괘': 8850, '1406': 8851, '전이랑': 8852, '대적': 8853, '웨스턴': 8854, '향신료': 8855, '심정': 8856, '음소': 8857, '셋탑박스': 8858, '결부': 8859, '902': 8860, '영안': 8861, 'ㅛㄴㄹ': 8862, '트윈실': 8863, '머물럿다': 8864, '스몰': 8865, '티포트': 8866, '물위': 8867, '50만원': 8868, '돈하눈데': 8869, '추가됨': 8870, '아이구': 8871, '괌취소': 8872, '동대문': 8873, '킹스타운': 8874, '비니': 8875, '지스': 8876, '호텧': 8877, '어리둥절하다': 8878, '당혹스럽다': 8879, '됫다': 8880, '동트': 8881, '결혼반지': 8882, '성악': 8883, '깨끟가': 8884, '펩시': 8885, '수하물': 8886, '동작': 8887, '백퍼센트': 8888, '순찰중': 8889, '뷰값': 8890, '벗': 8891, '코시': 8892, '대우받다': 8893, '상술': 8894, '절전': 8895, '카지노': 8896, '재사용': 8897, '갈분': 8898, '쫌노후됬': 8899, '객시': 8900, '할까말까': 8901, '바루': 8902, '쉬엇어': 8903, '인방': 8904, '선샤인': 8905, '이래요': 8906, '자연환경': 8907, '위락': 8908, '아쁘': 8909, '매니아': 8910, '낙날': 8911, '보냇어': 8912, 'ㅠㅠㅎㅎ': 8913, '한화': 8914, '아쉬윘음': 8915, '북동': 8916, '조아욯': 8917, '주제': 8918, '천제연폭포': 8919, '선언': 8920, '청문': 8921, '가글': 8922, '어딧': 8923, '340분': 8924, '말씀드렷': 8925, '비굿입': 8926, '화끈하다': 8927, '진에어': 8928, '탑승권': 8929, 'myr': 8930, 'ch': 8931, 'lj': 8932, '328': 8933, 'cju': 8934, '김포': 8935, 'gmp': 8936, '해저': 8937, '뱐복해': 8938, '정합': 8939, '드니': 8940, '차이라며': 8941, '취고': 8942, '한해': 8943, '사소리': 8944, '던셜': 8945, '스위티': 8946, '지단': 8947, '설경': 8948, '쌍둥이': 8949, '몆년전': 8950, '마게': 8951, '전보': 8952, '뚫어뻥': 8953, '일통': 8954, '이반': 8955, '초행길': 8956, '방깨': 8957, '눌': 8958, '글씨체': 8959, '서비스업': 8960, '시상': 8961, '레일': 8962, '크로스': 8963, '지구': 8964, '면적': 8965, '수조': 8966, '절도': 8967, '거땜': 8968, '한소리': 8969, '쳥결': 8970, '음가': 8971, '스팸': 8972, '비비다': 8973, '축축': 8974, '평스': 8975, '당내': 8976, '디오': 8977, '계란찜': 8978, '동임': 8979, 'ㅏㅇ': 8980, '청사': 8981, '동파': 8982, '미키': 8983, '재즈': 8984, '마일스': 8985, '가림': 8986, '방범': 8987, '에컨': 8988, '제어장치': 8989, '열자': 8990, '경첩': 8991, '닥재': 8992, '초인데도': 8993, 'ㅅㅎ': 8994, '볶음': 8995, '철벽': 8996, '빈약하다': 8997, '절레절레': 8998, '불가피': 8999, '어번': 9000, '먁': 9001, '급발진': 9002, '조아리다': 9003, '로부터': 9004, '소액': 9005, '잘되지': 9006, '온픙기': 9007, '우당탕': 9008, '쯤엔': 9009, '카바': 9010, '소의': 9011, '이상을': 9012, '상쇄합니': 9013, '야간수영': 9014, '들어옮': 9015, '만가': 9016, '인점': 9017, '수임': 9018, '다니엘': 9019, '도착하여': 9020, '입실로': 9021, '택일': 9022, '기두': 9023, '세차': 9024, '프런트있는': 9025, '전에가고': 9026, '스와브': 9027, '안통함': 9028, '문고': 9029, '정발': 9030, 'ㅣㅇ': 9031, '핮다': 9032, '책좀': 9033, '롤러': 9034, 'ㅓㅍ': 9035, '변두리': 9036, '꼭지': 9037, '나빳고': 9038, '비적': 9039, '넘은거같은': 9040, '노시': 9041, '정통': 9042, '영장': 9043, '다난': 9044, '틀좀': 9045, '67시': 9046, '마틸다': 9047, '946': 9048, '20일': 9049, '언론': 9050, '직격타': 9051, '거길': 9052, '목숨': 9053, '정도만걸어가면': 9054, '만쿠': 9055, '알레': 9056, '영락': 9057, '생객': 9058, '요트여행': 9059, '입항': 9060, '훗날': 9061, '합니딘': 9062, '다봏앗어': 9063, '씼었으': 9064, '프론드': 9065, '저쩌': 9066, '이이': 9067, '돈내': 9068, '몰려오다': 9069, '다라': 9070, '지안': 9071, '팔구': 9072, '화재경보기': 9073, '차감': 9074, '킹스': 9075, '메종글': 9076, '흡사': 9077, '치워지다': 9078, '수병': 9079, '뷴위기': 9080, '얂을까': 9081, '쨍': 9082, '톤앤': 9083, '강압': 9084, '밥맛': 9085, '쥬시': 9086, '제리': 9087, '버터': 9088, '푹잠': 9089, '날조': 9090, 'ㅇㅓㅆ': 9091, '월등하다': 9092, '새루해': 9093, '전문점': 9094, '짱차갷옇': 9095, '허물': 9096, '햐': 9097, '3200원': 9098, '정도거리였고': 9099, '부차': 9100, '골막': 9101, '도아': 9102, '컨벤션': 9103, '정도라서': 9104, '코넥팅룸': 9105, '퍙하개': 9106, '레게': 9107, '찰스': 9108, '누무': 9109, '육천원': 9110, '차이나다': 9111, '우중충': 9112, '안통': 9113, '좋랐어': 9114, '값싸다': 9115, '버석버석': 9116, '놀뭐': 9117, '데일': 9118, '빠방해': 9119, 'ㅇㅖ': 9120, '이릉': 9121, '반정': 9122, '롱아일랜드': 9123, '표구': 9124, '다시피': 9125, '묘미': 9126, '심심': 9127, '차폐': 9128, '한구석': 9129, '건장하다': 9130, '네모': 9131, '체중': 9132, 'kg': 9133, '덤벨': 9134, '헬스기구': 9135, '수줍음': 9136, '수염': 9137, '남녀껄': 9138, '가끔가다': 9139, '빡셀지': 9140, '국가': 9141, '안내서': 9142, '헤멜': 9143, '즉각': 9144, '명확하다': 9145, '앖었습니': 9146, '엄': 9147, '자급자족': 9148, '엘레': 9149, '만당': 9150, '새마을': 9151, '호선': 9152, '집착': 9153, '댜비': 9154, '둥둥대다': 9155, '붕붕': 9156, '어안': 9157, '번거러운': 9158, '얼떨결': 9159, '흐으': 9160, '재채기': 9161, '써늘하다': 9162, '짱귣': 9163, '자연스럽다': 9164, '별밤': 9165, '나들이': 9166, '무상': 9167, '포론트': 9168, '판정': 9169, '보건소': 9170, '메아리': 9171, '달라고': 9172, '뭣한거': 9173, '사사': 9174, '좋쥬': 9175, '최괴': 9176, '워드': 9177, '바루옆': 9178, '갑오': 9179, '더브더갑': 9180, '브래드': 9181, '달안': 9182, '엘지': 9183, '하이킹': 9184, '푸르다': 9185, '13년': 9186, '톡톡하다': 9187, '뛰어넘다': 9188, '로나': 9189, '잠만보': 9190, '친철함': 9191, '중고생': 9192, '각별히': 9193, '복리': 9194, '다재': 9195, '덜그럭': 9196, '웨촬': 9197, '왕친': 9198, 'ㅈㅓㄹ': 9199, '꼬털있': 9200, '할꼬에용': 9201, '여태껏': 9202, '바덕': 9203, '거슬렷': 9204, '교통비': 9205, 'ㄹㄱ': 9206, 'ㄹㅈㄷ': 9207, '닌지': 9208, '꺄끗했어': 9209, '햇었': 9210, '심난하다': 9211, '도박': 9212, '무비': 9213, '납': 9214, '돕다': 9215, '아토피': 9216, '도야': 9217, '황금향': 9218, '닭죽': 9219, '스쿠버다이빙': 9220, '여름밤': 9221, '신상': 9222, '04': 9223, '오비': 9224, '에게라도': 9225, '배스': 9226, '신덕': 9227, '관리셔': 9228, '홍대': 9229, '잘목었어용': 9230, '디디다': 9231, '킬수잇': 9232, '여진': 9233, '포지': 9234, '훈제': 9235, '거북손': 9236, '들꽃': 9237, '전환': 9238, '귤꽃': 9239, '괜잔음': 9240, '진땀': 9241, '벌리다': 9242, '쯤도착했는데': 9243, '것외': 9244, '콜밴': 9245, '부적합': 9246, '생갇': 9247, '전신주': 9248, '910시': 9249, '불더': 9250, '고는': 9251, '지난해': 9252, '안으로': 9253, '배때매': 9254, '젛았습니': 9255, '숙회뿔': 9256, '특이점': 9257, '눈잎': 9258, '처금': 9259, '쨋': 9260, '왜또': 9261, '썽': 9262, '마빈': 9263, '낚였구': 9264, '빈도': 9265, '야야': 9266, '동분서주': 9267, '북촌': 9268, '너븐숭': 9269, '순이삼촌': 9270, '물통이': 9271, '미심': 9272, '쩍': 9273, '편리햐': 9274, '멋딘곳입니': 9275, '늑': 9276, '좌물쇠': 9277, '훅소': 9278, '장거리': 9279, '깔끔햐': 9280, '기모리': 9281, '소망': 9282, '이임': 9283, '번하다': 9284, '불쌍하다': 9285, '호저': 9286, '아사': 9287, '괭장히': 9288, '우두커니': 9289, '뮬리': 9290, '끝물': 9291, '동물농장': 9292, '또왓': 9293, '개똥이': 9294, '은경': 9295, '비둘기': 9296, '오락가락': 9297, '더웟어': 9298, '슙': 9299, '깔꼼': 9300, '힐거': 9301, '해쇽': 9302, '객일': 9303, '신가': 9304, '대부': 9305, '원함': 9306, '짚': 9307, '뽀송보송': 9308, '고내포구': 9309, '김복': 9310, '폼클렘징': 9311, '다깨끗': 9312, '일곱': 9313, '열한': 9314, '아홉': 9315, '초강추': 9316, 'xx': 9317, '바닷': 9318, '강추임': 9319, '깨끗다': 9320, '무덤': 9321, '중점': 9322, '아쉬웟던': 9323, '쿠당탕': 9324, '녹도': 9325, '극단': 9326, '음슴다': 9327, '열선': 9328, '법해': 9329, '휴장': 9330, '관등': 9331, 'ㄱㄴㄷㄹㅁㅂ': 9332, '견해': 9333, '늗곳': 9334, '가까워지다': 9335, '아숩네': 9336, '향펜션': 9337, '없넹': 9338, '부로': 9339, '엎었는데': 9340, '수북하다': 9341, '합숙': 9342, '좋넜너뇬': 9343, '도자기': 9344, '대치': 9345, '넘게걸어야되고요': 9346, '뒹글러': 9347, '귀퉁이': 9348, '볻': 9349, '에그림': 9350, '흉가': 9351, '28000원': 9352, '써주셧으': 9353, '더왓': 9354, '코골': 9355, '그렇쿠': 9356, '금능항': 9357, '아닠': 9358, '없어섴': 9359, '기하': 9360, '처마': 9361, '비킹': 9362, '배송': 9363, '면목': 9364, '家': 9365, '우중': 9366, '사용설명서': 9367, '나무숲': 9368, '헤먹': 9369, '시냇물': 9370, '시냇물소리': 9371, '공도': 9372, '에놀': 9373, '밑바닥': 9374, '그램핑': 9375, '시윈해': 9376, '글랭핑': 9377, '촤고': 9378, '드론': 9379, '죻았어': 9380, '관우': 9381, '쁘랙카': 9382, '커팅': 9383, '나라': 9384, '급기': 9385, '비방': 9386, 'speak': 9387, 'evil': 9388, '구부러지다': 9389, '땋': 9390, '촤라락': 9391, '다리미': 9392, '내규': 9393, '항목': 9394, '어쩌자': 9395, '증명': 9396, '지용': 9397, '관점': 9398, '꽃병': 9399, '둘렛길': 9400, '가능도': 9401, '못신': 9402, '정망': 9403, '세븐': 9404, '뷰굿': 9405, '단둘': 9406, '연북정': 9407, '핬습니': 9408, '희끗': 9409, '1000만': 9410, '족하고': 9411, '이상나가야하는': 9412, '대망': 9413, '큘': 9414, '얺': 9415, '좋았듬': 9416, '주벙겸': 9417, '압력밥솥': 9418, '색감': 9419, '카니발': 9420, '핸들': 9421, '훗후': 9422, '후후훗': 9423, '방칸': 9424, '경사지다': 9425, '쏘렌토': 9426, '인승': 9427, '80년': 9428, '대도아니고': 9429, '하랑': 9430, '시집': 9431, '예식장': 9432, 'eyes': 9433, '문진': 9434, '동틀녘': 9435, '출감': 9436, '시복': 9437, '어휴': 9438, 'ㅜㅜㅜㅜㅜㅠㅠㅠㅠㅠㅠ': 9439, '1천원': 9440, '침상': 9441, '불균형': 9442, '단번': 9443, 'ㅋㅋㅋㅠ': 9444, '서글서글하다': 9445, '아조': 9446, '교육인': 9447, '런닝': 9448, '소복하다': 9449, '자막': 9450, '숨비': 9451, '소리길이': 9452, '예보': 9453, '안길': 9454, '리세': 9455, '코킹': 9456, '추웟다': 9457, '에이타': 9458, '까르르까르르': 9459, '뷰최': 9460, '비상구': 9461, '아니꼽다': 9462, '그득그득': 9463, '키핑': 9464, '떨어트린': 9465, '팔레': 9466, '그럭': 9467, '인보': 9468, '웅웅': 9469, '보쌈': 9470, '다과': 9471, '진작': 9472, '볼걸': 9473, '미착': 9474, '고를껄': 9475, '밸런스': 9476, '프론트가닫': 9477, '교토': 9478, '죽치다': 9479, '명색': 9480, '폐쇄된다': 9481, 'ㄴㄷㄹㄷㄹㄷ': 9482, '성심껏': 9483, '이블': 9484, '금세': 9485, '고치시': 9486, 'type': 9487, '서예': 9488, '부고': 9489, '장하나': 9490, '타요버스': 9491, '드라이버': 9492, '병살': 9493, '균기': 9494, '17만원': 9495, '룸값': 9496, '과전': 9497, '즐거이': 9498, '디딤돌': 9499, '작성중': 9500, '땅콩집': 9501, '틈틈하다': 9502, '꼬임': 9503, '팰롱팰롱': 9504, '탕진': 9505, '곱들락': 9506, '주고받다': 9507, '단독주택': 9508, '뒤론': 9509, '구성은': 9510, '이장': 9511, 'lpg': 9512, '외길': 9513, '포장도로': 9514, '조정': 9515, '멋대로': 9516, '됫습': 9517, '파르니': 9518, '거너': 9519, '통합': 9520, '패트': 9521, '떠듬': 9522, '쭘': 9523, '3040': 9524, '밨': 9525, '은건': 9526, 'ㅋㅁㅋ': 9527, '한판': 9528, '토비': 9529, '그딴': 9530, '빈정': 9531, '시드니': 9532, '찿았으': 9533, '5년': 9534, '힘들엇음': 9535, '뛰어들다': 9536, '햐용': 9537, '합치': 9538, '체감온도': 9539, '물방울': 9540, 'ㅍㅇㅌㄴㄴ': 9541, '놀곳': 9542, '텍시타': 9543, 'ㅎㄷㄷ': 9544, '주파': 9545, '동명이인': 9546, '끊음': 9547, '웰컴스넥': 9548, '초코렛': 9549, 'ㄱㄱ': 9550, '이뻐욤': 9551, '닭장': 9552, '품위': 9553, '에소': 9554, '뚜버기': 9555, '뷔패식': 9556, '갈바': 9557, 'ㅛㅡㅂ': 9558, '606': 9559, '2000원': 9560, '조잡하다': 9561, '한정': 9562, '건드리다': 9563, '미니노트북': 9564, '액정': 9565, '다루다': 9566, '조난': 9567, '날듯': 9568, '체크아웃인데': 9569, '못다': 9570, '안촣아': 9571, '통닭': 9572, '오드리': 9573, '이상만': 9574, '추차': 9575, '미제': 9576, '황차': 9577, '인물': 9578, '천만': 9579, '트랙터': 9580, '지켜보다': 9581, '전북': 9582, '굴굿굿': 9583, '걱루': 9584, '우도항': 9585, '질적': 9586, '젛습니': 9587, '진솔하다': 9588, '서핑보드': 9589, '로다': 9590, '레닛': 9591, '웠던': 9592, '싱글트윈룸': 9593, '아쥬': 9594, '설악산': 9595, '관람객': 9596, '관해': 9597, '애메': 9598, '썻습니': 9599, '뽀스라기': 9600, '바랬': 9601, '바란': 9602, '즛': 9603, '대설': 9604, '유수': 9605, '굿굿굿굿': 9606, '사랑방': 9607, '성별': 9608, '무관': 9609, '편식': 9610, '전시장': 9611, '면허': 9612, '장기로': 9613, 'grinning': 9614, '불땐': 9615, '늪': 9616, 'smileysmileysmileysmileysmiley': 9617, '비비': 9618, '별미': 9619, '낯가림': 9620, '혼여': 9621, '2022050608': 9622, '화리': 9623, '영업비밀': 9624, '청량감': 9625, '걉': 9626, '정기': 9627, '향연': 9628, 'dd': 9629, '용눈': 9630, '2만': 9631, '2천': 9632, '술래잡기': 9633, '조성도': 9634, '표선항': 9635, '소노캄': 9636, '룸보': 9637, '재믹': 9638, '경찰서': 9639, '좀좀': 9640, '초보자': 9641, 'ㅈㅇㅇㅇ': 9642, '격조': 9643, '머을': 9644, '쿵쿵거릴때': 9645, '삼촌': 9646, '엘배': 9647, '팽이': 9648, '이후부터는': 9649, '한자리': 9650, '볼곳': 9651, '차야': 9652, '공팡': 9653, '거봉': 9654, '줏셔': 9655, '정보공': 9656, '강주': 9657, '법원': 9658, '희롱': 9659, '이물': 9660, '케케묵': 9661, '결항때': 9662, '식권': 9663, '성범죄': 9664, '반짝거리다': 9665, '치자': 9666, '배꼽': 9667, '통탄': 9668, '위장': 9669, '일해': 9670, '희미하다': 9671, '휴먼': 9672, '초특': 9673, '창렬해': 9674, '잘섯읍니': 9675, '잔해': 9676, '누구세요': 9677, '쪼아요오옹': 9678, 'as': 9679, '기면': 9680, '이였어요재방문의사': 9681, '이잠': 9682, '하닌깐': 9683, '마찰': 9684, '놨는데': 9685, '뭨': 9686, '몰래카메라': 9687, '사기꾼': 9688, '달방복층': 9689, '큐빅': 9690, '필굿': 9691, '치안': 9692, '발꼬랑내같': 9693, '수안': 9694, '못햤': 9695, '저서': 9696, '오셍': 9697, 'ㅛㅇ': 9698, '화징실': 9699, 'ㅁㅇㅇㅇㅇㅇㅇ': 9700, '단촐해': 9701, '위함': 9702, '지독하다': 9703, '실색함': 9704, '렌징폼': 9705, '앞전': 9706, '한자': 9707, '틍': 9708, '심각': 9709, '담뱃재': 9710, '강성': 9711, '적격': 9712, '서성이다': 9713, '차럼': 9714, '동씩': 9715, '준비운동': 9716, '강강강': 9717, '허름하': 9718, '살찍': 9719, '열기구': 9720, '들여다보다': 9721, '안지': 9722, '끝쪽': 9723, '마셈': 9724, 'ㅎㅁㅎ': 9725, '쪼콤': 9726, '에서까지': 9727, '내거리': 9728, '탁탁거리다': 9729, '오텔': 9730, '3위안': 9731, '벌금': 9732, '동전': 9733, '노린재': 9734, '회전목마': 9735, '글케': 9736, '매사': 9737, '친지': 9738, '시댁': 9739, '액': 9740, '모라': 9741, '써머': 9742, '정도까지': 9743, '24일': 9744, '남북': 9745, '신속': 9746, '치룸': 9747, '쯤에': 9748, '간단명료': 9749, '바포': 9750, '대지': 9751, '뽈': 9752, '살집': 9753, '성과': 9754, '시보': 9755, '요레가': 9756, '궁합': 9757, '네거리': 9758, '인사모': 9759, '팬케이크': 9760, '이걸루': 9761, '버즈': 9762, '아랍': 9763, '가동해도': 9764, '방열': 9765, '삽가넝': 9766, '사진가': 9767, '내무': 9768, '등애': 9769, '무집': 9770, '고배': 9771, '쌋구': 9772, '휑하': 9773, '중간지점': 9774, '헸': 9775, '축소': 9776, '행마': 9777, '짐도': 9778, '라바다': 9779, '킬링': 9780, '일년': 9781, '인생에이런곳은처음임사장님이고기도구워주시며안타는거알려주심친절그자체음식물이랑쓰레기분리만해놓면사장님이다치워주심': 9782, '좋슴다': 9783, '거꾸로': 9784, '요안': 9785, '압박': 9786, 'ㄲㄲ': 9787, '뒹': 9788, '뭉클': 9789, '애월집': 9790, '이면가요': 9791, '개임': 9792, '밎': 9793, '스르르': 9794, '까지였는데': 9795, '첨가': 9796, '숙소깨꿋': 9797, '린데': 9798, '은감': 9799, '다우니': 9800, '해드로': 9801, '쌔거': 9802, '또올게욤': 9803, '제입': 9804, '더렵혀진거': 9805, '1520만원': 9806, 'httpsnaverme': 9807, 'herijl': 9808, '저걸': 9809, '흩어지다': 9810, '바둥거리': 9811, '드루': 9812, '쿰다': 9813, '옛말': 9814, '고등학교': 9815, '국철': 9816, '하내': 9817, '조합': 9818, '광경': 9819, '때봣던': 9820, '케케': 9821, '테잎': 9822, 'j': 9823, '유니폼': 9824, '널판지': 9825, '갠찮은듯': 9826, '진진': 9827, '조각품': 9828, '한뉸': 9829, '트윈방': 9830, '83000원': 9831, '절묘하다': 9832, '1617': 9833, '특유냄새': 9834, '혼합': 9835, '포근핬습니': 9836, '코스모스': 9837, '성지': 9838, '심폭': 9839, '층펍': 9840, '무균실': 9841, '쫓아가다': 9842, '부비부비': 9843, '꾹꾹': 9844, '골골': 9845, '송도': 9846, '방밖': 9847, '엔돌핀': 9848, '데자뷰': 9849, '각인': 9850, '까칠하다': 9851, '심리': 9852, '할퀴다': 9853, '부비적거리다': 9854, '연적': 9855, '바이오리듬': 9856, '건승': 9857, '모빌': 9858, '태덕': 9859, '샤위워시': 9860, '5200원': 9861, '지불하고': 9862, '핸폰': 9863, '펀안': 9864, '방뮌': 9865, '수락': 9866, '트윈룸이': 9867, '파안': 9868, '껍니': 9869, '깨끗잘': 9870, '거리와': 9871, '감자탕': 9872, '함짐': 9873, '설잠': 9874, '촌집': 9875, '상존': 9876, '성당': 9877, '도처': 9878, '갈대': 9879, '신비': 9880, '주님': 9881, '언행': 9882, '일치': 9883, '깨닫다': 9884, '라파엘': 9885, '항도': 9886, '쨋날': 9887, '넘에서': 9888, '기복': 9889, '층게': 9890, '방문사': 9891, '동그라미': 9892, '친곳': 9893, '헹': 9894, '부득이': 9895, '셔워중': 9896, '홀딱': 9897, '껏다': 9898, '음성': 9899, '번성': 9900, '찌뿌둥할뿐': 9901, '상한': 9902, '뻘쭘하': 9903, '면전': 9904, '차종': 9905, '정도걸어가야하네요': 9906, '친밀도': 9907, '롯데리아': 9908, '교촌치킨': 9909, 'ㅡㅋㅋㅋ': 9910, '착': 9911, '불로': 9912, '혜수': 9913, '지난주': 9914, 'pkg': 9915, '미닛메이드': 9916, '라벨': 9917, '유탑': 9918, '내륙쪽': 9919, '광령': 9920, 'ㅠㅓㅠㅏ': 9921, '갈까말까': 9922, '걸쇠': 9923, '대못': 9924, '항공권': 9925, '주머니': 9926, '동감': 9927, '다누': 9928, '용연계곡': 9929, '빗속': 9930, '장볼': 9931, '꿀띱': 9932, 'joy': 9933, '들고나다': 9934, '노루': 9935, '인동': 9936, '찌린': 9937, '가계': 9938, '상쇄할': 9939, '재설': 9940, '촣네': 9941, '선의': 9942, '하나교통': 9943, 'ㅉㄱ': 9944, '레인': 9945, '텃세': 9946, '침방': 9947, '클랜': 9948, '징폼': 9949, '남성만': 9950, '합판': 9951, '실의': 9952, '올망졸망': 9953, '스트래스': 9954, '긱': 9955, '몬가햇': 9956, '항전': 9957, '난감': 9958, '찐득거리다': 9959, '1020만원': 9960, '오메': 9961, '연장해주겠다는': 9962, '객선': 9963, '왕지네': 9964, '반짝반짝하다': 9965, '물렁하다': 9966, '요렇게': 9967, '오랜만': 9968, '오마이갓': 9969, '스벅등': 9970, 'ㅜㅜㅠㅠ': 9971, '달동': 9972, '쥬셔': 9973, '호캉스했네': 9974, '막바지': 9975, '바스타': 9976, '룸도좋': 9977, '촉박': 9978, '입점': 9979, '버려진': 9980, '스크래치': 9981, '모말': 9982, '나주': 9983, '두부': 9984, '인데넘충격맛도': 9985, '쩝': 9986, '궂은날': 9987, '닥터': 9988, '이스': 9989, '징품': 9990, '5609': 9991, '안코': 9992, '독실': 9993, '필욘것등': 9994, '내있고': 9995, '해쉬태그': 9996, '반부터라고하셨으니': 9997, '한단': 9998, '이전에': 9999, '5만': 10000, '소비자원': 10001, '생기지': 10002, '엾응': 10003, '씹히다': 10004, '동아리': 10005, '앰티온': 10006, '제데로': 10007, '초대': 10008, 'ㅏㄹ': 10009, '라러러': 10010, '십오분': 10011, '돌판': 10012, '치열': 10013, '멀미': 10014, '쪼아': 10015, '내복': 10016, '드러눕다': 10017, '등진쪽': 10018, '편션': 10019, '금단': 10020, '도롯': 10021, '07시': 10022, '보보': 10023, '노미': 10024, '왼': 10025, '항하': 10026, '활성화': 10027, '세단': 10028, '정부': 10029, '요리실': 10030, '허겁지겁': 10031, '조촐하다': 10032, '배우': 10033, '이싱': 10034, '굿궇': 10035, '가누다': 10036, '쪼곰': 10037, '미가': 10038, '로되': 10039, '찿기': 10040, '땐데': 10041, '못찍엇네유': 10042, '융': 10043, '녀뉴너': 10044, '목요일': 10045, '정결': 10046, '무더위': 10047, '씌': 10048, '됙': 10049, '면은': 10050, '잠푹': 10051, '30일': 10052, '임인년': 10053, '계묘년': 10054, '사귀다': 10055, '쪼굼': 10056, '93': 10057, '블랑로쉐': 10058, '뷰쪽': 10059, '세워지다': 10060, '해풍': 10061, '샤월할때': 10062, '횡': 10063, '유펜': 10064, 'httpsyoutubenxd': 10065, '76': 10066, 'r': 10067, 'lvy': 10068, '사이다': 10069, '스낵': 10070, '찌릿해': 10071, '안썻네': 10072, '이나주고': 10073, '나빳그': 10074, '을받더니': 10075, '시련': 10076, '41000원': 10077, '국제공항': 10078, '택시로는': 10079, '약사': 10080, '갈아타다': 10081, '한일': 10082, '일까욤': 10083, '김녕바다': 10084, '왜일': 10085, '눚': 10086, '정원관': 10087, '일곱시': 10088, '삑삑삑': 10089, '티셔츠': 10090, '거랬': 10091, '와일드캣': 10092, '가정식': 10093, '리진': 10094, '무분별': 10095, '농가': 10096, '괞찮은데다': 10097, '할마': 10098, '섬속': 10099, '기쁨': 10100, '해별': 10101, '익숙': 10102, '단디': 10103, '해랑': 10104, '동행인': 10105, '폭격': 10106, '원칙': 10107, '인내심': 10108, '거리도': 10109, '재판': 10110, 'tmi': 10111, '틀면': 10112, '투덜투덜': 10113, '대시': 10114, '또차': 10115, '렌터': 10116, '실컷타고': 10117, '급탕': 10118, '인폴': 10119, '앞애': 10120, '몀': 10121, '정강이': 10122, '힘들엇네': 10123, '노블레스': 10124, '1514': 10125, '픽업샌딩': 10126, '출국': 10127, '쪼이다': 10128, '선착순': 10129, '불미': 10130, '혼기': 10131, '센딩': 10132, '저학년': 10133, '만이천': 10134, '학도': 10135, '칠천': 10136, '아쉈': 10137, '랜딩': 10138, '가주': 10139, '오번': 10140, '머리털': 10141, '드랍': 10142, '캐캐': 10143, '별루임': 10144, '티켓': 10145, '뭉텅': 10146, '순희': 10147, '제때': 10148, '바다뷰룸': 10149, '읊': 10150, '들키다': 10151, '상향': 10152, '근엄': 10153, '조화롭다': 10154, '대부도': 10155, '포천': 10156, '가평': 10157, '단양': 10158, '강릉': 10159, '여수': 10160, '직감': 10161, '동방': 10162, '면모': 10163, '따윈': 10164, '무풍': 10165, '직사각형': 10166, '양임': 10167, '엘라스': 10168, '틴': 10169, '나빠지다': 10170, '스크라바': 10171, '대파': 10172, '따위': 10173, '갑각류': 10174, '따뜻뭉실': 10175, '마릿수': 10176, '전갱이': 10177, '양궁': 10178, '사격': 10179, '얼추': 10180, '들숨': 10181, '날숨': 10182, '재력': 10183, 'ㅎㅎㅍ': 10184, '킹왕짱': 10185, '뽀쑝뽀쑝': 10186, '빠듯했어': 10187, '만일': 10188, '모자이크': 10189, '머쓱하다': 10190, '결코': 10191, '까만색': 10192, '번지': 10193, 'ㅇㄷㅁ': 10194, '간충': 10195, '손거울': 10196, '어두침침하다': 10197, '스텐드': 10198, '브러': 10199, '후에': 10200, '널브러져있': 10201, '쉬규': 10202, '풀뷰': 10203, '묵규': 10204, '종달항': 10205, '종달': 10206, '설연휴': 10207, '룰': 10208, '는좀': 10209, '에셔': 10210, '복충': 10211, '정말루': 10212, '계끗': 10213, '현판': 10214, '끼스': 10215, '초면': 10216, '빠바방': 10217, '명자': 10218, '핳': 10219, '보면뎀': 10220, '20215월': 10221, '20223월': 10222, '쥐똥': 10223, '모함': 10224, '낡음': 10225, '설옴': 10226, 'ㄱㅈㄱㅈㄱㅅㄱ': 10227, '지각': 10228, '발열': 10229, '페이퍼': 10230, '유념': 10231, '당신': 10232, '구리': 10233, '다빈': 10234, '아디오스': 10235, '이정재': 10236, '찡긋': 10237, '메이커': 10238, '요호': 10239, '수도관': 10240, '방위': 10241, '주거지': 10242, '재활용품': 10243, '퍼입니더': 10244, '좋숩니': 10245, '불멍앞': 10246, '재치': 10247, '주류값': 10248, '챙피': 10249, '전까지': 10250, '흐': 10251, '뚜렷하다': 10252, '멋쟁이': 10253, '체티': 10254, '뱃지': 10255, '시섷': 10256, '통일': 10257, '펀안하': 10258, '덕담': 10259, '뷰사': 10260, '가쉽': 10261, '소품샾': 10262, '설레임': 10263, '피스': 10264, '커스': 10265, '똥손': 10266, '하네욤': 10267, '절쉬': 10268, '투숙하면서': 10269, '키친룸': 10270, '반짝이다': 10271, '예뿌': 10272, '예뿝니': 10273, '었습니': 10274, '북부': 10275, '규포': 10276, '645': 10277, '발송': 10278, '빠삐되': 10279, '포르투갈': 10280, 'ㅕㅕ': 10281, '러너': 10282, '강정': 10283, '작시': 10284, '스벅때리': 10285, '끝남스벅': 10286, '해안가도로': 10287, '썻음': 10288, '도애': 10289, '달려오다': 10290, '장먼': 10291, '흉하다': 10292, '에부터': 10293, '뱌닥': 10294, '윈도우': 10295, '손하나': 10296, '다금바리': 10297, '질도': 10298, '블루룸': 10299, '그린룸': 10300, '파워에이드': 10301, '우주': 10302, '나야': 10303, '볼뻔': 10304, '있어욘': 10305, '쟝': 10306, '목록': 10307, '재밋으셨어': 10308, '죠아': 10309, '포근포근': 10310, '케잌': 10311, '쩡': 10312, '갠데': 10313, '기부': 10314, '도조': 10315, '목욕가운': 10316, '매달': 10317, '좋얐네': 10318, '헤르츠': 10319, '어니': 10320, '매끌매끌하다': 10321, '연수': 10322, '베이트': 10323, '층손': 10324, '장날': 10325, 'ㅍ': 10326, '이내예요': 10327, '물정': 10328, '점일': 10329, '뮬': 10330, 'ㅎㅊ': 10331, 'ㄸㅎ': 10332, '쩌구저쩌': 10333, '빗해': 10334, '감방': 10335, '주고요그렇게는': 10336, '봉뷰': 10337, '자건': 10338, '대여해서': 10339, '집쪽': 10340, '제빙': 10341, '세로': 10342, '성수': 10343, '광고인': 10344, '잡지': 10345, '고기잡이배': 10346, 'ㅋㅇㅋ': 10347, '희귀': 10348, '샥': 10349, '없엇구': 10350, '앱임': 10351, '염병': 10352, '다솔': 10353, '차였습니다': 10354, '서투르다': 10355, '수능': 10356, '신기': 10357, '달마': 10358, '왓을듯': 10359, '갖은': 10360, '열의': 10361, '셨는데': 10362, '회복': 10363, '도주': 10364, '해물탕거리': 10365, '50000원': 10366, '노모': 10367, '괜찬은듯': 10368, '묵을껄': 10369, '미돈': 10370, '1980년': 10371, '스텐드조': 10372, '아날로그': 10373, '오사카': 10374, '혀': 10375, '차인데': 10376, '축하': 10377, '일제시대': 10378, '쯔음': 10379, '딥': 10380, '기업가': 10381, '주인공': 10382, '까지나': 10383, '재고': 10384, '제겐': 10385, '린거': 10386, '매국': 10387, '이내고': 10388, '요나': 10389, '머진': 10390, '빨랫줄': 10391, '정도라고하네요후덜덜': 10392, '현금영수증': 10393, '아저씬': 10394, '거리가': 10395, '작아지다': 10396, '졍말': 10397, '반까지여서': 10398, '불쾌': 10399, '종아리': 10400, '고무줄': 10401, '추밤': 10402, '설은': 10403, '다스': 10404, '이랬고': 10405, '역활': 10406, '꽝꽝': 10407, '발품': 10408, '웬걸': 10409, '러스': 10410, '섶섬': 10411, '폭망': 10412, '풍셩': 10413, '훌흉해': 10414, '깨뜻': 10415, '팍팍하다': 10416, '한산하다': 10417, '농담': 10418, '프린터': 10419, 'st': 10420, '따개': 10421, '콸콸콸': 10422, '궁긍해': 10423, '나누기': 10424, '세지': 10425, '보탬': 10426, '안치우': 10427, '잔득': 10428, '우르르': 10429, '버벅': 10430, '시인': 10431, '실언': 10432, '롼전': 10433, '쓰래': 10434, '계정': 10435, '톹': 10436, '케케케켘케': 10437, '욤욤': 10438, '조이': 10439, '미쳣습니': 10440, '퍼각이에욤': 10441, '식해': 10442, '사진업뎃': 10443, '뿜뿜나': 10444, '고산': 10445, '내지': 10446, '개이득': 10447, '샤로': 10448, '멸균': 10449, '2022년': 10450, '죡': 10451, '피크': 10452, '찾아내다': 10453, '74': 10454, '콤팡': 10455, '9분': 10456, '좀처럼': 10457, '분홍색': 10458, '반사경': 10459, 'ㄴㅏ': 10460, '마라도나': 10461, '츄르': 10462, '국토': 10463, '파란색': 10464, '주산': 10465, '모듬': 10466, '독채룸': 10467, '방불': 10468, '막창': 10469, '양질': 10470, '해피': 10471, '마우': 10472, '왓슴다': 10473, '조왓다': 10474, '넘됴': 10475, '가막': 10476, '좋랐습니': 10477, '다릉데': 10478, '학회': 10479, '빠가나': 10480, '석고': 10481, '307': 10482, '깔끔깨끗햐용': 10483, '념': 10484, '굿국': 10485, '김녕쪽오': 10486, '북카페': 10487, '소수': 10488, '악어': 10489, '락도어': 10490, '허세': 10491, '빼놓다': 10492, '진탕': 10493, '인문학': 10494, '지식': 10495, '뿜뿜해': 10496, '사강': 10497, '섬바': 10498, 'ㅅㅅㅅ': 10499, '캐비닛': 10500, '최고촤': 10501, '걸려서감': 10502, '머물렀는데': 10503, '여름날': 10504, '싱그럽다': 10505, '문화': 10506, '어승생악': 10507, '직접세': 10508, '셜록': 10509, '서인': 10510, '엔젤': 10511, '또묵': 10512, '후식': 10513, '퓨전': 10514, '짱아찌': 10515, '매료': 10516, '갱즤': 10517, '이기심': 10518, '경쟁': 10519, '안되는거리에': 10520, '람사': 10521, '향취': 10522, '러블리': 10523, '침범': 10524, '벅스': 10525, '꺀긋하': 10526, '서예가': 10527, '유적지': 10528, '철사': 10529, '헤짐': 10530, '찔리다': 10531, '피봄': 10532, '싰기': 10533, '씼는': 10534, '손익': 10535, '분기점': 10536, '린네': 10537, '헛디디다': 10538, '1719일': 10539, '은채룸': 10540, '상속': 10541, '금채룸': 10542, '독채복층': 10543, '아무쪼록': 10544, '장농문': 10545, '사춘기': 10546, '따뜩했': 10547, '꺄끗': 10548, '단순': 10549, '기화': 10550, '조사': 10551, 'ㅜㅜㅜㅋ': 10552, '시올': 10553, '바뷰': 10554, '기진': 10555, '맥진': 10556, '이맘': 10557, '어랭이': 10558, '이필': 10559, '궁듬': 10560, '혼욕': 10561, '홈키': 10562, '처넌': 10563, '넖어': 10564, '까지운영': 10565, '천감': 10566, '2018년': 10567, '도까지였음': 10568, '마넌': 10569, '식주': 10570, '인대': 10571, '물탄': 10572, '물국': 10573, '밥국': 10574, '빠져나오다': 10575, '더듬다': 10576, '장구': 10577, '완던': 10578, '반값': 10579, '여행이라': 10580, '임의': 10581, '휑했': 10582, '격세지감': 10583, '프': 10584, '원츄': 10585, '빈날': 10586, '퇴장': 10587, '렌저': 10588, '쿨내': 10589, '도무지': 10590, '굉장': 10591, '임대': 10592, '현수막': 10593, '음산하다': 10594, '쪼꼼': 10595, '쏘쏘했숩': 10596, '고마': 10597, '셨슴다': 10598, '풍파': 10599, '미토': 10600, '기이': 10601, '진영': 10602, '슨물': 10603, '꾸기다': 10604, '개꿀잼': 10605, '망멍물': 10606, '멍물': 10607, '일식': 10608, '퐁신퐁신하': 10609, '플라넷': 10610, '뭐임': 10611, '정도밖에': 10612, '정도나가야': 10613, '낙하': 10614, '꼬불꼬불': 10615, '차오면': 10616, '꾸밈': 10617, '떼잉': 10618, '펄럭거리다': 10619, '동년배': 10620, '오십이': 10621, '프랑스': 10622, '귣귣귯': 10623, '낭방트': 10624, '안걸리는': 10625, '착즙': 10626, '천해': 10627, '억조': 10628, '456일': 10629, '조르다': 10630, '친전': 10631, '맜있': 10632, '정서': 10633, '모이라': 10634, '준특실': 10635, '미성년': 10636, '자애': 10637, '309': 10638, '데비': 10639, '엑': 10640, '휼륭햇어': 10641, '빌렷는데': 10642, 'ㅈ': 10643, '반대쪽': 10644, 'ㄹㅔ': 10645, '초록빛': 10646, '자생': 10647, '굵다': 10648, '연박했어요': 10649, '근사': 10650, '쪼끄': 10651, '톡톡': 10652, '견고하다': 10653, '비글': 10654, '정도입니다': 10655, '도망치다': 10656, '만연하다': 10657, '쫓기다': 10658, '숙속': 10659, '금도': 10660, '곁': 10661, '냄샤': 10662, '삼면': 10663, '이긴해요': 10664, '리신': 10665, '유화': 10666, '매직': 10667, '쯤입실이었는데': 10668, '클로즈': 10669, '굴': 10670, '동백동': 10671, '동백': 10672, '트레킹': 10673, '푸릇푸릇': 10674, '2326일': 10675, '의류': 10676, 'feat': 10677, '몽글': 10678, '눈발': 10679, '주의보': 10680, '암도': 10681, '날자': 10682, '관굉': 10683, '근래': 10684, '고래': 10685, '미러볼': 10686, '늘어놓다': 10687, '괘': 10688, '놀란': 10689, '즘': 10690, '매미': 10691, '차분해지다': 10692, '엘비': 10693, '난이도': 10694, '호델': 10695, '이뻐쁘': 10696, '복층뷰': 10697, '어쨋건': 10698, '걸레질': 10699, '촉촉하다': 10700, '유공': 10701, '찐득찐득': 10702, '좊았러': 10703, 'ㅜㅠㅠㅠ': 10704, '종말': 10705, '층뷰': 10706, '슬라이드': 10707, '뽀글이': 10708, '뿜어져': 10709, '파래': 10710, '샤위기': 10711, '친추': 10712, '113': 10713, '드롱기': 10714, '침대보': 10715, '전쯤에': 10716, '빠이': 10717, '이천원': 10718, '명목': 10719, '심야': 10720, '빗방울': 10721, '꽤마': 10722, '일자': 10723, '풀뱅': 10724, '앞머리': 10725, '타나': 10726, '달라붙다': 10727, '뻔쩍': 10728, '만요': 10729, '하하호호': 10730, '와아': 10731, '고통스럽다': 10732, '찌게': 10733, '냉면': 10734, '협재랑': 10735, '남정': 10736, '짬': 10737, '유용': 10738, '숙서': 10739, '블편한점': 10740, '닻': 10741, '소풍': 10742, '나머': 10743, '진대': 10744, '은숙': 10745, '럽': 10746, '바디럽': 10747, '현무암': 10748, '녹음': 10749, '존일': 10750, '점임': 10751, '낑낑대다': 10752, '츱': 10753, '얄': 10754, 'ㅡㄷㅎㄷㅎㄴㄷ': 10755, '셧다': 10756, '마눤': 10757, '열흘': 10758, '집앞뷰': 10759, '물컹하다': 10760, '큐브': 10761, '빡치다': 10762, '입실인데': 10763, '기다렸더니': 10764, '사흘': 10765, '땀날': 10766, '시퍼용': 10767, 'attend': 10768, 'business': 10769, 'trip': 10770, 'havelchi': 10771, 'couldnt': 10772, 'find': 10773, 'any': 10774, 'by': 10775, 'when': 10776, 'came': 10777, 'across': 10778, 'seogwipo': 10779, 'joa': 10780, 'log': 10781, 'pension': 10782, 'booked': 10783, 'nights': 10784, 'kind': 10785, 'helpful': 10786, 'since': 10787, 'new': 10788, 'helped': 10789, 'me': 10790, 'get': 10791, 'airport': 10792, 'location': 10793, 'were': 10794, 'all': 10795, 'amenities': 10796, 'large': 10797, 'family': 10798, 'highly': 10799, 'recomend': 10800, 'this': 10801, 'your': 10802, 'vacations': 10803, '멀뚱멀뚱하다': 10804, '판타스틱': 10805, '44만원': 10806, '유구무언': 10807, '공갈치다': 10808, '칵퉤': 10809, '세팅된': 10810, '청렬': 10811, '지난달': 10812, '룻': 10813, '우수수': 10814, '해오': 10815, '포진': 10816, '수통': 10817, '라우': 10818, '라기보단': 10819, 'ㅠㅠㅜㅠ': 10820, '기바': 10821, '비갑임': 10822, '이면되는': 10823, '영혼': 10824, '재빨리': 10825, '틀림': 10826, '벌벌': 10827, '히트': 10828, '텍': 10829, '양털': 10830, '후우': 10831, '바리바리': 10832, '지란': 10833, '대오': 10834, '둘셋': 10835, '실젠': 10836, '굿국굿굿': 10837, '유자': 10838, '복장': 10839, '빡': 10840, '뭐그': 10841, '56만원': 10842, '담수': 10843, '특정시': 10844, '벽쥐': 10845, '파먹다': 10846, '작살': 10847, '5000': 10848, '학년': 10849, '법전': 10850, '휠': 10851, '법등': 10852, '학꽁치': 10853, 'ㅇㅌ': 10854, '에구': 10855, '미련': 10856, '차숙소로연박예약했어요': 10857, '서약': 10858, '컨트롤': 10859, '살바람': 10860, '류등': 10861, '용왕': 10862, '드르': 10863, '뽀로로': 10864, '오설록티뮤지엄': 10865, '라이드': 10866, '체크인인데': 10867, '갤러리아': 10868, '왓습니당': 10869, '략실': 10870, '무관심': 10871, '감감': 10872, '무소식': 10873, '필슈': 10874, '체널': 10875, '내냔': 10876, '솝': 10877, '매해': 10878, '장롱': 10879, '하겟습니': 10880, '인취': 10881, '청정식': 10882, '19일': 10883, '비쭉': 10884, '내륙길': 10885, '늠': 10886, '낱개': 10887, '쪼메': 10888, '동사장': 10889, '유논': 10890, '블라인더': 10891, '절약': 10892, '게뭐': 10893, '어케됐을': 10894, 'set': 10895, '헤어스프레이': 10896, '콘돔': 10897, '러브젤': 10898, '결항땜시': 10899, '룸이었': 10900, '고드름': 10901, '허벅지': 10902, '정착': 10903, '필요시': 10904, '급수': 10905, '유입': 10906, '쪼아용': 10907, '잤숩니': 10908, '우매': 10909, '더줘야한다면서': 10910, '환자': 10911, '미약': 10912, '눌린': 10913, '형체': 10914, '눌린건': 10915, '눌렸다': 10916, '구로': 10917, '은겁': 10918, '남탓': 10919, '시전': 10920, '비꼬다': 10921, '싸지르다': 10922, '직함': 10923, '발사': 10924, 'ㅠㅠㅜㅜ': 10925, '거임': 10926, '과대': 10927, '정진': 10928, '구색': 10929, '혈기': 10930, '어쩌고': 10931, '차때': 10932, '무제': 10933, '한스': 10934, '파이팅': 10935, '처가': 10936, '일오': 10937, '모터': 10938, '그리마': 10939, '20000원': 10940, '빼앗기다': 10941, '워후': 10942, '혈': 10943, '쩌려': 10944, '각거': 10945, '립니': 10946, '18일': 10947, '엄두': 10948, '성경책': 10949, '아이스': 10950, '버킷': 10951, '콘텐츠': 10952, '200만': 10953, '겨울왕국': 10954, '도척': 10955, '은신': 10956, '리만': 10957, '초코송이': 10958, '롬': 10959, 'mbti': 10960, '꽃차': 10961, '베프': 10962, '양하': 10963, '모조리': 10964, '있습니딘': 10965, '나선': 10966, '레슬리': 10967, '옅다': 10968, '임용고시': 10969, '야생': 10970, '볼품': 10971, '직장인': 10972, 'ㅈㅕ': 10973, '사드': 10974, '물폭탄': 10975, '한동안': 10976, '소동': 10977, '쥐': 10978, '불후': 10979, '찜방': 10980, '도루묵': 10981, '침절': 10982, '산림': 10983, '취조': 10984, '해후': 10985, '태후': 10986, '촤악': 10987, '33': 10988, '족족': 10989, '틱틱': 10990, '거립니': 10991, '김념': 10992, '햇슴': 10993, '마쉬움': 10994, '미춌어': 10995, '존귀': 10996, 'ㅎㅋㅋㅋ': 10997, '았습': 10998, 'ㄴㅓ': 10999, 'ㅠㅠㅠㅠㅜㅠ': 11000, 'ㅜㅡㅠ': 11001, '불호': 11002, '포레스트': 11003, '솔잎': 11004, '혼방': 11005, '가우': 11006, '쳣': 11007, '너무깨끗햇': 11008, '접촉성': 11009, '67천원': 11010, '임둥': 11011, '5700원': 11012, '폐교': 11013, '보고서': 11014, '부터도': 11015, '못질': 11016, '자전거타기': 11017, '누룽지': 11018, '무지개다리': 11019, '진철': 11020, '커리어': 11021, '앞이라': 11022, '돌아이': 11023, '집단': 11024, '경지': 11025, '찧다': 11026, '407': 11027, '여인': 11028, '진설': 11029, '깔끔깨끗': 11030, '5800000': 11031, '파파': 11032, '참말': 11033, '만화방': 11034, '막판': 11035, '불철': 11036, '뻥뚤리다': 11037, '함박스테이크': 11038, '소프': 11039, 'ㅠㅍ': 11040, '초등학교': 11041, '명일': 11042, '이상거리에차대고': 11043, '밤세': 11044, '쪽잠': 11045, '잤슴': 11046, '열두': 11047, '저리다': 11048, '로랑': 11049, '와를': 11050, '됫으': 11051, '휘적휘적': 11052, '덷': 11053, '스릴': 11054, '소나타': 11055, '산모': 11056, '오믈렛': 11057, '운빵': 11058, '스크램블': 11059, '소비': 11060, '그럴듯하다': 11061, '인욕': 11062, '앞뜰': 11063, '덕소': 11064, '열소': 11065, '조경해': 11066, '전에만': 11067, '메뉴판': 11068, '부착': 11069, '두께': 11070, '먹거릴': 11071, '매체': 11072, '버퍼링': 11073, '세탁건조': 11074, '태진': 11075, '도작': 11076, '브룸': 11077, '쉴생각으러': 11078, '회랑': 11079, '25만': 11080, '심경': 11081, '반감': 11082, '구욷': 11083, '포근포근하다': 11084, '까실까실': 11085, '때말': 11086, '추파': 11087, '얌얌': 11088, '놀이터': 11089, '괸찮다': 11090, '쵸': 11091, '머텔': 11092, '앏습니': 11093, '괞': 11094, '패쓰': 11095, '부영': 11096, '이왕이면': 11097, '기점': 11098, '연박잘하고갑니다': 11099, '까지라고적어있던데요너무했어요체크좀해주세요': 11100, '보편': 11101, '싯길때': 11102, '싯었어': 11103, '프렌치': 11104, '비틀즈': 11105, '앨범': 11106, '사촌동생': 11107, '비몽': 11108, '몽': 11109, '웠습': 11110, '121315일': 11111, '꾸벅': 11112, '깨끗깔끔가격': 11113, '우엉': 11114, '퍼센투': 11115, '야자나무': 11116, '비온뒤': 11117, '프라이어': 11118, '분유': 11119, '동화책': 11120, '황태': 11121, '요트': 11122, '익숙하다': 11123, '화끈': 11124, '다정다감하다': 11125, '새별': 11126, '팔찌': 11127, '게로': 11128, '맛남': 11129, '자두': 11130, '금손이셔': 11131, '쉐이크': 11132, '도깨비': 11133, '오래됫디': 11134, '시간먄': 11135, '랍시고': 11136, '왓다': 11137, '반칙': 11138, '갯': 11139, '진열': 11140, '블리스': 11141, '끝아닐런': 11142, '장해': 11143, '틋': 11144, '비일': 11145, '비봏': 11146, '402': 11147, '이그': 11148, '대인': 11149, '규용': 11150, '아쉬웟구': 11151, '도안걸림바로': 11152, '쏙맘': 11153, '스테': 11154, '아해': 11155, '거리이고': 11156, '고퀄러티': 11157, '복층룸': 11158, '진과': 11159, 'w': 11160, '699': 11161, '오이소박이': 11162, '쌈장': 11163, '쫑': 11164, '뽀': 11165, '최곸': 11166, '선곡': 11167, '핫해욤': 11168, 'hot': 11169, 'ㄹㅇㄱㅁ': 11170, '최고다': 11171, '승강기': 11172, '힘들엇어': 11173, 'ev': 11174, '시로': 11175, '킬': 11176, '301302303': 11177, '꼬린내': 11178, '피멍': 11179, '골로': 11180, '음주': 11181, '솔찍': 11182, '외쪽': 11183, '공포증': 11184, '거죵': 11185, '쪼오끔': 11186, '느무': 11187, '사태': 11188, '생겨나다': 11189, '썻네': 11190, '협탁위': 11191, '여물': 11192, '타오': 11193, '짝짝이': 11194, '잘라지다': 11195, '다름없이': 11196, '가중': 11197, '이왕': 11198, '간절하다': 11199, '가구라': 11200, '혼밥혼술': 11201, '보태': 11202, '뒷산': 11203, '약수터': 11204, '55000원': 11205, '답글': 11206, '일괄': 11207, '개떡같다': 11208, '뭣도없': 11209, '우선하다': 11210, '안중': 11211, 'ㅂㅓㄱ': 11212, '총총': 11213, '바랑': 11214, '누님': 11215, 'ㅂㄷㄱㅅㅇㅈㄷㅇㄷㄱㄷ': 11216, '무너졋습니': 11217, '죄악': 11218, '버다': 11219, '후사': 11220, '간신': 11221, '소일': 11222, '발뺌': 11223, '파생': 11224, '군복': 11225, '슬리펴': 11226, '버젼': 11227, '반바지': 11228, '지보': 11229, '성취': 11230, '셋텁박스': 11231, '고둥': 11232, '느므느므느으': 11233, '히노': 11234, '히노키': 11235, '수사': 11236, '옆펜션': 11237, '탕굿굿': 11238, '이틍': 11239, '리더': 11240, '네스프레소': 11241, '바닐라': 11242, '아포': 11243, '카토': 11244, '하든': 11245, '갑갑하다': 11246, '수산': 11247, '씨앗': 11248, '깔끙': 11249, '로드': 11250, '수로': 11251, '우랑': 11252, '순삭': 11253, '혼디': 11254, '안과': 11255, '투리': 11256, '줘밨는데': 11257, '선녀': 11258, '목줄': 11259, '느슨하다': 11260, '조여': 11261, '하쿠나마타타': 11262, '월정힐': 11263, '월정힐펜션': 11264, '패스워드': 11265, '세면기': 11266, '오오오오오오오': 11267, 'hooodgood': 11268, '밤문': 11269, '하키': 11270, '빳습니': 11271, '가싱비네': 11272, '바고': 11273, '딘짜': 11274, '당무': 11275, '가시리': 11276, '마니마니': 11277, '좌쪽': 11278, '백약': 11279, '강얼쥐': 11280, '껄끔': 11281, '뽷': 11282, '의젓하다': 11283, '연예인': 11284, '웨딩촬영': 11285, '이습': 11286, '주안': 11287, 'ㅜㅜㅎㅎ': 11288, '트페': 11289, '음식사진': 11290, '천년': 11291, '브릭스': 11292, 'spa': 11293, '납부': 11294, '탄탄하다': 11295, '가대': 11296, '점뷰': 11297, '111111': 11298, 'ㅡㅇㅡ': 11299, '슈가': 11300, '성모': 11301, '30억': 11302, '이라지만': 11303, '체제': 11304, '호켈': 11305, '대정': 11306, '썻는': 11307, '윙': 11308, '홈즈': 11309, '여흥': 11310, '훤히보': 11311, '온실': 11312, '디기': 11313, '알리야': 11314, '바다폔션': 11315, '갖츨건': 11316, '번거럽': 11317, '더햇다': 11318, '502': 11319, '호보': 11320, '옆면': 11321, '438': 11322, '아름드리': 11323, '대통령': 11324, '쩌구': 11325, '요랑': 11326, 'ㅠㅋㅋ': 11327, '돟아': 11328, '올껍니': 11329, '의식': 11330, '흐름': 11331, '낭패': 11332, '실링': 11333, '편햏': 11334, '퉁퉁': 11335, '어휘': 11336, '발렌타인데이': 11337, '괜춘함': 11338, '백원': 11339, '배짱': 11340, '완강': 11341, '수파': 11342, '개좋았슴다': 11343, '개쩜': 11344, '만적': 11345, '캐슬': 11346, '연장했어요': 11347, '창꼼': 11348, '바위': 11349, '귀곡산장': 11350, '챙': 11351, '맨션': 11352, '퐁당퐁당': 11353, '퇴색': 11354, '거도': 11355, '들엇습니': 11356, '았습니': 11357, '02': 11358, '숙손데': 11359, '불펀': 11360, '에서와': 11361, '푹시눅신': 11362, '어리숙하다': 11363, '안막': 11364, '통위': 11365, '가이즈': 11366, '흐물': 11367, '출렁': 11368, '애윌': 11369, '넝수': 11370, '이기만': 11371, '렌덤': 11372, '비론': 11373, '가인': 11374, '전무': 11375, '벽장': 11376, '샹푸': 11377, '지난재품': 11378, '초에': 11379, '로잉': 11380, '째에': 11381, '거리위치하고': 11382, '갠찮': 11383, '빠굿': 11384, '앙시': 11385, '랜산': 11386, '이탈': 11387, '달래': 11388, '스토퍼': 11389, '흙밭': 11390, '슬라브': 11391, '담당': 11392, '짚다': 11393, '연고': 11394, '객지': 11395, '차이점': 11396, '장래': 11397, '교대': 11398, '인계': 11399, '좋앙': 11400, '삐삐': 11401, '고협': 11402, '작가': 11403, '스펙': 11404, '35005000원': 11405, '4500원': 11406, '차가워지다': 11407, '시늉': 11408, '푹풀': 11409, '깔깜': 11410, '핣': 11411, '싱싱잇': 11412, '이몈': 11413, '모에': 11414, '다름없다': 11415, '펍있어': 11416, '펫': 11417, '판도': 11418, '혼란': 11419, '52': 11420, '베갯잎': 11421, '머릿걀': 11422, '닺': 11423, '침침하다': 11424, 'ㅎㅠ': 11425, '수만': 11426, '확행': 11427, '칼답': 11428, '어쨌든': 11429, 'ㅇㅈ': 11430, '항항': 11431, '눈감다': 11432, '뜰때': 11433, '뷰덕': 11434, '페이크': 11435, '옶어': 11436, '라이프': 11437, '옷집': 11438, '배임': 11439, '지브리': 11440, '뚝딱': 11441, '있엇습니': 11442, '무심': 11443, '일분': 11444, '전제': 11445, '게맛살': 11446, '닭집': 11447, '순식간': 11448, '30만': 11449, '환급': 11450, '5055': 11451, '선셋': 11452, '육만원': 11453, '유지시': 11454, '황홀': 11455, '혼내다': 11456, '물떼': 11457, '20회': 11458, '강남': 11459, '용지': 11460, '펄': 11461, '1112일': 11462, '음주운전': 11463, '깨꿋해': 11464, '엊무차': 11465, '따리': 11466, '드맂': 11467, '읒': 11468, '스트레칭': 11469, '16만원': 11470, '괜츈': 11471, '워셔': 11472, '충촉': 11473, '봉사': 11474, '묵음': 11475, '비개': 11476, '바람나다': 11477, '헹궈': 11478, '바싹바싹': 11479, '테레비': 11480, '문하': 11481, '주사': 11482, '무기': 11483, '골고루': 11484, '이용만': 11485, '1012분': 11486, '진돗개': 11487, '여조': 11488, '허시': 11489, '관광명소': 11490, '크케': 11491, '티스푼': 11492, '힘들엇어용': 11493, '면또': 11494, '급성': 11495, '굄': 11496, '부두': 11497, '놀맨': 11498, '거레': 11499, '고객감동': 11500, '몽상드애월': 11501, '생필': 11502, '남부': 11503, '삼대': 11504, '다듬다': 11505, '팩등': 11506, '타구': 11507, '9천원': 11508, '넘버': 11509, '따른': 11510, '장장': 11511, '건넛방': 11512, '네비게이션': 11513, '기웃': 11514, '거립': 11515, '밀면': 11516, '져와욯': 11517, '만빵': 11518, '해치다': 11519, '웃기': 11520, '양반': 11521, '자욱이': 11522, '이실': 11523, 'ㅍㅍㅎㅎ': 11524, '쭈우욱': 11525, '미주': 11526, '일용직': 11527, '아쩌씨들': 11528, '쵝오쵝': 11529, '해맞이로': 11530, '바치': 11531, '희생': 11532, '쯤먹어서': 11533, '입담': 11534, '경력': 11535, '백김치': 11536, '우일': 11537, '방심하다': 11538, '패션': 11539, '해무': 11540, '갈껍니': 11541, '친규': 11542, '헷': 11543, '카시오페아': 11544, '씨알': 11545, '친숙하다': 11546, '육즙': 11547, '믹싱': 11548, 'ㅋㅋㅋㅋㅋㅋㅋㅋ': 11549, '리드': 11550, '작전': 11551, '융통성': 11552, '자루': 11553, '다기': 11554, '없엇네': 11555, '숭': 11556, '동태': 11557, '맥집': 11558, '라라': 11559, '으앙': 11560, '315': 11561, '466': 11562, '344': 11563, '백미': 11564, 'bomb': 11565, '핫토디': 11566, '산지': 11567, '라이즈': 11568, '좐': 11569, '송송': 11570, '손금': 11571, '함키': 11572, '몰랏습니': 11573, '곰팡': 11574, '쌔까만': 11575, '사물': 11576, '못햇습니': 11577, '할경': 11578, '17000원': 11579, '다녓는데': 11580, '던곳': 11581, '자판': 11582, '무재': 11583, '밋': 11584, '다정': 11585, '말갛다': 11586, '의역': 11587, '개썻': 11588, '애윌읍': 11589, '이동식': 11590, '웬만큼': 11591, '거리안에': 11592, '확뚤려': 11593, '잠맛': 11594, '보들보들': 11595, '자레와펜션': 11596, '비피': 11597, '인세': 11598, '깨애끄읕': 11599, '새끼손가락': 11600, '캔맥': 11601, '도봉': 11602, '넷플보다': 11603, '굿국굿굿굿굿': 11604, '좋읐어': 11605, '완존': 11606, '체념하다': 11607, '학생회': 11608, '만에갔는데': 11609, '일어서다': 11610, '포터': 11611, '일사천리': 11612, '칫솔폼클렌징': 11613, '단위로': 11614, '초가': 11615, '처참하다': 11616, '콘셉트': 11617, '자초지종': 11618, '잡아내다': 11619, '고춧가루': 11620, '유채': 11621, '회신': 11622, '트윈스': 11623, '65': 11624, '커피타임': 11625, '밝아지다': 11626, '레릿': 11627, '꾸르잠': 11628, '팅기다': 11629, '낚이': 11630, '정정': 11631, '장애': 11632, '브러쉬': 11633, '옷거': 11634, '정도걸립니다': 11635, '렷': 11636, '읺더': 11637, '최최쵵': 11638, '금물': 11639, '캬라반': 11640, '년도': 11641, '포엠': 11642, '재난': 11643, '달칵달칵': 11644, 'ㅇㅇㅇㅇㅇㅇㅇㅇㅇㅇㅇㅇㅇㅇㅇㅇㅇㅇ': 11645, '공구리': 11646, '아구': 11647, '가환': 11648, '상임': 11649, '데뷰': 11650, '파란하늘': 11651, '버스킹': 11652, '아스': 11653, '땡볕': 11654, '보렵니': 11655, '왓습': 11656, '넷플릿스': 11657, '어닝같은': 11658, '들여놓다': 11659, '도타': 11660, '유툽': 11661, '우세': 11662, '현생': 11663, '엄뭐': 11664, '머선': 11665, '수트': 11666, '핵만죡': 11667, '경운기': 11668, '카카': 11669, 'ㅜㅜㅋㅋ': 11670, '아지만': 11671, '길찾기': 11672, '이라해도': 11673, '공항레': 11674, '비급': 11675, '에어시티': 11676, '콤': 11677, '테이': 11678, '깜빠뉴': 11679, '포문': 11680, '콤포': 11681, '스텔라': 11682, '올림픽': 11683, '동인': 11684, '트램': 11685, '디스플레이': 11686, '일반인': 11687, '까스': 11688, '명수': 11689, '쉬었슴니': 11690, 'happy': 11691, '노래미': 11692, '삼만리': 11693, '산옷': 11694, '윗쪽': 11695, '선탠': 11696, '홍스': 11697, '친필': 11698, '22112627': 11699, '108': 11700, '기둥': 11701, '가렵니': 11702, '서칭': 11703, '개환': 11704, '떄': 11705, '스럴': 11706, '재방뮨할게': 11707, '유지관리': 11708, '덮개': 11709, '다이렉트': 11710, '4조': 11711, '덕거림': 11712, '조각상': 11713, 'dnd': 11714, '문턱': 11715, '층별': 11716, 'ㄹㄷ': 11717, '색도': 11718, '배찌': 11719, '겅': 11720, '서럽다': 11721, '냐옹': 11722, '홈플러스': 11723, '탔어욤': 11724, '이지나': 11725, '놓아두다': 11726, '도말': 11727, '유쾌': 11728, '지하펍': 11729, '장국': 11730, '음청': 11731, '어느새다': 11732, '맥히': 11733, '알랍': 11734, '짜파게티': 11735, '이구나': 11736, '퐁쓰': 11737, '퐁쓰때매': 11738, '잼썻어': 11739, '포스트잇': 11740, '지정석': 11741, '재미잇엇어': 11742, '천재': 11743, '맹탕': 11744, 'ㅇㅏㅆ': 11745, '애월핫': 11746, '패턴': 11747, '클렌징폼도': 11748, '고딩': 11749, '딸램': 11750, '발라당': 11751, '팔꿈치': 11752, '그물': 11753, '불순': 11754, '선심': 11755, '다이버': 11756, '씼는곳': 11757, '사막': 11758, '없어욤': 11759, '씼고나': 11760, '구시': 11761, '이라고하네요': 11762, '강행': 11763, '맏': 11764, '서성대다': 11765, '성계': 11766, '생태계': 11767, 'gogo': 11768, '빌라이': 11769, '웅진': 11770, '코웨이': 11771, '이또': 11772, '증가': 11773, '율과': 11774, '율': 11775, '비틀어지다': 11776, '콘치즈': 11777, '발리다': 11778, '리좀': 11779, '라는데': 11780, '오도': 11781, '장바': 11782, '물떨러어': 11783, '버셨나봐': 11784, '편이엇어': 11785, '인원추가': 11786, '폭풍': 11787, '일색': 11788, '디퓨져냄새': 11789, '당일치기': 11790, '통창임': 11791, '10000000만': 11792, '크로와상': 11793, '착감겨': 11794, '두근두근': 11795, '따땃합니': 11796, '쟁반': 11797, '힣': 11798, '털썩': 11799, '귀염': 11800, '궁금증': 11801, '정직하다': 11802, 'ㅊㅊ': 11803, '중심부': 11804, '데링': 11805, '였음': 11806, '체력': 11807, '플랫폼': 11808, '실만': 11809, '실용': 11810, '1106': 11811, '콩잎': 11812, '예의범절': 11813, '89': 11814, 'ㅐㅆ': 11815, '외모': 11816, '잔날': 11817, '소방차': 11818, '급차': 11819, '날밤': 11820, '휩': 11821, '내려지다': 11822, '고소공포증': 11823, '아베': 11824, '전고': 11825, '이네요': 11826, '미쳣어용': 11827, '연박할떄': 11828, '그떈': 11829, '요뚜벅': 11830, '누나': 11831, '스마트폰': 11832, '있옸는데': 11833, '마린': 11834, '까지소음이큽니다': 11835, '키세스존': 11836, '폭닥폭닥': 11837, '나비': 11838, '진차': 11839, '잡스': 11840, '이십만': 11841, '묵었는데': 11842, '급기야': 11843, '분투': 11844, '벌이': 11845, '우왕': 11846, '까봐': 11847, '줄돔': 11848, '에돔': 11849, '놀래기': 11850, '냉랭하다': 11851, '깍지': 11852, '거대하다': 11853, '스파이더맨': 11854, '방갑': 11855, '품절': 11856, '앞두다': 11857, '1020': 11858, '본대': 11859, '좋숩니당': 11860, '넘예뻐뇨': 11861, '햅격': 11862, '의례': 11863, '도의': 11864, '좋은룸': 11865, '조착': 11866, '쫌추워': 11867, '스욕': 11868, '해설': 11869, '창쪽': 11870, '아우르다': 11871, '조도': 11872, '침침': 11873, '적적하다': 11874, '16500원': 11875, '원추': 11876, '숫자': 11877, '돈만비쌰': 11878, '몽돌': 11879, '층독채펜션': 11880, '층층': 11881, '라켓': 11882, '초밥': 11883, '오미크론': 11884, '물침': 11885, '출렁출렁': 11886, '척추': 11887, '후벼파다': 11888, 'ㄷㄷㄹㅇ': 11889, '쉽사리': 11890, '자채': 11891, '병적': 11892, '서황': 11893, '크아': 11894, '소송': 11895, '감명': 11896, '잔등이': 11897, '용의자': 11898, '식판': 11899, '것더': 11900, '스쿨': 11901, '꼬스뗀뇨': 11902, '선선히': 11903, '리버풀': 11904, '분식': 11905, '띄우다': 11906, '치마': 11907, '명치': 11908, '이단': 11909, '끼치다': 11910, '데욥': 11911, '스푼': 11912, '일리': 11913, '애착': 11914, '척척': 11915, '일이만원': 11916, '곱하기': 11917, '바삭바삭하다': 11918, '있는동안': 11919, '엘렌': 11920, '미러링': 11921, '아이폰': 11922, '웁니': 11923, '가시나무': 11924, '정도인데': 11925, '마로': 11926, 'ㅜㅜㅜㅜㅜㅜ': 11927, '잘썻읍니': 11928, '컴퓨터게임': 11929, '게임방': 11930, '배민켜': 11931, '범위': 11932, '마레': 11933, '커피콩': 11934, '청귤청': 11935, '레지던스호텔': 11936, '켜몈': 11937, '까지하신대요': 11938, '가작': 11939, '깥끔': 11940, '연달': 11941, '괴롭히다': 11942, '하사': 11943, '변설': 11944, '랩': 11945, '구급상자': 11946, '도롱': 11947, '픽스': 11948, '동화': 11949, '꿀꺽': 11950, '키위': 11951, '띠릭': 11952, '복실': 11953, '살면서': 11954, '불때': 11955, '왓다고하': 11956, '친언니': 11957, '섭섭하다': 11958, '외쳣지': 11959, '선불': 11960, '61원': 11961, '이듭': 11962, '세운': 11963, '뷰앞': 11964, '이공사': 11965, '안상': 11966, '씩이고': 11967, '본가': 11968, '쟤': 11969, '넷플이용됨': 11970, '토퍼깔': 11971, '만듬': 11972, '잣습': 11973, '남새': 11974, '기린': 11975, '탐험': 11976, '섬네일': 11977, '연도': 11978, '옶쥐': 11979, '홀짝': 11980, '민망': 11981, '쿠나': 11982, '설첬어': 11983, '펄펄': 11984, '어미': 11985, '판포쪽': 11986, '빠르게': 11987, '방멸': 11988, '거짓': 11989, '000': 11990, '굳어지다': 11991, '아뇨': 11992, '앨베': 11993, '숸더': 11994, '잘뮥다갑니당': 11995, '긔여웡용': 11996, '개스트': 11997, '삐뇽이': 11998, '조명등': 11999, '서재': 12000, '겻': 12001, '어처구니없다': 12002, '없었슴': 12003, '틀머': 12004, '촐': 12005, '정보라': 12006, '북두칠성': 12007, '삥': 12008, '억새': 12009, '빼꼼': 12010, '밀고': 12011, '기미': 12012, '던것': 12013, '과장하다': 12014, '왕국': 12015, '초원': 12016, '저만큼': 12017, '티비영화': 12018, '부들부들하다': 12019, '신분증': 12020, '아이템': 12021, '더랬습': 12022, '닉값': 12023, '유한락스': 12024, '이여기': 12025, '밟혔': 12026, 'hoxy': 12027, '대성공': 12028, '꼬부': 12029, '大': 12030, '小': 12031, '好不好': 12032, '극명하다': 12033, '격하': 12034, '수소': 12035, '안겹치': 12036, '급격하다': 12037, '억세다': 12038, '미관': 12039, '굽이굽이': 12040, '그간': 12041, 'ㅡㅡㅋ': 12042, '해서': 12043, '혼선': 12044, '쉬엇습니': 12045, '번더': 12046, '훤씬': 12047, '위사': 12048, '거리직원분': 12049, '세모': 12050, '마커': 12051, '스마': 12052, '운틴': 12053, '이뻣': 12054, '방정': 12055, '넷플보면': 12056, '헹거': 12057, '라니까': 12058, '이후엔': 12059, '토박': 12060, '도니': 12061, '따블': 12062, '텔레비전': 12063, '명조': 12064, '깻어': 12065, '단촐했': 12066, 'bhc': 12067, '몆': 12068, '한밤중': 12069, '따땃': 12070, '꺼림칙하다': 12071, '펑결': 12072, 'table': 12073, '시설깜끔': 12074, '뷰펜션': 12075, '최괴입니': 12076, '성적': 12077, '썸': 12078, '딸껄': 12079, '괴성': 12080, '있슴': 12081, '전역': 12082, '알흠': 12083, '어여쁘다': 12084, '꽃나무': 12085, 'ㅐ': 12086, '프론트앞': 12087, '들개': 12088, '낭비하다': 12089, '애호가': 12090, '진행중': 12091, '5시간': 12092, '육일이': 12093, '공존': 12094, '버섯': 12095, '양주': 12096, '만장일치': 12097, '손발': 12098, '쭈글쭈글': 12099, '석화': 12100, '안떨어지다': 12101, '왕깨끗': 12102, '쪼로록': 12103, '번방헝거방': 12104, '미쳤슴니': 12105, '스몰톡': 12106, '측간': 12107, '육육': 12108, '뼈': 12109, '기네': 12110, '착시': 12111, '나뚜': 12112, '전인가': 12113, '갈라고': 12114, '180': 12115, '각재': 12116, '대들보': 12117, '닌텐도': 12118, '마리오카트': 12119, '몸빼바지': 12120, '꽃쪼끼': 12121, '비밀의방': 12122, '은비': 12123, '악당': 12124, '어치': 12125, '그제야': 12126, '아니엇을까': 12127, '트라우마': 12128, '비보': 12129, '괜챃습니': 12130, '부처님': 12131, '도량': 12132, '중생': 12133, '씨껍': 12134, '동사': 12135, '다산': 12136, '430': 12137, '시브': 12138, '템': 12139, '셍각': 12140, '자글': 12141, '연어': 12142, '박태환': 12143, '마카': 12144, '아찔하다': 12145, '얐습니': 12146, '듷어': 12147, '주창': 12148, 'lg': 12149, '통신사': 12150, '추리닝': 12151, '녹색': 12152, '찰칵찰칵': 12153, '부와': 12154, '씨크릿': 12155, '장손': 12156, '514': 12157, '516': 12158, '원더풀': 12159, '인더스트리얼': 12160, '파이프': 12161, 'front': 12162, 'parcitial': 12163, '155': 12164, '레노베이션': 12165, '곽지쪽': 12166, '안되게': 12167, '가품': 12168, '차등': 12169, '적용': 12170, '츄르먹다': 12171, '거위': 12172, '핫팩': 12173, '쏘쏘괜추네': 12174, '느겨': 12175, '알루미늄': 12176, '함닥놀러가': 12177, '벨라': 12178, '깼끗': 12179, '기민': 12180, '가내': 12181, '군요': 12182, '그랫던건': 12183, '찡그리다': 12184, '휙휙': 12185, '내버리다': 12186, '신세': 12187, '남다르다': 12188, '스크린골프': 12189, '브라운': 12190, '알파': 12191, '항만': 12192, '지향': 12193, '청진': 12194, '수리남': 12195, '초까지': 12196, '닭도리탕': 12197, '땨': 12198, '폼플렌징': 12199, '13시': 12200, '퇴실로': 12201, '피맥': 12202, '전문': 12203, '면식': 12204, '릭': 12205, 'suvrv': 12206, '나욥': 12207, '촤고에용': 12208, '탁시': 12209, '미스틱': 12210, '안시켯는': 12211, '청기': 12212, '맨몸': 12213, '1530분': 12214, '세스': 12215, '콩나물국': 12216, '약화': 12217, '섶': 12218, '갈매기': 12219, '이의': 12220, '체취': 12221, '벨트': 12222, '땡': 12223, '옆임': 12224, '송구': 12225, '업뎃': 12226, '안에듬': 12227, '누렁이': 12228, '방관': 12229, '문지기': 12230, '김녕갈일있으': 12231, '플라이': 12232, '소리치다': 12233, '술채': 12234, '넘도록': 12235, '고래고래': 12236, '고영': 12237, '실아': 12238, '까지가': 12239, '옷감': 12240, '해안동': 12241, '먹이다': 12242, '끌벅쩍': 12243, '찍찍': 12244, '굿굿굿굿그': 12245, 'ㅡㅅ': 12246, '걸린거같네여': 12247, '10000000000': 12248, '거래처': 12249, '보석같다': 12250, '손쉽다': 12251, '고스트': 12252, '소심': 12253, '14일': 12254, '안습': 12255, '사전예약': 12256, '용픔': 12257, '퍼티': 12258, '층옆': 12259, '즉석식품': 12260, '한결같다': 12261, 'ㅤ': 12262, '옐로우': 12263, '용무': 12264, '가람': 12265, '24만원': 12266, '스파클링': 12267, '펜션쪽': 12268, '하트': 12269, '조끼': 12270, '어쩌겠어': 12271, '파랗다': 12272, '유치부': 12273, '꼬맹이': 12274, '더잣': 12275, '초대형': 12276, '자물통': 12277, '빠듯한데': 12278, '우정': 12279, 'sooooo': 12280, 'easy': 12281, '깨잙깨잙': 12282, '먹었슴다': 12283, '디귿': 12284, '놀랫내': 12285, '독립성': 12286, '룸턴디션': 12287, '기립박수': 12288, '정사각형': 12289, '독채편션': 12290, '동도': 12291, '명란': 12292, '정밀': 12293, '구오': 12294, '가공': 12295, '스챠': 12296, '둥글다': 12297, '모되': 12298, '라가': 12299, '연작': 12300, '해인': 12301, '향냄새': 12302, '잘되죵': 12303, '법환': 12304, '샂': 12305, '병과': 12306, '손글씨': 12307, '심바': 12308, '으음': 12309, '추천드랴': 12310, '츙분할': 12311, '컴디션': 12312, '마룸': 12313, '도로로': 12314, '뱃소리': 12315, '끌여': 12316, '괜춘합니': 12317, '칭절했어': 12318, '웨이브': 12319, '티빙': 12320, '멏년': 12321, '인사동': 12322, '애벌': 12323, '완젼깨끗': 12324, '했드랬': 12325, '정경': 12326, '옥상정원': 12327, '말미': 12328, '윤슬': 12329, '다단': 12330, '벼게': 12331, '편햇습': 12332, '그립다': 12333, '변치': 12334, '토마토': 12335, '왕창': 12336, '극세사': 12337, '훠월씬': 12338, '호박': 12339, '이니스프리': 12340, '노숙': 12341, '동창': 12342, '도가니탕': 12343, '몃일': 12344, '고기랑': 12345, '러가': 12346, '릴것': 12347, '깍두기': 12348, '넒었': 12349, '앞펜션': 12350, '78일': 12351, '의존': 12352, '원도': 12353, '핀잔': 12354, '배상': 12355, '계기': 12356, '배소': 12357, '통통': 12358, 'mot': 12359, '조예진': 12360, '지니다': 12361, '슿니': 12362, '사기그릇': 12363, '간세': 12364, 'ㅠㅠㅠㅠㅠㅠㅠㅠㅠㅠ': 12365, '갑자': 12366, '방온': 12367, '테그': 12368, '청명': 12369, '27': 12370, '쩍쩍': 12371, '무릅쓰': 12372, '손놈': 12373, '조명기구': 12374, '엇으': 12375, '흰': 12376, '훝어': 12377, '렷습': 12378, '이사오': 12379, '숯더': 12380, '비정': 12381, '울퉁불퉁': 12382, '역정': 12383, '내심': 12384, '하랴구': 12385, '뻑갑니': 12386, '사느랗다': 12387, '징고': 12388, '더나인': 12389, '힐스': 12390, '어반스테이트': 12391, '다대고': 12392, '빡쌘데': 12393, '티카': 12394, '90분': 12395, '복작': 12396, '러스터': 12397, '쥬차장': 12398, '브': 12399, '관광버스': 12400, 'of': 12401, '갑갑': 12402, '신호': 12403, '정도의': 12404, '조속': 12405, '84': 12406, '분나': 12407, '웠음': 12408, '115': 12409, '크루즈': 12410, '다이어리': 12411, '서치': 12412, '파스': 12413, '락파스락': 12414, '자율': 12415, '헤헷': 12416, '무광': 12417, '바다색': 12418, '케이': 12419, '월등': 12420, '누운채': 12421, '솜사탕': 12422, '휴식시간': 12423, '거질': 12424, '팔만': 12425, '어카': 12426, 'ㅇㅌㅇㅇㅇㅇ': 12427, '좋았슴': 12428, '대란': 12429, '3만': 12430, '김포공항': 12431, '도보내외가능해서': 12432, '바다물': 12433, '발전소': 12434, '숙여욬': 12435, '들락거립니': 12436, '물체': 12437, '다변': 12438, '세영': 12439, '고지도': 12440, '그른': 12441, '망가트렸는': 12442, '기프티콘': 12443, '샷이예욤': 12444, '덜컹덜컨': 12445, '외룸': 12446, '노랫소리': 12447, '함정': 12448, '거리임': 12449, '왓다갓다': 12450, '낑낑': 12451, '뇨끼': 12452, '골도': 12453, '스노우볼': 12454, '캐롤': 12455, '웰컴프룻': 12456, '펌핑': 12457, '반년': 12458, '방황': 12459, '단박': 12460, '클렌': 12461, '오일이': 12462, '부응': 12463, '산임': 12464, '임명': 12465, '땅땅': 12466, '새별오름': 12467, '과극': 12468, '98': 12469, '헛구역질': 12470, '때낌': 12471, '헛': 12472, '함수': 12473, '18시': 12474, '꺄르륵': 12475, '만되면': 12476, '용수산': 12477, '회포': 12478, '함박': 12479, 'ㅕㄴ': 12480, '랫어용': 12481, '퍼입니': 12482, '정차장': 12483, '좋았스니': 12484, '목마': 12485, '또왓어오': 12486, '우블팀': 12487, '옆편': 12488, 'ㅐㅐㅐ': 12489, 'ㅠㅠㅠㅠㅠㅠㅠㅠㅠ': 12490, '랩스': 12491, '도마도': 12492, '맨손': 12493, '색종이': 12494, '접기': 12495, '실신': 12496, '한여름': 12497, '나왓디': 12498, '삿는데': 12499, '떼쓰다': 12500, '이진': 12501, '어두어': 12502, '빠듯해': 12503, '특이': 12504, '다고': 12505, '기지개': 12506, '순록': 12507, '캐릭터': 12508, '갈릴': 12509, '와글와글': 12510, '부탄가스': 12511, '체온': 12512, '물값': 12513, '32만원': 12514, '에예약하고': 12515, '26만원': 12516, '이나차이나게': 12517, '이라기보단': 12518, '더구나': 12519, '중순이': 12520, '젠기렌': 12521, '32': 12522, '인티': 12523, '고사하고': 12524, '인가가': 12525, '안테나': 12526, '개둘': 12527, '갠찮음': 12528, '해조': 12529, '6년': 12530, '전가고': 12531, 'ㅏㄴ': 12532, 'ㄴㅇㄷㅇㅎㅎㅎ': 12533, '널럴해': 12534, '바배큐해': 12535, '쿠킹호일': 12536, '차차': 12537, '애또': 12538, '확실': 12539, '주병': 12540, '치실': 12541, '자명': 12542, '분뒤': 12543, '붐': 12544, '18년': 12545, '진득진득': 12546, '웅하': 12547, '굿모닝': 12548, '잔쩌': 12549, '깜작': 12550, '높낮이': 12551, '썻었는데': 12552, '원상': 12553, '다짜고짜': 12554, '갔슴당': 12555, '제재': 12556, '경도': 12557, '유향': 12558, '라이터': 12559, '토로': 12560, '연박하며': 12561, '갓길': 12562, '애도': 12563, '말타': 12564, '싸움': 12565, '이통': 12566, 'ㄴㅔ': 12567, '무식하다': 12568, '갱얼쥐': 12569, '얌전하다': 12570, '28분': 12571, '블루베리': 12572, '젛음': 12573, '없엇음': 12574, '싶어욤': 12575, '뛰어나가다': 12576, '멋져욘': 12577, '갇습니': 12578, '고냥이': 12579, '등기': 12580, '숙취': 12581, '에까지는': 12582, '이과': 12583, '송학': 12584, '짭쪼름하': 12585, '식역': 12586, '놀랫': 12587, '방편': 12588, '함일': 12589, '독채임': 12590, '햇님': 12591, '협약': 12592, '비눗방울': 12593, '앤문': 12594, '화룡': 12595, '점정': 12596, '또봬용': 12597, '사촌': 12598, '허름했': 12599, '딸도': 12600, '외딴': 12601, 'ㅜㅋㅋㅋ': 12602, '되몀': 12603, '거슬렀어용': 12604, '깨끗헀어': 12605, 'ㅅㅎㅎㅎㅎ': 12606, '로조': 12607, '명칭': 12608, '에코': 12609, '친즬': 12610, '엽': 12611, '몸풀': 12612, '라테': 12613, '자유로이': 12614, '화난': 12615, '채집': 12616, '소라게': 12617, '널렸': 12618, '밀물': 12619, '보도': 12620, '숫': 12621, '으쌰으쌰': 12622, '꾸럽': 12623, '비항': 12624, '편히쉬엇어': 12625, '해소': 12626, '금번': 12627, '고향이': 12628, '협재바': 12629, '뒹굴뒹굴': 12630, '는담': 12631, '드레스': 12632, '추어': 12633, '니시': 12634, '기념품점': 12635, '오인': 12636, '된드': 12637, '호적': 12638, '파이다': 12639, '관제': 12640, '도입': 12641, '으로부터': 12642, '공함': 12643, '벽난로': 12644, '고담': 12645, '안걸렸어요': 12646, '파릇파릇하다': 12647, '더락': 12648, '피기': 12649, '족펜션': 12650, '자갈': 12651, '이었나': 12652, '순두부': 12653, '가족룸': 12654, '새까맣다': 12655, '획': 12656, '동차': 12657, '귀사': 12658, '원만하다': 12659, '셰': 12660, '김재호': 12661, '01095521699': 12662, '웟습': 12663, '보급': 12664, '햬': 12665, '픽했네': 12666, '출사': 12667, '어조': 12668, '서비슨데': 12669, '당초': 12670, '졸귀': 12671, '세계': 12672, '늙다': 12673, '시냐': 12674, '젠데': 12675, '선물가게': 12676, '메기': 12677, '껍': 12678, '괸츈입니': 12679, '썻어': 12680, '4600': 12681, '재방뭌': 12682, '굌찮아': 12683, '괸': 12684, '입냄새': 12685, '런드리': 12686, '질감': 12687, '우여곡절': 12688, '섭외': 12689, '양녕': 12690, '쩔쩔': 12691, 'ㅠㅜㅠ': 12692, '야속하다': 12693, '호스팅': 12694, 'ㅇㅑ': 12695, '방귀': 12696, '이디야': 12697, 'ㅠㅠㅋㅋ': 12698, '해주셧': 12699, '칭겼어': 12700, '적하': 12701, '비품셋트': 12702, '우근': 12703, '이롭다': 12704, '에바': 12705, '용품은': 12706, '씨앤': 12707, '거리내에': 12708, '나기': 12709, '더라구요': 12710, '셨네': 12711, '청청': 12712, '포크레인': 12713, '젛네': 12714, '곳간': 12715, '말따': 12716, '베터리': 12717, '그라나다': 12718, '칠만해': 12719, '여름에다녀오고또생각나서급으로다녀왔어요': 12720, '분동': 12721, '도데': 12722, '금능협재': 12723, '오카': 12724, '얼룩덜룩': 12725, '뛰어내리다': 12726, 'ㅓㅆ': 12727, '150': 12728, 'ㅜㅂ': 12729, '가다가': 12730, '약재료': 12731, '들어잇엇어': 12732, '예뻣다': 12733, '퇴비': 12734, '리보': 12735, '심해지다': 12736, '진퇴양난': 12737, 'ㄷㅏ': 12738, '반이면': 12739, 'ㅅㅕ': 12740, '1314': 12741, '샹워실': 12742, '행세': 12743, '참치': 12744, '얌': 12745, '우렁': 12746, '각시': 12747, '취저': 12748, '들들': 12749, '어쩌라고': 12750, '떠내다': 12751, '종소리': 12752, '괝찮아': 12753, '굿굿굿굿굿굿굿굿굿굿굿굿굿굿굿': 12754, '분한': 12755, 'ㅅㅅ': 12756, '슬쩍': 12757, '테프': 12758, '아이젠': 12759, '보온병': 12760, '케첩': 12761, '공해': 12762, '스텐다드': 12763, '라커': 12764, '전체젹': 12765, '꼬렛': 12766, '외가': 12767, '월정뷰': 12768, '미녀': 12769, 'ㅎㅎㅎㅎㅎㅎㅎㅎㅎ': 12770, '딥슬립': 12771, '말똥말똥': 12772, '상영': 12773, '손해배상': 12774, '지심': 12775, '박강': 12776, '12년': 12777, '사빈': 12778, '애터': 12779, '넘으면': 12780, '뽀요요펜션': 12781, '룸자체': 12782, '루시': 12783, '드엠': 12784, '주르르': 12785, '륵': 12786, '자유시간': 12787, '안족': 12788, '스케': 12789, '이프': 12790, '엘에이': 12791, 'fb': 12792, '드넓다': 12793, '벽햤습': 12794, '초초': 12795, '끄읏': 12796, '불리다': 12797, '정글': 12798, '손잡다': 12799, '원만': 12800, '평보': 12801, '훌륭후': 12802, '해양': 12803, '농구공': 12804, '취항': 12805, '호캉스구': 12806, '방장': 12807, '한정이라고': 12808, '조굼': 12809, '곤란': 12810, '쉬웟': 12811, '괜탆았어': 12812, '영하': 12813, '스킨로션': 12814, '락커룸': 12815, '옷가지': 12816, '엽서': 12817, '뒤척거리다': 12818, '취식불': 12819, '일연': 12820, '룸이라뇨': 12821, '놨어': 12822, '273000원': 12823, '148200원': 12824, '124800원': 12825, '넗': 12826, '백수': 12827, '닼': 12828, '힙니': 12829, '도읍': 12830, '끙끙': 12831, '밑층': 12832, '합격': 12833, '떨어트려': 12834, '주의자': 12835, '토박이': 12836, 'εз': 12837, '가파름': 12838, '평복': 12839, '들먹이다': 12840, '대각선': 12841, '땐가': 12842, '바탕': 12843, '도남': 12844, '깻끛': 12845, '개끗했': 12846, 'ㅁㅎㅎ': 12847, '게일': 12848, '훌훌': 12849, '즁말': 12850, '버스터': 12851, '미네': 12852, '나흘': 12853, '뭉탱이': 12854, '이니까': 12855, '벌컥벌컥': 12856, '하아': 12857, '나빳습니': 12858, '변쪽': 12859, '요로': 12860, '이효리': 12861, '이상순': 12862, '겸사겸사': 12863, '꼬뜨도르': 12864, '크나크다': 12865, '19년': 12866, '제조': 12867, '뷰먀': 12868, '기예': 12869, '깻': 12870, '진쨔': 12871, '에스뜨레': 12872, '가스통': 12873, '차빼': 12874, '강렬하다': 12875, '물쪽': 12876, '리해': 12877, '대야': 12878, '껀': 12879, '며퇴': 12880, '침구셋트': 12881, '베딩': 12882, '간친': 12883, '싱글싱글': 12884, '퉁탕퉁탕': 12885, '외간': 12886, '직빵': 12887, '28천': 12888, '반이였는데': 12889, '모탤': 12890, '협재끌레리드륀': 12891, '기웃기웃': 12892, '비역': 12893, '괜찬하': 12894, '자켓': 12895, '디아': 12896, '아리송': 12897, '방진': 12898, '전주': 12899, '꼳': 12900, '계속계속': 12901, '인기척': 12902, '줄평': 12903, '방언': 12904, '사상': 12905, '썅욕': 12906, '이웃집': 12907, '우리네': 12908, '떨기': 12909, '부적절하다': 12910, '수퍼': 12911, '극악': 12912, '육류': 12913, '미루다': 12914, '침묵': 12915, '구별': 12916, '벼르': 12917, '선선해지다': 12918, '불과': 12919, 'ㅜㅅㅜ': 12920, '뮷': 12921, '디퓨져향': 12922, '국외': 12923, '장모님': 12924, '써쥬셨': 12925, '한계': 12926, '전자파': 12927, '사용은': 12928, '장닝': 12929, '일용': 12930, '가치관': 12931, '장유리': 12932, '씬나다': 12933, '치이다': 12934, 'ㄱㅋㄱㄱㅋ': 12935, '타인': 12936, '베갯잇': 12937, 'ㅠㅡㅎ': 12938, 'ㅈㅈㅈㅈㅈ': 12939, '화상회의': 12940, '스파크': 12941, '펑': 12942, '복구': 12943, '냉골방': 12944, '40000': 12945, '피씨텔': 12946, '아귀': 12947, '스페셜': 12948, '오늘이': 12949, '주온': 12950, '주세영': 12951, '케라시스': 12952, '다운로드': 12953, '가옥': 12954, '행차': 12955, '새벽녁': 12956, '길냥이': 12957, '조신': 12958, '하그': 12959, '가일': 12960, '비키': 12961, '뒤척임': 12962, '아티스트': 12963, '울창': 12964, '구불구불하다': 12965, '괜츈합니': 12966, '하방': 12967, '앞방': 12968, '안됏': 12969, '이경우': 12970, '유난히': 12971, '씨끄럽': 12972, '편했슴': 12973, '근본': 12974, '딴지걸': 12975, '훨나아': 12976, '침절해': 12977, '상괸': 12978, '도까지이고': 12979, '안깆': 12980, '과로': 12981, '직행': 12982, '모닝콜': 12983, '분통': 12984, '102426': 12985, '요셉': 12986, '참견': 12987, '바임': 12988, '왔습닏': 12989, '요런': 12990, '파쇄기': 12991, '시름': 12992, 'enfp': 12993, '확신': 12994, '은한': 12995, '위력': 12996, 'stayed': 12997, 'here': 12998, 'days': 12999, 'that': 13000, 'bus': 13001, 'terminal': 13002, 'room': 13003, 'clear': 13004, 'really': 13005, 'see': 13006, 'sky': 13007, 'through': 13008, 'window': 13009, 'think': 13010, 'equipment': 13011, 'bit': 13012, 'lacking': 13013, 'want': 13014, 'come': 13015, '했넹': 13016, '삽': 13017, '괴안아': 13018, '살구': 13019, '페브릭': 13020, '재작년': 13021, '곳등': 13022, '따닥따닥': 13023, '좋앆어': 13024, '단면': 13025, '재방율': 13026, '장민호': 13027, '갓파더': 13028, '왓다간': 13029, '쫃겨납니': 13030, '로안': 13031, '풀스위트': 13032, '데도': 13033, '넷째': 13034, '다섯째': 13035, '재밋구': 13036, '마감인데': 13037, '라면서': 13038, '명여': 13039, '받으신건데': 13040, '레크레이션': 13041, '강사': 13042, '시끌시끌': 13043, '재밌엄': 13044, '대들다': 13045, '잇엇네': 13046, '냠냠': 13047, '헌팅': 13048, '불행': 13049, '찰': 13050, '밣히': 13051, '결여': 13052, '학교': 13053, '구구': 13054, '보더콜리': 13055, '쇠': 13056, '장용': 13057, '차끌': 13058, '뮤렌': 13059, 'am': 13060, '0910': 13061, '인자': 13062, '면제': 13063, '00': 13064, '동행': 13065, '술게임': 13066, '들썩들썩': 13067, 'ㅌㅌ': 13068, '개추': 13069, '밴드': 13070, '다드': 13071, 'ㅇㅇㅇㅇㅌ': 13072, '헬멧': 13073, '노노': 13074, '오뉴': 13075, '준위': 13076, '봣덛': 13077, '진걸': 13078, '팥죽': 13079, '대왕': 13080, '룸바': 13081, '여과기': 13082, '이끼': 13083, '한경': 13084, '허허벌판': 13085, '괜찬았': 13086, '으로라도': 13087, '끈겻어': 13088, '기온': 13089, '베렌다': 13090, '어슴': 13091, '프레보': 13092, '유연하다': 13093, '음해': 13094, '협재쪽오': 13095, '씩씩하다': 13096, '까진가': 13097, '미물': 13098, '시큰둥하다': 13099, '겟다': 13100, '5152': 13101, '연건': 13102, '우승자': 13103, '옆옆': 13104, '요건': 13105, '샴페인': 13106, 'rnr': 13107, '브레드': 13108, '탈의실': 13109, '자물쇠': 13110, '__': 13111, '서류': 13112, '물결': 13113, '정도만': 13114, '따끔': 13115, '대량': 13116, '행궈진것들': 13117, '고런': 13118, '추자도': 13119, '호기롭': 13120, '어떡하다': 13121, '임에도': 13122, '헤아리다': 13123, '천재지변': 13124, '래그': 13125, '임신': 13126, '곤욕': 13127, '건쉽': 13128, '로기': 13129, '파티션': 13130, '슬러시': 13131, '직각': 13132, '오만원': 13133, '골동': 13134, '거리에용': 13135, '곡': 13136, '끗': 13137, '정도걸어서': 13138, '둘초등생': 13139, '식비': 13140, '절루': 13141, '160': 13142, '남성은': 13143, '뚝닥': 13144, '7080': 13145, '센티': 13146, '펜션내': 13147, '람': 13148, '되살리다': 13149, '훌쩍': 13150, '스퇄': 13151, '교초': 13152, '문해': 13153, '팩트': 13154, '윘': 13155, '못챙겻': 13156, '쌩쌩': 13157, '즐겻습': 13158, '먹엇습니당': 13159, '파네': 13160, '아이언맨': 13161, '용초롱': 13162, '덕분에신나게보내고왔어요퇴실하면서도귤챙겨주시고귤진짜진짜잘먹었습니다또놀러갈게요': 13163, '강추애': 13164, '월씨': 13165, '서안': 13166, '귀여웡': 13167, '짜장면': 13168, '귤잼': 13169, '바름': 13170, '호비다': 13171, '뱔루': 13172, '선글라스': 13173, '잃어버': 13174, '깨끗깔끔': 13175, '주유': 13176, '임밸류': 13177, '프랜차이즈': 13178, 'ㅋㅋㅋㅋㅋㅋㅋㅋㅋㅋㅋㅋㅋㅋㅋㅋ': 13179, '반쪽': 13180, '뜨이다': 13181, '흐릿하': 13182, '명물': 13183, '이름나다': 13184, '루트': 13185, '외치': 13186, '편의점이': 13187, '락앤락': 13188, '거짓말쟁이': 13189, '보금': 13190, '공주': 13191, '속눈썹': 13192, '다랑쉬오름': 13193, '오봉': 13194, '다날': 13195, '아가서': 13196, '확정': 13197, '뽀드득': 13198, '해산': 13199, '패닉': 13200, '풍뎅이': 13201, '사슴벌레': 13202, '덧붙이다': 13203, '곳일': 13204, '그을음': 13205, '범벅': 13206, '줏대': 13207, '욜': 13208, 'ㄹㄹㄹ': 13209, '무르': 13210, '동지': 13211, '보이차': 13212, '호화': 13213, '둬': 13214, '널찍널찍': 13215, '쵸콜렛': 13216, '이마': 13217, '묵살': 13218, '간주': 13219, '잠뒤척임': 13220, '새볔': 13221, '초뒤': 13222, '헤져': 13223, 'ㄷㅋㅅㄷㄱㅅㅋㅇㅈ': 13224, '유의점': 13225, '팬션강추': 13226, '잘쉬엇어': 13227, 'ㅈㅅㄷㄱㄴㄷ': 13228, '너뭊': 13229, 'ㄷㅎ': 13230, '린징폼': 13231, '용의': 13232, '상때': 13233, '대위': 13234, '뜻으': 13235, '미티': 13236, '솔로': 13237, '됴아': 13238, '우연': 13239, '이내여서': 13240, '나시': 13241, '케바케': 13242, '인건': 13243, '스톡': 13244, '병뚜껑': 13245, '간걸': 13246, '먹엇을텐데': 13247, '뷰방': 13248, '햇던방': 13249, '한철': 13250, '반걸렷는데': 13251, '매너티': 13252, '생리': 13253, '왔어욤': 13254, '돌하르방': 13255, '셧습': 13256, '파밭': 13257, '웅장': 13258, 'bj': 13259, '안성만': 13260, '춤': 13261, '뻘쭘함': 13262, '200300원': 13263, '매크로': 13264, '땡큐': 13265, '핷': 13266, 'ㄱㄱㄱ': 13267, '개비': 13268, '그만두다': 13269, '이다라고': 13270, '시발': 13271, '조오이': 13272, '치석': 13273, '붙임성': 13274, '과음': 13275, '710일': 13276, '진리': 13277, '꿰': 13278, '불현듯': 13279, '홀린': 13280, '스탭님들': 13281, '면접': 13282, '워크맨': 13283, '느낌표': 13284, '메너': 13285, '조심스럽다': 13286, '질문지': 13287, '간에': 13288, '슾탭': 13289, '타코': 13290, '캣': 13291, '고트': 13292, '어가': 13293, '속물': 13294, '이념': 13295, '뇌': 13296, '짜릿하다': 13297, '멤버십': 13298, '토스': 13299, '터스트': 13300, '유미': 13301, '세포': 13302, '괜찬': 13303, 'ㅇㅁ': 13304, '좋아썽용': 13305, '향임격': 13306, '넘어서했는데': 13307, '설마설마': 13308, '앏': 13309, '해구해': 13310, '돌변': 13311, '안됫': 13312, '술취해': 13313, '마이': 13314, '인지알았는데': 13315, '드령용': 13316, 'ㅠㅜㅜㅜ': 13317, '존맛턍입니': 13318, '여비': 13319, '실가': 13320, '귀걸이': 13321, '집게벌레': 13322, '안왓': 13323, '더라면': 13324, '심장': 13325, '자제': 13326, '어그': 13327, '와나': 13328, '금은': 13329, '앵앵': 13330, '뺨': 13331, '종업원': 13332, '괜차나욤': 13333, '분주하다': 13334, '있슴다': 13335, '반창고': 13336, '거머리': 13337, '버전': 13338, '골짜기': 13339, '드레서': 13340, '자주자주': 13341, '만듭니': 13342, '금가면': 13343, '서식지': 13344, '이동상': 13345, '난지도': 13346, '문제해결': 13347, '찌푸리다': 13348, '시숙': 13349, '구름다리': 13350, '파이': 13351, '익일': 13352, '였던': 13353, '사회': 13354, '모토로': 13355, '좀금': 13356, '쉬멍놀': 13357, '쉬멍놀멍': 13358, '꽃돈': 13359, '달에도': 13360, '음로': 13361, '이었는데': 13362, '우마': 13363, '하나고': 13364, '오구': 13365, '두굳굳굳귣': 13366, '굳굳국숛두숙': 13367, '하달': 13368, '갈수록': 13369, '꾸욱': 13370, '집등': 13371, '크리': 13372, '놀랐슴': 13373, '시어머니': 13374, '잘빠지다': 13375, '비뉴': 13376, '오도바이': 13377, '해광': 13378, '녕': 13379, '큼직큼직하다': 13380, '위엄': 13381, '불맛': 13382, '포츠': 13383, '문제점': 13384, '케러밴': 13385, '룹': 13386, '반응': 13387, '행복감': 13388, '어쩜': 13389, '요거트': 13390, '버스정거장': 13391, '짱이뽀': 13392, '못담': 13393, '인하': 13394, '빳빳': 13395, '만알': 13396, '장수': 13397, '곳펜션': 13398, '6500원': 13399, '헹주': 13400, '더도': 13401, '지방도': 13402, '자알': 13403, '로맨틱': 13404, '엘': 13405, '하프': 13406, '개꿀띠': 13407, '좋았슺니': 13408, 'ㅅㅐ': 13409, '나용': 13410, 'ㅁㅁ': 13411, '예뻣': 13412, '육아': 13413, '돈쭐': 13414, '알라': 13415, '굉징히': 13416, '명초': 13417, '과시': 13418, '곳강추': 13419, '병세': 13420, '정제': 13421, '솔이': 13422, '취이힌': 13423, '불어오다': 13424, '참기름': 13425, '꼽았는데': 13426, '끈뜻끈': 13427, '304': 13428, '매연': 13429, '매케': 13430, '바디클렌저': 13431, '그을리다': 13432, '고작': 13433, '달콤하다': 13434, '각층': 13435, '돟아료': 13436, '뒤뜰': 13437, '물르다': 13438, '밤바람': 13439, '비동': 13440, '좌절': 13441, '기강': 13442, '박대호': 13443, '주임': 13444, '술꾼': 13445, '한시': 13446, '탐라': 13447, '호을': 13448, '엄밀하다': 13449, '위반': 13450, '어기': 13451, '와젼': 13452, '걱실': 13453, '재밤': 13454, '너무좋슴다': 13455, '쫌더': 13456, '이몽': 13457, '폼클렌징껍질': 13458, '불타다': 13459, '색바랜': 13460, '비상등': 13461, '난국': 13462, '장만': 13463, '추정': 13464, '달방': 13465, '찬절': 13466, 'ㅋㅋㅜㅜ': 13467, '실앞': 13468, '패밀': 13469, 'ㄹㅣ': 13470, '업성': 13471, '결촌': 13472, '67만원': 13473, '어케': 13474, 'ㄴㅑ': 13475, 'ㅜㅠㅋㅋㅋㅋㅋ': 13476, '에서가': 13477, '족치다': 13478, '교통카드': 13479, '쓰레기봉지': 13480, '답합': 13481, '아르바이트': 13482, '헌혈': 13483, '전자기기': 13484, '별루그': 13485, '상점': 13486, '사레': 13487, '말끔히': 13488, '반점': 13489, '난날': 13490, '흥건': 13491, '건축가': 13492, '건뮬': 13493, '껌': 13494, 'ㅁㅊ': 13495, '다도': 13496, '메모리카드': 13497, 'goodgood': 13498, '78시': 13499, '기준별로': 13500, '율무': 13501, '개인플레이': 13502, '답니': 13503, '깨끙': 13504, '삼위일체': 13505, '콜라보': 13506, '지하공간': 13507, '쑤다': 13508, '참가자': 13509, '이브자리': 13510, '궂': 13511, '넚': 13512, '엣': 13513, '날수': 13514, '했네요': 13515, '넝쿨': 13516, '밭일': 13517, '블쾌하': 13518, '유영': 13519, '리미': 13520, '리사': 13521, 'ㄴㅣ': 13522, '제주도숙소': 13523, '짓원': 13524, '눈살': 13525, '중일': 13526, '라온룸': 13527, '레아': 13528, '쏀스': 13529, '개화': 13530, 'ㅅㅣ': 13531, '탈것': 13532, '음식재료': 13533, '쏭쏭': 13534, 'ㅠㅠㅎ': 13535, '구보': 13536, '오디오': 13537, '시몬': 13538, '협재앞': 13539, '시디': 13540, 'ㅁㅁㅁㅁㅁㅁㅁㅁㅁㅁㅁㅁㅁㅁ': 13541, '정도면이동가능': 13542, '까르': 13543, '마풀': 13544, '옷벗다': 13545, '처럼만': 13546, '근져': 13547, '풍자': 13548, '프로포즈': 13549, '도난': 13550, '바래욤': 13551, '누에': 13552, '누게': 13553, '명방': 13554, '지냇구': 13555, '명정': 13556, '뻘쭘': 13557, '말러': 13558, '커트': 13559, '슈프림': 13560, '초인': 13561, '시간제': 13562, '친히': 13563, '인디안': 13564, '썸머': 13565, '하루빨리': 13566, '뽀짝': 13567, '취해': 13568, '정숙': 13569, '어기다': 13570, 'ㅅㅅㅅㅅㅅㅅㅅ': 13571, '도비': 13572, '봣던거': 13573, '나왓다안나왓다': 13574, '경직': 13575, '입수': 13576, '악용': 13577, '어쨌는': 13578, '의안': 13579, '100억': 13580, '이듬': 13581, '허투루': 13582, 'ㅍㅍ': 13583, '오가면': 13584, '훨신': 13585, '무식': 13586, '알알볼': 13587, '초래': 13588, '예얘을': 13589, '보풀': 13590, '크리스마스이브': 13591, '5060': 13592, '대꾸': 13593, '찻어': 13594, '이러케': 13595, '평온': 13596, '아낙': 13597, '점운': 13598, '대가면': 13599, '심락': 13600, '칫약': 13601, '락쉬미': 13602, '고시텔': 13603, '틈틈이': 13604, '저러다': 13605, '은희': 13606, '조아욤': 13607, '동북쪽': 13608, '서늘하다': 13609, '물자': 13610, '국도': 13611, '애월점': 13612, '타운하우스': 13613, '흐믓했네': 13614, '초점': 13615, '겨를': 13616, '삑': 13617, '캡': 13618, '셔워기': 13619, '장내': 13620, '드음': 13621, '장일': 13622, '리부트': 13623, '트레일': 13624, '미장센': 13625, '쿤달바디': 13626, 'jmw': 13627, '그랫다': 13628, '월화': 13629, '정보검색': 13630, '계란프라이': 13631, '있엇': 13632, '시들다': 13633, '신들': 13634, '묵자': 13635, '티어': 13636, '미니건': 13637, '경에': 13638, '물장구': 13639, '박모': 13640, '500일': 13641, '40만원': 13642, '백도': 13643, '브리츠': 13644, '주입': 13645, '불구덩이': 13646, '방뷰': 13647, '노티드': 13648, '깨뜨리다': 13649, '반토막': 13650, '엄리돌': 13651, '뭍으셨던': 13652, '경부터': 13653, '순면': 13654, '춥드라구': 13655, '알쏭달쏭하다': 13656, '이케': 13657, '북유럽': 13658, '무진장': 13659, '연착': 13660, '이였는데': 13661, '뮌': 13662, '쭈우우우욱': 13663, '일정중': 13664, '담요': 13665, 'ㅇㅔ': 13666, '스노우체인': 13667, '왓네': 13668, '잇츠힐팬션': 13669, '못마셧어용': 13670, '이었습니다': 13671, '___': 13672, '매제': 13673, '결벽': 13674, '상주견': 13675, '거북이': 13676, '치와와': 13677, '어두울': 13678, '사료': 13679, '딴말': 13680, '매정': 13681, '양고기': 13682, '댁온': 13683, '이러니': 13684, '굿굿입': 13685, '집차럼': 13686, '합창단': 13687, '반적': 13688, '큰칼': 13689, '애코': 13690, '서프라이즈': 13691, '승마': 13692, '틀차': 13693, '개시': 13694, '개쩔': 13695, '필로티': 13696, '어두운채': 13697, '디저트': 13698, '낮아지다': 13699, '변신': 13700, '안항': 13701, '폭죽': 13702, '공실이': 13703, '그랫': 13704, '프런트직원': 13705, '거리라고': 13706, '600원': 13707, '등로': 13708, '접촉': 13709, '로봇': 13710, '슝슝': 13711, '요청픽': 13712, '개층': 13713, '장리': 13714, '노블': 13715, '피아': 13716, '빽빽': 13717, '러시': 13718, '술골': 13719, '꽨': 13720, '맘데': 13721, '인축': 13722, '놈놈': 13723, '움직임': 13724, '서지': 13725, '유기농': 13726, '205': 13727, '호도': 13728, '도토리묵': 13729, 'ㅗㅚㅣ': 13730, '정도여서': 13731, '경해': 13732, '눅눅': 13733, '팔랑': 13734, '거렸던': 13735, '쫓다': 13736, '음미': 13737, '트랩': 13738, '라푼젤': 13739, '립스틱': 13740, '발가락': 13741, '은지': 13742, '배겨': 13743, '반경': 13744, '부항': 13745, '니빤스': 13746, '째지다': 13747, '웃음소리': 13748, '몰상식하다': 13749, '류비': 13750, '아만': 13751, '지근': 13752, '굽히다': 13753, '브종': 13754, '핑크색': 13755, '임손': 13756, '줄때': 13757, '솔선': 13758, '범': 13759, '미래': 13760, '정오': 13761, '슬어있': 13762, '기관지': 13763, 'ㄱㅓ': 13764, 'ㄱㅊㄱㅊㄱㅊㄱㅊ': 13765, '인양': 13766, '차지다': 13767, '세이': 13768, '놨': 13769, '채용': 13770, '세째': 13771, '타라': 13772, '끼그': 13773, '부치다': 13774, '일생': 13775, '워니': 13776, '명령': 13777, '물가': 13778, '빅스타': 13779, '도축장': 13780, '이유옶': 13781, '비료': 13782, '증축': 13783, '코롱코롱': 13784, '폴딩도어': 13785, '이라든지': 13786, '스렂': 13787, '질리다': 13788, '방모': 13789, '짙다': 13790, '굳샷': 13791, '무미건조': 13792, '건아': 13793, '남방': 13794, '신진': 13795, '뻐득뻐득해': 13796, '아애': 13797, '냉동식품': 13798, '퇴실이라고': 13799, '탁월': 13800, '통채': 13801, '어둑해지다': 13802, '휴대': 13803, '특별자치도': 13804, '장성로': 13805, '496': 13806, '흙돼지': 13807, '고기술': 13808, '입천장': 13809, '정식': 13810, 'оо': 13811, '콩': 13812, '훈연': 13813, '패인': 13814, '낮뷰': 13815, '추리': 13816, '앞장서다': 13817, '세바퀴': 13818, '방벽': 13819, '똥파리': 13820, '봣는데': 13821, '밀엇네': 13822, '에게만': 13823, '돌렷는데': 13824, '구심': 13825, '못햇나': 13826, '퇴신': 13827, '엽기': 13828, '가는덴': 13829, '랐': 13830, '썬룸': 13831, '필름': 13832, 'jtv': 13833, '힐린': 13834, '철도': 13835, '바게트': 13836, '숙수': 13837, '룸깨끗': 13838, '달그락': 13839, '캡처': 13840, '봉산': 13841, '외투': 13842, '같드라구': 13843, '원가': 13844, '100원': 13845, '살곳': 13846, '애워': 13847, '화성': 13848, '갎수있어': 13849, '용일': 13850, '칠하다': 13851, '쓸데없다': 13852, '그레이드': 13853, '귤밭안': 13854, '카라뱐': 13855, '여미지식물원': 13856, '주상절리': 13857, '노지': 13858, '뱅크': 13859, '도둑고양이': 13860, '고로케': 13861, '쫓아내다': 13862, '한우': 13863, '거두다': 13864, '움질일때': 13865, '아두': 13866, '대대': 13867, '비쥬': 13868, '빨빵': 13869, '마무': 13870, '의리': 13871, '떄문': 13872, '에오니': 13873, '유행': 13874, '자글자글': 13875, '협재근처': 13876, '예상외': 13877, '근쳐': 13878, 'ㅁㅊㄴ': 13879, '45000원': 13880, '쓰레빠': 13881, '쉭쉭': 13882, '왓는데': 13883, '이틑날': 13884, '미세': 13885, '티잔': 13886, '미학': 13887, '호평': 13888, '남매': 13889, '산호': 13890, '필때': 13891, '깜': 13892, '피즈': 13893, '띵동띵동': 13894, '괜첞아': 13895, '거작': 13896, '폐쇠': 13897, '믾': 13898, '캐시': 13899, 'ㅜㅜㅜㅜㅜ': 13900, '들썩': 13901, '듀잇': 13902, '31일': 13903, '예랑': 13904, '쥬디스': 13905, '설제': 13906, '잠수함': 13907, '아르바이트생': 13908, '바꿈': 13909, '안내넚': 13910, '인절미': 13911, '레져': 13912, '스포츠': 13913, '카드게임': 13914, '미스': 13915, '족욕탕': 13916, '고들빼기': 13917, '쑥': 13918, '캣답니': 13919, '더크': 13920, '때먀': 13921, '630': 13922, '읔': 13923, '깔끔쟁': 13924, 'ㅅㄹㄹㄹㄹㄹㄹ': 13925, '특색': 13926, '어무니': 13927, '야광': 13928, '아이스커피': 13929, '베이비': 13930, '디퓨져': 13931, '려오': 13932, 'sd': 13933, '유심': 13934, 'amp': 13935, 'ㅂㅋ': 13936, '금생': 13937, '각과': 13938, '으로의': 13939, '미션임파서블': 13940, '담력': 13941, '테스트': 13942, '쯤되니까': 13943, '철컥': 13944, '좀넘게': 13945, '직지': 13946, '일지': 13947, '큐알': 13948, '호이안': 13949, '문적': 13950, '명이엇어용': 13951, '70': 13952, '구불구불': 13953, '명함': 13954, '곽지애': 13955, '월항': 13956, '조기': 13957, '개복': 13958, '조항': 13959, '혜택': 13960, '시리': 13961, '귤밭': 13962, '정치': 13963, '꾸준하다': 13964, '불필요하다': 13965, '맥날': 13966, '비고': 13967, '공관': 13968, '차때매': 13969, '핸드백': 13970, '팅팅': 13971, '펀의점': 13972, '퀄러티': 13973, '바흐': 13974, '헬러': 13975, '견적': 13976, '달걀후라이': 13977, '소환': 13978, '훠': 13979, '얼씬': 13980, '킹때': 13981, '진또': 13982, '배기': 13983, '가세영': 13984, '어뜨카': 13985, '즇아': 13986, '협조': 13987, '수록': 13988, '어버님': 13989, '어쩌겠음': 13990, '하수도': 13991, '메르': 13992, '양옆': 13993, '개지': 13994, '에게서': 13995, '찿는다': 13996, '좋엇습니': 13997, 'ㅋㅋㅋㅋㅋㅋㅋㅋㅋㅋㅋㅋㅋㅋㅋㅋㅋㅋㅋㅋ': 13998, '화순': 13999, '생태': 14000, '은가야': 14001, '블랙': 14002, '피그': 14003, '날파린': 14004, '달도': 14005, '읍내': 14006, '학창시절': 14007, '왜안': 14008, '겐': 14009, '허둥대다': 14010, '도오': 14011, '생맥': 14012, '샸': 14013, '성함': 14014, '동상': 14015, '간지나다': 14016, '캌테일바': 14017, '혼잡': 14018, '안드': 14019, '9999999': 14020, '따숩따숩해': 14021, '운동복': 14022, '냉콤': 14023, '더랬': 14024, '발망': 14025, '루브': 14026, '리카도': 14027, '19만원': 14028, '넘나좋랐러': 14029, '맞긴힌데': 14030, '여윽시': 14031, '풍부': 14032, '야합': 14033, '다발': 14034, '혼락': 14035, '싱글트윈': 14036, '경계': 14037, '침투': 14038, 'ㄷㄷㄷ': 14039, '괜잖았엉': 14040, '접이식': 14041, '회수': 14042, '댕기': 14043, '왁자지껄': 14044, '로스팅': 14045, '스케일': 14046, '자연현상': 14047, '좋습니댜': 14048, '박각': 14049, '흥해랏': 14050, '커풀룸': 14051, '숙소샷': 14052, '친목': 14053, '달려가다': 14054, '토미': 14055, '굿임': 14056, '되돌아오다': 14057, '튕': 14058, '분들껜': 14059, '껜': 14060, '하문': 14061, '지문': 14062, '반에나왔다나름뷰는좋아서오전쉬다나가려했는데기분망침조식은계란후라이라더니토스트에구운계란이라니': 14063, '27000원': 14064, '요코': 14065, '헷갈러': 14066, '명찰': 14067, '푸드코트': 14068, '규슈': 14069, '슈슛': 14070, '놨는': 14071, '발렛파킹': 14072, '클레이': 14073, '다망': 14074, '막말': 14075, '삼복': 14076, '곤혹': 14077, '16000원': 14078, 'bro': 14079, '반시': 14080, '기스': 14081, '자넷': 14082, '아래아': 14083, 'ㅋㅋㅋㅋㅋㅋㅋㅋㅋㅋㅋ': 14084, '가려움': 14085, '아중': 14086, '갑니댜': 14087, '아늑햇어': 14088, '멕': 14089, '몫': 14090, '처제': 14091, '델고가': 14092, '클릭': 14093, '린넨': 14094, '노랑': 14095, '지지리': 14096, '5111': 14097, '기울다': 14098, '하래': 14099, '변차': 14100, '설문': 14101, '먀': 14102, '야시': 14103, '월성': 14104, '주황': 14105, '제인': 14106, 'ㄴㄴㄴㄴㄴㄴㄴ': 14107, '햤습니': 14108, '뚜러뻥': 14109, '거리에있고': 14110, '45천원': 14111, '다분하다': 14112, '걸렸습니다': 14113, '부요': 14114, '싱': 14115, '꺠끗': 14116, '으스스하다': 14117, '마디': 14118, '불쾌감': 14119, '무속': 14120, '본능': 14121, '밧데리': 14122, '퇴실후': 14123, '주목': 14124, '관아': 14125, '중국어': 14126, '한글': 14127, '언어': 14128, '가독성': 14129, '비추': 14130, '초장': 14131, '거지같다': 14132, '누덕누덕': 14133, '안누덕': 14134, '라야': 14135, '두어': 14136, '수의': 14137, '불투명하다': 14138, '서향': 14139, '셔핑': 14140, '싸매다': 14141, '아이러니': 14142, '황': 14143, '토방': 14144, '첸션': 14145, '께끗해': 14146, '비츄': 14147, '자욱하다': 14148, '밀접하다': 14149, '가야하니': 14150, '끈덕진': 14151, '불길': 14152, '걸린다고': 14153, '데바': 14154, '곧장': 14155, '퇴실인데': 14156, '똥개': 14157, '분별': 14158, '월드컵경기': 14159, '호탕': 14160, '방쪽': 14161, '저자': 14162, '레인지': 14163, '법환쪽': 14164, '무한정': 14165, '숙도': 14166, '내내갔어요': 14167, '한상태': 14168, '마제': 14169, '스티': 14170, '유령도시': 14171, '웅웅웅': 14172, '부터이며': 14173, '가욤': 14174, '파트': 14175, '신신당부': 14176, '웃점': 14177, '비닐봉투': 14178, '프론트없음': 14179, '78만원': 14180, '돈이면': 14181, '펜션답': 14182, '실크': 14183, '내자': 14184, '큰코다치다': 14185, '우동카덴': 14186, '곳담': 14187, '센트럴': 14188, 'ㅌㅔ': 14189, '침대룸': 14190, '온룸': 14191, '눈물': 14192, '작렬': 14193, '오랫': 14194, '개사': 14195, '작은룸': 14196, '일텐데': 14197, '깉아': 14198, '월급': 14199, '총지배인': 14200, '먹통': 14201, '801': 14202, '출처': 14203, '세부': 14204, '헤진': 14205, '공전': 14206, '외론': 14207, '촉촉': 14208, '레지던스형': 14209, '압력': 14210, '로크': 14211, '거치': 14212, 'ㄱㄷㄱㄷㅇㅎㅈㅇㅈ': 14213, '얹히다': 14214, '읭': 14215, '때수건': 14216, '아이오': 14217, '닉': 14218, '으로나': 14219, '싯누렇다': 14220, '혐': 14221, '술김': 14222, '제적': 14223, '건안': 14224, '어찌됫': 14225, '읎드다': 14226, '그르코': 14227, 'ㅡㅋㅋ': 14228, '했더랬': 14229, '이든지': 14230, '깝': 14231, '빙판': 14232, '120분': 14233, '서리': 14234, '쉬익': 14235, '혼잣말': 14236, '괸찬아': 14237, '쌀벌레': 14238, '죽음': 14239, '추락': 14240, '넝능비': 14241, '가까웟': 14242, '무밭뷰': 14243, '식히다': 14244, '전구': 14245, '일사이': 14246, '무더기': 14247, '이그리': 14248, '휼룽함': 14249, '젊은이': 14250, '스노우': 14251, '분밤': 14252, '베배큐': 14253, '다육식물': 14254, '오오오오': 14255, '888': 14256, '잠듬': 14257, '주욱': 14258, '용변': 14259, '여행동안': 14260, '승하': 14261, '비쵝': 14262, '비쌋': 14263, '불면증': 14264, '진쩌': 14265, '치조음': 14266, '성기': 14267, '만큼도': 14268, '역할': 14269, '차근차근': 14270, '치자나무': 14271, '간나': 14272, '구요': 14273, '단언컨대': 14274, '12회': 14275, '과즙': 14276, 'ㅜㅠㅜㅜ': 14277, 'ㅜㅠㅜㅠㅠ': 14278, '보따리': 14279, 'ㅜㅠㅜ': 14280, '새기다': 14281, '자자하다': 14282, '떠나가다': 14283, '퇴사': 14284, '예정자': 14285, '홀': 14286, '웅웅거리': 14287, '용모': 14288, '조은정': 14289, '은제': 14290, '이래도': 14291, '떡보': 14292, '대전': 14293, '까지라도': 14294, '적당량': 14295, '숯값': 14296, '1004': 14297, '이요': 14298, '달말에': 14299, '609': 14300, '뻐': 14301, '주니어스': 14302, '통함': 14303, '합방': 14304, '현혹': 14305, '가상': 14306, '더꽃': 14307, '신부': 14308, '제가찿던': 14309, '실실': 14310, '띡': 14311, '작동시키다': 14312, '이집': 14313, '정가': 14314, '오븐': 14315, '음번': 14316, '화보': 14317, '개퀸': 14318, '썰렁': 14319, '가파릅니': 14320, '점장님': 14321, '룸도잇': 14322, '기필코': 14323, '소재': 14324, '감탄사': 14325, '다비치': 14326, '넷플기본': 14327, '직관': 14328, '7500원': 14329, '루틴': 14330, '애둘': 14331, '넷플없는': 14332, '볼펜': 14333, '5천': 14334, '4천': 14335, '한국말': 14336, '엄천': 14337, '시원시원하다': 14338, '퓨어동': 14339, '504': 14340, '엇능': 14341, '흐렷': 14342, '콘솔': 14343, '뜻햇구': 14344, '슉': 14345, 'its': 14346, '삼가다': 14347, '안락': 14348, '살로': 14349, '노뷰룸': 14350, '까끗했어': 14351, '숫소': 14352, '차기': 14353, '차출': 14354, '10000만': 14355, '족입니다': 14356, '차밍': 14357, '콧물': 14358, '벙': 14359, '맘스': 14360, '국밥집': 14361, '학식': 14362, '거뭇거뭇': 14363, 'ㅎㅠㅠ': 14364, '팝콘': 14365, '압니다': 14366, '미니무드등': 14367, '그러다가': 14368, '대우': 14369, '기후': 14370, '버벅대다': 14371, '치드': 14372, '료굿굿': 14373, '잠만잘례': 14374, '쓰는덴': 14375, '찿다': 14376, '피크닉': 14377, '400': 14378, '입대': 14379, '몬딱덕': 14380, '언넝': 14381, '떠밀다': 14382, '어멍': 14383, '따뜩하': 14384, '사가': 14385, '개냥': 14386, '일때': 14387, '인곳': 14388, '점프': 14389, '징검': 14390, '유흥': 14391, '라네': 14392, '아팟는다': 14393, '초월': 14394, '허가': 14395, '균형': 14396, '영역': 14397, '고수': 14398, '균등': 14399, '원리': 14400, '이치': 14401, '혹평': 14402, '상관관계': 14403, '프런터': 14404, '사다리': 14405, 'ㅋㅐ': 14406, '복고': 14407, '싸인': 14408, '감당': 14409, '구구구구구': 14410, '난점': 14411, '나긋나긋': 14412, '바짝': 14413, '쯤인가': 14414, '어짜피': 14415, '62200원': 14416, '고령': 14417, '999': 14418, '조명하': 14419, 'page': 14420, '672': 14421, '다용도실': 14422, '자극': 14423, '거렸습': 14424, '310분': 14425, '반포': 14426, '알아주다': 14427, '기안': 14428, '듬성듬성': 14429, '맛있엇습니': 14430, '가만': 14431, '드길': 14432, '평의': 14433, '34월': 14434, '가까웟음': 14435, '제물': 14436, '흩날리다': 14437, '나뭇잎': 14438, '들러붙어서': 14439, '랄건': 14440, '고달프다': 14441, '얼핏보기': 14442, '믈론': 14443, '경로당': 14444, '극진하다': 14445, '708': 14446, '봉우리': 14447, '손편지': 14448, '지바': 14449, '텀블러': 14450, '삼달': 14451, '델마펜션': 14452, '스벅있': 14453, '테러스': 14454, '무드등같': 14455}\n"
          ]
        }
      ]
    },
    {
      "cell_type": "code",
      "source": [
        "#명사 추출\n",
        "\n",
        "print(okt.nouns('너무깨끗하고바다도잘보이고좋았습니다사장님도문자답빠르게주시고따뜻하고침구도깨끗했어요' ))"
      ],
      "metadata": {
        "colab": {
          "base_uri": "https://localhost:8080/"
        },
        "id": "i0oDYojmnENw",
        "outputId": "8dc68f3e-8f01-4af6-fa48-8649cc8c8ad5"
      },
      "execution_count": null,
      "outputs": [
        {
          "output_type": "stream",
          "name": "stdout",
          "text": [
            "['바다', '사장', '문자', '답', '주시', '침구']\n"
          ]
        }
      ]
    },
    {
      "cell_type": "code",
      "source": [
        "#정수인코딩 기계가 텍스트를 숫자로 처리할 수 있도록 훈련 데이터와 테스트 데이터에 정수 인코딩을 수행해야 합니다. 우선, 훈련 데이터에 대해서 단어 집합(vocaburary)을 만듬\n",
        "# tokenizer2 = Tokenizer()\n",
        "# tokenizer2.fit_on_texts(z_train)"
      ],
      "metadata": {
        "id": "w5_Q94uAuvTw"
      },
      "execution_count": null,
      "outputs": []
    },
    {
      "cell_type": "code",
      "source": [
        "z_train = []\n",
        "for sentence in tqdm(df['리뷰 내용']):\n",
        "    tokenized_sentence = okt.nouns(sentence) # 토큰화\n",
        "    stopwords_removed_sentence = [word for word in tokenized_sentence if not word in stopwords] # 불용어 제거\n",
        "    z_train.append(stopwords_removed_sentence)"
      ],
      "metadata": {
        "colab": {
          "base_uri": "https://localhost:8080/"
        },
        "id": "z-ENSbK2oECQ",
        "outputId": "3ac516b0-c76a-48b2-9579-8388fa385c26"
      },
      "execution_count": null,
      "outputs": [
        {
          "output_type": "stream",
          "name": "stderr",
          "text": [
            "100%|██████████| 27603/27603 [04:41<00:00, 98.15it/s]\n"
          ]
        }
      ]
    },
    {
      "cell_type": "code",
      "source": [
        "print(z_train[:100])"
      ],
      "metadata": {
        "colab": {
          "base_uri": "https://localhost:8080/"
        },
        "id": "iSm-46ilreh-",
        "outputId": "b338c0ef-8b42-4265-8be2-fd6945e40a38"
      },
      "execution_count": null,
      "outputs": [
        {
          "output_type": "stream",
          "name": "stdout",
          "text": [
            "[[], [], [], ['사장', '넷플릭스', '거', '기재', '단골', '굿'], ['목적지', '근처'], [], ['무엇', '사장', '정말', '체크', '시간', '미리', '도착', '안내', '제', '뚜벅', '가게', '저', '짐', '미리', '도착', '상황', '짐', '먼저', '정말', '방도', '침대', '방안', '컴퓨터', '쉬', '가요', '사장'], [], ['주차'], ['방', '주차', '연결'], ['사장', '자주'], ['산속', '산', '숙소', '무인', '예약', '미리', '문자', '그', '번호', '화주', '안내', '덕분', '마지막', '날'], [], [], ['사장', '뮤실', '시간', '숙소'], [], [], [], ['다만', '방', '안', '담배', '냄새', '공기청정기'], [], ['쉬'], [], [], ['정말'], ['하루', '조명', '거만'], ['이불', '살짝', '욥', '죵'], ['푹'], ['옷', '깜빡', '다시', '보관'], ['비품', '완벽', '구비'], [], [], ['굿굿', '진짜', '호텔', '고객', '대한', '배려', '더', '거', '호', '저희', '오늘', '물', '발', '발', '맛사지', '기계', '거기', '청결', '생각', '비닐', '유', '저희', '와이프', '감동', '정말', '무', '인텔', '불구', '사모님', '굿굿', '입장', '자마자', '피로', '더', '보기'], ['출장', '간편', '이동', '위', '박', '무난'], ['번영로', '타고', '때', '잠시', '곳'], [], [], [], ['오노', '너'], [], ['오'], ['계획', '바베큐', '덕분', '텃밭', '채소', '시간', '정원', '분위기', '다음', '부모님', '모시', '생각'], ['옛날', '가정', '집', '분위기', '숙소', '시간'], ['주차', '도착', '자마자', '사장', '맨발', '안내', '주시', '박', '수건', '넉넙히', '외관', '느낌', '조금', '당황', '방', '침구', '방이', '마치', '집', '바다', '보', '집', '협재해수욕장', '십분', '경관', '길', '금방', '도착', '주방', '구', '가스레인지', '냉장고', '식', '기류', '고루', '보일러', '물', '욕실', '샴푸', '린스', '바디', '비품', '아주', '만족', '여행', '건물', '시설', '터', '별하나', '살짝', '냄새', '조금', '분', '나무', '냄새', '조금'], ['사장', '숙소', '올드', '느낌', '갠', '하루', '수', '노을', '모습', '숙소', '바로', '점', '최고'], ['바다', '시설', '노후', '거미줄', '방충', '망은', '접'], [], ['나름'], ['가성', '비', '갑인', '숙소', '강추', '일몰', '뷰', '방', '직접', '볼', '수', '점'], ['오'], ['혼자'], ['가격', '대비', '다만', '화장실', '화장실', '냄새', '하루', '종일', '문', '난', '다음', '날', '냄새'], ['오오오'], [], [], [], [], ['가성', '비', '하루', '쉬'], ['숙소', '상치', '못', '분위기', '더', '것', '협재', '오시', '분', '꼭', '여기', '추천'], ['숙소'], ['사장', '사모님', '담', '제주', '가면', '부디', '오래오래'], ['샴푸', '린스', '바디', '워시', '빗', '드라이기', '수건', '준비', '개별', '바베큐', '가격'], ['아주', '팬션', '후회'], ['가격'], [], ['예정', '바베큐', '재미나', '마무리', '엇어', '느낌', '하나', '하나', '관리'], ['목적지', '부근', '예약', '꼭', '다시', '방문'], ['주변', '가격'], ['정말', '최고'], ['꼭', '사장', '협재해변'], ['정말', '힐링'], ['부분', '나름'], ['조금', '틱', '전', '가스렌지', '청결', '위치', '텃밥약간', '유기', '노', '채소', '부부', '운영', '아드님', '츤츤', '시지', '노력', '보기', '곳', '분', '이상', '분', '오기', '차', '조금'], ['칫솔', '시공'], ['편', '게쉬', '가용'], ['협재'], [], ['쥬아어'], ['주인', '아주머니', '주변', '돈까스', '집'], ['협재해수욕장'], ['바닥', '화장실', '사장'], [], ['객실', '금연', '완정', '짱'], ['체적', '침대', '화장실', '방이', '위생', '이불', '먼지', '침대', '스프링', '부분', '조금'], ['별', '하나', '주기', '안', '노크', '문', '도대체', '무슨', '상황'], ['만족'], ['별로', '어요'], ['욕실', '담배', '냄새', '수건', '베임', '이불', '분'], ['다만', '아침', '일찍', '비품', '복도', '분', '말씀', '소리', '쫌'], [], ['숙소', '뷰', '퀄리티', '정말', '환상'], ['언제', '창문', '파도', '소리'], ['체크', '때', '박', '추가', '가성', '애월', '정말', '룸', '컨디션', '신라', '호텔', '생각', '곳', '저', '진짜', '숙소', '바닷가', '근처', '해', '보일러', '틀', '에어컨', '첫날', '본관', '뷰', '진짜', '믹스', '커피', '한잔', '할머니', '집', '기분', '이번', '여행', '위로', '혼', '중이', '더', '날', '신관', '이사', '곳', '뷰', '또한', '예술', '이틀', '동안', '뷰', '제일', '은방', '첫', '저', '혼행', '더더', '만족', '본관', '드라이기', '조금', '신관', '바다', '보', '그', '창문', '다음', '제주', '여행', '때', '꼭', '다시', '첫', '사진', '본관', '두번째', '사진', '신관'], ['뷰'], ['세면대', '욕조', '물이', '가성', '비', '호텔'], ['쉬'], ['사장', '정말'], ['사장', '직원', '전부', '건물', '조금', '방이', '시설', '가구', '오션', '뷰', '개인', '정말', '가성', '비', '대비', '최고', '가족', '다음', '또', '여기', '오자'], [], [], ['뷰', '맛집', '사장', '숙소', '청소', '지하', '무인', '편의점']]\n"
          ]
        }
      ]
    },
    {
      "cell_type": "code",
      "source": [
        "from konlpy.tag import Okt\n",
        "import numpy as np\n",
        "import pandas as pd\n",
        "\n",
        "from konlpy.tag import Twitter\n",
        "from collections import Counter"
      ],
      "metadata": {
        "id": "8eqirH9CttT3"
      },
      "execution_count": null,
      "outputs": []
    },
    {
      "cell_type": "code",
      "source": [
        "#형태소 백터 생성\n",
        "index_vectorizer = CountVectorizer(tokenizer=lambda z_train : get_pos(z_train))\n",
        "z_train = index_vectorizer.fit_transform(df[\"리뷰 내용\"].tolist())\n",
        "z_train"
      ],
      "metadata": {
        "colab": {
          "base_uri": "https://localhost:8080/"
        },
        "id": "D7LfQVgOr9kX",
        "outputId": "1a1af5e3-d5a4-4723-d295-197a2399b1fa"
      },
      "execution_count": null,
      "outputs": [
        {
          "output_type": "execute_result",
          "data": {
            "text/plain": [
              "<27603x34581 sparse matrix of type '<class 'numpy.int64'>'\n",
              "\twith 533666 stored elements in Compressed Sparse Row format>"
            ]
          },
          "metadata": {},
          "execution_count": 27
        }
      ]
    },
    {
      "cell_type": "code",
      "source": [
        "# threshold = 3\n",
        "# total_cnt = len(tokenizer.word_index) # 단어의 수\n",
        "# rare_cnt = 0 # 등장 빈도수가 threshold보다 작은 단어의 개수를 카운트\n",
        "# total_freq = 0 # 훈련 데이터의 전체 단어 빈도수 총 합\n",
        "# rare_freq = 0 # 등장 빈도수가 threshold보다 작은 단어의 등장 빈도수의 총 합\n",
        "\n",
        "# # 단어와 빈도수의 쌍(pair)을 key와 value로 받는다.\n",
        "# for key, value in tokenizer.word_counts.items():\n",
        "#     total_freq = total_freq + value\n",
        "\n",
        "#     # 단어의 등장 빈도수가 threshold보다 작으면\n",
        "#     if(value < threshold):\n",
        "#         rare_cnt = rare_cnt + 1\n",
        "#         rare_freq = rare_freq + value\n",
        "\n",
        "# print('단어 집합(vocabulary)의 크기 :',total_cnt)\n",
        "# print('등장 빈도가 %s번 이하인 희귀 단어의 수: %s'%(threshold - 1, rare_cnt))\n",
        "# print(\"단어 집합에서 희귀 단어의 비율:\", (rare_cnt / total_cnt)*100)\n",
        "# print(\"전체 등장 빈도에서 희귀 단어 등장 빈도 비율:\", (rare_freq / total_freq)*100)\n",
        "##################################################################################################\n",
        "\n",
        "threshold = 3\n",
        "total_cnt = len(tokenizer2.word_index) # 단어의 수\n",
        "rare_cnt = 0 # 등장 빈도수가 threshold보다 작은 단어의 개수를 카운트\n",
        "total_freq = 0 # 훈련 데이터의 전체 단어 빈도수 총 합\n",
        "rare_freq = 0 # 등장 빈도수가 threshold보다 작은 단어의 등장 빈도수의 총 합\n",
        "\n",
        "# 단어와 빈도수의 쌍(pair)을 key와 value로 받는다.\n",
        "for key, value in tokenizer2.word_counts.items():\n",
        "    total_freq = total_freq + value\n",
        "\n",
        "    # 단어의 등장 빈도수가 threshold보다 작으면\n",
        "    if(value < threshold):\n",
        "        rare_cnt = rare_cnt + 1\n",
        "        rare_freq = rare_freq + value\n",
        "\n",
        "print('단어 집합(vocabulary)의 크기 :',total_cnt)\n",
        "print('등장 빈도가 %s번 이하인 희귀 단어의 수: %s'%(threshold - 1, rare_cnt))\n",
        "print(\"단어 집합에서 희귀 단어의 비율:\", (rare_cnt / total_cnt)*100)\n",
        "print(\"전체 등장 빈도에서 희귀 단어 등장 빈도 비율:\", (rare_freq / total_freq)*100)"
      ],
      "metadata": {
        "colab": {
          "base_uri": "https://localhost:8080/",
          "height": 248
        },
        "id": "fCn1uBZaf80x",
        "outputId": "714f5ece-26fc-4dfd-f31d-8b49266bc5ba"
      },
      "execution_count": null,
      "outputs": [
        {
          "output_type": "error",
          "ename": "NameError",
          "evalue": "ignored",
          "traceback": [
            "\u001b[0;31m---------------------------------------------------------------------------\u001b[0m",
            "\u001b[0;31mNameError\u001b[0m                                 Traceback (most recent call last)",
            "\u001b[0;32m<ipython-input-28-3785e2e0a3ce>\u001b[0m in \u001b[0;36m<module>\u001b[0;34m\u001b[0m\n\u001b[1;32m     21\u001b[0m \u001b[0;34m\u001b[0m\u001b[0m\n\u001b[1;32m     22\u001b[0m \u001b[0mthreshold\u001b[0m \u001b[0;34m=\u001b[0m \u001b[0;36m3\u001b[0m\u001b[0;34m\u001b[0m\u001b[0;34m\u001b[0m\u001b[0m\n\u001b[0;32m---> 23\u001b[0;31m \u001b[0mtotal_cnt\u001b[0m \u001b[0;34m=\u001b[0m \u001b[0mlen\u001b[0m\u001b[0;34m(\u001b[0m\u001b[0mtokenizer2\u001b[0m\u001b[0;34m.\u001b[0m\u001b[0mword_index\u001b[0m\u001b[0;34m)\u001b[0m \u001b[0;31m# 단어의 수\u001b[0m\u001b[0;34m\u001b[0m\u001b[0;34m\u001b[0m\u001b[0m\n\u001b[0m\u001b[1;32m     24\u001b[0m \u001b[0mrare_cnt\u001b[0m \u001b[0;34m=\u001b[0m \u001b[0;36m0\u001b[0m \u001b[0;31m# 등장 빈도수가 threshold보다 작은 단어의 개수를 카운트\u001b[0m\u001b[0;34m\u001b[0m\u001b[0;34m\u001b[0m\u001b[0m\n\u001b[1;32m     25\u001b[0m \u001b[0mtotal_freq\u001b[0m \u001b[0;34m=\u001b[0m \u001b[0;36m0\u001b[0m \u001b[0;31m# 훈련 데이터의 전체 단어 빈도수 총 합\u001b[0m\u001b[0;34m\u001b[0m\u001b[0;34m\u001b[0m\u001b[0m\n",
            "\u001b[0;31mNameError\u001b[0m: name 'tokenizer2' is not defined"
          ]
        }
      ]
    },
    {
      "cell_type": "code",
      "source": [
        "# 전체 단어 개수 중 빈도수 2이하인 단어는 제거.\n",
        "# 0번 패딩 토큰을 고려하여 + 1\n",
        "vocab_size = total_cnt - rare_cnt + 1\n",
        "print('단어 집합의 크기 :',vocab_size)\n",
        "\n",
        "\n"
      ],
      "metadata": {
        "id": "zXwRGCmwgIxw",
        "colab": {
          "base_uri": "https://localhost:8080/",
          "height": 248
        },
        "outputId": "d00bc256-b479-44a5-e093-4e2ea3479133"
      },
      "execution_count": null,
      "outputs": [
        {
          "output_type": "error",
          "ename": "NameError",
          "evalue": "ignored",
          "traceback": [
            "\u001b[0;31m---------------------------------------------------------------------------\u001b[0m",
            "\u001b[0;31mNameError\u001b[0m                                 Traceback (most recent call last)",
            "\u001b[0;32m<ipython-input-29-9a502ca0b536>\u001b[0m in \u001b[0;36m<module>\u001b[0;34m\u001b[0m\n\u001b[1;32m      1\u001b[0m \u001b[0;31m# 전체 단어 개수 중 빈도수 2이하인 단어는 제거.\u001b[0m\u001b[0;34m\u001b[0m\u001b[0;34m\u001b[0m\u001b[0;34m\u001b[0m\u001b[0m\n\u001b[1;32m      2\u001b[0m \u001b[0;31m# 0번 패딩 토큰을 고려하여 + 1\u001b[0m\u001b[0;34m\u001b[0m\u001b[0;34m\u001b[0m\u001b[0;34m\u001b[0m\u001b[0m\n\u001b[0;32m----> 3\u001b[0;31m \u001b[0mvocab_size\u001b[0m \u001b[0;34m=\u001b[0m \u001b[0mtotal_cnt\u001b[0m \u001b[0;34m-\u001b[0m \u001b[0mrare_cnt\u001b[0m \u001b[0;34m+\u001b[0m \u001b[0;36m1\u001b[0m\u001b[0;34m\u001b[0m\u001b[0;34m\u001b[0m\u001b[0m\n\u001b[0m\u001b[1;32m      4\u001b[0m \u001b[0mprint\u001b[0m\u001b[0;34m(\u001b[0m\u001b[0;34m'단어 집합의 크기 :'\u001b[0m\u001b[0;34m,\u001b[0m\u001b[0mvocab_size\u001b[0m\u001b[0;34m)\u001b[0m\u001b[0;34m\u001b[0m\u001b[0;34m\u001b[0m\u001b[0m\n\u001b[1;32m      5\u001b[0m \u001b[0;34m\u001b[0m\u001b[0m\n",
            "\u001b[0;31mNameError\u001b[0m: name 'total_cnt' is not defined"
          ]
        }
      ]
    },
    {
      "cell_type": "code",
      "source": [
        "# tokenizer = Tokenizer(vocab_size) \n",
        "# tokenizer.fit_on_texts(X_train)\n",
        "# X_train = tokenizer.texts_to_sequences(X_train)\n",
        "\n",
        "tokenizer = Tokenizer(vocab_size) \n",
        "tokenizer.fit_on_texts(z_train)\n",
        "z_train = tokenizer.texts_to_sequences(z_train)"
      ],
      "metadata": {
        "id": "GMJpSm23gOLJ"
      },
      "execution_count": null,
      "outputs": []
    },
    {
      "cell_type": "code",
      "source": [
        "print(z_train[:3])"
      ],
      "metadata": {
        "id": "M6kiFg4LgQRh"
      },
      "execution_count": null,
      "outputs": []
    },
    {
      "cell_type": "code",
      "source": [
        "y_train = np.array(df['리뷰 내용'])"
      ],
      "metadata": {
        "id": "ptdJD2YpgRNJ"
      },
      "execution_count": null,
      "outputs": []
    },
    {
      "cell_type": "code",
      "source": [
        "#패딩\n",
        "print('리뷰의 최대 길이 :',max(len(review) for review in z_train))\n",
        "print('리뷰의 평균 길이 :',sum(map(len, z_train))/len(z_train))\n",
        "plt.hist([len(review) for review in z_train], bins=50)\n",
        "plt.xlabel('length of samples')\n",
        "plt.ylabel('number of samples')\n",
        "plt.show()"
      ],
      "metadata": {
        "id": "O_Y31FGGhWRA"
      },
      "execution_count": null,
      "outputs": []
    },
    {
      "cell_type": "code",
      "source": [
        "def below_threshold_len(max_len, nested_list):\n",
        "  count = 0\n",
        "  for sentence in nested_list:\n",
        "    if(len(sentence) <= max_len):\n",
        "        count = count + 1\n",
        "  print('전체 샘플 중 길이가 %s 이하인 샘플의 비율: %s'%(max_len, (count / len(nested_list))*100))"
      ],
      "metadata": {
        "id": "mlyF8TphlBBQ"
      },
      "execution_count": null,
      "outputs": []
    },
    {
      "cell_type": "code",
      "source": [
        "max_len = 10\n",
        "below_threshold_len(max_len, X_train)"
      ],
      "metadata": {
        "id": "p-l7q3b9lF1w"
      },
      "execution_count": null,
      "outputs": []
    },
    {
      "cell_type": "code",
      "source": [
        "#형태소 분석\n",
        "def get_pos (z_train):\n",
        "  tagger = Okt()\n",
        "  pos = tagger.pos(z_train)\n",
        "\n",
        "  result = []\n",
        "\n",
        "  for a1 in pos:\n",
        "    result.append(f'{a1[0]}/{a1[1]}')\n",
        "  return result"
      ],
      "metadata": {
        "id": "3_gwJof6wcFQ"
      },
      "execution_count": null,
      "outputs": []
    },
    {
      "cell_type": "code",
      "source": [
        "#형태소 백터 생성\n",
        "index_vectorizer = CountVectorizer(tokenizer=lambda z_train : get_pos(z_train))\n",
        "z_train = index_vectorizer.fit_transform(df[\"리뷰 내용\"].tolist())\n",
        "z_train"
      ],
      "metadata": {
        "id": "OLfVWnaDwmrO"
      },
      "execution_count": null,
      "outputs": []
    },
    {
      "cell_type": "code",
      "source": [
        "index_vectorizer.vocabulary_"
      ],
      "metadata": {
        "id": "OP6QC6lc8X11"
      },
      "execution_count": null,
      "outputs": []
    },
    {
      "cell_type": "code",
      "source": [
        "print(df[\"리뷰 내용\"][0])\n",
        "print(df[\"y\"[0]])\n",
        "print(z_train[0])"
      ],
      "metadata": {
        "colab": {
          "base_uri": "https://localhost:8080/"
        },
        "id": "n93lMN1w81PV",
        "outputId": "896cdf37-381c-4d83-ce7a-af3c6c41c93c"
      },
      "execution_count": null,
      "outputs": [
        {
          "output_type": "stream",
          "name": "stdout",
          "text": [
            "깨끗하고 좋아요\n",
            "0        1\n",
            "1        1\n",
            "2        1\n",
            "3        1\n",
            "4        1\n",
            "        ..\n",
            "27598    1\n",
            "27599    1\n",
            "27600    1\n",
            "27601    1\n",
            "27602    1\n",
            "Name: y, Length: 27603, dtype: int64\n",
            "  (0, 4545)\t1\n",
            "  (0, 27267)\t1\n"
          ]
        }
      ]
    },
    {
      "cell_type": "code",
      "source": [
        "#형태서 백터를 tf-idf백터로 생성\n",
        "tfidf_vectorizer =TfidfTransformer()\n",
        "z_train = tfidf_vectorizer.fit_transform(z_train)\n",
        "print(z_train[0])"
      ],
      "metadata": {
        "id": "qQHhlrn59Aus"
      },
      "execution_count": null,
      "outputs": []
    },
    {
      "cell_type": "code",
      "source": [
        "#학습데이터 생성\n",
        "y = df[\"y\"]\n",
        "\n",
        "params = {\n",
        "    \"n_neighbors\" : list(range(1,11))\n",
        "}\n",
        "\n",
        "#사용할 모델 객체 생성\n",
        "model1 = KNeighborsClassifier()\n",
        "\n",
        "\n",
        "#최적의 하이퍼 파라미터 찾기\n",
        "kfold = KFold(n_splits=10, shuffle=True, random_state=1)\n",
        "grid_clf1 = GridSearchCV(model1, param_grid = params, scoring=\"f1\", cv=kfold)\n",
        "grid_clf1.fit(z_train,y)\n",
        "\n",
        "print(f\"최적의 하이퍼 파아미터 : {grid_clf1.best_params_}\")\n",
        "print(f\"최적의 모델 평균 성능 : {grid_clf1.best_score_}\")"
      ],
      "metadata": {
        "colab": {
          "base_uri": "https://localhost:8080/"
        },
        "id": "5M0SkT3y9qj-",
        "outputId": "18644f76-5083-4921-f7cb-4271641a0377"
      },
      "execution_count": null,
      "outputs": [
        {
          "output_type": "stream",
          "name": "stdout",
          "text": [
            "최적의 하이퍼 파아미터 : {'n_neighbors': 3}\n",
            "최적의 모델 평균 성능 : 0.9705868992842485\n"
          ]
        }
      ]
    },
    {
      "cell_type": "code",
      "source": [
        "#LogisticRegression/  PENALTY : 규제의 종류 11,12, ELASTICENTT, NONE/  C: 규제 강도\n",
        "params = {\n",
        "  'penalty' : ['11','12', 'elasticnet', 'none'],\n",
        "  'C' : [0.0001,0.001,0.01,0.1,1,10,100,1000,1000]   \n",
        "}\n",
        "model2 = LogisticRegression()\n",
        "\n",
        "grid_clf2 = GridSearchCV(model2, param_grid=params, scoring='f1', cv=kfold)\n",
        "grid_clf2.fit(z_train,y)\n",
        "\n",
        "print(f\"최적의 하이퍼 파아미터 : {grid_clf2.best_params_}\")\n",
        "print(f\"최적의 모델 평균 성능 : {grid_clf2.best_score_}\")"
      ],
      "metadata": {
        "id": "iU5DglZN-8U1"
      },
      "execution_count": null,
      "outputs": []
    },
    {
      "cell_type": "code",
      "source": [
        "print(grid_clf1.best_score_)\n",
        "print(grid_clf2.best_score_)\n",
        "#print(grid_clf3.best_score_)"
      ],
      "metadata": {
        "id": "fvS9GQMhAXKk"
      },
      "execution_count": null,
      "outputs": []
    },
    {
      "cell_type": "code",
      "source": [
        "#중요 단어 파악\n",
        "model = grid_clf2.best_estimator_\n",
        "\n",
        "#상관계수 구하기\n",
        "a1 = (model.coef_[0])\n",
        "display(a1)\n",
        "len(a1)"
      ],
      "metadata": {
        "id": "bAS040uOAZJ9"
      },
      "execution_count": null,
      "outputs": []
    },
    {
      "cell_type": "code",
      "source": [
        "a2 = list(enumerate(a1))\n",
        "a2\n",
        "\n"
      ],
      "metadata": {
        "id": "MBCwjIlvAhKW"
      },
      "execution_count": null,
      "outputs": []
    },
    {
      "cell_type": "code",
      "source": [
        "a3 = []\n",
        "for idx, value in a2:\n",
        "  a3.append((value, idx))\n",
        "\n",
        "a3"
      ],
      "metadata": {
        "id": "4UcoC58DAjTl"
      },
      "execution_count": null,
      "outputs": []
    },
    {
      "cell_type": "code",
      "source": [
        "coef_pos_index = sorted(a3, reverse=True)\n",
        "coef_pos_index"
      ],
      "metadata": {
        "id": "jXLn6xrhAntE"
      },
      "execution_count": null,
      "outputs": []
    },
    {
      "cell_type": "code",
      "source": [
        "text_data_dict= {}\n",
        "\n",
        "for key in index_vectorizer.vocabulary_:\n",
        "  value = index_vectorizer.vocabulary_[key]\n",
        "  text_data_dict[value] = key\n",
        "text_data_dict"
      ],
      "metadata": {
        "id": "z1kD6a6vAqRk"
      },
      "execution_count": null,
      "outputs": []
    },
    {
      "cell_type": "code",
      "source": [
        "#긍정 어조 : 상관계수가 1에 가장큰\n",
        "top50 = coef_pos_index[:150]\n",
        "top50 "
      ],
      "metadata": {
        "id": "La5AvniGAuDU"
      },
      "execution_count": null,
      "outputs": []
    },
    {
      "cell_type": "code",
      "source": [
        "for value, idx in top50 : \n",
        "\tprint(text_data_dict[idx])"
      ],
      "metadata": {
        "id": "Uzc8DG9JA2tM"
      },
      "execution_count": null,
      "outputs": []
    },
    {
      "cell_type": "code",
      "source": [
        "text_data_dict"
      ],
      "metadata": {
        "id": "DrXxtxQJHVKk"
      },
      "execution_count": null,
      "outputs": []
    },
    {
      "cell_type": "code",
      "source": [
        "[text_data_dict]"
      ],
      "metadata": {
        "id": "6_jFpC4WNlXT"
      },
      "execution_count": null,
      "outputs": []
    },
    {
      "cell_type": "code",
      "source": [
        "#긍정 1과 부정0의 그래프\n",
        "df[index_vectorizer.vocabulary_].value_counts().plot(kind = 'bar')"
      ],
      "metadata": {
        "id": "1IA_k0LdOEMa"
      },
      "execution_count": null,
      "outputs": []
    },
    {
      "cell_type": "code",
      "source": [],
      "metadata": {
        "id": "IsvQuVPgQuei"
      },
      "execution_count": null,
      "outputs": []
    }
  ]
}