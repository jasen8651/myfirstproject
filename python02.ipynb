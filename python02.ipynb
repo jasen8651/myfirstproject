{
  "nbformat": 4,
  "nbformat_minor": 0,
  "metadata": {
    "colab": {
      "provenance": [],
      "authorship_tag": "ABX9TyPMiZhwvqNWDI8nHtSJD9NE",
      "include_colab_link": true
    },
    "kernelspec": {
      "name": "python3",
      "display_name": "Python 3"
    },
    "language_info": {
      "name": "python"
    }
  },
  "cells": [
    {
      "cell_type": "markdown",
      "metadata": {
        "id": "view-in-github",
        "colab_type": "text"
      },
      "source": [
        "<a href=\"https://colab.research.google.com/github/jasen8651/python001/blob/master/python02.ipynb\" target=\"_parent\"><img src=\"https://colab.research.google.com/assets/colab-badge.svg\" alt=\"Open In Colab\"/></a>"
      ]
    },
    {
      "cell_type": "code",
      "execution_count": 5,
      "metadata": {
        "id": "47WujV6rruzP"
      },
      "outputs": [],
      "source": [
        "a=1\n"
      ]
    },
    {
      "cell_type": "code",
      "source": [
        "if a>0:\n",
        "  print('yse')\n",
        "  print('ok')\n",
        "else:\n",
        "  print('no')"
      ],
      "metadata": {
        "colab": {
          "base_uri": "https://localhost:8080/"
        },
        "id": "6X_nUcx3shW-",
        "outputId": "3f162366-ec32-48b7-b973-77458d4c2ce7"
      },
      "execution_count": 6,
      "outputs": [
        {
          "output_type": "stream",
          "name": "stdout",
          "text": [
            "yse\n",
            "ok\n"
          ]
        }
      ]
    },
    {
      "cell_type": "code",
      "source": [
        "jumsu=55\n",
        "if jumsu >= 80:\n",
        "    print('상')\n",
        "elif jumsu >=60:\n",
        "    print('중')\n",
        "else:\n",
        "    print('하')"
      ],
      "metadata": {
        "colab": {
          "base_uri": "https://localhost:8080/"
        },
        "id": "SGTJgAEmtVN0",
        "outputId": "d89927c8-41f0-4445-f4fd-def09039cd7a"
      },
      "execution_count": 10,
      "outputs": [
        {
          "output_type": "stream",
          "name": "stdout",
          "text": [
            "하\n"
          ]
        }
      ]
    },
    {
      "cell_type": "code",
      "source": [
        "a=0.0\n",
        "if a:\n",
        "  print('yes')\n",
        "else:\n",
        "  print('no')\n",
        "##0은 숫자가 없는 것과 같다 ->거짓\n",
        "\n",
        "#none은 객체가 없다  거짓\n",
        "a= None\n",
        "if a:\n",
        "  print('yes')\n",
        "else:\n",
        "  print('no')\n",
        "\n",
        "#비어있는 dict은 없는 것과 같다.\n",
        "a ={}\n",
        "if a:\n",
        "  print('yes')\n",
        "else:\n",
        "  print('no')\n",
        "\n"
      ],
      "metadata": {
        "colab": {
          "base_uri": "https://localhost:8080/"
        },
        "id": "vc8pdm_xts0l",
        "outputId": "9b54664b-3091-487b-ee1f-4bbb20beffe7"
      },
      "execution_count": 14,
      "outputs": [
        {
          "output_type": "stream",
          "name": "stdout",
          "text": [
            "no\n",
            "no\n",
            "no\n"
          ]
        }
      ]
    },
    {
      "cell_type": "code",
      "source": [
        "#인스턴스 방식으로 값을 만들때 괄호안에 비어 있으면 비어있는 값을 만듬\n",
        "a = int()\n",
        "b=float()\n",
        "c=complex()\n",
        "d=list()\n",
        "\n",
        "if a:\n",
        "  print('yes')\n",
        "else:\n",
        "  print('no')\n",
        "\n",
        "3<2 or 7<5\n",
        "\n",
        "3 and 4\n",
        "\"\"and 4\n",
        "#and 는 앞이 거짓이면 앞에 값을 반환, 비어있으면 문자열 없는것과 같다.\n",
        "\n",
        "#or은 and의 반대, 앞이 참이면 앞,  거짓이면 뒤에값을 반환\n",
        "\n",
        "3 or 4\n",
        "\n",
        "##if a=4:  if조건에 문장 사용 불가\n",
        "\n",
        "for v in[1,2,3,4,5]:\n",
        "  print(v)\n",
        "\n",
        "for v in('naver'):\n",
        "  print(v)"
      ],
      "metadata": {
        "colab": {
          "base_uri": "https://localhost:8080/"
        },
        "id": "t7Vld-xivuEV",
        "outputId": "db6494f9-a74d-44d9-8461-de9c22588996"
      },
      "execution_count": 25,
      "outputs": [
        {
          "output_type": "stream",
          "name": "stdout",
          "text": [
            "no\n",
            "1\n",
            "2\n",
            "3\n",
            "4\n",
            "5\n",
            "n\n",
            "a\n",
            "v\n",
            "e\n",
            "r\n"
          ]
        }
      ]
    }
  ]
}