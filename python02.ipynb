{
  "nbformat": 4,
  "nbformat_minor": 0,
  "metadata": {
    "colab": {
      "provenance": [],
      "authorship_tag": "ABX9TyMUO82mJhCwbowkwvq009hl",
      "include_colab_link": true
    },
    "kernelspec": {
      "name": "python3",
      "display_name": "Python 3"
    },
    "language_info": {
      "name": "python"
    }
  },
  "cells": [
    {
      "cell_type": "markdown",
      "metadata": {
        "id": "view-in-github",
        "colab_type": "text"
      },
      "source": [
        "<a href=\"https://colab.research.google.com/github/jasen8651/python001/blob/master/python02.ipynb\" target=\"_parent\"><img src=\"https://colab.research.google.com/assets/colab-badge.svg\" alt=\"Open In Colab\"/></a>"
      ]
    },
    {
      "cell_type": "code",
      "execution_count": 5,
      "metadata": {
        "id": "47WujV6rruzP"
      },
      "outputs": [],
      "source": [
        "a=1\n"
      ]
    },
    {
      "cell_type": "code",
      "source": [
        "if a>0:\n",
        "  print('yse')\n",
        "  print('ok')\n",
        "else:\n",
        "  print('no')"
      ],
      "metadata": {
        "colab": {
          "base_uri": "https://localhost:8080/"
        },
        "id": "6X_nUcx3shW-",
        "outputId": "3f162366-ec32-48b7-b973-77458d4c2ce7"
      },
      "execution_count": 6,
      "outputs": [
        {
          "output_type": "stream",
          "name": "stdout",
          "text": [
            "yse\n",
            "ok\n"
          ]
        }
      ]
    },
    {
      "cell_type": "code",
      "source": [
        "jumsu=55\n",
        "if jumsu >= 80:\n",
        "    print('상')\n",
        "elif jumsu >=60:\n",
        "    print('중')\n",
        "else:\n",
        "    print('하')"
      ],
      "metadata": {
        "colab": {
          "base_uri": "https://localhost:8080/"
        },
        "id": "SGTJgAEmtVN0",
        "outputId": "d89927c8-41f0-4445-f4fd-def09039cd7a"
      },
      "execution_count": 10,
      "outputs": [
        {
          "output_type": "stream",
          "name": "stdout",
          "text": [
            "하\n"
          ]
        }
      ]
    },
    {
      "cell_type": "code",
      "source": [
        "a=0.0\n",
        "if a:\n",
        "  print('yes')\n",
        "else:\n",
        "  print('no')\n",
        "##0은 숫자가 없는 것과 같다 ->거짓\n",
        "\n",
        "#none은 객체가 없다  거짓\n",
        "a= None\n",
        "if a:\n",
        "  print('yes')\n",
        "else:\n",
        "  print('no')\n",
        "\n",
        "#비어있는 dict은 없는 것과 같다.\n",
        "a ={}\n",
        "if a:\n",
        "  print('yes')\n",
        "else:\n",
        "  print('no')\n",
        "\n"
      ],
      "metadata": {
        "colab": {
          "base_uri": "https://localhost:8080/"
        },
        "id": "vc8pdm_xts0l",
        "outputId": "9b54664b-3091-487b-ee1f-4bbb20beffe7"
      },
      "execution_count": 14,
      "outputs": [
        {
          "output_type": "stream",
          "name": "stdout",
          "text": [
            "no\n",
            "no\n",
            "no\n"
          ]
        }
      ]
    },
    {
      "cell_type": "code",
      "source": [
        "#인스턴스 방식으로 값을 만들때 괄호안에 비어 있으면 비어있는 값을 만듬\n",
        "a = int()\n",
        "b=float()\n",
        "c=complex()\n",
        "d=list()\n",
        "\n",
        "if a:\n",
        "  print('yes')\n",
        "else:\n",
        "  print('no')\n",
        "\n",
        "3<2 or 7<5\n",
        "\n",
        "3 and 4\n",
        "\"\"and 4\n",
        "#and 는 앞이 거짓이면 앞에 값을 반환, 비어있으면 문자열 없는것과 같다.\n",
        "\n",
        "#or은 and의 반대, 앞이 참이면 앞,  거짓이면 뒤에값을 반환\n",
        "\n",
        "3 or 4\n",
        "\n",
        "##if a=4:  if조건에 문장 사용 불가\n",
        "\n",
        "for v in[1,2,3,4,5]:\n",
        "  print(v)\n",
        "\n",
        "for v in('naver'):\n",
        "  print(v)\n",
        "\n",
        "t=[('one',1), ('two',2)]\n",
        "for k, n in t:\n",
        "  print('{0} : {1}.format(k,v)')"
      ],
      "metadata": {
        "colab": {
          "base_uri": "https://localhost:8080/"
        },
        "id": "t7Vld-xivuEV",
        "outputId": "803b5feb-0226-4fda-da9d-94a3e9ee75c8"
      },
      "execution_count": 27,
      "outputs": [
        {
          "output_type": "stream",
          "name": "stdout",
          "text": [
            "no\n",
            "1\n",
            "2\n",
            "3\n",
            "4\n",
            "5\n",
            "n\n",
            "a\n",
            "v\n",
            "e\n",
            "r\n",
            "{0} : {1}.format(k,v)\n",
            "{0} : {1}.format(k,v)\n"
          ]
        }
      ]
    },
    {
      "cell_type": "code",
      "source": [
        "dic={'a':1, 'b':2}\n",
        "for k in dic:\n",
        "  print('{0}:{1}'.format(k, dic[k]))\n",
        "\n",
        "  "
      ],
      "metadata": {
        "colab": {
          "base_uri": "https://localhost:8080/",
          "height": 228
        },
        "id": "Rdfwh3iX6RJ-",
        "outputId": "c6105d9d-7f8e-4054-8aab-2bf2baa653c8"
      },
      "execution_count": 34,
      "outputs": [
        {
          "output_type": "stream",
          "name": "stdout",
          "text": [
            "a:1\n"
          ]
        },
        {
          "output_type": "error",
          "ename": "AttributeError",
          "evalue": "ignored",
          "traceback": [
            "\u001b[0;31m---------------------------------------------------------------------------\u001b[0m",
            "\u001b[0;31mAttributeError\u001b[0m                            Traceback (most recent call last)",
            "\u001b[0;32m<ipython-input-34-049354bf3c1e>\u001b[0m in \u001b[0;36m<module>\u001b[0;34m\u001b[0m\n\u001b[1;32m      3\u001b[0m   \u001b[0mprint\u001b[0m\u001b[0;34m(\u001b[0m\u001b[0;34m'{0}:{1}'\u001b[0m\u001b[0;34m.\u001b[0m\u001b[0mformat\u001b[0m\u001b[0;34m(\u001b[0m\u001b[0mk\u001b[0m\u001b[0;34m,\u001b[0m \u001b[0mdic\u001b[0m\u001b[0;34m[\u001b[0m\u001b[0mk\u001b[0m\u001b[0;34m]\u001b[0m\u001b[0;34m)\u001b[0m\u001b[0;34m)\u001b[0m\u001b[0;34m\u001b[0m\u001b[0;34m\u001b[0m\u001b[0m\n\u001b[1;32m      4\u001b[0m \u001b[0;34m\u001b[0m\u001b[0m\n\u001b[0;32m----> 5\u001b[0;31m   \u001b[0mprint\u001b[0m\u001b[0;34m(\u001b[0m\u001b[0mlen\u001b[0m\u001b[0;34m(\u001b[0m\u001b[0mdir\u001b[0m\u001b[0;34m(\u001b[0m\u001b[0mdict\u001b[0m\u001b[0;34m)\u001b[0m\u001b[0;34m)\u001b[0m\u001b[0;34m.\u001b[0m \u001b[0mlen\u001b[0m\u001b[0;34m(\u001b[0m\u001b[0mdir\u001b[0m\u001b[0;34m(\u001b[0m\u001b[0mdic\u001b[0m\u001b[0;34m)\u001b[0m\u001b[0;34m)\u001b[0m\u001b[0;34m)\u001b[0m\u001b[0;34m\u001b[0m\u001b[0;34m\u001b[0m\u001b[0m\n\u001b[0m",
            "\u001b[0;31mAttributeError\u001b[0m: 'int' object has no attribute 'len'"
          ]
        }
      ]
    },
    {
      "cell_type": "code",
      "source": [
        "print(len(dir(dict)), len(dir(dic)))\n",
        "\n",
        "dic.__doc__\n",
        "\n",
        "\n",
        "##for문\n",
        "a =10;\n",
        "while a>10:\n",
        "  a-=1\n",
        "  print(a)\n",
        "else:\n",
        "  print('end')\n",
        "###ㄹㄹㄹ\n",
        "##반복문에서 else는 반복문이 완벽라게 끝났을 때 실행된다. 대부부느이 프로그해밍 언어는 whlie for문 지원\n"
      ],
      "metadata": {
        "colab": {
          "base_uri": "https://localhost:8080/"
        },
        "id": "gLdlxSj08GVO",
        "outputId": "ece14cee-7056-43a7-c518-06481976374f"
      },
      "execution_count": 40,
      "outputs": [
        {
          "output_type": "stream",
          "name": "stdout",
          "text": [
            "41 41\n",
            "end\n"
          ]
        }
      ]
    },
    {
      "cell_type": "code",
      "source": [
        "a=10\n",
        "while a>1:\n",
        "  a-=1\n",
        "  if a==5:\n",
        "    break\n",
        "else:\n",
        " print('end')\n",
        " ## 브레이크는 반복문을 중단시킴,  브레이크가 실행되면 반복문이 완벽하게 실행되지 아니므로 else문이 실행되지 않았ㄱ다.\n",
        " "
      ],
      "metadata": {
        "id": "Aqa85urz_WDm"
      },
      "execution_count": 43,
      "outputs": []
    },
    {
      "cell_type": "code",
      "source": [
        "a=10\n",
        "while a>1:\n",
        "  a-=1\n",
        "  if a==5:\n",
        "    continue\n",
        "  print(a)\n",
        "else:\n",
        "  print('end')\n",
        "\n",
        "  ##continue는 다음 루프를 바로 넘어감,  반복문을 중단하지 않으므로 else문 실행\n",
        "\n",
        "##range함수 : for문과 같이 사용, 특정한 범위 숫자 나열하는 함수\n",
        "for i in range(1,6):\n",
        "  print(i)\n",
        "\n",
        "##enumertr함수 : 인덱스와 객체를 동시에 저장할 수있는 특징을 가진 for문을 좀 더 효율적으로 사용하기 위한 함수\n",
        "for k,v in enumerate(['apple', 'naver','microsoft']):\n",
        "  print('{0}:{1}'.format(k,v))\n",
        "\n",
        "##zip 묶음\n",
        "a= [1,2,3,4,5]\n",
        "b =['a','b','c','d','e']\n",
        "for x,y in zip (a,b):\n",
        "  print(x,y)\n",
        "  t= x,y\n",
        "print(type(t))\n",
        "\n",
        "##items\n",
        "dic = {'네이버': 'www.naver.com', '파이썬':'www.python.org'}\n",
        "for k,v in dic.items():\n",
        "  print('{0}:{1}'.format(k,v))\n",
        "  m=k,v\n",
        "  print(type(m))\n",
        "\n",
        "\n",
        "##예외처리\n",
        "a,b =5,0\n",
        "c= a/b\n",
        "4 +spam *3"
      ],
      "metadata": {
        "id": "RPW_NHFW_9EW"
      },
      "execution_count": null,
      "outputs": []
    },
    {
      "cell_type": "code",
      "source": [],
      "metadata": {
        "colab": {
          "base_uri": "https://localhost:8080/",
          "height": 173
        },
        "id": "gUXCceHqPhy2",
        "outputId": "010dec84-74d6-4238-8c39-dd5c50564b63"
      },
      "execution_count": 54,
      "outputs": [
        {
          "output_type": "error",
          "ename": "NameError",
          "evalue": "ignored",
          "traceback": [
            "\u001b[0;31m---------------------------------------------------------------------------\u001b[0m",
            "\u001b[0;31mNameError\u001b[0m                                 Traceback (most recent call last)",
            "\u001b[0;32m<ipython-input-54-ea05a69f9257>\u001b[0m in \u001b[0;36m<module>\u001b[0;34m\u001b[0m\n\u001b[0;32m----> 1\u001b[0;31m \u001b[0;36m4\u001b[0m \u001b[0;34m+\u001b[0m\u001b[0mspam\u001b[0m \u001b[0;34m*\u001b[0m\u001b[0;36m3\u001b[0m\u001b[0;34m\u001b[0m\u001b[0;34m\u001b[0m\u001b[0m\n\u001b[0m",
            "\u001b[0;31mNameError\u001b[0m: name 'spam' is not defined"
          ]
        }
      ]
    }
  ]
}