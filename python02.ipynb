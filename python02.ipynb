{
  "nbformat": 4,
  "nbformat_minor": 0,
  "metadata": {
    "colab": {
      "provenance": [],
      "authorship_tag": "ABX9TyNvwbwx1wxeXCd4+hZkRuZ6",
      "include_colab_link": true
    },
    "kernelspec": {
      "name": "python3",
      "display_name": "Python 3"
    },
    "language_info": {
      "name": "python"
    }
  },
  "cells": [
    {
      "cell_type": "markdown",
      "metadata": {
        "id": "view-in-github",
        "colab_type": "text"
      },
      "source": [
        "<a href=\"https://colab.research.google.com/github/jasen8651/python001/blob/master/python02.ipynb\" target=\"_parent\"><img src=\"https://colab.research.google.com/assets/colab-badge.svg\" alt=\"Open In Colab\"/></a>"
      ]
    },
    {
      "cell_type": "code",
      "execution_count": null,
      "metadata": {
        "id": "47WujV6rruzP"
      },
      "outputs": [],
      "source": [
        "a=1\n"
      ]
    },
    {
      "cell_type": "code",
      "source": [
        "if a>0:\n",
        "  print('yse')\n",
        "  print('ok')\n",
        "else:\n",
        "  print('no')"
      ],
      "metadata": {
        "colab": {
          "base_uri": "https://localhost:8080/"
        },
        "id": "6X_nUcx3shW-",
        "outputId": "3f162366-ec32-48b7-b973-77458d4c2ce7"
      },
      "execution_count": null,
      "outputs": [
        {
          "output_type": "stream",
          "name": "stdout",
          "text": [
            "yse\n",
            "ok\n"
          ]
        }
      ]
    },
    {
      "cell_type": "code",
      "source": [
        "jumsu=55\n",
        "if jumsu >= 80:\n",
        "    print('상')\n",
        "elif jumsu >=60:\n",
        "    print('중')\n",
        "else:\n",
        "    print('하')"
      ],
      "metadata": {
        "colab": {
          "base_uri": "https://localhost:8080/"
        },
        "id": "SGTJgAEmtVN0",
        "outputId": "d89927c8-41f0-4445-f4fd-def09039cd7a"
      },
      "execution_count": null,
      "outputs": [
        {
          "output_type": "stream",
          "name": "stdout",
          "text": [
            "하\n"
          ]
        }
      ]
    },
    {
      "cell_type": "code",
      "source": [
        "a=0.0\n",
        "if a:\n",
        "  print('yes')\n",
        "else:\n",
        "  print('no')\n",
        "##0은 숫자가 없는 것과 같다 ->거짓\n",
        "\n",
        "#none은 객체가 없다  거짓\n",
        "a= None\n",
        "if a:\n",
        "  print('yes')\n",
        "else:\n",
        "  print('no')\n",
        "\n",
        "#비어있는 dict은 없는 것과 같다.\n",
        "a ={}\n",
        "if a:\n",
        "  print('yes')\n",
        "else:\n",
        "  print('no')\n",
        "\n"
      ],
      "metadata": {
        "colab": {
          "base_uri": "https://localhost:8080/"
        },
        "id": "vc8pdm_xts0l",
        "outputId": "9b54664b-3091-487b-ee1f-4bbb20beffe7"
      },
      "execution_count": null,
      "outputs": [
        {
          "output_type": "stream",
          "name": "stdout",
          "text": [
            "no\n",
            "no\n",
            "no\n"
          ]
        }
      ]
    },
    {
      "cell_type": "code",
      "source": [
        "#인스턴스 방식으로 값을 만들때 괄호안에 비어 있으면 비어있는 값을 만듬\n",
        "a = int()\n",
        "b=float()\n",
        "c=complex()\n",
        "d=list()\n",
        "\n",
        "if a:\n",
        "  print('yes')\n",
        "else:\n",
        "  print('no')\n",
        "\n",
        "3<2 or 7<5\n",
        "\n",
        "3 and 4\n",
        "\"\"and 4\n",
        "#and 는 앞이 거짓이면 앞에 값을 반환, 비어있으면 문자열 없는것과 같다.\n",
        "\n",
        "#or은 and의 반대, 앞이 참이면 앞,  거짓이면 뒤에값을 반환\n",
        "\n",
        "3 or 4\n",
        "\n",
        "##if a=4:  if조건에 문장 사용 불가\n",
        "\n",
        "for v in[1,2,3,4,5]:\n",
        "  print(v)\n",
        "\n",
        "for v in('naver'):\n",
        "  print(v)\n",
        "\n",
        "t=[('one',1), ('two',2)]\n",
        "for k, n in t:\n",
        "  print('{0} : {1}.format(k,v)')"
      ],
      "metadata": {
        "colab": {
          "base_uri": "https://localhost:8080/"
        },
        "id": "t7Vld-xivuEV",
        "outputId": "803b5feb-0226-4fda-da9d-94a3e9ee75c8"
      },
      "execution_count": null,
      "outputs": [
        {
          "output_type": "stream",
          "name": "stdout",
          "text": [
            "no\n",
            "1\n",
            "2\n",
            "3\n",
            "4\n",
            "5\n",
            "n\n",
            "a\n",
            "v\n",
            "e\n",
            "r\n",
            "{0} : {1}.format(k,v)\n",
            "{0} : {1}.format(k,v)\n"
          ]
        }
      ]
    },
    {
      "cell_type": "code",
      "source": [
        "dic={'a':1, 'b':2}\n",
        "for k in dic:\n",
        "  print('{0}:{1}'.format(k, dic[k]))\n",
        "\n",
        "  "
      ],
      "metadata": {
        "colab": {
          "base_uri": "https://localhost:8080/",
          "height": 228
        },
        "id": "Rdfwh3iX6RJ-",
        "outputId": "c6105d9d-7f8e-4054-8aab-2bf2baa653c8"
      },
      "execution_count": null,
      "outputs": [
        {
          "output_type": "stream",
          "name": "stdout",
          "text": [
            "a:1\n"
          ]
        },
        {
          "output_type": "error",
          "ename": "AttributeError",
          "evalue": "ignored",
          "traceback": [
            "\u001b[0;31m---------------------------------------------------------------------------\u001b[0m",
            "\u001b[0;31mAttributeError\u001b[0m                            Traceback (most recent call last)",
            "\u001b[0;32m<ipython-input-34-049354bf3c1e>\u001b[0m in \u001b[0;36m<module>\u001b[0;34m\u001b[0m\n\u001b[1;32m      3\u001b[0m   \u001b[0mprint\u001b[0m\u001b[0;34m(\u001b[0m\u001b[0;34m'{0}:{1}'\u001b[0m\u001b[0;34m.\u001b[0m\u001b[0mformat\u001b[0m\u001b[0;34m(\u001b[0m\u001b[0mk\u001b[0m\u001b[0;34m,\u001b[0m \u001b[0mdic\u001b[0m\u001b[0;34m[\u001b[0m\u001b[0mk\u001b[0m\u001b[0;34m]\u001b[0m\u001b[0;34m)\u001b[0m\u001b[0;34m)\u001b[0m\u001b[0;34m\u001b[0m\u001b[0;34m\u001b[0m\u001b[0m\n\u001b[1;32m      4\u001b[0m \u001b[0;34m\u001b[0m\u001b[0m\n\u001b[0;32m----> 5\u001b[0;31m   \u001b[0mprint\u001b[0m\u001b[0;34m(\u001b[0m\u001b[0mlen\u001b[0m\u001b[0;34m(\u001b[0m\u001b[0mdir\u001b[0m\u001b[0;34m(\u001b[0m\u001b[0mdict\u001b[0m\u001b[0;34m)\u001b[0m\u001b[0;34m)\u001b[0m\u001b[0;34m.\u001b[0m \u001b[0mlen\u001b[0m\u001b[0;34m(\u001b[0m\u001b[0mdir\u001b[0m\u001b[0;34m(\u001b[0m\u001b[0mdic\u001b[0m\u001b[0;34m)\u001b[0m\u001b[0;34m)\u001b[0m\u001b[0;34m)\u001b[0m\u001b[0;34m\u001b[0m\u001b[0;34m\u001b[0m\u001b[0m\n\u001b[0m",
            "\u001b[0;31mAttributeError\u001b[0m: 'int' object has no attribute 'len'"
          ]
        }
      ]
    },
    {
      "cell_type": "code",
      "source": [
        "print(len(dir(dict)), len(dir(dic)))\n",
        "\n",
        "dic.__doc__\n",
        "\n",
        "\n",
        "##for문\n",
        "a =10;\n",
        "while a>10:\n",
        "  a-=1\n",
        "  print(a)\n",
        "else:\n",
        "  print('end')\n",
        "###ㄹㄹㄹ\n",
        "##반복문에서 else는 반복문이 완벽라게 끝났을 때 실행된다. 대부부느이 프로그해밍 언어는 whlie for문 지원\n"
      ],
      "metadata": {
        "colab": {
          "base_uri": "https://localhost:8080/"
        },
        "id": "gLdlxSj08GVO",
        "outputId": "ece14cee-7056-43a7-c518-06481976374f"
      },
      "execution_count": null,
      "outputs": [
        {
          "output_type": "stream",
          "name": "stdout",
          "text": [
            "41 41\n",
            "end\n"
          ]
        }
      ]
    },
    {
      "cell_type": "code",
      "source": [
        "a=10\n",
        "while a>1:\n",
        "  a-=1\n",
        "  if a==5:\n",
        "    break\n",
        "else:\n",
        " print('end')\n",
        " ## 브레이크는 반복문을 중단시킴,  브레이크가 실행되면 반복문이 완벽하게 실행되지 아니므로 else문이 실행되지 않았ㄱ다.\n",
        " "
      ],
      "metadata": {
        "id": "Aqa85urz_WDm"
      },
      "execution_count": null,
      "outputs": []
    },
    {
      "cell_type": "code",
      "source": [
        "a=10\n",
        "while a>1:\n",
        "  a-=1\n",
        "  if a==5:\n",
        "    continue\n",
        "  print(a)\n",
        "else:\n",
        "  print('end')\n",
        "\n",
        "  ##continue는 다음 루프를 바로 넘어감,  반복문을 중단하지 않으므로 else문 실행\n",
        "\n",
        "##range함수 : for문과 같이 사용, 특정한 범위 숫자 나열하는 함수\n",
        "for i in range(1,6):\n",
        "  print(i)\n",
        "\n",
        "##enumertr함수 : 인덱스와 객체를 동시에 저장할 수있는 특징을 가진 for문을 좀 더 효율적으로 사용하기 위한 함수\n",
        "for k,v in enumerate(['apple', 'naver','microsoft']):\n",
        "  print('{0}:{1}'.format(k,v))\n",
        "\n",
        "##zip 묶음\n",
        "a= [1,2,3,4,5]\n",
        "b =['a','b','c','d','e']\n",
        "for x,y in zip (a,b):\n",
        "  print(x,y)\n",
        "  t= x,y\n",
        "print(type(t))\n",
        "\n",
        "##items\n",
        "dic = {'네이버': 'www.naver.com', '파이썬':'www.python.org'}\n",
        "for k,v in dic.items():\n",
        "  print('{0}:{1}'.format(k,v))\n",
        "  m=k,v\n",
        "  print(type(m))\n",
        "\n",
        "\n",
        "##예외처리\n",
        "a,b =5,0\n",
        "c= a/b\n",
        "4 +spam *3\n",
        "\n",
        "int(3)**int('abc')"
      ],
      "metadata": {
        "id": "RPW_NHFW_9EW"
      },
      "execution_count": null,
      "outputs": []
    },
    {
      "cell_type": "code",
      "source": [
        "#예외 처리 2\n",
        "##try ~except : try절 안에 문제 발생 가능성이있는 코드 베제, excepot절에는 문제 발생시 뒤처리 하는 코드 블록 배치\n",
        "## 복수개의 except : try 블록 안에서 여러 종류의 예외가 발생하는 경우에 사용\n",
        "## 예외의 인스턴스를 활용하는 방법 : as문사용\n",
        "my_list=[1,2,3]\n",
        "\n",
        "try:\n",
        "  print(\"첨자를 입력하아\")\n",
        "  index= int(input())\n",
        "  print(my_list[index]/0)\n",
        "except ZeroDivisionError:\n",
        "  print(\"0으로 나눌수 없다\")\n",
        "except IndexError:\n",
        "  print(\"잘못된 첨자\")\n",
        "\n",
        "my_list = [1,2,3]\n",
        "try:\n",
        "  print(\"첨자 입력\")\n",
        "  index = int(input())\n",
        "  print(my_list[index]/0)\n",
        "except ZeroDivisionError as err:\n",
        "  print(\"0으로 나눌수 없다.({0})\".format(err))\n",
        "except IndexError as err:\n",
        " print(\"잘못된 첨자.({0})\".format(err))\n",
        "\n",
        "## try~ except~ else : try와 함께 사용하는 else절은 try절에 있는 코드 블록 실행중 아무런 예어ㅚ가 일어나지 않으면 실행\n",
        "\n",
        "\n"
      ],
      "metadata": {
        "colab": {
          "base_uri": "https://localhost:8080/",
          "height": 137
        },
        "id": "gUXCceHqPhy2",
        "outputId": "7e7deddb-4f35-40d3-912e-3ba99ad8c8a6"
      },
      "execution_count": null,
      "outputs": [
        {
          "output_type": "error",
          "ename": "SyntaxError",
          "evalue": "ignored",
          "traceback": [
            "\u001b[0;36m  File \u001b[0;32m\"<ipython-input-60-98d5631101ce>\"\u001b[0;36m, line \u001b[0;32m34\u001b[0m\n\u001b[0;31m    else:\u001b[0m\n\u001b[0m    ^\u001b[0m\n\u001b[0;31mSyntaxError\u001b[0m\u001b[0;31m:\u001b[0m invalid syntax\n"
          ]
        }
      ]
    },
    {
      "cell_type": "code",
      "source": [
        "##raise : 개발자가 의도적으로 예외를 발생시켜야 하는 경우에 사용, 해당예외를 단순히 발생시키거나 예뢰 발생시 필요한 정보를 같이 전달하기 위해 인자로 넘김\n",
        "def RaiseErrorFunc():\n",
        "  raise NameError('nameerror의 인자')\n",
        "\n",
        "def PropagateError():\n",
        "  try:\n",
        "    RaiseErrorFunc()\n",
        "  except:\n",
        "    print('에러 전달 이전에 먼제 이 메시지가 먼저 출력')\n",
        "\n",
        "  PropagateError()\n",
        "\n",
        "###function\n",
        "\n",
        "def oroc():\n",
        "  pass # pass는 구현을 안할 때 사용\n",
        "  ###callable : 이름 뒤에 괄호를 붙이는 것을 호출, 이름뒤에 괄호를 붙일수있는것을 callable이다.\n",
        "\n",
        "list =3\n",
        "list()\n",
        "\n"
      ],
      "metadata": {
        "colab": {
          "base_uri": "https://localhost:8080/",
          "height": 246
        },
        "id": "b9elvdqfdHq2",
        "outputId": "d816b65f-cabb-4093-ef1e-2f6f912d522a"
      },
      "execution_count": null,
      "outputs": [
        {
          "output_type": "error",
          "ename": "TypeError",
          "evalue": "ignored",
          "traceback": [
            "\u001b[0;31m---------------------------------------------------------------------------\u001b[0m",
            "\u001b[0;31mTypeError\u001b[0m                                 Traceback (most recent call last)",
            "\u001b[0;32m<ipython-input-67-5c7dc1f9898f>\u001b[0m in \u001b[0;36m<module>\u001b[0;34m\u001b[0m\n\u001b[1;32m     18\u001b[0m \u001b[0;34m\u001b[0m\u001b[0m\n\u001b[1;32m     19\u001b[0m \u001b[0mlist\u001b[0m \u001b[0;34m=\u001b[0m\u001b[0;36m3\u001b[0m\u001b[0;34m\u001b[0m\u001b[0;34m\u001b[0m\u001b[0m\n\u001b[0;32m---> 20\u001b[0;31m \u001b[0mlist\u001b[0m\u001b[0;34m(\u001b[0m\u001b[0;34m)\u001b[0m\u001b[0;34m\u001b[0m\u001b[0;34m\u001b[0m\u001b[0m\n\u001b[0m\u001b[1;32m     21\u001b[0m \u001b[0;34m\u001b[0m\u001b[0m\n\u001b[1;32m     22\u001b[0m \u001b[0;32mdef\u001b[0m \u001b[0mprn\u001b[0m\u001b[0;34m(\u001b[0m\u001b[0;34m)\u001b[0m\u001b[0;34m:\u001b[0m\u001b[0;34m\u001b[0m\u001b[0;34m\u001b[0m\u001b[0m\n",
            "\u001b[0;31mTypeError\u001b[0m: 'int' object is not callable"
          ]
        }
      ]
    },
    {
      "cell_type": "code",
      "source": [
        "def prn():\n",
        "  return 1\n",
        "\n",
        "  prn()\n",
        "\n",
        "  #python버전확인\n",
        "  import sys\n",
        "  sys.version"
      ],
      "metadata": {
        "id": "dYZO7JtgoMx2"
      },
      "execution_count": null,
      "outputs": []
    },
    {
      "cell_type": "code",
      "source": [
        "import keyword\n",
        "from IPython.core.completer import position_to_cursor\n",
        "a=3 \n",
        "callable(a)\n",
        "\n",
        "\n",
        "##매개변수, 인자, \n",
        "##position :  함수 호출 선언 시 파라미터의 순서와 호출할떼 인자의 입력 순서로 매칭\n",
        "## keyword : 순서와 관계없이  파라미터 이름에 따라 대입\n",
        "##  position&&keyword: \n",
        "##  positition only :\n",
        "## keyword only :\n",
        "\n"
      ],
      "metadata": {
        "colab": {
          "base_uri": "https://localhost:8080/"
        },
        "id": "obdbE2_DlI7Q",
        "outputId": "8298ced9-1464-4cd1-f2fb-cc3ebdd1c1eb"
      },
      "execution_count": null,
      "outputs": [
        {
          "output_type": "execute_result",
          "data": {
            "text/plain": [
              "False"
            ]
          },
          "metadata": {},
          "execution_count": 70
        }
      ]
    },
    {
      "cell_type": "code",
      "source": [
        "  #python버전확인\n",
        "##  import sys\n",
        " ## sys.version"
      ],
      "metadata": {
        "colab": {
          "base_uri": "https://localhost:8080/",
          "height": 35
        },
        "id": "h5zbSEQhp7Qv",
        "outputId": "a22dec0a-a3c0-4c82-ffc4-96ba0577c392"
      },
      "execution_count": null,
      "outputs": [
        {
          "output_type": "execute_result",
          "data": {
            "text/plain": [
              "'3.8.15 (default, Oct 12 2022, 19:14:39) \\n[GCC 7.5.0]'"
            ],
            "application/vnd.google.colaboratory.intrinsic+json": {
              "type": "string"
            }
          },
          "metadata": {},
          "execution_count": 73
        }
      ]
    },
    {
      "cell_type": "code",
      "source": [
        "#dir(str)\n",
        "#dir(list)\n",
        "#dir(tuple)\n",
        "#dir(set)\n",
        "#dir()\n",
        "#dir(dict)\n",
        "\n",
        "#함수\n",
        "a= 3\n",
        "callable(a)\n",
        "\n",
        "\n",
        "set =3;\n",
        "del set\n",
        "set()\n",
        "\n",
        "#def  한번 키워드 방식을 사용하면 순서를 바꿀수없다.\n",
        "def proc(a,b):\n",
        "  return a,b\n",
        "  proc(2,4)\n",
        "\n",
        "\n",
        "##proc(4, c=6, b=4)\n",
        "### keyword only : 인자를 keyword방식으로만 입력하도록 강제하는 방식이다.*이후로는 키워드 방식만 가능\n",
        "def proc(*, a,b,c) :\n",
        "  return a,b,c\n",
        "\n",
        "proc(a=3, c=5, b=4)\n",
        "#proc(3, 5, 4) 오류 발생 타입에러 발생\n"
      ],
      "metadata": {
        "id": "ykHwFoQ7mK2s"
      },
      "execution_count": null,
      "outputs": []
    },
    {
      "cell_type": "code",
      "source": [
        "#가변 positional : 파라미터 이름에 *를 붙인다, 입력되는 인자이 개수에 상관없이 모두 받아옴\n",
        "def proc(*a):\n",
        "  return a\n",
        "proc()\n",
        "proc(1)\n",
        "proc(1,2)\n",
        "\n",
        "def proc2(*a):\n",
        "  print(type(a))\n",
        "  hap =0\n",
        "  for i in a:\n",
        "    hap += i\n",
        "  return hap\n",
        "proc2(1,3,5)\n",
        "proc2()\n"
      ],
      "metadata": {
        "colab": {
          "base_uri": "https://localhost:8080/"
        },
        "id": "B-d071iYqP69",
        "outputId": "a2f244ba-1726-4cb9-da26-d67fc6608912"
      },
      "execution_count": null,
      "outputs": [
        {
          "output_type": "stream",
          "name": "stdout",
          "text": [
            "<class 'tuple'>\n",
            "<class 'tuple'>\n"
          ]
        },
        {
          "output_type": "execute_result",
          "data": {
            "text/plain": [
              "0"
            ]
          },
          "metadata": {},
          "execution_count": 29
        }
      ]
    },
    {
      "cell_type": "code",
      "source": [
        "#가변 keyword 파라미터 이름에 ** 붙인다. 입력되는 인자의 개수와 상관 없이 모두 받아옴\n",
        "def proc(**a):\n",
        "  print(type(a))\n",
        "\n",
        "  return a\n",
        "\n",
        "proc()\n",
        "proc(x=2, y=3)\n",
        "\n",
        "proc(x=3, y=1, z=[1,2,3])\n",
        "\n",
        "def proc()"
      ],
      "metadata": {
        "colab": {
          "base_uri": "https://localhost:8080/"
        },
        "id": "DvTtyQnmrfNc",
        "outputId": "8ff2927f-e7ec-49dc-e0d4-45968e4e362e"
      },
      "execution_count": null,
      "outputs": [
        {
          "output_type": "stream",
          "name": "stdout",
          "text": [
            "<class 'dict'>\n",
            "<class 'dict'>\n",
            "<class 'dict'>\n"
          ]
        },
        {
          "output_type": "execute_result",
          "data": {
            "text/plain": [
              "{'x': 3, 'y': 1, 'z': [1, 2, 3]}"
            ]
          },
          "metadata": {},
          "execution_count": 33
        }
      ]
    },
    {
      "cell_type": "code",
      "source": [
        "#가변 keyword/ 가변 positional은 한번만 사용가능, \n",
        "##def proc(*a, *b):\n",
        "##  return a,b\n",
        "#에러\n",
        "#def pric(**a, **b):\n",
        "#  return a,b\n",
        "\n",
        "### return\n",
        "# 함수의 결과값을 넘겨주는 목적, 함수를 강제적으로  종료할떼 사용, 함수네서 리턴을 2번 이상 사용 불가,  함수 결과를 2개 이상 받을려면 nupacking해서 받음\n",
        "\n",
        "def proc(*a):\n",
        "  total =0\n",
        "  avg =0\n",
        "  for i in a:\n",
        "    total +=i\n",
        "\n",
        "  avg = total/len(a)\n",
        "  return (total, avg)\n",
        "\n",
        "total, avg =proc(1,2,3,4)\n",
        "print(total)\n",
        "print(avg)\n",
        "\n"
      ],
      "metadata": {
        "colab": {
          "base_uri": "https://localhost:8080/"
        },
        "id": "yr61Gz8Xs63j",
        "outputId": "591b0d31-4050-4374-9589-8ef3d7ff187a"
      },
      "execution_count": null,
      "outputs": [
        {
          "output_type": "stream",
          "name": "stdout",
          "text": [
            "10\n",
            "2.5\n"
          ]
        }
      ]
    },
    {
      "cell_type": "code",
      "source": [
        "def proc(**a):\n",
        "  total =0\n",
        "  avg =0\n",
        "\n",
        " # for key in a:\n",
        "  #  total += a[key]\n",
        "  for key, value in a.items():\n",
        "    total += value\n",
        "    avg = total/len(a)\n",
        "    return (total, avg)\n",
        "\n",
        "total, avg=proc(a=5, b=6, c=7, d=8)\n",
        "print(total)\n",
        "print(avg)\n",
        "\n"
      ],
      "metadata": {
        "colab": {
          "base_uri": "https://localhost:8080/"
        },
        "id": "4vx--LjlzIRd",
        "outputId": "2c3484aa-89b7-4679-9189-d79e9ddeef0f"
      },
      "execution_count": null,
      "outputs": [
        {
          "output_type": "stream",
          "name": "stdout",
          "text": [
            "5\n",
            "1.25\n"
          ]
        }
      ]
    },
    {
      "cell_type": "code",
      "source": [
        "\n",
        "##overloading : 함수의 이름은 같은데 매겨변수의 개수 및 타입이 달라야한다. 파이썬은 지원하지 않음\n",
        "\n",
        "def add(a):\n",
        "   return a+1\n",
        "\n",
        "add(6)\n",
        "\n",
        "def add(a,b):\n",
        "  return a+b\n",
        "\n",
        "add(5,6) \n",
        "\n",
        "type(proc)\n",
        "\n",
        "dir(proc)\n",
        "\n",
        "type(proc.__name__)\n",
        "\n",
        "proc.__name__\n",
        "\n"
      ],
      "metadata": {
        "colab": {
          "base_uri": "https://localhost:8080/",
          "height": 137
        },
        "id": "4Avf6rut2IBs",
        "outputId": "7b6269c4-9e8c-453e-89b5-bb7433d5cb73"
      },
      "execution_count": null,
      "outputs": [
        {
          "output_type": "error",
          "ename": "SyntaxError",
          "evalue": "ignored",
          "traceback": [
            "\u001b[0;36m  File \u001b[0;32m\"<ipython-input-59-b1ad28322dd1>\"\u001b[0;36m, line \u001b[0;32m21\u001b[0m\n\u001b[0;31m    diplay = proc:\u001b[0m\n\u001b[0m                 ^\u001b[0m\n\u001b[0;31mSyntaxError\u001b[0m\u001b[0;31m:\u001b[0m invalid syntax\n"
          ]
        }
      ]
    },
    {
      "cell_type": "code",
      "source": [
        "diplay = proc;\n",
        "diplay.__name__\n",
        "# 함수를 다른 함수에 재할당해도 __name__은 원래 이름을 알려줌\n"
      ],
      "metadata": {
        "colab": {
          "base_uri": "https://localhost:8080/",
          "height": 137
        },
        "id": "1ws1olbj3xVF",
        "outputId": "999d3844-9339-4924-8e21-86199dceb315"
      },
      "execution_count": null,
      "outputs": [
        {
          "output_type": "error",
          "ename": "IndentationError",
          "evalue": "ignored",
          "traceback": [
            "\u001b[0;36m  File \u001b[0;32m\"<ipython-input-63-a6caac57f95f>\"\u001b[0;36m, line \u001b[0;32m4\u001b[0m\n\u001b[0;31m    <function__main__.proc(a,b)>\u001b[0m\n\u001b[0m    ^\u001b[0m\n\u001b[0;31mIndentationError\u001b[0m\u001b[0;31m:\u001b[0m unexpected indent\n"
          ]
        }
      ]
    },
    {
      "cell_type": "code",
      "source": [
        "display\n",
        "#파이썬은 외부에서 함수 내부로 접근할수 없다. z는 함수내에서 할당되었으므로 함수 밖에서 호출할수 없다.\n",
        "\n",
        "def proc():\n",
        "  z=1\n",
        "\n",
        "c= 10\n",
        "def display():\n",
        "  print(c)\n",
        "display() "
      ],
      "metadata": {
        "colab": {
          "base_uri": "https://localhost:8080/"
        },
        "id": "nAhwvBBH4XEx",
        "outputId": "57d2e039-6474-4fb5-9890-1d27aab29e11"
      },
      "execution_count": null,
      "outputs": [
        {
          "output_type": "stream",
          "name": "stdout",
          "text": [
            "10\n"
          ]
        }
      ]
    },
    {
      "cell_type": "code",
      "source": [
        "t =3\n",
        "def prn():\n",
        "  t = t+1\n",
        "print(t)\n",
        "##함수에서 외부값을 접근 가능하지만 변경 불가능\n",
        "\n"
      ],
      "metadata": {
        "colab": {
          "base_uri": "https://localhost:8080/"
        },
        "id": "NB2xYIny5dQF",
        "outputId": "a059d81e-fd40-44a0-8d92-d12ff865c515"
      },
      "execution_count": null,
      "outputs": [
        {
          "output_type": "stream",
          "name": "stdout",
          "text": [
            "3\n"
          ]
        }
      ]
    },
    {
      "cell_type": "code",
      "source": [
        "t =3\n",
        "def prn():\n",
        "  global t\n",
        "  t = t+1\n",
        "  print(t)\n",
        "prn()\n",
        "## global : 내부와 외부의 객체를 동기화 시켜줌,  사용하기 편하지만 흐름파악 힘듬, 외부의 자원도 값이 변경이 되어서 출력,\n",
        "\n"
      ],
      "metadata": {
        "colab": {
          "base_uri": "https://localhost:8080/"
        },
        "id": "HfcTQ2C16btV",
        "outputId": "9a3f083c-8f9c-45a9-a097-44c1f02499e4"
      },
      "execution_count": null,
      "outputs": [
        {
          "output_type": "stream",
          "name": "stdout",
          "text": [
            "4\n"
          ]
        }
      ]
    },
    {
      "cell_type": "code",
      "source": [
        "#중첩함수\n",
        "k=1 \n",
        "def outer():\n",
        "  m=1\n",
        "  def inner():\n",
        "    global k\n",
        "    k = k+1\n",
        "    nonlocal m\n",
        "    m = m+1\n",
        "    return k,m\n",
        "  return inner()\n",
        "\n",
        "outer()"
      ],
      "metadata": {
        "colab": {
          "base_uri": "https://localhost:8080/"
        },
        "id": "va33F8cq8Dyu",
        "outputId": "5eabfd66-38d2-4801-8d11-6d29bb94bec0"
      },
      "execution_count": null,
      "outputs": [
        {
          "output_type": "execute_result",
          "data": {
            "text/plain": [
              "(2, 2)"
            ]
          },
          "metadata": {},
          "execution_count": 83
        }
      ]
    },
    {
      "cell_type": "code",
      "source": [
        "#intering : 파이썬이 느리기 때문에 중간에 cache 저장하는 기법이다. \n",
        "a=100\n",
        "b=100\n",
        "a == b\n",
        "# ==메모리에 저장된 값을 비교\n",
        "\n",
        "# is : 메모리 주소 비교\n",
        "a is b\n",
        "\n",
        "\n",
        "a =257\n",
        "b =257\n",
        "a==b\n",
        "a is b\n",
        "\n",
        "#파이썬에서 문자열 일때는 a~zA-Z0-9_는 내부적으로 INTERNING기법 사용\n",
        "\n",
        "a='python'\n",
        "b='python'\n",
        "\n",
        "a==b\n",
        "a is b\n",
        "\n",
        "a = '네이버'\n",
        "b = '네이버' \n",
        "a == b\n",
        "a is b\n",
        "\n"
      ],
      "metadata": {
        "id": "Nf_L1QB3AnMP"
      },
      "execution_count": null,
      "outputs": []
    },
    {
      "cell_type": "code",
      "source": [
        "## 영문자일떼 공백 포함되어 있어도 intering기법을 사용하도록 item을 사용\n",
        "from sys import intern\n",
        "\n",
        "c = intern('naver.com')\n",
        "d= intern('naver.com')\n",
        "c ==d\n",
        "c is d\n",
        "\n",
        "help(intern)\n",
        "# 숫자일떼 사용 불가능\n",
        "a = intern(255);\n",
        "\n"
      ],
      "metadata": {
        "id": "xVVLahTmD8Yt"
      },
      "execution_count": null,
      "outputs": []
    },
    {
      "cell_type": "code",
      "source": [
        "print(__name__)\n",
        "\n",
        "#패키지 : 모듈을 모아 만든 단위 \n",
        "#명령형 프로그래밍 : HOW : 알고리즘을 명시하고 목표는 명시 하지 않는다.\n",
        "\n",
        "#람다함수\n",
        "y=10\n",
        "(lambda x:x+y)(1)\n",
        "print('-')\n",
        "plus_ten2 =lambda x:x+10\n",
        "plus_ten2(1)\n"
      ],
      "metadata": {
        "id": "0bXUg4_SFBtH"
      },
      "execution_count": null,
      "outputs": []
    },
    {
      "cell_type": "code",
      "source": [
        "def foo(func, a):\n",
        "  return func(a)\n",
        "\n",
        "def ss(a):\n",
        "  return a +1\n",
        "foo(ss,1)"
      ],
      "metadata": {
        "id": "fl56bEx9f8pO"
      },
      "execution_count": null,
      "outputs": []
    },
    {
      "cell_type": "code",
      "source": [
        "def x(n):\n",
        "  def y(m):\n",
        "    return n+m\n",
        "  return y\n",
        "k= x(3)\n",
        "k(4)\n",
        "\n",
        "#일급 객체 함수 : 파이썬에서 중요한 객체, 변수나 데이터 구조에 넣을수있어야한다, 매개변수 전달가능해야됨, 변환값으로 사용가능해야됨\n",
        "\n",
        "\n",
        "#loop : 논리적 흐름을 깨는 경우가 있어 버그를 만들기 쉬운 단점 존재, 코드 이해하기 위해 왔다갔다 해야하므로 속도 느림\n",
        "# loop 사용하지 않고 대체 기법 : iterator, generator, recursion, comprehension, map filter, reduce\n",
        "\n",
        "#comperhension : iterable한 으브젝트를 생성하기위한 방법 종류 : listc, setc, dicitc\n",
        "\n",
        "#lc : 리스트 정의시 값을 정하지 않고 호출 시 리스트 내의 값들이 처리되도록 구성\n",
        "squares = [x**2 for x in range(10)]\n",
        "print (squares)\n",
        "#lc 다중 for\n",
        "l = [(x,y) for x in range(5) for y in range(5) if y %2 == 0]\n",
        "print(l)\n",
        "#lc lamdba\n",
        "lh = [lambda x : x+n for n in range(5)]\n",
        "print(lh)\n",
        "for i in lh:\n",
        "  print(i(0))\n",
        "\n",
        "print(type(lh))\n",
        "lh[0]\n",
        "\n",
        "\n",
        "lh = [ lambda x, n=n : x+n for n in range(5) ]\n",
        "print(lh)\n",
        "for i in lh:\n",
        "  print(i(0))\n",
        "# dc : 가전 정의시 값을 정하지 않고 호출 시 사전 내의 값들이 처리되도록 구성\n",
        "dl = {x:y for (x,y) in zip(range(9),range(9))}\n",
        "print(dl)\n",
        "\n",
        "l = {x:y for x in range(5) for y in range(5) if y %2==0}\n",
        "print(l)\n",
        "\n",
        "#sc : 정의시 값을 정하지 않고 호출 시 set 내의 값들이 처리되도록 구성\n",
        "sl = {x for x in range(10)}\n",
        "print(sl)\n",
        "print('--')\n",
        "l2 = {(x,y) for x in range(5) for y in range(5) if y %2==0}\n",
        "print(l2)"
      ],
      "metadata": {
        "id": "xI8n7pP-hlk_"
      },
      "execution_count": null,
      "outputs": []
    },
    {
      "cell_type": "code",
      "source": [
        "lh = [lambda x , n=n : x+n for n in range(5)]\n",
        "print(ln)\n",
        "for i in lh:\n",
        "  print(i(0))\n"
      ],
      "metadata": {
        "id": "u_YLBHObmYrH"
      },
      "execution_count": null,
      "outputs": []
    },
    {
      "cell_type": "code",
      "source": [
        "#함수형loop형을 사용하지 않는 기법 (recursion) : 함수가 자기 자신을 다시 실행하는 기법이다.\n",
        "def x(t):\n",
        "  if t <3:\n",
        "   return 1\n",
        "  return x(t-1)\n",
        "x(7)\n",
        "#iterator \n"
      ],
      "metadata": {
        "id": "let6MAdsBhTC"
      },
      "execution_count": null,
      "outputs": []
    },
    {
      "cell_type": "code",
      "source": [
        "#iterator : lazt기법이다. 메모리에 전체를 올리지 않고 사용할떼마다 하나씩 메모리에 올린다.(메모리에 효율적으로  사용한다. index, len사용 불가) \n",
        "# iterable :반복문을 수행가능한 객체\n",
        "# iterator : 객체의 료소흫 차례로 가지고 올수있는것\n",
        "c =[1,2,3]\n",
        "print(type(a))\n",
        "b = iter(a)\n",
        "b\n",
        "print(dir(a))\n",
        "print(dir(b))\n",
        "\n",
        "next(b)\n",
        "c = list(b)"
      ],
      "metadata": {
        "id": "vtH6D2qCDncw"
      },
      "execution_count": null,
      "outputs": []
    },
    {
      "cell_type": "code",
      "source": [
        "c =list(b)\n",
        "c\n",
        "len(c)\n"
      ],
      "metadata": {
        "colab": {
          "base_uri": "https://localhost:8080/",
          "height": 210
        },
        "id": "nfO_e1j9I1Vg",
        "outputId": "1b1195e0-89f1-4756-f407-c1ea423b969c"
      },
      "execution_count": 22,
      "outputs": [
        {
          "output_type": "error",
          "ename": "IndexError",
          "evalue": "ignored",
          "traceback": [
            "\u001b[0;31m---------------------------------------------------------------------------\u001b[0m",
            "\u001b[0;31mIndexError\u001b[0m                                Traceback (most recent call last)",
            "\u001b[0;32m<ipython-input-22-2d3d70dbf204>\u001b[0m in \u001b[0;36m<module>\u001b[0;34m\u001b[0m\n\u001b[1;32m      2\u001b[0m \u001b[0mc\u001b[0m\u001b[0;34m\u001b[0m\u001b[0;34m\u001b[0m\u001b[0m\n\u001b[1;32m      3\u001b[0m \u001b[0mlen\u001b[0m\u001b[0;34m(\u001b[0m\u001b[0mc\u001b[0m\u001b[0;34m)\u001b[0m\u001b[0;34m\u001b[0m\u001b[0;34m\u001b[0m\u001b[0m\n\u001b[0;32m----> 4\u001b[0;31m \u001b[0mc\u001b[0m\u001b[0;34m[\u001b[0m\u001b[0;36m1\u001b[0m\u001b[0;34m]\u001b[0m\u001b[0;34m\u001b[0m\u001b[0;34m\u001b[0m\u001b[0m\n\u001b[0m",
            "\u001b[0;31mIndexError\u001b[0m: list index out of range"
          ]
        }
      ]
    },
    {
      "cell_type": "code",
      "source": [
        "a = [1,2,3]\n",
        "b =list(a)\n",
        "b"
      ],
      "metadata": {
        "id": "szW1VYQxJhM_"
      },
      "execution_count": null,
      "outputs": []
    },
    {
      "cell_type": "code",
      "source": [
        "c =set(b)\n",
        "c"
      ],
      "metadata": {
        "colab": {
          "base_uri": "https://localhost:8080/"
        },
        "id": "WM0LrhCKJrco",
        "outputId": "4ac2db65-d0cd-4b5d-c294-3e738c826433"
      },
      "execution_count": 28,
      "outputs": [
        {
          "output_type": "execute_result",
          "data": {
            "text/plain": [
              "{1, 2, 3}"
            ]
          },
          "metadata": {},
          "execution_count": 28
        }
      ]
    },
    {
      "cell_type": "code",
      "source": [
        "a= {'k':1, 'm':2}\n",
        "b =iter(a)\n",
        "b\n",
        "next(b)\n",
        "c= set(b)\n",
        "c\n",
        "\n",
        "#comprehension : iterable 객체를 생성할수있도록 제공하는 기능 (list,set,dict)\n",
        "# 튜플은 generator\n",
        "#generator만드는 방법 1. 튜플을 comprehension처럼 사용\n",
        "#   2.\n",
        "[i for i in range(5)]\n",
        "(i for i in range(5))\n",
        "\n",
        "t = (i for i in range(5))\n",
        "t\n",
        "\n",
        "dir(t)\n",
        "print(dir(t))\n",
        "\n",
        "#방법 2 : yield을 이용하는 방법\n",
        "def y():\n",
        "  yield 1\n",
        "  yield 2\n",
        "t =y()\n",
        "t\n",
        "\n",
        "next(t)\n",
        "next(t)\n",
        "\n",
        "#range 횟수처럼 동작하는 generator 생성\n",
        "def num_gen(stop):\n",
        "  n=0\n",
        "  while n < stop:\n",
        "    yield n\n",
        "    n+1\n",
        "k =num_gen(3)\n",
        "next(k) \n",
        "\n",
        "#숫자로 구성된 하나의 리스트를 입력받아 짝수를 추출 하여 리스트로 반환하는 pickup_even함수를 구현\n",
        "a = []\n",
        "def pickup_even(items):\n",
        "  #for i in items:\n",
        "  #  if i%2==0:\n",
        "  #    a.append(i)\n",
        "  #    print(a)\n",
        "  return [i for i in items if i%2==0]\n",
        "pickup_even([3,4,5,6,7,8,9,10])\n",
        "\n",
        "#총 판매 구매 구하기\n",
        "prod = [500,1000,400,600]\n",
        "cnt =[1,1,2,1]\n",
        "\n",
        "sum([ c * p for c,p in zip(cnt, prod)])\n",
        "\n",
        "\n"
      ],
      "metadata": {
        "colab": {
          "base_uri": "https://localhost:8080/"
        },
        "id": "ScUeeCYPJ4OH",
        "outputId": "269fa53f-cf3c-4aa0-8bf5-79476cb9d349"
      },
      "execution_count": 68,
      "outputs": [
        {
          "output_type": "stream",
          "name": "stdout",
          "text": [
            "['__class__', '__del__', '__delattr__', '__dir__', '__doc__', '__eq__', '__format__', '__ge__', '__getattribute__', '__gt__', '__hash__', '__init__', '__init_subclass__', '__iter__', '__le__', '__lt__', '__name__', '__ne__', '__new__', '__next__', '__qualname__', '__reduce__', '__reduce_ex__', '__repr__', '__setattr__', '__sizeof__', '__str__', '__subclasshook__', 'close', 'gi_code', 'gi_frame', 'gi_running', 'gi_yieldfrom', 'send', 'throw']\n"
          ]
        },
        {
          "output_type": "execute_result",
          "data": {
            "text/plain": [
              "2900"
            ]
          },
          "metadata": {},
          "execution_count": 68
        }
      ]
    },
    {
      "cell_type": "code",
      "source": [
        "#반복문을 사용하지 않고 리스트에서 짝수 출력\n",
        "data = [1,3,5,8,9,11,15,19,18,20,30,33,31]\n",
        "for i, v in enumerate([i for i in data if i%2==0]):\n",
        "  print(i,v)\n",
        "\n",
        "#e가 포함된 과일들만 추출해서 대문자로 출력\n",
        "frults = ['apple', 'banana', 'cherry', 'grape', 'kiwi','tomato']\n",
        "result = [f.upper() for f in frults if 'e' in f]\n",
        "print(result)\n",
        "\n",
        "\n",
        "## callable\n",
        "# 이름 뒤에 괄호를 붙이는 것을 call이다. \n",
        "# 이름 뒤에 괄호를 붙일 수있는 것이 callable이다.\n",
        "#유형 : function, class(__init__), object(__call__)\n",
        "\n",
        "# 객체 지향 프로 그래밍 \n",
        "#is : 매모리 주소, issubclass(child,parent): 상속여부, isinstance(a, int) : int클레스의 a가 인스턴스 여부\n",
        "\n",
        "\n",
        "class A:\n",
        "  x =1\n",
        "  def prn():\n",
        "    a=1\n",
        "callable(A)\n",
        "\n"
      ],
      "metadata": {
        "id": "RfLExBSDYQGv"
      },
      "execution_count": null,
      "outputs": []
    },
    {
      "cell_type": "code",
      "source": [
        "class Employee:\n",
        "  x =1\n",
        "  def dosplay(self, y):\n",
        "    self.y = y\n",
        "    prnit(y)\n",
        "ps = Employee()\n",
        "ps.x\n"
      ],
      "metadata": {
        "colab": {
          "base_uri": "https://localhost:8080/"
        },
        "id": "FUjQsSuSk4YX",
        "outputId": "54c6a18a-af32-434d-c836-f3d05c8a1641"
      },
      "execution_count": 89,
      "outputs": [
        {
          "output_type": "execute_result",
          "data": {
            "text/plain": [
              "1"
            ]
          },
          "metadata": {},
          "execution_count": 89
        }
      ]
    },
    {
      "cell_type": "code",
      "source": [
        "class Department:\n",
        "  x =3\n",
        "  def display(self, y):\n",
        "    self.y =y\n",
        "    print(y)"
      ],
      "metadata": {
        "id": "OG0zhWR0mR1y"
      },
      "execution_count": 93,
      "outputs": []
    },
    {
      "cell_type": "code",
      "source": [
        "pd = Department()\n",
        "print(pd.x)\n",
        "print(Department.x)\n",
        "pd.display(5)\n",
        "\n",
        "\n",
        "ps = Department()\n",
        "print(ps.x)\n",
        "ps.x=10\n",
        "print(ps)\n",
        "print(Department.x)\n",
        "print(pd.x)\n",
        "print(ps.x)\n",
        "\n",
        "\n",
        "\n",
        "Department.y=900\n",
        "print(Department.y)\n",
        "print(pd.y)\n",
        "print(ps.y)\n",
        "\n",
        "\n",
        "#"
      ],
      "metadata": {
        "colab": {
          "base_uri": "https://localhost:8080/"
        },
        "id": "k_nNDy5iwM-C",
        "outputId": "2e57ca2f-bff0-4ace-8c15-e0c7ccf5fb13"
      },
      "execution_count": 104,
      "outputs": [
        {
          "output_type": "stream",
          "name": "stdout",
          "text": [
            "3\n",
            "3\n",
            "5\n",
            "3\n",
            "<__main__.Department object at 0x7fcea12381f0>\n",
            "3\n",
            "3\n",
            "10\n",
            "900\n",
            "5\n",
            "900\n"
          ]
        }
      ]
    },
    {
      "cell_type": "code",
      "source": [
        "#instance에서는 class attribute에 접근 가능\n",
        "#class에서는 instance attribute에 접근 불가능\n",
        "class Manager:\n",
        "  x=3\n",
        "a = Manager()\n",
        "a.red='레드'\n",
        "print(a.x)\n",
        "\n",
        "\n",
        "class A:\n",
        "  a =1\n",
        "  def display(self,k):\n",
        "    self.k =k\n",
        "  def prn(self):\n",
        "    print(self.a)\n",
        "  \n",
        "print(A.a)\n",
        "x =A()\n",
        "x.display(5)\n",
        "print(x,k)"
      ],
      "metadata": {
        "colab": {
          "base_uri": "https://localhost:8080/"
        },
        "id": "krVELeAb26WZ",
        "outputId": "f6a59684-2cef-442c-d0b2-f23a4cc9e9e0"
      },
      "execution_count": 116,
      "outputs": [
        {
          "output_type": "stream",
          "name": "stdout",
          "text": [
            "3\n",
            "1\n",
            "<__main__.A object at 0x7fcea11d0c10> <generator object num_gen at 0x7fcea117a3c0>\n"
          ]
        }
      ]
    }
  ]
}