{
  "nbformat": 4,
  "nbformat_minor": 0,
  "metadata": {
    "colab": {
      "provenance": [],
      "authorship_tag": "ABX9TyMxpr1kmXeLMqDwi7rXvJGU",
      "include_colab_link": true
    },
    "kernelspec": {
      "name": "python3",
      "display_name": "Python 3"
    },
    "language_info": {
      "name": "python"
    }
  },
  "cells": [
    {
      "cell_type": "markdown",
      "metadata": {
        "id": "view-in-github",
        "colab_type": "text"
      },
      "source": [
        "<a href=\"https://colab.research.google.com/github/jasen8651/python001/blob/master/python02.ipynb\" target=\"_parent\"><img src=\"https://colab.research.google.com/assets/colab-badge.svg\" alt=\"Open In Colab\"/></a>"
      ]
    },
    {
      "cell_type": "code",
      "execution_count": 5,
      "metadata": {
        "id": "47WujV6rruzP"
      },
      "outputs": [],
      "source": [
        "a=1\n"
      ]
    },
    {
      "cell_type": "code",
      "source": [
        "if a>0:\n",
        "  print('yse')\n",
        "  print('ok')\n",
        "else:\n",
        "  print('no')"
      ],
      "metadata": {
        "colab": {
          "base_uri": "https://localhost:8080/"
        },
        "id": "6X_nUcx3shW-",
        "outputId": "3f162366-ec32-48b7-b973-77458d4c2ce7"
      },
      "execution_count": 6,
      "outputs": [
        {
          "output_type": "stream",
          "name": "stdout",
          "text": [
            "yse\n",
            "ok\n"
          ]
        }
      ]
    },
    {
      "cell_type": "code",
      "source": [
        "jumsu=55\n",
        "if jumsu >= 80:\n",
        "    print('상')\n",
        "elif jumsu >=60:\n",
        "    print('중')\n",
        "else:\n",
        "    print('하')"
      ],
      "metadata": {
        "colab": {
          "base_uri": "https://localhost:8080/"
        },
        "id": "SGTJgAEmtVN0",
        "outputId": "d89927c8-41f0-4445-f4fd-def09039cd7a"
      },
      "execution_count": 10,
      "outputs": [
        {
          "output_type": "stream",
          "name": "stdout",
          "text": [
            "하\n"
          ]
        }
      ]
    },
    {
      "cell_type": "code",
      "source": [
        "a=0.0\n",
        "if a:\n",
        "  print('yes')\n",
        "else:\n",
        "  print('no')\n",
        "##0은 숫자가 없는 것과 같다 ->거짓\n",
        "\n",
        "#none은 객체가 없다  거짓\n",
        "a= None\n",
        "if a:\n",
        "  print('yes')\n",
        "else:\n",
        "  print('no')\n",
        "\n",
        "#비어있는 dict은 없는 것과 같다.\n",
        "a ={}\n",
        "if a:\n",
        "  print('yes')\n",
        "else:\n",
        "  print('no')\n",
        "\n"
      ],
      "metadata": {
        "colab": {
          "base_uri": "https://localhost:8080/"
        },
        "id": "vc8pdm_xts0l",
        "outputId": "9b54664b-3091-487b-ee1f-4bbb20beffe7"
      },
      "execution_count": 14,
      "outputs": [
        {
          "output_type": "stream",
          "name": "stdout",
          "text": [
            "no\n",
            "no\n",
            "no\n"
          ]
        }
      ]
    },
    {
      "cell_type": "code",
      "source": [
        "#인스턴스 방식으로 값을 만들때 괄호안에 비어 있으면 비어있는 값을 만듬\n",
        "a = int()\n",
        "b=float()\n",
        "c=complex()\n",
        "d=list()\n",
        "\n",
        "if a:\n",
        "  print('yes')\n",
        "else:\n",
        "  print('no')\n",
        "\n",
        "3<2 or 7<5\n",
        "\n",
        "3 and 4\n",
        "\"\"and 4\n",
        "#and 는 앞이 거짓이면 앞에 값을 반환, 비어있으면 문자열 없는것과 같다.\n",
        "\n",
        "#or은 and의 반대, 앞이 참이면 앞,  거짓이면 뒤에값을 반환\n",
        "\n",
        "3 or 4\n",
        "\n",
        "##if a=4:  if조건에 문장 사용 불가\n",
        "\n",
        "for v in[1,2,3,4,5]:\n",
        "  print(v)\n",
        "\n",
        "for v in('naver'):\n",
        "  print(v)\n",
        "\n",
        "t=[('one',1), ('two',2)]\n",
        "for k, n in t:\n",
        "  print('{0} : {1}.format(k,v)')"
      ],
      "metadata": {
        "colab": {
          "base_uri": "https://localhost:8080/"
        },
        "id": "t7Vld-xivuEV",
        "outputId": "803b5feb-0226-4fda-da9d-94a3e9ee75c8"
      },
      "execution_count": 27,
      "outputs": [
        {
          "output_type": "stream",
          "name": "stdout",
          "text": [
            "no\n",
            "1\n",
            "2\n",
            "3\n",
            "4\n",
            "5\n",
            "n\n",
            "a\n",
            "v\n",
            "e\n",
            "r\n",
            "{0} : {1}.format(k,v)\n",
            "{0} : {1}.format(k,v)\n"
          ]
        }
      ]
    },
    {
      "cell_type": "code",
      "source": [
        "dic={'a':1, 'b':2}\n",
        "for k in dic:\n",
        "  print('{0}:{1}'.format(k, dic[k]))\n",
        "\n",
        "  "
      ],
      "metadata": {
        "colab": {
          "base_uri": "https://localhost:8080/",
          "height": 228
        },
        "id": "Rdfwh3iX6RJ-",
        "outputId": "c6105d9d-7f8e-4054-8aab-2bf2baa653c8"
      },
      "execution_count": 34,
      "outputs": [
        {
          "output_type": "stream",
          "name": "stdout",
          "text": [
            "a:1\n"
          ]
        },
        {
          "output_type": "error",
          "ename": "AttributeError",
          "evalue": "ignored",
          "traceback": [
            "\u001b[0;31m---------------------------------------------------------------------------\u001b[0m",
            "\u001b[0;31mAttributeError\u001b[0m                            Traceback (most recent call last)",
            "\u001b[0;32m<ipython-input-34-049354bf3c1e>\u001b[0m in \u001b[0;36m<module>\u001b[0;34m\u001b[0m\n\u001b[1;32m      3\u001b[0m   \u001b[0mprint\u001b[0m\u001b[0;34m(\u001b[0m\u001b[0;34m'{0}:{1}'\u001b[0m\u001b[0;34m.\u001b[0m\u001b[0mformat\u001b[0m\u001b[0;34m(\u001b[0m\u001b[0mk\u001b[0m\u001b[0;34m,\u001b[0m \u001b[0mdic\u001b[0m\u001b[0;34m[\u001b[0m\u001b[0mk\u001b[0m\u001b[0;34m]\u001b[0m\u001b[0;34m)\u001b[0m\u001b[0;34m)\u001b[0m\u001b[0;34m\u001b[0m\u001b[0;34m\u001b[0m\u001b[0m\n\u001b[1;32m      4\u001b[0m \u001b[0;34m\u001b[0m\u001b[0m\n\u001b[0;32m----> 5\u001b[0;31m   \u001b[0mprint\u001b[0m\u001b[0;34m(\u001b[0m\u001b[0mlen\u001b[0m\u001b[0;34m(\u001b[0m\u001b[0mdir\u001b[0m\u001b[0;34m(\u001b[0m\u001b[0mdict\u001b[0m\u001b[0;34m)\u001b[0m\u001b[0;34m)\u001b[0m\u001b[0;34m.\u001b[0m \u001b[0mlen\u001b[0m\u001b[0;34m(\u001b[0m\u001b[0mdir\u001b[0m\u001b[0;34m(\u001b[0m\u001b[0mdic\u001b[0m\u001b[0;34m)\u001b[0m\u001b[0;34m)\u001b[0m\u001b[0;34m)\u001b[0m\u001b[0;34m\u001b[0m\u001b[0;34m\u001b[0m\u001b[0m\n\u001b[0m",
            "\u001b[0;31mAttributeError\u001b[0m: 'int' object has no attribute 'len'"
          ]
        }
      ]
    },
    {
      "cell_type": "code",
      "source": [
        "print(len(dir(dict)), len(dir(dic)))\n",
        "\n",
        "dic.__doc__\n",
        "\n",
        "\n",
        "##for문\n",
        "a =10;\n",
        "while a>10:\n",
        "  a-=1\n",
        "  print(a)\n",
        "else:\n",
        "  print('end')\n",
        "###ㄹㄹㄹ\n",
        "##반복문에서 else는 반복문이 완벽라게 끝났을 때 실행된다. 대부부느이 프로그해밍 언어는 whlie for문 지원\n"
      ],
      "metadata": {
        "colab": {
          "base_uri": "https://localhost:8080/"
        },
        "id": "gLdlxSj08GVO",
        "outputId": "ece14cee-7056-43a7-c518-06481976374f"
      },
      "execution_count": 40,
      "outputs": [
        {
          "output_type": "stream",
          "name": "stdout",
          "text": [
            "41 41\n",
            "end\n"
          ]
        }
      ]
    },
    {
      "cell_type": "code",
      "source": [
        "a=10\n",
        "while a>1:\n",
        "  a-=1\n",
        "  if a==5:\n",
        "    break\n",
        "else:\n",
        " print('end')\n",
        " ## 브레이크는 반복문을 중단시킴,  브레이크가 실행되면 반복문이 완벽하게 실행되지 아니므로 else문이 실행되지 않았ㄱ다.\n",
        " "
      ],
      "metadata": {
        "id": "Aqa85urz_WDm"
      },
      "execution_count": 43,
      "outputs": []
    },
    {
      "cell_type": "code",
      "source": [
        "a=10\n",
        "while a>1:\n",
        "  a-=1\n",
        "  if a==5:\n",
        "    continue\n",
        "  print(a)\n",
        "else:\n",
        "  print('end')\n",
        "\n",
        "  ##continue는 다음 루프를 바로 넘어감,  반복문을 중단하지 않으므로 else문 실행\n",
        "\n",
        "##range함수 : for문과 같이 사용, 특정한 범위 숫자 나열하는 함수\n",
        "for i in range(1,6):\n",
        "  print(i)\n",
        "\n",
        "##enumertr함수 : 인덱스와 객체를 동시에 저장할 수있는 특징을 가진 for문을 좀 더 효율적으로 사용하기 위한 함수\n",
        "for k,v in enumerate(['apple', 'naver','microsoft']):\n",
        "  print('{0}:{1}'.format(k,v))\n",
        "\n",
        "##zip 묶음\n",
        "a= [1,2,3,4,5]\n",
        "b =['a','b','c','d','e']\n",
        "for x,y in zip (a,b):\n",
        "  print(x,y)\n",
        "  t= x,y\n",
        "print(type(t))\n",
        "\n",
        "##items\n",
        "dic = {'네이버': 'www.naver.com', '파이썬':'www.python.org'}\n",
        "for k,v in dic.items():\n",
        "  print('{0}:{1}'.format(k,v))\n",
        "  m=k,v\n",
        "  print(type(m))\n",
        "\n",
        "\n",
        "##예외처리\n",
        "a,b =5,0\n",
        "c= a/b\n",
        "4 +spam *3\n",
        "\n",
        "int(3)**int('abc')"
      ],
      "metadata": {
        "id": "RPW_NHFW_9EW"
      },
      "execution_count": null,
      "outputs": []
    },
    {
      "cell_type": "code",
      "source": [
        "#예외 처리 2\n",
        "##try ~except : try절 안에 문제 발생 가능성이있는 코드 베제, excepot절에는 문제 발생시 뒤처리 하는 코드 블록 배치\n",
        "## 복수개의 except : try 블록 안에서 여러 종류의 예외가 발생하는 경우에 사용\n",
        "## 예외의 인스턴스를 활용하는 방법 : as문사용\n",
        "my_list=[1,2,3]\n",
        "\n",
        "try:\n",
        "  print(\"첨자를 입력하아\")\n",
        "  index= int(input())\n",
        "  print(my_list[index]/0)\n",
        "except ZeroDivisionError:\n",
        "  print(\"0으로 나눌수 없다\")\n",
        "except IndexError:\n",
        "  print(\"잘못된 첨자\")\n",
        "\n",
        "my_list = [1,2,3]\n",
        "try:\n",
        "  print(\"첨자 입력\")\n",
        "  index = int(input())\n",
        "  print(my_list[index]/0)\n",
        "except ZeroDivisionError as err:\n",
        "  print(\"0으로 나눌수 없다.({0})\".format(err))\n",
        "except IndexError as err:\n",
        " print(\"잘못된 첨자.({0})\".format(err))\n",
        "\n",
        "## try~ except~ else : try와 함께 사용하는 else절은 try절에 있는 코드 블록 실행중 아무런 예어ㅚ가 일어나지 않으면 실행\n",
        "\n",
        "\n"
      ],
      "metadata": {
        "colab": {
          "base_uri": "https://localhost:8080/",
          "height": 137
        },
        "id": "gUXCceHqPhy2",
        "outputId": "7e7deddb-4f35-40d3-912e-3ba99ad8c8a6"
      },
      "execution_count": 60,
      "outputs": [
        {
          "output_type": "error",
          "ename": "SyntaxError",
          "evalue": "ignored",
          "traceback": [
            "\u001b[0;36m  File \u001b[0;32m\"<ipython-input-60-98d5631101ce>\"\u001b[0;36m, line \u001b[0;32m34\u001b[0m\n\u001b[0;31m    else:\u001b[0m\n\u001b[0m    ^\u001b[0m\n\u001b[0;31mSyntaxError\u001b[0m\u001b[0;31m:\u001b[0m invalid syntax\n"
          ]
        }
      ]
    },
    {
      "cell_type": "code",
      "source": [
        "##raise : 개발자가 의도적으로 예외를 발생시켜야 하는 경우에 사용, 해당예외를 단순히 발생시키거나 예뢰 발생시 필요한 정보를 같이 전달하기 위해 인자로 넘김\n",
        "def RaiseErrorFunc():\n",
        "  raise NameError('nameerror의 인자')\n",
        "\n",
        "def PropagateError():\n",
        "  try:\n",
        "    RaiseErrorFunc()\n",
        "  except:\n",
        "    print('에러 전달 이전에 먼제 이 메시지가 먼저 출력')\n",
        "\n",
        "  PropagateError()\n",
        "\n",
        "###function\n",
        "\n",
        "def oroc():\n",
        "  pass # pass는 구현을 안할 때 사용\n",
        "  ###callable : 이름 뒤에 괄호를 붙이는 것을 호출, 이름뒤에 괄호를 붙일수있는것을 callable이다.\n",
        "\n",
        "list =3\n",
        "list()\n",
        "\n"
      ],
      "metadata": {
        "colab": {
          "base_uri": "https://localhost:8080/",
          "height": 246
        },
        "id": "b9elvdqfdHq2",
        "outputId": "d816b65f-cabb-4093-ef1e-2f6f912d522a"
      },
      "execution_count": 67,
      "outputs": [
        {
          "output_type": "error",
          "ename": "TypeError",
          "evalue": "ignored",
          "traceback": [
            "\u001b[0;31m---------------------------------------------------------------------------\u001b[0m",
            "\u001b[0;31mTypeError\u001b[0m                                 Traceback (most recent call last)",
            "\u001b[0;32m<ipython-input-67-5c7dc1f9898f>\u001b[0m in \u001b[0;36m<module>\u001b[0;34m\u001b[0m\n\u001b[1;32m     18\u001b[0m \u001b[0;34m\u001b[0m\u001b[0m\n\u001b[1;32m     19\u001b[0m \u001b[0mlist\u001b[0m \u001b[0;34m=\u001b[0m\u001b[0;36m3\u001b[0m\u001b[0;34m\u001b[0m\u001b[0;34m\u001b[0m\u001b[0m\n\u001b[0;32m---> 20\u001b[0;31m \u001b[0mlist\u001b[0m\u001b[0;34m(\u001b[0m\u001b[0;34m)\u001b[0m\u001b[0;34m\u001b[0m\u001b[0;34m\u001b[0m\u001b[0m\n\u001b[0m\u001b[1;32m     21\u001b[0m \u001b[0;34m\u001b[0m\u001b[0m\n\u001b[1;32m     22\u001b[0m \u001b[0;32mdef\u001b[0m \u001b[0mprn\u001b[0m\u001b[0;34m(\u001b[0m\u001b[0;34m)\u001b[0m\u001b[0;34m:\u001b[0m\u001b[0;34m\u001b[0m\u001b[0;34m\u001b[0m\u001b[0m\n",
            "\u001b[0;31mTypeError\u001b[0m: 'int' object is not callable"
          ]
        }
      ]
    },
    {
      "cell_type": "code",
      "source": [
        "def prn():\n",
        "  return 1\n",
        "\n",
        "  prn()\n",
        "\n",
        "  #python버전확인\n",
        "  import sys\n",
        "  sys.version"
      ],
      "metadata": {
        "id": "dYZO7JtgoMx2"
      },
      "execution_count": 72,
      "outputs": []
    },
    {
      "cell_type": "code",
      "source": [
        "import keyword\n",
        "from IPython.core.completer import position_to_cursor\n",
        "a=3 \n",
        "callable(a)\n",
        "\n",
        "\n",
        "##매개변수, 인자, \n",
        "##position :  함수 호출 선언 시 파라미터의 순서와 호출할떼 인자의 입력 순서로 매칭\n",
        "## keyword : 순서와 관계없이  파라미터 이름에 따라 대입\n",
        "##  position&&keyword: \n",
        "##  positition only :\n",
        "## keyword only :\n",
        "\n"
      ],
      "metadata": {
        "colab": {
          "base_uri": "https://localhost:8080/"
        },
        "id": "obdbE2_DlI7Q",
        "outputId": "8298ced9-1464-4cd1-f2fb-cc3ebdd1c1eb"
      },
      "execution_count": 70,
      "outputs": [
        {
          "output_type": "execute_result",
          "data": {
            "text/plain": [
              "False"
            ]
          },
          "metadata": {},
          "execution_count": 70
        }
      ]
    },
    {
      "cell_type": "code",
      "source": [
        "  #python버전확인\n",
        "  import sys\n",
        "  sys.version"
      ],
      "metadata": {
        "colab": {
          "base_uri": "https://localhost:8080/",
          "height": 35
        },
        "id": "h5zbSEQhp7Qv",
        "outputId": "a22dec0a-a3c0-4c82-ffc4-96ba0577c392"
      },
      "execution_count": 73,
      "outputs": [
        {
          "output_type": "execute_result",
          "data": {
            "text/plain": [
              "'3.8.15 (default, Oct 12 2022, 19:14:39) \\n[GCC 7.5.0]'"
            ],
            "application/vnd.google.colaboratory.intrinsic+json": {
              "type": "string"
            }
          },
          "metadata": {},
          "execution_count": 73
        }
      ]
    }
  ]
}