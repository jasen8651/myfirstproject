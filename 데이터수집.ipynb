{
  "nbformat": 4,
  "nbformat_minor": 0,
  "metadata": {
    "colab": {
      "provenance": [],
      "authorship_tag": "ABX9TyMdwkhxTQka6C+iYLIVQ4kw",
      "include_colab_link": true
    },
    "kernelspec": {
      "name": "python3",
      "display_name": "Python 3"
    },
    "language_info": {
      "name": "python"
    }
  },
  "cells": [
    {
      "cell_type": "markdown",
      "metadata": {
        "id": "view-in-github",
        "colab_type": "text"
      },
      "source": [
        "<a href=\"https://colab.research.google.com/github/jasen8651/python001/blob/master/%EB%8D%B0%EC%9D%B4%ED%84%B0%EC%88%98%EC%A7%91.ipynb\" target=\"_parent\"><img src=\"https://colab.research.google.com/assets/colab-badge.svg\" alt=\"Open In Colab\"/></a>"
      ]
    },
    {
      "cell_type": "code",
      "execution_count": null,
      "metadata": {
        "id": "v3rbRtYwMCiS"
      },
      "outputs": [],
      "source": []
    },
    {
      "cell_type": "markdown",
      "source": [
        "데이터 수집 종류(크롤링,스크레이핑,파싱)\n",
        "#크롤링 : 웹문서의 하이퍼 링크를 타고 들어가는 행위\n",
        "#스크래핑 : 웹사이트에서 원하는 정보를 추출하는 기술\n",
        "#파싱 : 추출한 정보를 분석하는 기술\n"
      ],
      "metadata": {
        "id": "eCrAOZ1wMpwa"
      }
    },
    {
      "cell_type": "markdown",
      "source": [
        "파이썬에서 제공하는 크롤링 라이브러리 \n",
        "urllib 모듈 : 파이선 내장 모듈\n",
        "requests 모듈 : 외부 모듈\n",
        "\n",
        "외부라이브러리\n",
        "정적 : beautiflsoup\n",
        "동적 : selenium\n",
        "\n",
        "beautifulsoup : xml과 hteml 문서의 parsung을 하기위한 파이선패키지이므로 라이러리를 이용해 정보 추출\n",
        "-https://www.crummy.com/software/BeautifulSoup/bs4/doc/\n",
        "-https://beautiful-soup-4.readthedocs.io/en/latest/\n",
        "\n",
        "selenium : 웹 애플리케이션의 테스트를 자동화하는 도구\n",
        "https://www.selenium.dev/\n",
        "\n",
        "크롤링하는 도구는 beautiflsoup사용하지만 동적으로 제어해주는 도구는 selenium사용\n",
        "\n",
        "크롤로 : 자동 웹페이지에서 정보를 수집하는 프로구램, 봇\n",
        "구글 등 검색 엔진은 봇 크롤러를 사용해 전세계에 있는 웹페이지 정보 수집하여 축적함"
      ],
      "metadata": {
        "id": "CU6BUIniOZmS"
      }
    },
    {
      "cell_type": "code",
      "source": [
        "import urllib.request\n",
        "from urllib.request import urlopen"
      ],
      "metadata": {
        "id": "9X-foCunMl-D"
      },
      "execution_count": null,
      "outputs": []
    },
    {
      "cell_type": "code",
      "source": [
        "from google.colab import drive\n",
        "drive.mount('/content/dirve')\n",
        "%cd /content/dirve/MyDrive/python_demo"
      ],
      "metadata": {
        "colab": {
          "base_uri": "https://localhost:8080/"
        },
        "id": "6bCHvlUrabNT",
        "outputId": "06657394-e1f9-47ac-aff3-2155695715e7"
      },
      "execution_count": 1,
      "outputs": [
        {
          "output_type": "stream",
          "name": "stdout",
          "text": [
            "Mounted at /content/dirve\n",
            "/content/dirve/MyDrive/python_demo\n"
          ]
        }
      ]
    },
    {
      "cell_type": "code",
      "source": [
        "url = 'http://www.naver.com'\n",
        "html = urlopen(url)\n",
        "print(html.status)\n",
        "print(type(html))\n",
        "print(dir(html))\n",
        "\n",
        "lines = html.read().decode  (\"utf-8\")\n",
        "#print(lines)\n",
        "\n",
        "\n",
        "\n",
        "with open('./urlib_naver.txt', 'w', encoding='utf-8') as f:\n",
        "  #for data in html.readline():\n",
        "    f.write(str(lines))"
      ],
      "metadata": {
        "id": "bn10KepETak7"
      },
      "execution_count": null,
      "outputs": []
    },
    {
      "cell_type": "code",
      "source": [
        "#with open('./urlib_naver.txt', 'w', encoding='utf-8') as f:\n",
        "#  for data in html.readline():\n",
        "#    f.write()"
      ],
      "metadata": {
        "id": "ljl6vEVTVXBj"
      },
      "execution_count": null,
      "outputs": []
    },
    {
      "cell_type": "code",
      "source": [
        "lines = html.read()\n",
        "with open('./urlib_naver.txt', 'w', encoding='utf-8') as f:\n",
        "    f.write(lines)\n",
        "\n",
        "#with open('./urlib_naver.txt', 'r') as f:\n",
        "#  print(f.read())"
      ],
      "metadata": {
        "colab": {
          "base_uri": "https://localhost:8080/"
        },
        "id": "NTVc5MClWKRi",
        "outputId": "9d018cf1-4c18-4665-d08d-7141550eded2"
      },
      "execution_count": null,
      "outputs": [
        {
          "output_type": "stream",
          "name": "stdout",
          "text": [
            "b''\n"
          ]
        }
      ]
    },
    {
      "cell_type": "markdown",
      "source": [
        "urllib : 여러개의 표준 라이브러리를 모아둔 모듈\n",
        "url 문자열과 웹 요청에 관련 모듈 5개 제공\n",
        "urllib.request : url문자열을 가지고 요청 기능 제공\n",
        "urllib.response : urllib모듈에 의해 사용되는 응답 클레스 제공\n",
        "urllib.parse : url 무자열을 파싱하여 해석 기능 제공\n",
        "urllib.error : request에 발생하는 예외 구문 클레스 제공\n",
        "urllib.robotparser : robot.txt파일 구문 분석기능 제공\n"
      ],
      "metadata": {
        "id": "1eCNQdJTbNIz"
      }
    },
    {
      "cell_type": "code",
      "source": [
        "#read에서 메서드 실행하면 웻서버가 전달한 데이터를 바이트열로 잃어 들림, 바이트 열 : 16진수여서 읽기 어려움 웹서버가 텍스트 형식으로 반환\n",
        "\n"
      ],
      "metadata": {
        "id": "2O2St246bMZL"
      },
      "execution_count": null,
      "outputs": []
    },
    {
      "cell_type": "code",
      "source": [
        "#웹페이지 인코딩 체크 : 웹페이지가 문자 셋으로 작성되었는지 팍아, <meta charset='utf-8'>\n",
        "#파이선 프로그램으로도 체크가능 \n",
        "# 객체의 info 메소드 호출 htto.client,tpptmessage 객체가 리턴, 문자 셋 정보를 리턴 받음\n",
        "url ='http://www.naver.com'\n",
        "f =urllib.request.urlopen(url)\n",
        "encoding = f.info().get_content_charset()\n",
        "print(encoding)\n",
        "#print(f)\n",
        "#print(dir(type(f.info)))\n"
      ],
      "metadata": {
        "colab": {
          "base_uri": "https://localhost:8080/",
          "height": 137
        },
        "id": "51_kc1-UiTxK",
        "outputId": "0dd50116-f293-4c8c-8fc6-61710290695e"
      },
      "execution_count": null,
      "outputs": [
        {
          "output_type": "error",
          "ename": "SyntaxError",
          "evalue": "ignored",
          "traceback": [
            "\u001b[0;36m  File \u001b[0;32m\"<ipython-input-35-57e687bc04c3>\"\u001b[0;36m, line \u001b[0;32m10\u001b[0m\n\u001b[0;31m    `<meta charset='utf-8'>`\u001b[0m\n\u001b[0m    ^\u001b[0m\n\u001b[0;31mSyntaxError\u001b[0m\u001b[0;31m:\u001b[0m invalid syntax\n"
          ]
        }
      ]
    },
    {
      "cell_type": "code",
      "source": [
        "#request : 파이선 라이브러리, http 프로토콜과 관련된 기능 지원,\n",
        "!pip install requests # 아나콘다에서는 site-package로 설치되어 있음\n",
        "#제공 함수 : method  : 요청방식 지정\n",
        "# url : 요청할 대상 url 문자열 지정\n",
        "# params : 선택적 요청시 전달할 쿼리문자열 지정\n",
        "#data : 선택적 요청시 바디에 담아서 전달항 요철 파라미터 지적\n",
        "#json : 선탣적 요청시 바디에 담아서 전달할 json타입 객체 지정\n",
        "#auth : 인증처리 사용 튜플 지정\n"
      ],
      "metadata": {
        "id": "XxjV7b2anaLz"
      },
      "execution_count": null,
      "outputs": []
    },
    {
      "cell_type": "code",
      "source": [
        "import requests\n",
        "\n",
        "url ='http://www.naver.com'\n",
        "cont = requests.get(url)\n",
        "print(cont)\n",
        "print(type(cont))\n",
        "print(dir(cont))\n",
        "print(cont.status_code)\n",
        "print(cont.text)\n",
        "print(type(cont.content))"
      ],
      "metadata": {
        "id": "xvxL-bTtqjmb"
      },
      "execution_count": null,
      "outputs": []
    },
    {
      "cell_type": "code",
      "source": [],
      "metadata": {
        "id": "_g8kScils8vj"
      },
      "execution_count": null,
      "outputs": []
    },
    {
      "cell_type": "markdown",
      "source": [
        "urllib vs request\n",
        "인코딩, 데이터 전달 바이너리 형태로 데이터 전송, 전달방식에 따라 get요청 post요청 구분 \n",
        "\n",
        "request\n",
        "딕셔너리 형태로 전송, 요청 메소드를 명시하여 요청"
      ],
      "metadata": {
        "id": "ebAv89nMs_D6"
      }
    },
    {
      "cell_type": "code",
      "source": [
        "import requests\n",
        "import bs4\n",
        "\n",
        "url ='http://www.naver.com'\n",
        "res = requests.get(url)\n",
        "\n",
        "bs_ojt2 = bs4.BeautifulSoup(res.text, 'html.parser')\n",
        "print(bs_ojt2)\n",
        "\n",
        "bs3_obj3 = bs4.BeautifulSoup(res.text, 'lxml')\n",
        "print(type(bs3_obj3))"
      ],
      "metadata": {
        "id": "b0o8mPB4uBJr"
      },
      "execution_count": null,
      "outputs": []
    },
    {
      "cell_type": "markdown",
      "source": [
        "###beauifulshop\n",
        "html 및 xml  파일에서 테이터를 추출하기 위한 파이선 라이브러리\n",
        "별도 설치 필요\n",
        "아나콘다에서는 이 패키지가 site-p-패키지로 설치됨\n",
        "pip install beautfulsoup4\n",
        "\n",
        "파일 내용을 읽을 때 파서를 이용\n",
        "html.parser, lxml, lxml-xml, html5lib\n",
        "-파이선이 내장하고 있는 파서 사용가능 및 설치\n",
        "-파서 라이브러리 비교\n",
        "\n",
        "![parser.PNG](data:image/png;base64,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)\n",
        "\n",
        "\n",
        "\n",
        "\n",
        "\n",
        "\n",
        "\n",
        "\n",
        "\n"
      ],
      "metadata": {
        "id": "I_mExQy_ofPN"
      }
    },
    {
      "cell_type": "markdown",
      "source": [
        "![parser.png]('./https://postfiles.pstatic.net/MjAxOTA2MTRfMjYw/MDAxNTYwNDQyNDQzMzQ4.PdXLlFCoa0UMPwhAwDjZFdvu9yPDNR0OPhjyEiGsLmsg.vnsaTTTeU0GEwhyrGeDsYNAvfRon6jVeOJLVwAwL97Ag.PNG.cdw0424/image.png?type=w773)\n",
        "\n",
        "html 파싱 \n",
        " beautifulsoup의 매인 패키지인 bs 패키지에 beautifulsoup함수 임포트\n",
        " 파싱할 html문서와 파싱에 사용할 파서를 지정하여 호출\n",
        " html문서에 대한 차싱이 끝나면 트리구조형식으로 dom객체 생성\n",
        " beautifulsoup객체 태그 접근 방법\n",
        " html 문서 파싱하고 bs4.beautifulsoup 객체 생성\n",
        " <html><head> 태그와 <body>태그는 제외하고 접근하여는 태그에 계층 구조 적용\n",
        " 태그명을 연산자와 함께 사둉\n",
        " bs.태그명\n",
        " bs.태그명.태그명\n",
        " bs.태그명.태그명.태그명\n",
        " bs.html.body.h1\n",
        "bs4.element.tag 객체의 주요 속성과메소드\n",
        " 속출 \n",
        "  bs.태그명.name\n",
        " 속성\n",
        "  bs.태그명['속성명']\n",
        "  bs.태그명.attrs\n",
        " 콘텐츠\n",
        "  bs.태그명.string, text, contents, strings, get_text()\n",
        " 태그로부터 다른 태그로 이동\n",
        "  bs.태그명.parent\n",
        " 자식태그 추출\n",
        "  bs.태그명.children\n",
        " 형제 \n",
        "  bs.태그명.next_siblings\n",
        " 자손\n",
        " bs.태그명.descendants\n",
        "\n",
        " bs4.Beautifulsoup 객체의 주요 메서드\n",
        "  html문서에 대한 파싱이 끝나고 생성된 트리 구조 형시그이 dom객체\n",
        "  태그 찾기 기능\n",
        "   find_all() : \n",
        "   select()\n",
        "   find_parents()\n",
        "   find_next_siblings\n",
        "   find_all_next()\n",
        "   find_all_previous()"
      ],
      "metadata": {
        "id": "hNkWRYg4rHdV"
      }
    },
    {
      "cell_type": "code",
      "source": [
        "###bs.find() : 주어진 기준에 맞는 태그 한개만 리턴  -> bs4.element.tag 리턴하고 없으면 none을 리턴한다. find_all()에서 linit=1로 설정한 것과 동일\n",
        "import bs4\n",
        "html_str =\"\"\"<!DOCTYPE html!>\n",
        "<html>\n",
        "  <body>\n",
        "  <ul class=\"ko> \n",
        "    <li>\n",
        "      <p> previous element1</p>\n",
        "      <p> previous element2</p>\n",
        "      <a href= \"http://www.naver.com\">네이버</a>\n",
        "      <p> Next Element1</p>\n",
        "      <p> Next Element2</p>\n",
        "    </li>\n",
        "     <li>\n",
        "      <a href= \"http://www.naver.com\">네이버</a>\n",
        "    </li>\n",
        "    <li>\n",
        "      <a href= \"http://www.daum.net\">다음</a>\n",
        "    </li>\n",
        "    <ul class=\"sns\">\n",
        "      <li>\n",
        "      <a href= \"http://www.google.com\">구글</a>\n",
        "    </li>\n",
        "    <li>\n",
        "      <a href= \"http://www.fb.com\">페북</a>\n",
        "    </li>\n",
        "    <div id=\"result\">page</div>\n",
        "  </body>\n",
        "</html>\n",
        "\"\"\""
      ],
      "metadata": {
        "id": "-LjnwUWRpofx"
      },
      "execution_count": 76,
      "outputs": []
    },
    {
      "cell_type": "code",
      "source": [
        "bs_obj = bs4.BeautifulSoup(html_str, 'lxml')"
      ],
      "metadata": {
        "id": "hlw3aBUa3bG1"
      },
      "execution_count": 77,
      "outputs": []
    },
    {
      "cell_type": "markdown",
      "source": [
        "####find()\n",
        "p"
      ],
      "metadata": {
        "id": "MvuAWi4_4L_-"
      }
    },
    {
      "cell_type": "code",
      "source": [
        "print(type(bs_obj))"
      ],
      "metadata": {
        "colab": {
          "base_uri": "https://localhost:8080/"
        },
        "id": "2yF5VNOe4Klt",
        "outputId": "0232b9ad-cd3b-4737-b700-46deb8f894ab"
      },
      "execution_count": 5,
      "outputs": [
        {
          "output_type": "stream",
          "name": "stdout",
          "text": [
            "<class 'bs4.BeautifulSoup'>\n"
          ]
        }
      ]
    },
    {
      "cell_type": "code",
      "source": [
        "print(bs_obj.find('div'))\n",
        "print(type(bs_obj.find('div')))\n",
        "print(dir(bs_obj.find('div')))\n",
        "print(bs_obj.find('div').text)"
      ],
      "metadata": {
        "id": "0EYHZe-S4X4l"
      },
      "execution_count": null,
      "outputs": []
    },
    {
      "cell_type": "code",
      "source": [
        "from urllib.error import URLError\n",
        "ul = bs_obj.find('ul')\n",
        "print(ul)\n",
        "\n",
        "\n"
      ],
      "metadata": {
        "id": "5xXIeAhJ5XpN"
      },
      "execution_count": null,
      "outputs": []
    },
    {
      "cell_type": "code",
      "source": [
        "#find_all : 주어진 기준에 맞ㅅ는 모든 태그 가져오\n",
        "ul = bs_obj.find('ul')\n",
        "print('li')\n",
        "\n",
        "#for element in li:\n",
        "#  print(element.text)"
      ],
      "metadata": {
        "id": "bAurJGgF6YSe"
      },
      "execution_count": null,
      "outputs": []
    },
    {
      "cell_type": "code",
      "source": [
        "#class속성\n",
        "ul_reply = bs_obj.find('ul')\n",
        "print(ul_reply)\n",
        "print('---------------------')\n",
        "\n",
        "ul_ko = bs_obj.find('ul', {'class':'ko'})\n",
        "print(ul_ko)\n",
        "print('---------------------')\n",
        "ul_sns = bs_obj.find('ul', attrs={'class': 'sns'})\n",
        "print(ul_sns)\n",
        "print('---------------------')\n",
        "ul_li = ul_sns.find_all('li')\n",
        "for li in ul_li:\n",
        " print(ul_li)"
      ],
      "metadata": {
        "id": "LeXmeYIV8uMO"
      },
      "execution_count": null,
      "outputs": []
    },
    {
      "cell_type": "code",
      "source": [
        "#속성값 가져오기 property_href\n",
        "atag = bs_obj.find('a')\n",
        "print(atag)\n",
        "print(atag['href'])\n",
        "print(type(atag['href']))\n",
        "print('---------------------')\n",
        "\n",
        "atag = bs_obj.find_all('a')\n",
        "print(atag)\n",
        "print(len(atag))\n",
        "\n",
        "for atn in atag:\n",
        "  print(atn['href'])\n",
        "\n",
        "bs_obj.find('a').attrs\n",
        "print(type(bs_obj.find('a').attrs))\n",
        "\n",
        "dv= bs_obj.find(id='result')\n",
        "print(dv)\n",
        "print(type(dv))\n",
        "\n",
        "#uclass = bs_obj.find(class_='ko')\n",
        "#uclass = bs_obj.find(True,{'class':'ko'})\n",
        "#uclass = bs_obj.find(*,{'class':'ko'})\n",
        "print(uclass)\n"
      ],
      "metadata": {
        "id": "rmmxJR94-S4O"
      },
      "execution_count": null,
      "outputs": []
    },
    {
      "cell_type": "code",
      "source": [
        "print(bs_obj.find('a'))\n",
        "print(bs_obj.a)\n",
        "\n",
        "print(bs_obj.find('a').get_text())\n",
        "print(type(bs_obj.find('a').get_text()))\n",
        "print(bs_obj.a.get_text())\n"
      ],
      "metadata": {
        "id": "vEzvPqzXFRHe"
      },
      "execution_count": null,
      "outputs": []
    },
    {
      "cell_type": "code",
      "source": [
        "# multi element\n",
        "print(bs_obj.find_all('a'))\n",
        "\n",
        "print(bs_obj.find_all('a')[0].get_text())\n",
        "print(bs_obj.find_all('a')[0].get_text())\n",
        "print(bs_obj.find_all('a')[0].get_text())\n",
        "\n",
        "print(type(bs_obj.find_all('a')))\n",
        "print(type(bs_obj.find('a')))\n",
        "\n",
        "print(bs_obj.attts)\n",
        "print(bs_obj.find('a').attrs)\n",
        "print(bs_obj.a['href'])\n",
        "print(bs_obj.a.get('href'))"
      ],
      "metadata": {
        "colab": {
          "base_uri": "https://localhost:8080/"
        },
        "id": "XW1tt-pbHS1l",
        "outputId": "5f1026af-d758-4bdc-b06e-03bad15317f9"
      },
      "execution_count": 42,
      "outputs": [
        {
          "output_type": "stream",
          "name": "stdout",
          "text": [
            "[<a href=\"http://www.daum.net\">다음</a>, <a href=\"http://www.google.com\">구글</a>, <a href=\"http://www.fb.com\">페북</a>]\n",
            "다음\n",
            "다음\n",
            "다음\n",
            "<class 'bs4.element.ResultSet'>\n",
            "<class 'bs4.element.Tag'>\n",
            "None\n",
            "{'href': 'http://www.daum.net'}\n",
            "http://www.daum.net\n",
            "http://www.daum.net\n"
          ]
        }
      ]
    },
    {
      "cell_type": "code",
      "source": [
        "#children\n",
        "print(bs_obj.ul.children)\n",
        "\n",
        "for sub in bs_obj.ul.children:\n",
        "  print(sub)\n",
        "\n",
        "\n",
        "for sub in bs_obj.find_all('ul')[1].children:\n",
        "  print(sub)\n",
        "\n",
        "\n",
        "#siblings\n",
        "print(bs_obj.find('a').next_siblings)\n",
        "ele = bs_obj.find('a').next_siblings\n",
        "#next(ele)\n",
        "\n",
        "cnt =0\n",
        "for subNext in ele:\n",
        "  cnt +=1\n",
        "  print(subNext)\n",
        "  print(cnt)"
      ],
      "metadata": {
        "colab": {
          "base_uri": "https://localhost:8080/"
        },
        "id": "GybvWWv6IidO",
        "outputId": "344d55c3-627a-416c-dce4-81ae92a42b64"
      },
      "execution_count": 65,
      "outputs": [
        {
          "output_type": "stream",
          "name": "stdout",
          "text": [
            "<list_iterator object at 0x7fa95f2557f0>\n",
            "네이버\n",
            "      \n",
            "<p> Next Element1</p>\n",
            "\n",
            "\n",
            "<p> Next Element2</p>\n",
            "\n",
            "\n",
            "<li>\n",
            "<a href=\"http://www.daum.net\">다음</a>\n",
            "</li>\n",
            "\n",
            "\n",
            "<ul class=\"sns\">\n",
            "<li>\n",
            "<a href=\"http://www.google.com\">구글</a>\n",
            "</li>\n",
            "<li>\n",
            "<a href=\"http://www.fb.com\">페북</a>\n",
            "</li>\n",
            "<div id=\"result\">page</div>\n",
            "</ul>\n",
            "\n",
            "\n",
            "<li>\n",
            "<a href=\"http://www.google.com\">구글</a>\n",
            "</li>\n",
            "\n",
            "\n",
            "<li>\n",
            "<a href=\"http://www.fb.com\">페북</a>\n",
            "</li>\n",
            "\n",
            "\n",
            "<div id=\"result\">page</div>\n",
            "\n",
            "\n",
            "<generator object PageElement.next_siblings at 0x7fa95effd270>\n",
            "\n",
            "\n",
            "1\n"
          ]
        }
      ]
    },
    {
      "cell_type": "code",
      "source": [
        "#정규식 표혁식과 람다식\n",
        "import re\n",
        "\n",
        "print(bs_obj.find('a', {'href':'http://www.daum.net'}))\n",
        "print(bs_obj.find('a', {'href': re.compile('.*com')}))\n",
        "print(bs_obj.find('a', {'href':re.compile('.*naver.*')}))\n",
        "print(bs_obj.find('a', {'href':re.compile('daum')}))\n",
        "\n",
        "print('=====================================================')\n",
        "print(bs_obj.find_all('a', {'href': re.compile('.*com')}))\n",
        "print(bs_obj.find_all('a', {'href':re.compile('.*naver.*')}))\n",
        "print(bs_obj.find_all('a', {'href':re.compile('daum')}))\n",
        "print('=====================================================')\n",
        "print(bs_obj.find(href=lambda val : val))\n",
        "print(bs_obj.find(href=lambda val : val and 'naver' in val))\n",
        "print(bs_obj.find(href=lambda val : val and 'daum' in val))\n",
        "print('=====================================================')\n",
        "print(bs_obj.find(class_=lambda val : val))\n",
        "print(bs_obj.find(class_=lambda val : val and 'sns' in val))\n"
      ],
      "metadata": {
        "id": "qXb_Y653LCn2"
      },
      "execution_count": null,
      "outputs": []
    },
    {
      "cell_type": "code",
      "source": [
        "\n",
        "#select : 주어진 선택지에 맞는 모든 태그를 가져옴, 결과는 리스트로 리턴\n",
        "ul = bs_obj.select_one('ul')\n",
        "print(ul)\n",
        " \n",
        "ul_li = bs_obj.select_one('ul > li')\n",
        "print(ul_li)\n",
        "\n",
        "ul = bs_obj.select_one('a')\n",
        "print(type(bs_obj.select('a')))\n"
      ],
      "metadata": {
        "id": "M6h46MarZvRl"
      },
      "execution_count": null,
      "outputs": []
    },
    {
      "cell_type": "code",
      "source": [
        "bs_obj.select('#result')\n",
        "bs_obj.select('ul.sns > li:nth-of-type(2)')\n",
        "#부모 엘리먼ㅌ느의 모든 자식 엘리먼트 중 n번째 \n",
        "#nht-of-type : 부모 엘리먼트의 특정 자식\n",
        "\n",
        "ul_li = bs_obj.select('ui > li')\n",
        "print(ul_li)\n",
        "for liElement in ul_li:\n",
        "  print(liElement.text)\n"
      ],
      "metadata": {
        "colab": {
          "base_uri": "https://localhost:8080/"
        },
        "id": "OypMY6CDbtpl",
        "outputId": "1c93477b-23d9-42ab-de21-fc15cf3c7fda"
      },
      "execution_count": 101,
      "outputs": [
        {
          "output_type": "stream",
          "name": "stdout",
          "text": [
            "[]\n"
          ]
        }
      ]
    },
    {
      "cell_type": "code",
      "source": [
        "print(bs_obj.select_one('a'))\n",
        "print(type(bs_obj.select_one('a')))"
      ],
      "metadata": {
        "colab": {
          "base_uri": "https://localhost:8080/"
        },
        "id": "C-Ci6K3pc2pl",
        "outputId": "7c645677-f572-47f8-aad3-6710aef313b0"
      },
      "execution_count": 103,
      "outputs": [
        {
          "output_type": "stream",
          "name": "stdout",
          "text": [
            "<a href=\"http://www.naver.com\">네이버</a>\n",
            "<class 'bs4.element.Tag'>\n"
          ]
        }
      ]
    },
    {
      "cell_type": "code",
      "source": [
        "import bs4\n",
        "import requests\n",
        "\n",
        "url=\"https://www.melon.com/\"\n",
        "header={\"User-Agent\":\"Mozilla/5.0 (Windows NT 10.0; Win64; x64) AppleWebKit/537.36 (KHTML, like Gecko) Chrome/108.0.0.0 Whale/3.18.154.5 Safari/537.36\"}\n",
        "res = requests.get(url, headers = header)\n",
        "print(res)\n",
        "#406 웹 url을 통해 데이터를 가져올때 요청에 유저 에이전트 해더 검사\n",
        "# urllib.reques ssl인증 오류\n",
        "\n",
        "bs_melon = bs4.BeautifulSoup(res.text, 'html.parser')\n",
        "print(bs_melon)\n"
      ],
      "metadata": {
        "id": "h-kv2r-Ud0G1"
      },
      "execution_count": null,
      "outputs": []
    },
    {
      "cell_type": "code",
      "source": [
        "print(type(bs_melon))\n",
        "\n",
        "#get방식의 request\n",
        "def getDownload( url, param = None, retries = 5 ):\n",
        "    resp = None\n",
        "    try:\n",
        "        resp = requests.get( url, params = param )\n",
        "        resp.raise_for_status()\n",
        "    except requests.exceptions.HTTPError as e:\n",
        "        if 500 <= resp.status_code < 600 and retries > 0:\n",
        "            print( 'Retries : {0}'.format( retries ) )\n",
        "            return getDownload( url, param, retries - 1 )\n",
        "        else:\n",
        "            print( resp.status_code )\n",
        "            print( resp.reason )\n",
        "            print( resp.request.headers )\n",
        "    return resp\n",
        " \n",
        " \n",
        "url = 'http://www.crawler-test.com/status_codes/status_500'\n",
        "getDownload( url )\n",
        "\n",
        "\n"
      ],
      "metadata": {
        "colab": {
          "base_uri": "https://localhost:8080/"
        },
        "id": "1MeIkVvLj3XV",
        "outputId": "5cbca7ff-a8ca-4895-a2a1-a69a0cf9efa7"
      },
      "execution_count": 128,
      "outputs": [
        {
          "output_type": "stream",
          "name": "stdout",
          "text": [
            "<class 'bs4.BeautifulSoup'>\n",
            "Retries : 5\n",
            "Retries : 4\n",
            "Retries : 3\n",
            "Retries : 2\n",
            "Retries : 1\n",
            "500\n",
            "Internal Server Error\n",
            "{'User-Agent': 'python-requests/2.23.0', 'Accept-Encoding': 'gzip, deflate', 'Accept': '*/*', 'Connection': 'keep-alive'}\n"
          ]
        },
        {
          "output_type": "execute_result",
          "data": {
            "text/plain": [
              "<Response [500]>"
            ]
          },
          "metadata": {},
          "execution_count": 128
        }
      ]
    },
    {
      "cell_type": "code",
      "source": [
        "def postDownload( url, data = None, param = None, retries = 3 ):\n",
        "    resp = None\n",
        "    try:\n",
        "        resp = requests.post( url, data, params = param )\n",
        "        resp.raise_for_status()\n",
        "    except requests.exceptions.HTTPError as e:\n",
        "        if 500 <= resp.status_code < 600 and retries > 0:\n",
        "            print( 'Retries : {0}'.format( retries ) )\n",
        "            return postDownload( url, param, retries - 1 )\n",
        "        else:\n",
        "            print( resp.status_code )\n",
        "            print( resp.reason )\n",
        "            print( resp.request.headers )\n",
        "    return resp\n",
        " \n",
        " \n",
        "url = 'http://pythonscraping.com/pages/files/processing.php'\n",
        "data = { 'firstname':'테스트', 'lastname':1234 }\n",
        "\n",
        "html = postDownload( url, data )\n",
        "print( html.request.body )\n",
        "print( '------------------------------' )\n",
        "print( html.request.headers )\n",
        "html.text\n",
        "#네이버에서 class 속성의 값이 2개이상일때"
      ],
      "metadata": {
        "colab": {
          "base_uri": "https://localhost:8080/",
          "height": 90
        },
        "id": "mryt03jMlzY1",
        "outputId": "5759bc1f-1402-4dc0-bc33-7ee2c905912d"
      },
      "execution_count": 130,
      "outputs": [
        {
          "output_type": "stream",
          "name": "stdout",
          "text": [
            "None\n",
            "------------------------------\n",
            "{'User-Agent': 'python-requests/2.23.0', 'Accept-Encoding': 'gzip, deflate', 'Accept': '*/*', 'Connection': 'keep-alive'}\n"
          ]
        },
        {
          "output_type": "execute_result",
          "data": {
            "text/plain": [
              "'Hello there,  !'"
            ],
            "application/vnd.google.colaboratory.intrinsic+json": {
              "type": "string"
            }
          },
          "metadata": {},
          "execution_count": 130
        }
      ]
    },
    {
      "cell_type": "code",
      "source": [
        "#네이버에서 class 속성의 값이 2개이상일때\n",
        "url = requests.get('https://news.naver.com')\n",
        "print(url)\n",
        "print(type(url))\n",
        "html = bs4.BeautifulSoup(url.text, 'html.parser')\n",
        "newsnow = html.find('div', {'class':'cjs_journal_wrap _item_contents'})\n",
        "\n",
        "#print(newsnow)\n",
        "\n",
        "print(re.findall('[a-z가-힣]+', newsnow.text))"
      ],
      "metadata": {
        "colab": {
          "base_uri": "https://localhost:8080/"
        },
        "id": "k2u09obYm_d9",
        "outputId": "af19f14e-e59a-483b-c857-5cf1f9171427"
      },
      "execution_count": 147,
      "outputs": [
        {
          "output_type": "stream",
          "name": "stdout",
          "text": [
            "<Response [200]>\n",
            "<class 'requests.models.Response'>\n",
            "['프라이버시와', '참상', '사이', '언론', '보도의', '딜레마', '오래전', '나는', '회사', '화장실', '변기에', '앉아', '머리카락을', '쥐어뜯고', '있었다', '사회부', '수습기자', '첫날', '생활고에', '스스로', '목숨을', '끊은', '무명', '연극배우의', '얼굴', '사진을', '구해오라는', '임무를', '완수하지', '못했기', '때문이다', '빈소는', '눈물바다였고', '유족']\n"
          ]
        }
      ]
    }
  ]
}