{
  "nbformat": 4,
  "nbformat_minor": 0,
  "metadata": {
    "colab": {
      "provenance": [],
      "authorship_tag": "ABX9TyOnJs9pVMC7ZoLrb8TTPoq1",
      "include_colab_link": true
    },
    "kernelspec": {
      "name": "python3",
      "display_name": "Python 3"
    },
    "language_info": {
      "name": "python"
    }
  },
  "cells": [
    {
      "cell_type": "markdown",
      "metadata": {
        "id": "view-in-github",
        "colab_type": "text"
      },
      "source": [
        "<a href=\"https://colab.research.google.com/github/jasen8651/python001/blob/master/Untitled1.ipynb\" target=\"_parent\"><img src=\"https://colab.research.google.com/assets/colab-badge.svg\" alt=\"Open In Colab\"/></a>"
      ]
    },
    {
      "cell_type": "code",
      "execution_count": 1,
      "metadata": {
        "id": "9gBZgIThKqFi",
        "colab": {
          "base_uri": "https://localhost:8080/"
        },
        "outputId": "e39549a6-bb1c-4ae5-cb78-8c1b5fb4abe1"
      },
      "outputs": [
        {
          "output_type": "stream",
          "name": "stdout",
          "text": [
            "<re.Match object; span=(0, 1), match='p'>\n",
            "['l', 'i', 'f', 'e', 't', 'i', 's', 't', 'o', 's', 'h', 'o', 'r', 't']\n",
            "['li', 'de', 'uis', 'ri', 'dgri', 'e']\n"
          ]
        }
      ],
      "source": [
        "#정규식 표현식\n",
        "import re\n",
        "\n",
        "p = re.compile('[a-z]')\n",
        "m =p.match('python')\n",
        "print(m)\n",
        "\n",
        "n = p.search('python')\n",
        "n\n",
        "\n",
        "p= re.compile('[a-z]')\n",
        "m = p.findall('3 life ti sto short')\n",
        "print(m)\n",
        "\n",
        "p = re.compile('[a-z]+')\n",
        "m = p.findall('li2de uis #ri dgri3 e')\n",
        "print(m)\n",
        "\n"
      ]
    },
    {
      "cell_type": "code",
      "source": [],
      "metadata": {
        "id": "Y1QxVbPJNikA"
      },
      "execution_count": null,
      "outputs": []
    },
    {
      "cell_type": "code",
      "source": [
        "p = re.compile('[a-z]')\n",
        "m = p.match('abc')\n",
        "print(m)\n",
        "print(m.group(), m.pos)\n",
        "\n",
        "\n",
        "# Dot(.) : a와 b 사이에 줄바꿈 문자를 제외한 어떤 무낮도 모구 해치\n",
        "p =re.compile('a.b')\n",
        "m= p.match('abc')\n",
        "print(m)\n",
        "#반복 *문자 압ㅍ에 있는 a가 0번 이상 반복되면 매치\n",
        "p =re.compile('cat+k')\n",
        "m= p.match('ck')\n",
        "print(m)\n",
        "\n",
        "m = p.match('cak')\n",
        "print(m)\n",
        "\n",
        "\n",
        "m = p.match('catttk')\n",
        "print(m)\n",
        "print(m.group(),m.start())\n",
        "\n",
        "#반복 {{m,n},7} 반복 횟수 고정\n",
        "p= re.compile('ca{2}t')\n",
        "m = p.match('cat')\n",
        "print(m)"
      ],
      "metadata": {
        "id": "PinhlCWWNsKg"
      },
      "execution_count": null,
      "outputs": []
    },
    {
      "cell_type": "code",
      "source": [
        "p= re.compile('ca{2}t')\n",
        "m = p.match('caat')\n",
        "print(m)\n",
        "\n",
        "p = re.compile('ca?t')\n",
        "m = p.match('cat')\n",
        "print(m)\n",
        "\n",
        "p = re.compile('ca?t')\n",
        "m = p.match('ct')\n",
        "print(m)\n",
        "print(m.group)\n",
        "\n",
        "#정규화 문자를 포함하여 모든 문자와 매치가능함\n",
        "p = re.compile('a.b', re.DOTALL)\n",
        "m = p.match('a\\nb')\n",
        "print(m)\n",
        "print(m.group)\n",
        "\n",
        "\n"
      ],
      "metadata": {
        "id": "xicPXRroRx7Y"
      },
      "execution_count": null,
      "outputs": []
    },
    {
      "cell_type": "code",
      "source": [
        "p = re.compile('[a-z]', re.I)\n",
        "m = p.match('Life is to long')\n",
        "print(m)\n",
        "print(m.group)\n",
        "\n",
        "p = re.compile('^python\\s\\w+', re.M)\n",
        "m = p.findall(\"\"\"ython one list  to\n",
        "lowlwowlwo  long two\"\"\")\n",
        "\n",
        "print(m)\n",
        "print(dir(m))\n",
        "\n"
      ],
      "metadata": {
        "colab": {
          "base_uri": "https://localhost:8080/"
        },
        "id": "Lj0vT8v-T4n4",
        "outputId": "de5c7258-3b95-4ee5-db71-d604432ae372"
      },
      "execution_count": 5,
      "outputs": [
        {
          "output_type": "stream",
          "name": "stdout",
          "text": [
            "<re.Match object; span=(0, 1), match='L'>\n",
            "<built-in method group of re.Match object at 0x7fdab33a1dc0>\n",
            "[]\n",
            "['__add__', '__class__', '__contains__', '__delattr__', '__delitem__', '__dir__', '__doc__', '__eq__', '__format__', '__ge__', '__getattribute__', '__getitem__', '__gt__', '__hash__', '__iadd__', '__imul__', '__init__', '__init_subclass__', '__iter__', '__le__', '__len__', '__lt__', '__mul__', '__ne__', '__new__', '__reduce__', '__reduce_ex__', '__repr__', '__reversed__', '__rmul__', '__setattr__', '__setitem__', '__sizeof__', '__str__', '__subclasshook__', 'append', 'clear', 'copy', 'count', 'extend', 'index', 'insert', 'pop', 'remove', 'reverse', 'sort']\n"
          ]
        }
      ]
    },
    {
      "cell_type": "code",
      "source": [
        "##findall vs finditer \n",
        "# 일치하는 검색 데이터를 모두 가져온다, findall은 matchers로 리턴하고 캡쳐된 그룹이 있다면 튜플로 리턴한다, findlliter은 match object로 리턴한다, 리턴된 오브젝트를 가지고 m.group(1), m.group(1)으로 사용가능\n",
        "p = re.compile(\"([0-9]+)([^0-9]*)\")\n",
        "m = p.findall(\"abc564asedaqweasd6874256341qweqewqed23131231jbed\")\n",
        "print(m)\n",
        "\n",
        "p= re.compile('&#(0[0-7]+|[0-9]+|x[0-9a-fA-F]+):')\n",
        "data = '''&#06;\n",
        "      &#9;\n",
        "      &#xa;\n",
        "    '''\n",
        "m= p.findall(data)\n",
        "print(m)\n",
        "\n"
      ],
      "metadata": {
        "colab": {
          "base_uri": "https://localhost:8080/"
        },
        "id": "aQcRH2CzLNf8",
        "outputId": "b755d13e-cc3a-4e66-a552-34b4fb99a414"
      },
      "execution_count": 11,
      "outputs": [
        {
          "output_type": "stream",
          "name": "stdout",
          "text": [
            "[('564', 'asedaqweasd'), ('6874256341', 'qweqewqed'), ('23131231', 'jbed')]\n",
            "[]\n"
          ]
        }
      ]
    },
    {
      "cell_type": "code",
      "source": [
        "### 부정적 전방탐색\n",
        "p = re.compile(\".*[.](?!bat$|exe$).*$\")\n",
        "file = ['food.bar', 'autoexec.bat', 'sendmail.cf']\n",
        "\n",
        "for item in file:\n",
        "  #print(item)\n",
        "  m = p.search(item)\n",
        "  if m:\n",
        "    print(m)\n",
        "    print(m.group(), m.start(), m.end())\n",
        "\n",
        "\n",
        "#sub () : 문자열 바꾸기\n",
        "p = re.compile('(blue|red|green)')\n",
        "  #sub바굴문자열\n",
        "m = p.sub('color', 'blue socks and red secks')\n",
        "#대상문자열\n",
        "print(m)\n",
        "\n",
        "#subn() : 리턴은 튜플로 된다.\n",
        "p = re.compile('(blue|red|green)')\n",
        "m = p.subn('color', 'blue socks and red secks')\n",
        "print(m)\n",
        "print(type(m))"
      ],
      "metadata": {
        "colab": {
          "base_uri": "https://localhost:8080/"
        },
        "id": "0D_5lx5WQYuO",
        "outputId": "05e2a749-c347-4256-8aaf-805ee32cc075"
      },
      "execution_count": 16,
      "outputs": [
        {
          "output_type": "stream",
          "name": "stdout",
          "text": [
            "<re.Match object; span=(0, 8), match='food.bar'>\n",
            "food.bar 0 8\n",
            "<re.Match object; span=(0, 11), match='sendmail.cf'>\n",
            "sendmail.cf 0 11\n",
            "color socks and color secks\n",
            "('color socks and color secks', 2)\n",
            "<class 'tuple'>\n"
          ]
        }
      ]
    }
  ]
}