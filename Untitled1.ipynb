{
  "nbformat": 4,
  "nbformat_minor": 0,
  "metadata": {
    "colab": {
      "provenance": [],
      "authorship_tag": "ABX9TyPjyk7FQKiel3TgACxWn5rs",
      "include_colab_link": true
    },
    "kernelspec": {
      "name": "python3",
      "display_name": "Python 3"
    },
    "language_info": {
      "name": "python"
    }
  },
  "cells": [
    {
      "cell_type": "markdown",
      "metadata": {
        "id": "view-in-github",
        "colab_type": "text"
      },
      "source": [
        "<a href=\"https://colab.research.google.com/github/jasen8651/python001/blob/master/Untitled1.ipynb\" target=\"_parent\"><img src=\"https://colab.research.google.com/assets/colab-badge.svg\" alt=\"Open In Colab\"/></a>"
      ]
    },
    {
      "cell_type": "code",
      "execution_count": null,
      "metadata": {
        "id": "9gBZgIThKqFi"
      },
      "outputs": [],
      "source": [
        "#정규식 표현식\n",
        "import re\n",
        "\n",
        "p = re.compile('[a-z]')\n",
        "m =p.match('python')\n",
        "print(m)\n",
        "\n",
        "n = p.search('python')\n",
        "n\n",
        "\n",
        "p= re.compile('[a-z]')\n",
        "m = p.findall('3 life ti sto short')\n",
        "print(m)\n",
        "\n",
        "p = re.compile('[a-z]+')\n",
        "m = p.findall('li2de uis #ri dgri3 e')\n",
        "print(m)\n",
        "\n"
      ]
    },
    {
      "cell_type": "code",
      "source": [],
      "metadata": {
        "id": "Y1QxVbPJNikA"
      },
      "execution_count": null,
      "outputs": []
    },
    {
      "cell_type": "code",
      "source": [
        "p = re.compile('[a-z]')\n",
        "m = p.match('abc')\n",
        "print(m)\n",
        "print(m.group(), m.pos)\n",
        "\n",
        "\n",
        "# Dot(.) : a와 b 사이에 줄바꿈 문자를 제외한 어떤 무낮도 모구 해치\n",
        "p =re.compile('a.b')\n",
        "m= p.match('abc')\n",
        "print(m)\n",
        "#반복 *문자 압ㅍ에 있는 a가 0번 이상 반복되면 매치\n",
        "p =re.compile('cat+k')\n",
        "m= p.match('ck')\n",
        "print(m)\n",
        "\n",
        "m = p.match('cak')\n",
        "print(m)\n",
        "\n",
        "\n",
        "m = p.match('catttk')\n",
        "print(m)\n",
        "print(m.group(),m.start())\n",
        "\n"
      ],
      "metadata": {
        "colab": {
          "base_uri": "https://localhost:8080/"
        },
        "id": "PinhlCWWNsKg",
        "outputId": "05a82db8-b4de-4de4-b95e-bbbd1e11c0eb"
      },
      "execution_count": 32,
      "outputs": [
        {
          "output_type": "stream",
          "name": "stdout",
          "text": [
            "<re.Match object; span=(0, 1), match='a'>\n",
            "a 0\n",
            "None\n",
            "None\n",
            "None\n",
            "<re.Match object; span=(0, 6), match='catttk'>\n",
            "catttk 0\n"
          ]
        }
      ]
    }
  ]
}