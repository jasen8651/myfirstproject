{
  "nbformat": 4,
  "nbformat_minor": 0,
  "metadata": {
    "colab": {
      "provenance": [],
      "authorship_tag": "ABX9TyOidm1zz0tsPdigap45/K9C",
      "include_colab_link": true
    },
    "kernelspec": {
      "name": "python3",
      "display_name": "Python 3"
    },
    "language_info": {
      "name": "python"
    }
  },
  "cells": [
    {
      "cell_type": "markdown",
      "metadata": {
        "id": "view-in-github",
        "colab_type": "text"
      },
      "source": [
        "<a href=\"https://colab.research.google.com/github/jasen8651/python001/blob/master/holly.ipynb\" target=\"_parent\"><img src=\"https://colab.research.google.com/assets/colab-badge.svg\" alt=\"Open In Colab\"/></a>"
      ]
    },
    {
      "cell_type": "code",
      "source": [
        "#구글 드라이브 연결\n",
        "from google.colab import drive\n",
        "drive.mount('/content/dirve')\n",
        "%cd /content/dirve/MyDrive/python_demo"
      ],
      "metadata": {
        "colab": {
          "base_uri": "https://localhost:8080/"
        },
        "id": "nN3kKAhoIVG7",
        "outputId": "8eb50e68-be5d-4aa6-baa8-c2e6e7470ccd"
      },
      "execution_count": 1,
      "outputs": [
        {
          "output_type": "stream",
          "name": "stdout",
          "text": [
            "Mounted at /content/dirve\n",
            "/content/dirve/MyDrive/python_demo\n"
          ]
        }
      ]
    },
    {
      "cell_type": "code",
      "execution_count": 2,
      "metadata": {
        "id": "ZMsqjW7vGGLH"
      },
      "outputs": [],
      "source": [
        "# 1 import\n",
        "from bs4 import BeautifulSoup\n",
        "import requests"
      ]
    },
    {
      "cell_type": "code",
      "source": [
        "# 2저장할 리스트 준비\n",
        "result = []"
      ],
      "metadata": {
        "id": "Dwh4XLuHI20C"
      },
      "execution_count": 3,
      "outputs": []
    },
    {
      "cell_type": "code",
      "source": [
        "# 3 객체 생성하여 파싱\n",
        "header={\"User-Agent\":\"Mozilla/5.0 (Windows NT 10.0; Win64; x64) AppleWebKit/537.36 (KHTML, like Gecko) Chrome/108.0.0.0 Whale/3.18.154.5 Safari/537.36\"}\n",
        "url = \"https://www.hollys.co.kr/store/korea/korStore2.do\"\n",
        "\n",
        "res = requests.get(url, headers = header)\n",
        "soup = BeautifulSoup(res.text, 'html.parser')\n",
        "print(type(soup))\n",
        "\n",
        "tbody_tag = soup.find('tbody')\n",
        "#print(type(tbody_tag))\n",
        "\n",
        "#tr_list_tag = soup.find('tr')\n",
        "#tr_list_tag =soup.find_all('tr')\n",
        "#print(len(tr_list_tag))\n",
        "#print(type(tr_list_tag))\n",
        "#print(tr_list_tag[0])\n",
        "\n",
        "tbody_tr_list_tag = tbody_tag.find_all('tr') # tbody 정보만 풀력\n",
        "#print(len(tbody_tr_list_tag))\n"
      ],
      "metadata": {
        "id": "K98ExbwlJEni"
      },
      "execution_count": null,
      "outputs": []
    },
    {
      "cell_type": "code",
      "source": [
        "for store in tbody_tr_list_tag:\n",
        "  store_td = store.find_all('td')\n",
        "  store_area = store_td[0].string #지역\n",
        "  store_name =store_td[1].string #이름\n",
        "  store_phon =store_td[5].string #번호\n",
        "  result.append([store_area]+[store_name]+[store_phon])  "
      ],
      "metadata": {
        "id": "gvjhIAwnNIk0"
      },
      "execution_count": 18,
      "outputs": []
    },
    {
      "cell_type": "code",
      "source": [
        "#참고\n",
        "#['a']+['b']\n",
        "#크롤링 결과 확인\n",
        "result"
      ],
      "metadata": {
        "colab": {
          "base_uri": "https://localhost:8080/"
        },
        "id": "gB_3CS58OiIL",
        "outputId": "9867b74a-c21b-49e6-8fd8-3842f35297d2"
      },
      "execution_count": 19,
      "outputs": [
        {
          "output_type": "execute_result",
          "data": {
            "text/plain": [
              "[['서울 강남구', '강남우리라운지점', '02-566-1002'],\n",
              " ['경기 수원시', '수원영통점', '031-202-3356'],\n",
              " ['경기 고양시 덕양구', '원흥역점', '031.967.0302'],\n",
              " ['서울 양천구', '오목교역점', '02-2062-8405'],\n",
              " ['대구 서구', '롯데시네마프리미엄만경관점', '070-7717-2192'],\n",
              " ['전남 순천시', '순천신대점', '061-723-5185'],\n",
              " ['서울 금천구', '시흥사거리점', '02-804-9226'],\n",
              " ['전북 전주시 완산구', '전주효천점', '063-224-5777'],\n",
              " ['제주 제주시', '제주도두해안DT점', '064-745-7301'],\n",
              " ['부산 북구', '부산화명점', '070-8884-1101']]"
            ]
          },
          "metadata": {},
          "execution_count": 19
        }
      ]
    },
    {
      "cell_type": "code",
      "source": [
        "## csv에 저장, db에 저장,\n",
        "import csv\n",
        "\n",
        "#파일 이름\n",
        "fields= ['Storearea', 'storename', 'storephon']\n",
        "with open('./data_crowing/hollys.csv','w', newline='') as f:\n",
        "   write = csv.writer(f)\n",
        "   write.writerow(fields)\n",
        "   write.writerow(result)"
      ],
      "metadata": {
        "id": "AMe3HugWPhuq"
      },
      "execution_count": 25,
      "outputs": []
    },
    {
      "cell_type": "code",
      "source": [
        "!pwd"
      ],
      "metadata": {
        "colab": {
          "base_uri": "https://localhost:8080/"
        },
        "id": "bMcPdPLzS387",
        "outputId": "4104c477-9f78-48e1-a097-149a4ddc65ba"
      },
      "execution_count": 22,
      "outputs": [
        {
          "output_type": "stream",
          "name": "stdout",
          "text": [
            "/content/dirve/MyDrive/python_demo\n"
          ]
        }
      ]
    },
    {
      "cell_type": "code",
      "source": [
        "%cd data_crowing"
      ],
      "metadata": {
        "colab": {
          "base_uri": "https://localhost:8080/"
        },
        "id": "19bn3U5aTg1z",
        "outputId": "fe78a8d8-1be5-4458-f7a7-551569267ba4"
      },
      "execution_count": 26,
      "outputs": [
        {
          "output_type": "stream",
          "name": "stdout",
          "text": [
            "/content/dirve/MyDrive/python_demo/data_crowing\n"
          ]
        }
      ]
    },
    {
      "cell_type": "code",
      "source": [
        "!mkdir data_crowing"
      ],
      "metadata": {
        "id": "YmSNFcdYTBLT"
      },
      "execution_count": 21,
      "outputs": []
    },
    {
      "cell_type": "code",
      "source": [
        "!ls *.csv"
      ],
      "metadata": {
        "colab": {
          "base_uri": "https://localhost:8080/"
        },
        "id": "BWNG06uRTkI8",
        "outputId": "41995257-9fd3-4c00-ab50-c111605b2644"
      },
      "execution_count": 27,
      "outputs": [
        {
          "output_type": "stream",
          "name": "stdout",
          "text": [
            "hollys.csv\n"
          ]
        }
      ]
    },
    {
      "cell_type": "code",
      "source": [
        "%cd .."
      ],
      "metadata": {
        "colab": {
          "base_uri": "https://localhost:8080/"
        },
        "id": "DBavhWc7Tqsc",
        "outputId": "b5fbc83c-bfd6-44f7-f016-db48b0f8d07d"
      },
      "execution_count": 31,
      "outputs": [
        {
          "output_type": "stream",
          "name": "stdout",
          "text": [
            "/content/dirve/MyDrive/python_demo\n"
          ]
        }
      ]
    },
    {
      "cell_type": "code",
      "source": [
        "%cd data_crowing\n",
        "!cat hollys.csv  #데이터 확인"
      ],
      "metadata": {
        "colab": {
          "base_uri": "https://localhost:8080/"
        },
        "id": "WjxN9Jv9Ts4b",
        "outputId": "a71cc07c-02bd-45a4-db15-78b0e912d1ea"
      },
      "execution_count": 30,
      "outputs": [
        {
          "output_type": "stream",
          "name": "stdout",
          "text": [
            "[Errno 2] No such file or directory: 'data_crowing'\n",
            "/content/dirve/MyDrive/python_demo/data_crowing\n",
            "Storearea,storename,storephon\r\n",
            "\"['서울 강남구', '강남우리라운지점', '02-566-1002']\",\"['경기 수원시', '수원영통점', '031-202-3356']\",\"['경기 고양시 덕양구', '원흥역점', '031.967.0302']\",\"['서울 양천구', '오목교역점', '02-2062-8405']\",\"['대구 서구', '롯데시네마프리미엄만경관점', '070-7717-2192']\",\"['전남 순천시', '순천신대점', '061-723-5185']\",\"['서울 금천구', '시흥사거리점', '02-804-9226']\",\"['전북 전주시 완산구', '전주효천점', '063-224-5777']\",\"['제주 제주시', '제주도두해안DT점', '064-745-7301']\",\"['부산 북구', '부산화명점', '070-8884-1101']\"\r\n"
          ]
        }
      ]
    },
    {
      "cell_type": "code",
      "source": [
        "#저장\n",
        "import datetime\n",
        "now = datetime.datetime.today()\n",
        "print(now)\n",
        "print(now.utcnow())\n",
        "print(now.year,now.month, now.day, now.hour, now.minute, now.second)\n",
        "print(now.date())\n",
        "print(now.time())"
      ],
      "metadata": {
        "colab": {
          "base_uri": "https://localhost:8080/"
        },
        "id": "cwNaPHjBVJ5V",
        "outputId": "3edde43d-e5ef-4682-d09e-b9cb59f514b9"
      },
      "execution_count": 38,
      "outputs": [
        {
          "output_type": "stream",
          "name": "stdout",
          "text": [
            "2022-12-12 07:59:19.798351\n",
            "2022-12-12 07:59:19.800502\n",
            "2022 12 12 7 59 19\n",
            "2022-12-12\n",
            "07:59:19.798351\n"
          ]
        }
      ]
    },
    {
      "cell_type": "code",
      "source": [
        "import time\n",
        "time.strftime('%Y-%m-%d', time.localtime(time.time()))"
      ],
      "metadata": {
        "colab": {
          "base_uri": "https://localhost:8080/",
          "height": 35
        },
        "id": "wD5kfu3FWJUb",
        "outputId": "0b022e2c-b642-4ec7-fcc6-7a5e1ab4e8f6"
      },
      "execution_count": 39,
      "outputs": [
        {
          "output_type": "execute_result",
          "data": {
            "text/plain": [
              "'2022-12-12'"
            ],
            "application/vnd.google.colaboratory.intrinsic+json": {
              "type": "string"
            }
          },
          "metadata": {},
          "execution_count": 39
        }
      ]
    },
    {
      "cell_type": "code",
      "source": [
        "#파이선 파일 작성하여 크롤링 작업\n",
        "from bs4 import BeautifulSoup\n",
        "import requests\n",
        "import csv\n",
        "import datetime\n",
        "\n",
        "def hollys_store():\n",
        "  result =[]\n",
        "  header={\"User-Agent\":\"Mozilla/5.0 (Windows NT 10.0; Win64; x64) AppleWebKit/537.36 (KHTML, like Gecko) Chrome/108.0.0.0 Whale/3.18.154.5 Safari/537.36\"}\n",
        "  url = \"https://www.hollys.co.kr/store/korea/korStore2.do\"\n",
        "\n",
        "  res = requests.get(url, headers = header)\n",
        "  soup = BeautifulSoup(res.text, 'html.parser')\n",
        "\n",
        "\n",
        "  tbody_tag = soup.find('tbody')\n",
        "  tbody_tr_list_tag = tbody_tag.find_all('tr') # tbody 정보만 풀력\n",
        "\n",
        "  for store in tbody_tr_list_tag:\n",
        "    store_td = store.find_all('td')\n",
        "    store_area = store_td[0].string #지역\n",
        "    store_name =store_td[1].string #이름\n",
        "    store_phon =store_td[5].string #번호\n",
        "    result.append([store_area]+[store_name]+[store_phon])  \n",
        "  return result \n",
        "\n",
        "def main( ):\n",
        "  result = hollys_store()\n",
        "\n",
        "  to_now = datetime.datetime.today().date()\n",
        "\n",
        "  fields= ['Storearea', 'storename', 'storephon']\n",
        "  \n",
        "  with open('./data_crowing/%s-hollys.csv'% to_now,'w', newline='') as f:\n",
        "   write = csv.writer(f)\n",
        "   write.writerow(fields)\n",
        "   write.writerow(result)\n",
        "\n",
        "  print('hollys 데이터저장완료')\n",
        "  del result[:]\n",
        "if __name__ == '__main__':\n",
        "  main()  "
      ],
      "metadata": {
        "colab": {
          "base_uri": "https://localhost:8080/"
        },
        "id": "V5QesV6JWlUj",
        "outputId": "3af4cc02-454c-4e13-b8c8-dcca95a917cb"
      },
      "execution_count": 40,
      "outputs": [
        {
          "output_type": "stream",
          "name": "stdout",
          "text": [
            "<class 'bs4.BeautifulSoup'>\n",
            "hollys 데이터저장완료\n"
          ]
        }
      ]
    },
    {
      "cell_type": "code",
      "source": [
        "to_now = datetime.datetime.today().date()\n",
        "with open('./data_crowing/%s-hollys.csv' % to_now,  'r', newline='',) as f:\n",
        "  reader = csv.reader(f)\n",
        "  for row in reader:\n",
        "    print(row)\n",
        "   #print('%20s %20s %20s' % (row[0], row[1], row[2]))"
      ],
      "metadata": {
        "colab": {
          "base_uri": "https://localhost:8080/"
        },
        "id": "lFIxhfmJZrRx",
        "outputId": "bd9c6381-7fd6-4b5a-d1fc-ac04967e5c4a"
      },
      "execution_count": 59,
      "outputs": [
        {
          "output_type": "stream",
          "name": "stdout",
          "text": [
            "['Storearea', 'storename', 'storephon']\n",
            "[\"['서울 강남구', '강남우리라운지점', '02-566-1002']\", \"['경기 수원시', '수원영통점', '031-202-3356']\", \"['경기 고양시 덕양구', '원흥역점', '031.967.0302']\", \"['서울 양천구', '오목교역점', '02-2062-8405']\", \"['대구 서구', '롯데시네마프리미엄만경관점', '070-7717-2192']\", \"['전남 순천시', '순천신대점', '061-723-5185']\", \"['서울 금천구', '시흥사거리점', '02-804-9226']\", \"['전북 전주시 완산구', '전주효천점', '063-224-5777']\", \"['제주 제주시', '제주도두해안DT점', '064-745-7301']\", \"['부산 북구', '부산화명점', '070-8884-1101']\"]\n"
          ]
        }
      ]
    },
    {
      "cell_type": "code",
      "source": [],
      "metadata": {
        "id": "1XshoPrmZq_U"
      },
      "execution_count": null,
      "outputs": []
    }
  ]
}